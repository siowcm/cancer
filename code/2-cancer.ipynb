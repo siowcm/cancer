{
  "cells": [
    {
      "cell_type": "markdown",
      "metadata": {
        "id": "324598b6-184a-4cdb-a89c-42b537f93dc2"
      },
      "source": [
        "[![Open In Colab](https://colab.research.google.com/assets/colab-badge.svg)](https://colab.research.google.com/github/siowcm/cancer/blob/main/code/02-cancer.ipynb)\n",
        "\n",
        "Note: Run notebook in colab"
      ],
      "id": "324598b6-184a-4cdb-a89c-42b537f93dc2"
    },
    {
      "cell_type": "markdown",
      "metadata": {
        "id": "01079716-bb63-4f39-83b8-eacab1fdeb7b"
      },
      "source": [
        "# Import libraries"
      ],
      "id": "01079716-bb63-4f39-83b8-eacab1fdeb7b"
    },
    {
      "cell_type": "code",
      "execution_count": null,
      "metadata": {
        "id": "39a8dfe3-4921-4ab5-92fd-c4af1086c39c"
      },
      "outputs": [],
      "source": [
        "# import libraries\n",
        "import glob\n",
        "import os\n",
        "import re\n",
        "import shutil\n",
        "\n",
        "import cv2\n",
        "import matplotlib.pyplot as plt\n",
        "import numpy as np\n",
        "import pandas as pd\n",
        "import seaborn as sns\n",
        "import tensorflow as tf\n",
        "from imutils import paths\n",
        "from keras.preprocessing.image import ImageDataGenerator\n",
        "from sklearn.metrics import (\n",
        "    ConfusionMatrixDisplay,\n",
        "    RocCurveDisplay,\n",
        "    confusion_matrix,\n",
        "    accuracy_score,\n",
        "    roc_auc_score,\n",
        "    recall_score,\n",
        "    precision_score\n",
        ")\n",
        "from sklearn.model_selection import train_test_split\n",
        "from tensorflow import keras"
      ],
      "id": "39a8dfe3-4921-4ab5-92fd-c4af1086c39c"
    },
    {
      "cell_type": "code",
      "execution_count": null,
      "metadata": {
        "colab": {
          "base_uri": "https://localhost:8080/"
        },
        "id": "ce7d48d6-69e4-4313-b8c1-75772446b5d4",
        "outputId": "299990fe-95cf-4a51-92c9-c4fd24039e01"
      },
      "outputs": [
        {
          "name": "stdout",
          "output_type": "stream",
          "text": [
            "fatal: destination path 'cancer' already exists and is not an empty directory.\n"
          ]
        }
      ],
      "source": [
        "# clone github repo\n",
        "!git clone https://github.com/siowcm/cancer.git"
      ],
      "id": "ce7d48d6-69e4-4313-b8c1-75772446b5d4"
    },
    {
      "cell_type": "code",
      "execution_count": null,
      "metadata": {
        "colab": {
          "base_uri": "https://localhost:8080/"
        },
        "id": "0a15bc9a-3bf9-443a-b7c5-1474ec4aab6b",
        "outputId": "f802a338-cf26-4218-f976-779aed239b2f"
      },
      "outputs": [
        {
          "name": "stdout",
          "output_type": "stream",
          "text": [
            "/content/cancer/code\n"
          ]
        }
      ],
      "source": [
        "%cd ./cancer/code"
      ],
      "id": "0a15bc9a-3bf9-443a-b7c5-1474ec4aab6b"
    },
    {
      "cell_type": "code",
      "execution_count": null,
      "metadata": {
        "id": "fef43e9b-80f6-49e2-a05b-bca11a8f9fed"
      },
      "outputs": [],
      "source": [
        "df = pd.read_csv(\"../data/cancer.csv\")"
      ],
      "id": "fef43e9b-80f6-49e2-a05b-bca11a8f9fed"
    },
    {
      "cell_type": "code",
      "execution_count": null,
      "metadata": {
        "colab": {
          "base_uri": "https://localhost:8080/"
        },
        "id": "ccabca75-81d0-4a6f-8688-88431ab800e8",
        "outputId": "579f76c7-6892-46a6-8662-0fe88fdd8fe5"
      },
      "outputs": [
        {
          "name": "stdout",
          "output_type": "stream",
          "text": [
            "<class 'pandas.core.frame.DataFrame'>\n",
            "RangeIndex: 277524 entries, 0 to 277523\n",
            "Data columns (total 8 columns):\n",
            " #   Column      Non-Null Count   Dtype \n",
            "---  ------      --------------   ----- \n",
            " 0   patient_id  277524 non-null  int64 \n",
            " 1   label       277524 non-null  int64 \n",
            " 2   path        277524 non-null  object\n",
            " 3   file_name   277524 non-null  object\n",
            " 4   img_x       277524 non-null  int64 \n",
            " 5   img_y       277524 non-null  int64 \n",
            " 6   height      277524 non-null  int64 \n",
            " 7   width       277524 non-null  int64 \n",
            "dtypes: int64(6), object(2)\n",
            "memory usage: 16.9+ MB\n"
          ]
        }
      ],
      "source": [
        "df.info()"
      ],
      "id": "ccabca75-81d0-4a6f-8688-88431ab800e8"
    },
    {
      "cell_type": "markdown",
      "metadata": {
        "id": "2745c8cb-b5ea-4e74-9264-d43847141343"
      },
      "source": [
        "# Preprocessing\n",
        "For preprocessing, the models parameters will be defined and along with some helper functions."
      ],
      "id": "2745c8cb-b5ea-4e74-9264-d43847141343"
    },
    {
      "cell_type": "code",
      "execution_count": null,
      "metadata": {
        "id": "ff0d1a0d-f876-4671-bee3-84ba23d2255f"
      },
      "outputs": [],
      "source": [
        "# parameters\n",
        "TRAIN_PATH = \"../data/train\"\n",
        "VAL_PATH = \"../data/val\"\n",
        "TEST_PATH = \"../data/test\"\n",
        "IMG_SIZE = (100, 100)\n",
        "BATCH_SIZE = 64\n",
        "PATIENCE = 10\n",
        "NUM_EPOCHS = 100\n",
        "INIT_LR = 0.01"
      ],
      "id": "ff0d1a0d-f876-4671-bee3-84ba23d2255f"
    },
    {
      "cell_type": "code",
      "execution_count": null,
      "metadata": {
        "id": "6550620f-0d10-4d35-99d6-97f91e97558f"
      },
      "outputs": [],
      "source": [
        "# create training, validation and testing data\n",
        "df_train_and_val, df_test = train_test_split(\n",
        "    df, train_size=0.8, random_state=42, stratify=df[\"label\"]\n",
        ")\n",
        "\n",
        "df_train, df_val = train_test_split(\n",
        "    df_train_and_val,\n",
        "    train_size=0.8,\n",
        "    random_state=42,\n",
        "    stratify=df_train_and_val[\"label\"],\n",
        ")"
      ],
      "id": "6550620f-0d10-4d35-99d6-97f91e97558f"
    },
    {
      "cell_type": "code",
      "execution_count": null,
      "metadata": {
        "colab": {
          "base_uri": "https://localhost:8080/"
        },
        "id": "cb5b7531-e570-42eb-a482-f51595497f05",
        "outputId": "91eec788-ef8c-4cf4-8532-3da498346dab"
      },
      "outputs": [
        {
          "name": "stdout",
          "output_type": "stream",
          "text": [
            "Shape of training df: (177615, 8)\n",
            "Shape of validation df: (44404, 8)\n",
            "Shape of testing df: (55505, 8)\n"
          ]
        }
      ],
      "source": [
        "# check the shape of training and testing data\n",
        "print(f\"Shape of training df: {df_train.shape}\")\n",
        "print(f\"Shape of validation df: {df_val.shape}\")\n",
        "print(f\"Shape of testing df: {df_test.shape}\")"
      ],
      "id": "cb5b7531-e570-42eb-a482-f51595497f05"
    },
    {
      "cell_type": "code",
      "execution_count": null,
      "metadata": {
        "id": "a0da753b-b8c9-423d-b6b1-f03a38e76b66"
      },
      "outputs": [],
      "source": [
        "# create folder/ subfolders if it does not exist\n",
        "for folder in [TRAIN_PATH, VAL_PATH, TEST_PATH]:\n",
        "    if not os.path.exists(folder):\n",
        "        os.makedirs(folder)\n",
        "    if not os.path.exists(os.path.join(folder, \"0\")):\n",
        "        os.makedirs(os.path.join(folder, \"0\"))\n",
        "    if not os.path.exists(os.path.join(folder, \"1\")):\n",
        "        os.makedirs(os.path.join(folder, \"1\"))"
      ],
      "id": "a0da753b-b8c9-423d-b6b1-f03a38e76b66"
    },
    {
      "cell_type": "code",
      "execution_count": null,
      "metadata": {
        "id": "66f7e14d-2579-42db-94b0-5f5dc657a8bb",
        "scrolled": true
      },
      "outputs": [],
      "source": [
        "# copy to newly created folders\n",
        "for index, data in df_train.iterrows():\n",
        "    shutil.copy2(data[\"path\"], os.path.join(TRAIN_PATH, str(data[\"label\"])))\n",
        "\n",
        "for index, data in df_val.iterrows():\n",
        "    shutil.copy2(data[\"path\"], os.path.join(VAL_PATH, str(data[\"label\"])))\n",
        "\n",
        "for index, data in df_test.iterrows():\n",
        "    shutil.copy2(data[\"path\"], os.path.join(TEST_PATH, str(data[\"label\"])))"
      ],
      "id": "66f7e14d-2579-42db-94b0-5f5dc657a8bb"
    },
    {
      "cell_type": "code",
      "execution_count": null,
      "metadata": {
        "colab": {
          "base_uri": "https://localhost:8080/"
        },
        "id": "64226468-370c-49b3-888d-55f8a6d26a2a",
        "outputId": "8dbc6968-0cdf-4690-e70b-7df90b08addc"
      },
      "outputs": [
        {
          "name": "stdout",
          "output_type": "stream",
          "text": [
            "Reading package lists... Done\n",
            "Building dependency tree       \n",
            "Reading state information... Done\n",
            "tree is already the newest version (1.7.0-5).\n",
            "0 upgraded, 0 newly installed, 0 to remove and 39 not upgraded.\n",
            ".\n",
            "├── archive [280 entries exceeds filelimit, not opening dir]\n",
            "├── test\n",
            "│   ├── 0 [39748 entries exceeds filelimit, not opening dir]\n",
            "│   └── 1 [15757 entries exceeds filelimit, not opening dir]\n",
            "├── train\n",
            "│   ├── 0 [127192 entries exceeds filelimit, not opening dir]\n",
            "│   └── 1 [50423 entries exceeds filelimit, not opening dir]\n",
            "├── val\n",
            "│   ├── 0 [31798 entries exceeds filelimit, not opening dir]\n",
            "│   └── 1 [12606 entries exceeds filelimit, not opening dir]\n",
            "└── cancer.csv\n",
            "\n",
            "10 directories, 1 file\n"
          ]
        }
      ],
      "source": [
        "# check folder structure\n",
        "!apt-get install tree\n",
        "!cd ../data ; tree --dirsfirst --filelimit 5"
      ],
      "id": "64226468-370c-49b3-888d-55f8a6d26a2a"
    },
    {
      "cell_type": "code",
      "execution_count": null,
      "metadata": {
        "colab": {
          "base_uri": "https://localhost:8080/"
        },
        "id": "a07b2b72-cd43-4566-9374-43c07df4853b",
        "outputId": "83060653-9030-4a00-b40b-8aaf7d4435d1"
      },
      "outputs": [
        {
          "name": "stdout",
          "output_type": "stream",
          "text": [
            "['../data/train/0/13916_idx5_x401_y1751_class0.png', '../data/train/0/13400_idx5_x1851_y1551_class0.png']\n",
            "['../data/val/0/9382_idx5_x3151_y2401_class0.png', '../data/val/0/15472_idx5_x801_y601_class0.png']\n",
            "['../data/test/0/10302_idx5_x551_y2151_class0.png', '../data/test/0/10269_idx5_x851_y1551_class0.png']\n"
          ]
        }
      ],
      "source": [
        "# create list pf images paths\n",
        "train_paths = list(paths.list_images(TRAIN_PATH))\n",
        "val_paths = list(paths.list_images(VAL_PATH))\n",
        "test_paths = list(paths.list_images(TEST_PATH))\n",
        "\n",
        "# print output for clarity\n",
        "print(train_paths[:2])\n",
        "print(val_paths[:2])\n",
        "print(test_paths[:2])"
      ],
      "id": "a07b2b72-cd43-4566-9374-43c07df4853b"
    },
    {
      "cell_type": "code",
      "execution_count": null,
      "metadata": {
        "colab": {
          "base_uri": "https://localhost:8080/"
        },
        "id": "365812fe-5677-4cca-b9ab-63307ac41f6b",
        "outputId": "50eaf089-c479-4a9c-edc7-cb483195add3"
      },
      "outputs": [
        {
          "name": "stdout",
          "output_type": "stream",
          "text": [
            "class weights: {0: 1.0, 1: 2.5224996}\n"
          ]
        }
      ],
      "source": [
        "# create class weights\n",
        "train_labels = [int(p.split(os.path.sep)[-2]) for p in train_paths]\n",
        "train_labels = keras.utils.to_categorical(\n",
        "    train_labels\n",
        ")  # one-hot encode list into arrary\n",
        "class_totals = train_labels.sum(axis=0)\n",
        "class_weight = {}\n",
        "for i in range(0, len(class_totals)):\n",
        "    class_weight[i] = class_totals.max() / class_totals[i]\n",
        "print(f\"class weights: {class_weight}\")"
      ],
      "id": "365812fe-5677-4cca-b9ab-63307ac41f6b"
    },
    {
      "cell_type": "code",
      "execution_count": null,
      "metadata": {
        "id": "46f66d4e-d66f-4dd7-a378-2eefcf978427"
      },
      "outputs": [],
      "source": [
        "# function to augment images\n",
        "@tf.function                                        # decarator code to create Python-independent dataflow graphs out of your Python code.\n",
        "def augmentation(image, label):                     # This will help you create performant and portable model.\n",
        "    '''\n",
        "    Takes in image tensor and label and\n",
        "    return respective inputs after transformation\n",
        "    '''\n",
        "    image = tf.image.random_flip_left_right(image)  # random horizontal flips\n",
        "    image = tf.image.random_flip_up_down(image)     # random horizontal flips\n",
        "    return image, label                             # more augmenetation from tensorflow API https://www.tensorflow.org/api_docs/python/tf/image"
      ],
      "id": "46f66d4e-d66f-4dd7-a378-2eefcf978427"
    },
    {
      "cell_type": "code",
      "execution_count": null,
      "metadata": {
        "id": "4b410011-58fc-44d6-a76f-52fcbec61dba",
        "scrolled": true
      },
      "outputs": [],
      "source": [
        "def compile_fit_model(model, save_path, train_data, val_data):\n",
        "    '''\n",
        "    Takes in model object and string for saved path for training.\n",
        "    Return model after training.\n",
        "    '''\n",
        "    model.compile(\n",
        "        loss=\"binary_crossentropy\",\n",
        "        optimizer=keras.optimizers.Adam(learning_rate=INIT_LR),\n",
        "        metrics=[\n",
        "            keras.metrics.BinaryAccuracy(),\n",
        "            keras.metrics.AUC(),\n",
        "            keras.metrics.Precision(),\n",
        "            keras.metrics.Recall(),\n",
        "        ],\n",
        "    )\n",
        "\n",
        "    callbacks_list = [\n",
        "        keras.callbacks.EarlyStopping(\n",
        "            monitor=\"val_loss\", patience=PATIENCE, restore_best_weights=True\n",
        "        ),\n",
        "        keras.callbacks.ModelCheckpoint(\n",
        "            filepath=save_path, verbose=1, save_best_only=True\n",
        "        ),\n",
        "        keras.callbacks.ReduceLROnPlateau(verbose=1),\n",
        "    ]\n",
        "\n",
        "    history = model.fit(\n",
        "        x=train_data,\n",
        "        epochs=NUM_EPOCHS,\n",
        "        callbacks=callbacks_list,\n",
        "        validation_data=val_data,\n",
        "        class_weight=class_weight,\n",
        "        steps_per_epoch=len(train_data) // BATCH_SIZE,\n",
        "        # validation_steps=len(val_data) // BATCH_SIZE,\n",
        "    )\n",
        "\n",
        "    return history, model"
      ],
      "id": "4b410011-58fc-44d6-a76f-52fcbec61dba"
    },
    {
      "cell_type": "markdown",
      "metadata": {
        "id": "852eb2d6-e9a6-4d49-b72b-75737aae0bc2"
      },
      "source": [
        "# Transfer Learning\n",
        "\n",
        "In this section, the models will be built by using the convolution network of the pre-trained model (e.g. VGG16) as a backbone to extract features and add a fully-connected layer. "
      ],
      "id": "852eb2d6-e9a6-4d49-b72b-75737aae0bc2"
    },
    {
      "cell_type": "markdown",
      "metadata": {
        "id": "f1c7c467-ab46-47da-90e6-96b98a9161a9"
      },
      "source": [
        "## VGG16"
      ],
      "id": "f1c7c467-ab46-47da-90e6-96b98a9161a9"
    },
    {
      "cell_type": "code",
      "execution_count": null,
      "metadata": {
        "id": "5cd244b8-7d39-439d-b9e1-9875900841e9"
      },
      "outputs": [],
      "source": [
        "# function to load image\n",
        "def image_loader_vgg16(path):\n",
        "    image = tf.io.read_file(path)                                   # read image file as binary\n",
        "    image = tf.image.decode_png(image, channels=3)                  # decode into image tensor\n",
        "    # image = tf.image.convert_image_dtype(image, dtype=tf.float32) # converts to float32 data type and scaling the values appropriately before casting.\n",
        "    image = tf.cast(image, dtype=tf.float32)\n",
        "    image = tf.image.resize(image, IMG_SIZE)                        # resize the image\n",
        "    image = keras.applications.vgg16.preprocess_input(image)        # custom preprocessing for VGG16\n",
        "    label = tf.strings.split(path, os.path.sep)[-2]                 # parse the class label from the file path\n",
        "    label = tf.strings.to_number(label, tf.int32)\n",
        "    return (image, label)"
      ],
      "id": "5cd244b8-7d39-439d-b9e1-9875900841e9"
    },
    {
      "cell_type": "code",
      "execution_count": null,
      "metadata": {
        "id": "6b2c3281-b319-4cd9-8117-0f9ae5216720"
      },
      "outputs": [],
      "source": [
        "train_data_vgg = tf.data.Dataset.from_tensor_slices(train_paths)\n",
        "train_data_vgg = (\n",
        "    train_data_vgg.shuffle(len(train_paths))                            # shuffle data, optional as already did train_test_split in scikit-learn\n",
        "    .map(image_loader_vgg16, num_parallel_calls=tf.data.AUTOTUNE)   # load the image\n",
        "    .map(augmentation, num_parallel_calls=tf.data.AUTOTUNE)         # apply augmentation\n",
        "    .cache()                                                        # caching for fast read\n",
        "    .batch(batch_size=BATCH_SIZE)                                   # batching the data\n",
        "    .prefetch(tf.data.AUTOTUNE)                                     # allows later elements to be prepared while the current element is being processed\n",
        ")\n",
        "\n",
        "\n",
        "val_data_vgg = tf.data.Dataset.from_tensor_slices(val_paths)                   # no augmentation & shuffle required for test data as it is ground truth\n",
        "val_data_vgg = (\n",
        "    val_data_vgg.map(image_loader_vgg16, num_parallel_calls=tf.data.AUTOTUNE)  # load the image\n",
        "    .batch(batch_size=BATCH_SIZE)                                          # batching the data\n",
        "    .prefetch(tf.data.AUTOTUNE)                                            # allows later elements to be prepared while the current element is being processed\n",
        ")\n",
        "\n",
        "\n",
        "test_data_vgg = tf.data.Dataset.from_tensor_slices(test_paths)                  # no augmentation & shuffle required for test data as it is ground truth\n",
        "test_data_vgg = (\n",
        "    test_data_vgg.map(image_loader_vgg16, num_parallel_calls=tf.data.AUTOTUNE)  # load the image\n",
        "    .batch(batch_size=BATCH_SIZE)                                           # batching the data\n",
        "    .prefetch(tf.data.AUTOTUNE)                                             # allows later elements to be prepared while the current element is being processed\n",
        ")"
      ],
      "id": "6b2c3281-b319-4cd9-8117-0f9ae5216720"
    },
    {
      "cell_type": "code",
      "execution_count": null,
      "metadata": {
        "id": "831f6a79-fb00-4244-a371-58c3d9b06563"
      },
      "outputs": [],
      "source": [
        "#import pretrained and freeze the layers\n",
        "VGG16 = keras.applications.VGG16(include_top=False, weights=\"imagenet\")\n",
        "VGG16.trainable = False"
      ],
      "id": "831f6a79-fb00-4244-a371-58c3d9b06563"
    },
    {
      "cell_type": "code",
      "execution_count": null,
      "metadata": {
        "id": "6a301dfb-38b2-408c-ba68-6979d0476242"
      },
      "outputs": [],
      "source": [
        "#add custom binary prediction layer\n",
        "model_vgg16 = keras.models.Sequential(\n",
        "    [\n",
        "        VGG16,\n",
        "        # keras.layers.BatchNormalization(),\n",
        "        keras.layers.GlobalAveragePooling2D(),\n",
        "        keras.layers.Flatten(),\n",
        "        keras.layers.Dropout(0.2),\n",
        "        keras.layers.Dense(units=128, activation=\"relu\"),\n",
        "        keras.layers.Dense(units=1, activation=\"sigmoid\"),\n",
        "    ]\n",
        ")"
      ],
      "id": "6a301dfb-38b2-408c-ba68-6979d0476242"
    },
    {
      "cell_type": "code",
      "execution_count": null,
      "metadata": {
        "colab": {
          "base_uri": "https://localhost:8080/"
        },
        "id": "29356df4-bff7-4705-a57d-1ed6e2f0b1f2",
        "outputId": "cd556d73-e7a6-4b89-adf7-db31675bf390"
      },
      "outputs": [
        {
          "name": "stdout",
          "output_type": "stream",
          "text": [
            "Model: \"sequential\"\n",
            "_________________________________________________________________\n",
            " Layer (type)                Output Shape              Param #   \n",
            "=================================================================\n",
            " vgg16 (Functional)          (None, None, None, 512)   14714688  \n",
            "                                                                 \n",
            " global_average_pooling2d (G  (None, 512)              0         \n",
            " lobalAveragePooling2D)                                          \n",
            "                                                                 \n",
            " flatten (Flatten)           (None, 512)               0         \n",
            "                                                                 \n",
            " dropout (Dropout)           (None, 512)               0         \n",
            "                                                                 \n",
            " dense (Dense)               (None, 128)               65664     \n",
            "                                                                 \n",
            " dense_1 (Dense)             (None, 1)                 129       \n",
            "                                                                 \n",
            "=================================================================\n",
            "Total params: 14,780,481\n",
            "Trainable params: 65,793\n",
            "Non-trainable params: 14,714,688\n",
            "_________________________________________________________________\n"
          ]
        }
      ],
      "source": [
        "model_vgg16.summary()"
      ],
      "id": "29356df4-bff7-4705-a57d-1ed6e2f0b1f2"
    },
    {
      "cell_type": "code",
      "execution_count": null,
      "metadata": {
        "colab": {
          "base_uri": "https://localhost:8080/"
        },
        "id": "d0hx35UU3vBD",
        "outputId": "f7d347c5-e184-49a7-e81f-e5d12b03883a",
        "scrolled": true
      },
      "outputs": [
        {
          "name": "stdout",
          "output_type": "stream",
          "text": [
            "Epoch 1/100\n",
            "43/43 [==============================] - ETA: 0s - loss: 2.1800 - binary_accuracy: 0.7035 - auc: 0.7227 - precision: 0.4899 - recall: 0.6725\n",
            "Epoch 1: val_loss improved from inf to 0.44296, saving model to vgg16.h5\n",
            "43/43 [==============================] - 39s 665ms/step - loss: 2.1800 - binary_accuracy: 0.7035 - auc: 0.7227 - precision: 0.4899 - recall: 0.6725 - val_loss: 0.4430 - val_binary_accuracy: 0.8175 - val_auc: 0.8644 - val_precision: 0.6552 - val_recall: 0.7538 - lr: 0.0100\n",
            "Epoch 2/100\n",
            "43/43 [==============================] - ETA: 0s - loss: 0.6654 - binary_accuracy: 0.7936 - auc: 0.8683 - precision: 0.6112 - recall: 0.7849\n",
            "Epoch 2: val_loss improved from 0.44296 to 0.41745, saving model to vgg16.h5\n",
            "43/43 [==============================] - 26s 618ms/step - loss: 0.6654 - binary_accuracy: 0.7936 - auc: 0.8683 - precision: 0.6112 - recall: 0.7849 - val_loss: 0.4174 - val_binary_accuracy: 0.8269 - val_auc: 0.8813 - val_precision: 0.6712 - val_recall: 0.7653 - lr: 0.0100\n",
            "Epoch 3/100\n",
            "42/43 [============================>.] - ETA: 0s - loss: 0.6739 - binary_accuracy: 0.8010 - auc: 0.8638 - precision: 0.6418 - recall: 0.7737\n",
            "Epoch 3: val_loss improved from 0.41745 to 0.41219, saving model to vgg16.h5\n",
            "43/43 [==============================] - 27s 631ms/step - loss: 0.6769 - binary_accuracy: 0.8012 - auc: 0.8632 - precision: 0.6446 - recall: 0.7703 - val_loss: 0.4122 - val_binary_accuracy: 0.8378 - val_auc: 0.8846 - val_precision: 0.7083 - val_recall: 0.7286 - lr: 0.0100\n",
            "Epoch 4/100\n",
            "42/43 [============================>.] - ETA: 0s - loss: 0.6537 - binary_accuracy: 0.8013 - auc: 0.8723 - precision: 0.6327 - recall: 0.7867\n",
            "Epoch 4: val_loss did not improve from 0.41219\n",
            "43/43 [==============================] - 27s 649ms/step - loss: 0.6559 - binary_accuracy: 0.7998 - auc: 0.8713 - precision: 0.6308 - recall: 0.7831 - val_loss: 0.4374 - val_binary_accuracy: 0.8279 - val_auc: 0.8856 - val_precision: 0.6723 - val_recall: 0.7684 - lr: 0.0100\n",
            "Epoch 5/100\n",
            "42/43 [============================>.] - ETA: 0s - loss: 0.6232 - binary_accuracy: 0.8199 - auc: 0.8789 - precision: 0.6527 - recall: 0.7779\n",
            "Epoch 5: val_loss did not improve from 0.41219\n",
            "43/43 [==============================] - 26s 609ms/step - loss: 0.6240 - binary_accuracy: 0.8194 - auc: 0.8794 - precision: 0.6538 - recall: 0.7796 - val_loss: 0.4408 - val_binary_accuracy: 0.8081 - val_auc: 0.8921 - val_precision: 0.6209 - val_recall: 0.8317 - lr: 0.0100\n",
            "Epoch 6/100\n",
            "43/43 [==============================] - ETA: 0s - loss: 0.6164 - binary_accuracy: 0.8103 - auc: 0.8857 - precision: 0.6400 - recall: 0.7922\n",
            "Epoch 6: val_loss did not improve from 0.41219\n",
            "43/43 [==============================] - 26s 614ms/step - loss: 0.6164 - binary_accuracy: 0.8103 - auc: 0.8857 - precision: 0.6400 - recall: 0.7922 - val_loss: 0.4216 - val_binary_accuracy: 0.8167 - val_auc: 0.8912 - val_precision: 0.6395 - val_recall: 0.8125 - lr: 0.0100\n",
            "Epoch 7/100\n",
            "43/43 [==============================] - ETA: 0s - loss: 0.6451 - binary_accuracy: 0.8132 - auc: 0.8734 - precision: 0.6430 - recall: 0.7891\n",
            "Epoch 7: val_loss did not improve from 0.41219\n",
            "43/43 [==============================] - 25s 596ms/step - loss: 0.6451 - binary_accuracy: 0.8132 - auc: 0.8734 - precision: 0.6430 - recall: 0.7891 - val_loss: 0.4725 - val_binary_accuracy: 0.7994 - val_auc: 0.8923 - val_precision: 0.6058 - val_recall: 0.8398 - lr: 0.0100\n",
            "Epoch 8/100\n",
            "43/43 [==============================] - ETA: 0s - loss: 0.6346 - binary_accuracy: 0.8081 - auc: 0.8791 - precision: 0.6360 - recall: 0.7950\n",
            "Epoch 8: val_loss did not improve from 0.41219\n",
            "43/43 [==============================] - 26s 610ms/step - loss: 0.6346 - binary_accuracy: 0.8081 - auc: 0.8791 - precision: 0.6360 - recall: 0.7950 - val_loss: 0.4586 - val_binary_accuracy: 0.8039 - val_auc: 0.8936 - val_precision: 0.6135 - val_recall: 0.8360 - lr: 0.0100\n",
            "Epoch 9/100\n",
            "43/43 [==============================] - ETA: 0s - loss: 0.6367 - binary_accuracy: 0.8081 - auc: 0.8800 - precision: 0.6401 - recall: 0.8134\n",
            "Epoch 9: val_loss improved from 0.41219 to 0.38329, saving model to vgg16.h5\n",
            "43/43 [==============================] - 25s 602ms/step - loss: 0.6367 - binary_accuracy: 0.8081 - auc: 0.8800 - precision: 0.6401 - recall: 0.8134 - val_loss: 0.3833 - val_binary_accuracy: 0.8365 - val_auc: 0.8987 - val_precision: 0.6884 - val_recall: 0.7751 - lr: 0.0100\n",
            "Epoch 10/100\n",
            "43/43 [==============================] - ETA: 0s - loss: 0.6221 - binary_accuracy: 0.8180 - auc: 0.8823 - precision: 0.6451 - recall: 0.7858\n",
            "Epoch 10: val_loss improved from 0.38329 to 0.36008, saving model to vgg16.h5\n",
            "43/43 [==============================] - 25s 602ms/step - loss: 0.6221 - binary_accuracy: 0.8180 - auc: 0.8823 - precision: 0.6451 - recall: 0.7858 - val_loss: 0.3601 - val_binary_accuracy: 0.8452 - val_auc: 0.8982 - val_precision: 0.7332 - val_recall: 0.7150 - lr: 0.0100\n",
            "Epoch 11/100\n",
            "43/43 [==============================] - ETA: 0s - loss: 0.6410 - binary_accuracy: 0.8056 - auc: 0.8715 - precision: 0.6160 - recall: 0.7884\n",
            "Epoch 11: val_loss did not improve from 0.36008\n",
            "43/43 [==============================] - 25s 596ms/step - loss: 0.6410 - binary_accuracy: 0.8056 - auc: 0.8715 - precision: 0.6160 - recall: 0.7884 - val_loss: 0.3736 - val_binary_accuracy: 0.8392 - val_auc: 0.8987 - val_precision: 0.6995 - val_recall: 0.7600 - lr: 0.0100\n",
            "Epoch 12/100\n",
            "43/43 [==============================] - ETA: 0s - loss: 0.6203 - binary_accuracy: 0.8249 - auc: 0.8756 - precision: 0.6467 - recall: 0.7706\n",
            "Epoch 12: val_loss did not improve from 0.36008\n",
            "43/43 [==============================] - 25s 600ms/step - loss: 0.6203 - binary_accuracy: 0.8249 - auc: 0.8756 - precision: 0.6467 - recall: 0.7706 - val_loss: 0.4070 - val_binary_accuracy: 0.8336 - val_auc: 0.8961 - val_precision: 0.6797 - val_recall: 0.7829 - lr: 0.0100\n",
            "Epoch 13/100\n",
            "43/43 [==============================] - ETA: 0s - loss: 0.6303 - binary_accuracy: 0.8089 - auc: 0.8791 - precision: 0.6197 - recall: 0.8136\n",
            "Epoch 13: val_loss did not improve from 0.36008\n",
            "43/43 [==============================] - 25s 596ms/step - loss: 0.6303 - binary_accuracy: 0.8089 - auc: 0.8791 - precision: 0.6197 - recall: 0.8136 - val_loss: 0.4081 - val_binary_accuracy: 0.8180 - val_auc: 0.8972 - val_precision: 0.6407 - val_recall: 0.8173 - lr: 0.0100\n",
            "Epoch 14/100\n",
            "43/43 [==============================] - ETA: 0s - loss: 0.5982 - binary_accuracy: 0.8205 - auc: 0.8923 - precision: 0.6411 - recall: 0.8217\n",
            "Epoch 14: val_loss did not improve from 0.36008\n",
            "43/43 [==============================] - 25s 604ms/step - loss: 0.5982 - binary_accuracy: 0.8205 - auc: 0.8923 - precision: 0.6411 - recall: 0.8217 - val_loss: 0.4356 - val_binary_accuracy: 0.8055 - val_auc: 0.8969 - val_precision: 0.6143 - val_recall: 0.8463 - lr: 0.0100\n",
            "Epoch 15/100\n",
            "43/43 [==============================] - ETA: 0s - loss: 0.6283 - binary_accuracy: 0.8060 - auc: 0.8839 - precision: 0.6409 - recall: 0.8094\n",
            "Epoch 15: val_loss did not improve from 0.36008\n",
            "43/43 [==============================] - 25s 596ms/step - loss: 0.6283 - binary_accuracy: 0.8060 - auc: 0.8839 - precision: 0.6409 - recall: 0.8094 - val_loss: 0.3683 - val_binary_accuracy: 0.8456 - val_auc: 0.8984 - val_precision: 0.7295 - val_recall: 0.7247 - lr: 0.0100\n",
            "Epoch 16/100\n",
            "43/43 [==============================] - ETA: 0s - loss: 0.5863 - binary_accuracy: 0.8347 - auc: 0.8974 - precision: 0.6850 - recall: 0.8050\n",
            "Epoch 16: val_loss did not improve from 0.36008\n",
            "43/43 [==============================] - 25s 596ms/step - loss: 0.5863 - binary_accuracy: 0.8347 - auc: 0.8974 - precision: 0.6850 - recall: 0.8050 - val_loss: 0.3823 - val_binary_accuracy: 0.8370 - val_auc: 0.8984 - val_precision: 0.6908 - val_recall: 0.7708 - lr: 0.0100\n",
            "Epoch 17/100\n",
            "43/43 [==============================] - ETA: 0s - loss: 0.6518 - binary_accuracy: 0.8100 - auc: 0.8720 - precision: 0.6287 - recall: 0.7815\n",
            "Epoch 17: val_loss did not improve from 0.36008\n",
            "43/43 [==============================] - 25s 596ms/step - loss: 0.6518 - binary_accuracy: 0.8100 - auc: 0.8720 - precision: 0.6287 - recall: 0.7815 - val_loss: 0.3727 - val_binary_accuracy: 0.8420 - val_auc: 0.8996 - val_precision: 0.7063 - val_recall: 0.7590 - lr: 0.0100\n",
            "Epoch 18/100\n",
            "43/43 [==============================] - ETA: 0s - loss: 0.5836 - binary_accuracy: 0.8339 - auc: 0.8933 - precision: 0.6598 - recall: 0.7826\n",
            "Epoch 18: val_loss did not improve from 0.36008\n",
            "43/43 [==============================] - 25s 596ms/step - loss: 0.5836 - binary_accuracy: 0.8339 - auc: 0.8933 - precision: 0.6598 - recall: 0.7826 - val_loss: 0.4199 - val_binary_accuracy: 0.8219 - val_auc: 0.8998 - val_precision: 0.6464 - val_recall: 0.8228 - lr: 0.0100\n",
            "Epoch 19/100\n",
            "43/43 [==============================] - ETA: 0s - loss: 0.6121 - binary_accuracy: 0.8234 - auc: 0.8856 - precision: 0.6560 - recall: 0.7892\n",
            "Epoch 19: val_loss did not improve from 0.36008\n",
            "43/43 [==============================] - 25s 595ms/step - loss: 0.6121 - binary_accuracy: 0.8234 - auc: 0.8856 - precision: 0.6560 - recall: 0.7892 - val_loss: 0.4231 - val_binary_accuracy: 0.8175 - val_auc: 0.8991 - val_precision: 0.6381 - val_recall: 0.8252 - lr: 0.0100\n",
            "Epoch 20/100\n",
            "43/43 [==============================] - ETA: 0s - loss: 0.6144 - binary_accuracy: 0.8056 - auc: 0.8824 - precision: 0.6139 - recall: 0.8003\n",
            "Epoch 20: val_loss did not improve from 0.36008\n",
            "\n",
            "Epoch 20: ReduceLROnPlateau reducing learning rate to 0.0009999999776482583.\n",
            "43/43 [==============================] - 25s 596ms/step - loss: 0.6144 - binary_accuracy: 0.8056 - auc: 0.8824 - precision: 0.6139 - recall: 0.8003 - val_loss: 0.4074 - val_binary_accuracy: 0.7996 - val_auc: 0.8969 - val_precision: 0.6053 - val_recall: 0.8454 - lr: 0.0100\n"
          ]
        }
      ],
      "source": [
        "#train model\n",
        "history_vgg16, model_vgg16 = compile_fit_model(\n",
        "    model=model_vgg16,\n",
        "    save_path=\"vgg16.h5\",\n",
        "    train_data=train_data_vgg,\n",
        "    val_data=val_data_vgg\n",
        ")"
      ],
      "id": "d0hx35UU3vBD"
    },
    {
      "cell_type": "code",
      "execution_count": null,
      "metadata": {
        "colab": {
          "base_uri": "https://localhost:8080/"
        },
        "id": "kz_gZZ884IPQ",
        "outputId": "0d5e7c10-4a23-4a10-f741-0334eecf8399"
      },
      "outputs": [
        {
          "name": "stdout",
          "output_type": "stream",
          "text": [
            "868/868 [==============================] - 31s 35ms/step - loss: 0.3602 - binary_accuracy: 0.8454 - auc: 0.8979 - precision: 0.7327 - recall: 0.7168\n"
          ]
        },
        {
          "data": {
            "text/plain": [
              "[0.36021125316619873,\n",
              " 0.8453652858734131,\n",
              " 0.8978773355484009,\n",
              " 0.7327105402946472,\n",
              " 0.7167608141899109]"
            ]
          },
          "execution_count": 23,
          "metadata": {},
          "output_type": "execute_result"
        }
      ],
      "source": [
        "#evaluate with test data\n",
        "vgg16_eval = model_vgg16.evaluate(test_data_vgg)\n",
        "vgg16_eval"
      ],
      "id": "kz_gZZ884IPQ"
    },
    {
      "cell_type": "code",
      "execution_count": null,
      "metadata": {
        "id": "73fb507d-c9e6-4cd4-b2fd-f5435c398817"
      },
      "outputs": [],
      "source": [
        "result_vgg16 = pd.DataFrame(history_vgg16.history)"
      ],
      "id": "73fb507d-c9e6-4cd4-b2fd-f5435c398817"
    },
    {
      "cell_type": "code",
      "execution_count": null,
      "metadata": {
        "colab": {
          "base_uri": "https://localhost:8080/",
          "height": 282
        },
        "id": "f37061da-60ad-4ffe-a420-195a40ba1d1b",
        "outputId": "11288b94-ee16-4926-8b49-2eb48287efe7"
      },
      "outputs": [
        {
          "data": {
            "text/plain": [
              "<matplotlib.axes._subplots.AxesSubplot at 0x7fa66017bb90>"
            ]
          },
          "execution_count": 25,
          "metadata": {},
          "output_type": "execute_result"
        },
        {
          "data": {
            "image/png": "[encoded data removed]",
            "text/plain": [
              "<Figure size 432x288 with 1 Axes>"
            ]
          },
          "metadata": {},
          "output_type": "display_data"
        }
      ],
      "source": [
        "result_vgg16.plot()"
      ],
      "id": "f37061da-60ad-4ffe-a420-195a40ba1d1b"
    },
    {
      "cell_type": "markdown",
      "metadata": {
        "id": "2c1a2cf8-7437-4def-b906-aacf9405b2eb"
      },
      "source": [
        "## EfficientNetB0"
      ],
      "id": "2c1a2cf8-7437-4def-b906-aacf9405b2eb"
    },
    {
      "cell_type": "code",
      "execution_count": null,
      "metadata": {
        "id": "85ea4b28-f345-400e-8130-cec74da89058"
      },
      "outputs": [],
      "source": [
        "# function to load image\n",
        "def image_loader_effnetb0(path):\n",
        "    image = tf.io.read_file(path)                                    # read image file as binary\n",
        "    image = tf.image.decode_png(image, channels=3)                   # decode into image tensor\n",
        "    # image = tf.image.convert_image_dtype(image, dtype=tf.float32)  # converts to float32 data type and scaling the values appropriately before casting.\n",
        "    image = tf.image.resize(image, IMG_SIZE)                         # resize the image\n",
        "    image = keras.applications.efficientnet.preprocess_input(image)  # custom preprocessing for efficientnet\n",
        "    label = tf.strings.split(path, os.path.sep)[-2]                  # parse the class label from the file path\n",
        "    label = tf.strings.to_number(label, tf.int32)\n",
        "    return (image, label)"
      ],
      "id": "85ea4b28-f345-400e-8130-cec74da89058"
    },
    {
      "cell_type": "code",
      "execution_count": null,
      "metadata": {
        "id": "2d340bee-685d-43c2-af0b-04b1d03adf15"
      },
      "outputs": [],
      "source": [
        "train_data_eff = tf.data.Dataset.from_tensor_slices(train_paths)\n",
        "train_data_eff = (\n",
        "    train_data_eff.shuffle(len(train_paths))                              # shuffle data, optional as already did train_test_split in scikit-learn\n",
        "    .map(image_loader_effnetb0, num_parallel_calls=tf.data.AUTOTUNE)  # load the image\n",
        "    .map(augmentation, num_parallel_calls=tf.data.AUTOTUNE)           # apply augmentation\n",
        "    .cache()                                                          # caching for fast read\n",
        "    .batch(batch_size=BATCH_SIZE)                                     # batching the data\n",
        "    .prefetch(tf.data.AUTOTUNE)                                       # allows later elements to be prepared while the current element is being processed\n",
        ")\n",
        "\n",
        "\n",
        "val_data_eff = tf.data.Dataset.from_tensor_slices(val_paths)                      # no augmentation & shuffle required for test data as it is ground truth\n",
        "val_data_eff = (\n",
        "    val_data_eff.map(image_loader_effnetb0, num_parallel_calls=tf.data.AUTOTUNE)  # load the image\n",
        "    .batch(batch_size=BATCH_SIZE)                                             # batching the data\n",
        "    .prefetch(tf.data.AUTOTUNE)                                               # allows later elements to be prepared while the current element is being processed\n",
        ")\n",
        "\n",
        "\n",
        "test_data_eff = tf.data.Dataset.from_tensor_slices(test_paths)                     # no augmentation & shuffle required for test data as it is ground truth\n",
        "test_data_eff = (\n",
        "    test_data_eff.map(image_loader_effnetb0, num_parallel_calls=tf.data.AUTOTUNE)  # load the image\n",
        "    .batch(batch_size=BATCH_SIZE)                                              # batching the data\n",
        "    .prefetch(tf.data.AUTOTUNE)                                                # allows later elements to be prepared while the current element is being processed  \n",
        ")"
      ],
      "id": "2d340bee-685d-43c2-af0b-04b1d03adf15"
    },
    {
      "cell_type": "code",
      "execution_count": null,
      "metadata": {
        "colab": {
          "base_uri": "https://localhost:8080/"
        },
        "id": "a68a42b1-dc66-4d8e-8293-099118a5ca06",
        "outputId": "fc3bc1d5-16fd-4b6c-8032-2eec524c9e42"
      },
      "outputs": [
        {
          "name": "stdout",
          "output_type": "stream",
          "text": [
            "Downloading data from https://storage.googleapis.com/keras-applications/efficientnetb0_notop.h5\n",
            "16711680/16705208 [==============================] - 0s 0us/step\n",
            "16719872/16705208 [==============================] - 0s 0us/step\n"
          ]
        }
      ],
      "source": [
        "#import pretrained and freeze the layers\n",
        "effnetb0 = keras.applications.EfficientNetB0(include_top=False, weights=\"imagenet\")\n",
        "effnetb0.trainable = False"
      ],
      "id": "a68a42b1-dc66-4d8e-8293-099118a5ca06"
    },
    {
      "cell_type": "code",
      "execution_count": null,
      "metadata": {
        "id": "e5a5b07c-a6dc-438b-87cb-b7c34bf0ba37"
      },
      "outputs": [],
      "source": [
        "model_effnetb0 = keras.models.Sequential(\n",
        "    [\n",
        "        effnetb0,\n",
        "        # keras.layers.BatchNormalization(),\n",
        "        keras.layers.GlobalAveragePooling2D(),\n",
        "        keras.layers.Flatten(),\n",
        "        keras.layers.Dropout(0.2),\n",
        "        keras.layers.Dense(units=128, activation=\"relu\"),\n",
        "        keras.layers.Dense(units=1, activation=\"sigmoid\"),\n",
        "    ]\n",
        ")"
      ],
      "id": "e5a5b07c-a6dc-438b-87cb-b7c34bf0ba37"
    },
    {
      "cell_type": "code",
      "execution_count": null,
      "metadata": {
        "colab": {
          "base_uri": "https://localhost:8080/"
        },
        "id": "19b602af-0396-4350-9d27-f43f955c87f8",
        "outputId": "47f5a48b-6725-4e61-b051-6fe765bd76d4"
      },
      "outputs": [
        {
          "name": "stdout",
          "output_type": "stream",
          "text": [
            "Model: \"sequential_1\"\n",
            "_________________________________________________________________\n",
            " Layer (type)                Output Shape              Param #   \n",
            "=================================================================\n",
            " efficientnetb0 (Functional)  (None, None, None, 1280)  4049571  \n",
            "                                                                 \n",
            " global_average_pooling2d_1   (None, 1280)             0         \n",
            " (GlobalAveragePooling2D)                                        \n",
            "                                                                 \n",
            " flatten_1 (Flatten)         (None, 1280)              0         \n",
            "                                                                 \n",
            " dropout_1 (Dropout)         (None, 1280)              0         \n",
            "                                                                 \n",
            " dense_2 (Dense)             (None, 128)               163968    \n",
            "                                                                 \n",
            " dense_3 (Dense)             (None, 1)                 129       \n",
            "                                                                 \n",
            "=================================================================\n",
            "Total params: 4,213,668\n",
            "Trainable params: 164,097\n",
            "Non-trainable params: 4,049,571\n",
            "_________________________________________________________________\n"
          ]
        }
      ],
      "source": [
        "model_effnetb0.summary()"
      ],
      "id": "19b602af-0396-4350-9d27-f43f955c87f8"
    },
    {
      "cell_type": "code",
      "execution_count": null,
      "metadata": {
        "colab": {
          "base_uri": "https://localhost:8080/"
        },
        "id": "06efbfab-a907-4e4b-9799-fe23a31170e6",
        "outputId": "9f35b29d-3af1-4aad-eecd-ecefd23d27e6",
        "scrolled": true
      },
      "outputs": [
        {
          "name": "stdout",
          "output_type": "stream",
          "text": [
            "Epoch 1/100\n",
            "43/43 [==============================] - ETA: 0s - loss: 0.8077 - binary_accuracy: 0.7449 - auc_1: 0.8024 - precision_1: 0.5398 - recall_1: 0.7172\n",
            "Epoch 1: val_loss improved from inf to 0.44209, saving model to effnetb0.h5\n",
            "43/43 [==============================] - 25s 438ms/step - loss: 0.8077 - binary_accuracy: 0.7449 - auc_1: 0.8024 - precision_1: 0.5398 - recall_1: 0.7172 - val_loss: 0.4421 - val_binary_accuracy: 0.8147 - val_auc_1: 0.8730 - val_precision_1: 0.6482 - val_recall_1: 0.7592 - lr: 0.0100\n",
            "Epoch 2/100\n",
            "43/43 [==============================] - ETA: 0s - loss: 0.6338 - binary_accuracy: 0.8016 - auc_1: 0.8754 - precision_1: 0.6068 - recall_1: 0.7971\n",
            "Epoch 2: val_loss improved from 0.44209 to 0.41375, saving model to effnetb0.h5\n",
            "43/43 [==============================] - 17s 397ms/step - loss: 0.6338 - binary_accuracy: 0.8016 - auc_1: 0.8754 - precision_1: 0.6068 - recall_1: 0.7971 - val_loss: 0.4138 - val_binary_accuracy: 0.8120 - val_auc_1: 0.8775 - val_precision_1: 0.6400 - val_recall_1: 0.7718 - lr: 0.0100\n",
            "Epoch 3/100\n",
            "43/43 [==============================] - ETA: 0s - loss: 0.6536 - binary_accuracy: 0.7892 - auc_1: 0.8675 - precision_1: 0.5923 - recall_1: 0.8106\n",
            "Epoch 3: val_loss improved from 0.41375 to 0.40666, saving model to effnetb0.h5\n",
            "43/43 [==============================] - 17s 399ms/step - loss: 0.6536 - binary_accuracy: 0.7892 - auc_1: 0.8675 - precision_1: 0.5923 - recall_1: 0.8106 - val_loss: 0.4067 - val_binary_accuracy: 0.8200 - val_auc_1: 0.8814 - val_precision_1: 0.6582 - val_recall_1: 0.7613 - lr: 0.0100\n",
            "Epoch 4/100\n",
            "43/43 [==============================] - ETA: 0s - loss: 0.6230 - binary_accuracy: 0.8012 - auc_1: 0.8830 - precision_1: 0.6225 - recall_1: 0.8122\n",
            "Epoch 4: val_loss did not improve from 0.40666\n",
            "43/43 [==============================] - 16s 389ms/step - loss: 0.6230 - binary_accuracy: 0.8012 - auc_1: 0.8830 - precision_1: 0.6225 - recall_1: 0.8122 - val_loss: 0.4839 - val_binary_accuracy: 0.7824 - val_auc_1: 0.8819 - val_precision_1: 0.5807 - val_recall_1: 0.8406 - lr: 0.0100\n",
            "Epoch 5/100\n",
            "43/43 [==============================] - ETA: 0s - loss: 0.6454 - binary_accuracy: 0.8041 - auc_1: 0.8700 - precision_1: 0.6182 - recall_1: 0.7844\n",
            "Epoch 5: val_loss improved from 0.40666 to 0.40386, saving model to effnetb0.h5\n",
            "43/43 [==============================] - 17s 397ms/step - loss: 0.6454 - binary_accuracy: 0.8041 - auc_1: 0.8700 - precision_1: 0.6182 - recall_1: 0.7844 - val_loss: 0.4039 - val_binary_accuracy: 0.8269 - val_auc_1: 0.8846 - val_precision_1: 0.6753 - val_recall_1: 0.7515 - lr: 0.0100\n",
            "Epoch 6/100\n",
            "43/43 [==============================] - ETA: 0s - loss: 0.6831 - binary_accuracy: 0.7776 - auc_1: 0.8530 - precision_1: 0.5823 - recall_1: 0.7727\n",
            "Epoch 6: val_loss did not improve from 0.40386\n",
            "43/43 [==============================] - 16s 389ms/step - loss: 0.6831 - binary_accuracy: 0.7776 - auc_1: 0.8530 - precision_1: 0.5823 - recall_1: 0.7727 - val_loss: 0.4190 - val_binary_accuracy: 0.8180 - val_auc_1: 0.8819 - val_precision_1: 0.6512 - val_recall_1: 0.7728 - lr: 0.0100\n",
            "Epoch 7/100\n",
            "43/43 [==============================] - ETA: 0s - loss: 0.7083 - binary_accuracy: 0.7867 - auc_1: 0.8466 - precision_1: 0.6080 - recall_1: 0.7572\n",
            "Epoch 7: val_loss did not improve from 0.40386\n",
            "43/43 [==============================] - 16s 389ms/step - loss: 0.7083 - binary_accuracy: 0.7867 - auc_1: 0.8466 - precision_1: 0.6080 - recall_1: 0.7572 - val_loss: 0.4132 - val_binary_accuracy: 0.8105 - val_auc_1: 0.8752 - val_precision_1: 0.6437 - val_recall_1: 0.7447 - lr: 0.0100\n",
            "Epoch 8/100\n",
            "42/43 [============================>.] - ETA: 0s - loss: 0.6556 - binary_accuracy: 0.7917 - auc_1: 0.8670 - precision_1: 0.6030 - recall_1: 0.7814\n",
            "Epoch 8: val_loss did not improve from 0.40386\n",
            "43/43 [==============================] - 17s 393ms/step - loss: 0.6558 - binary_accuracy: 0.7914 - auc_1: 0.8665 - precision_1: 0.6022 - recall_1: 0.7782 - val_loss: 0.4242 - val_binary_accuracy: 0.8170 - val_auc_1: 0.8863 - val_precision_1: 0.6473 - val_recall_1: 0.7811 - lr: 0.0100\n",
            "Epoch 9/100\n",
            "43/43 [==============================] - ETA: 0s - loss: 0.6465 - binary_accuracy: 0.7983 - auc_1: 0.8701 - precision_1: 0.6129 - recall_1: 0.7732\n",
            "Epoch 9: val_loss did not improve from 0.40386\n",
            "43/43 [==============================] - 16s 387ms/step - loss: 0.6465 - binary_accuracy: 0.7983 - auc_1: 0.8701 - precision_1: 0.6129 - recall_1: 0.7732 - val_loss: 0.4833 - val_binary_accuracy: 0.7687 - val_auc_1: 0.8858 - val_precision_1: 0.5603 - val_recall_1: 0.8605 - lr: 0.0100\n",
            "Epoch 10/100\n",
            "43/43 [==============================] - ETA: 0s - loss: 0.6242 - binary_accuracy: 0.8125 - auc_1: 0.8777 - precision_1: 0.6226 - recall_1: 0.7782\n",
            "Epoch 10: val_loss did not improve from 0.40386\n",
            "43/43 [==============================] - 16s 390ms/step - loss: 0.6242 - binary_accuracy: 0.8125 - auc_1: 0.8777 - precision_1: 0.6226 - recall_1: 0.7782 - val_loss: 0.4475 - val_binary_accuracy: 0.8078 - val_auc_1: 0.8840 - val_precision_1: 0.6272 - val_recall_1: 0.7964 - lr: 0.0100\n",
            "Epoch 11/100\n",
            "43/43 [==============================] - ETA: 0s - loss: 0.6473 - binary_accuracy: 0.7994 - auc_1: 0.8713 - precision_1: 0.6189 - recall_1: 0.7676\n",
            "Epoch 11: val_loss did not improve from 0.40386\n",
            "43/43 [==============================] - 16s 386ms/step - loss: 0.6473 - binary_accuracy: 0.7994 - auc_1: 0.8713 - precision_1: 0.6189 - recall_1: 0.7676 - val_loss: 0.4303 - val_binary_accuracy: 0.8107 - val_auc_1: 0.8936 - val_precision_1: 0.6272 - val_recall_1: 0.8218 - lr: 0.0100\n",
            "Epoch 12/100\n",
            "43/43 [==============================] - ETA: 0s - loss: 0.6219 - binary_accuracy: 0.8063 - auc_1: 0.8846 - precision_1: 0.6403 - recall_1: 0.7931\n",
            "Epoch 12: val_loss did not improve from 0.40386\n",
            "43/43 [==============================] - 16s 385ms/step - loss: 0.6219 - binary_accuracy: 0.8063 - auc_1: 0.8846 - precision_1: 0.6403 - recall_1: 0.7931 - val_loss: 0.4363 - val_binary_accuracy: 0.8097 - val_auc_1: 0.8912 - val_precision_1: 0.6272 - val_recall_1: 0.8122 - lr: 0.0100\n",
            "Epoch 13/100\n",
            "43/43 [==============================] - ETA: 0s - loss: 0.6133 - binary_accuracy: 0.8070 - auc_1: 0.8881 - precision_1: 0.6309 - recall_1: 0.8142\n",
            "Epoch 13: val_loss did not improve from 0.40386\n",
            "43/43 [==============================] - 16s 388ms/step - loss: 0.6133 - binary_accuracy: 0.8070 - auc_1: 0.8881 - precision_1: 0.6309 - recall_1: 0.8142 - val_loss: 0.4209 - val_binary_accuracy: 0.8145 - val_auc_1: 0.8902 - val_precision_1: 0.6372 - val_recall_1: 0.8052 - lr: 0.0100\n",
            "Epoch 14/100\n",
            "43/43 [==============================] - ETA: 0s - loss: 0.6054 - binary_accuracy: 0.8107 - auc_1: 0.8867 - precision_1: 0.6251 - recall_1: 0.8078\n",
            "Epoch 14: val_loss improved from 0.40386 to 0.37987, saving model to effnetb0.h5\n",
            "43/43 [==============================] - 17s 396ms/step - loss: 0.6054 - binary_accuracy: 0.8107 - auc_1: 0.8867 - precision_1: 0.6251 - recall_1: 0.8078 - val_loss: 0.3799 - val_binary_accuracy: 0.8327 - val_auc_1: 0.8939 - val_precision_1: 0.6823 - val_recall_1: 0.7689 - lr: 0.0100\n",
            "Epoch 15/100\n",
            "43/43 [==============================] - ETA: 0s - loss: 0.6302 - binary_accuracy: 0.8085 - auc_1: 0.8794 - precision_1: 0.6329 - recall_1: 0.7909\n",
            "Epoch 15: val_loss did not improve from 0.37987\n",
            "43/43 [==============================] - 16s 390ms/step - loss: 0.6302 - binary_accuracy: 0.8085 - auc_1: 0.8794 - precision_1: 0.6329 - recall_1: 0.7909 - val_loss: 0.3992 - val_binary_accuracy: 0.8233 - val_auc_1: 0.8908 - val_precision_1: 0.6598 - val_recall_1: 0.7794 - lr: 0.0100\n",
            "Epoch 16/100\n",
            "43/43 [==============================] - ETA: 0s - loss: 0.6366 - binary_accuracy: 0.8052 - auc_1: 0.8699 - precision_1: 0.6068 - recall_1: 0.7609\n",
            "Epoch 16: val_loss did not improve from 0.37987\n",
            "43/43 [==============================] - 17s 395ms/step - loss: 0.6366 - binary_accuracy: 0.8052 - auc_1: 0.8699 - precision_1: 0.6068 - recall_1: 0.7609 - val_loss: 0.3921 - val_binary_accuracy: 0.8335 - val_auc_1: 0.8943 - val_precision_1: 0.6853 - val_recall_1: 0.7645 - lr: 0.0100\n",
            "Epoch 17/100\n",
            "43/43 [==============================] - ETA: 0s - loss: 0.6366 - binary_accuracy: 0.7969 - auc_1: 0.8758 - precision_1: 0.6102 - recall_1: 0.7918\n",
            "Epoch 17: val_loss did not improve from 0.37987\n",
            "43/43 [==============================] - 22s 515ms/step - loss: 0.6366 - binary_accuracy: 0.7969 - auc_1: 0.8758 - precision_1: 0.6102 - recall_1: 0.7918 - val_loss: 0.3980 - val_binary_accuracy: 0.8157 - val_auc_1: 0.8943 - val_precision_1: 0.6384 - val_recall_1: 0.8088 - lr: 0.0100\n",
            "Epoch 18/100\n",
            "43/43 [==============================] - ETA: 0s - loss: 0.6047 - binary_accuracy: 0.8020 - auc_1: 0.8872 - precision_1: 0.6133 - recall_1: 0.8054\n",
            "Epoch 18: val_loss improved from 0.37987 to 0.37705, saving model to effnetb0.h5\n",
            "43/43 [==============================] - 20s 487ms/step - loss: 0.6047 - binary_accuracy: 0.8020 - auc_1: 0.8872 - precision_1: 0.6133 - recall_1: 0.8054 - val_loss: 0.3771 - val_binary_accuracy: 0.8288 - val_auc_1: 0.8947 - val_precision_1: 0.6719 - val_recall_1: 0.7758 - lr: 0.0100\n",
            "Epoch 19/100\n",
            "43/43 [==============================] - ETA: 0s - loss: 0.6328 - binary_accuracy: 0.8023 - auc_1: 0.8782 - precision_1: 0.6199 - recall_1: 0.7980\n",
            "Epoch 19: val_loss did not improve from 0.37705\n",
            "43/43 [==============================] - 21s 498ms/step - loss: 0.6328 - binary_accuracy: 0.8023 - auc_1: 0.8782 - precision_1: 0.6199 - recall_1: 0.7980 - val_loss: 0.4333 - val_binary_accuracy: 0.8165 - val_auc_1: 0.8866 - val_precision_1: 0.6406 - val_recall_1: 0.8052 - lr: 0.0100\n",
            "Epoch 20/100\n",
            "43/43 [==============================] - ETA: 0s - loss: 0.6126 - binary_accuracy: 0.8234 - auc_1: 0.8863 - precision_1: 0.6516 - recall_1: 0.8118\n",
            "Epoch 20: val_loss did not improve from 0.37705\n",
            "43/43 [==============================] - 16s 388ms/step - loss: 0.6126 - binary_accuracy: 0.8234 - auc_1: 0.8863 - precision_1: 0.6516 - recall_1: 0.8118 - val_loss: 0.4069 - val_binary_accuracy: 0.8214 - val_auc_1: 0.8933 - val_precision_1: 0.6514 - val_recall_1: 0.7980 - lr: 0.0100\n",
            "Epoch 21/100\n",
            "43/43 [==============================] - ETA: 0s - loss: 0.6543 - binary_accuracy: 0.7961 - auc_1: 0.8728 - precision_1: 0.6198 - recall_1: 0.7796\n",
            "Epoch 21: val_loss did not improve from 0.37705\n",
            "43/43 [==============================] - 17s 394ms/step - loss: 0.6543 - binary_accuracy: 0.7961 - auc_1: 0.8728 - precision_1: 0.6198 - recall_1: 0.7796 - val_loss: 0.4313 - val_binary_accuracy: 0.8058 - val_auc_1: 0.8912 - val_precision_1: 0.6200 - val_recall_1: 0.8163 - lr: 0.0100\n",
            "Epoch 22/100\n",
            "43/43 [==============================] - ETA: 0s - loss: 0.6489 - binary_accuracy: 0.8005 - auc_1: 0.8694 - precision_1: 0.6185 - recall_1: 0.7891\n",
            "Epoch 22: val_loss did not improve from 0.37705\n",
            "43/43 [==============================] - 16s 391ms/step - loss: 0.6489 - binary_accuracy: 0.8005 - auc_1: 0.8694 - precision_1: 0.6185 - recall_1: 0.7891 - val_loss: 0.3973 - val_binary_accuracy: 0.8264 - val_auc_1: 0.8922 - val_precision_1: 0.6686 - val_recall_1: 0.7700 - lr: 0.0100\n",
            "Epoch 23/100\n",
            "43/43 [==============================] - ETA: 0s - loss: 0.6629 - binary_accuracy: 0.7965 - auc_1: 0.8651 - precision_1: 0.6187 - recall_1: 0.7726\n",
            "Epoch 23: val_loss did not improve from 0.37705\n",
            "43/43 [==============================] - 17s 393ms/step - loss: 0.6629 - binary_accuracy: 0.7965 - auc_1: 0.8651 - precision_1: 0.6187 - recall_1: 0.7726 - val_loss: 0.4351 - val_binary_accuracy: 0.8200 - val_auc_1: 0.8949 - val_precision_1: 0.6469 - val_recall_1: 0.8057 - lr: 0.0100\n",
            "Epoch 24/100\n",
            "43/43 [==============================] - ETA: 0s - loss: 0.6389 - binary_accuracy: 0.8096 - auc_1: 0.8786 - precision_1: 0.6444 - recall_1: 0.8104\n",
            "Epoch 24: val_loss did not improve from 0.37705\n",
            "43/43 [==============================] - 17s 393ms/step - loss: 0.6389 - binary_accuracy: 0.8096 - auc_1: 0.8786 - precision_1: 0.6444 - recall_1: 0.8104 - val_loss: 0.3908 - val_binary_accuracy: 0.8309 - val_auc_1: 0.8927 - val_precision_1: 0.6809 - val_recall_1: 0.7611 - lr: 0.0100\n",
            "Epoch 25/100\n",
            "43/43 [==============================] - ETA: 0s - loss: 0.6263 - binary_accuracy: 0.8049 - auc_1: 0.8785 - precision_1: 0.6191 - recall_1: 0.7886\n",
            "Epoch 25: val_loss did not improve from 0.37705\n",
            "43/43 [==============================] - 17s 398ms/step - loss: 0.6263 - binary_accuracy: 0.8049 - auc_1: 0.8785 - precision_1: 0.6191 - recall_1: 0.7886 - val_loss: 0.3894 - val_binary_accuracy: 0.8313 - val_auc_1: 0.8958 - val_precision_1: 0.6761 - val_recall_1: 0.7788 - lr: 0.0100\n",
            "Epoch 26/100\n",
            "43/43 [==============================] - ETA: 0s - loss: 0.6131 - binary_accuracy: 0.8085 - auc_1: 0.8808 - precision_1: 0.6126 - recall_1: 0.7778\n",
            "Epoch 26: val_loss improved from 0.37705 to 0.37234, saving model to effnetb0.h5\n",
            "43/43 [==============================] - 17s 408ms/step - loss: 0.6131 - binary_accuracy: 0.8085 - auc_1: 0.8808 - precision_1: 0.6126 - recall_1: 0.7778 - val_loss: 0.3723 - val_binary_accuracy: 0.8403 - val_auc_1: 0.8941 - val_precision_1: 0.7187 - val_recall_1: 0.7189 - lr: 0.0100\n",
            "Epoch 27/100\n",
            "43/43 [==============================] - ETA: 0s - loss: 0.6162 - binary_accuracy: 0.8212 - auc_1: 0.8769 - precision_1: 0.6388 - recall_1: 0.7459\n",
            "Epoch 27: val_loss did not improve from 0.37234\n",
            "43/43 [==============================] - 17s 395ms/step - loss: 0.6162 - binary_accuracy: 0.8212 - auc_1: 0.8769 - precision_1: 0.6388 - recall_1: 0.7459 - val_loss: 0.4470 - val_binary_accuracy: 0.7923 - val_auc_1: 0.8931 - val_precision_1: 0.5953 - val_recall_1: 0.8386 - lr: 0.0100\n",
            "Epoch 28/100\n",
            "43/43 [==============================] - ETA: 0s - loss: 0.6256 - binary_accuracy: 0.8085 - auc_1: 0.8786 - precision_1: 0.6287 - recall_1: 0.7730\n",
            "Epoch 28: val_loss did not improve from 0.37234\n",
            "43/43 [==============================] - 17s 398ms/step - loss: 0.6256 - binary_accuracy: 0.8085 - auc_1: 0.8786 - precision_1: 0.6287 - recall_1: 0.7730 - val_loss: 0.4291 - val_binary_accuracy: 0.8087 - val_auc_1: 0.8963 - val_precision_1: 0.6230 - val_recall_1: 0.8262 - lr: 0.0100\n",
            "Epoch 29/100\n",
            "43/43 [==============================] - ETA: 0s - loss: 0.5977 - binary_accuracy: 0.8212 - auc_1: 0.8886 - precision_1: 0.6418 - recall_1: 0.7865\n",
            "Epoch 29: val_loss did not improve from 0.37234\n",
            "43/43 [==============================] - 17s 398ms/step - loss: 0.5977 - binary_accuracy: 0.8212 - auc_1: 0.8886 - precision_1: 0.6418 - recall_1: 0.7865 - val_loss: 0.4120 - val_binary_accuracy: 0.8225 - val_auc_1: 0.8872 - val_precision_1: 0.6651 - val_recall_1: 0.7553 - lr: 0.0100\n",
            "Epoch 30/100\n",
            "43/43 [==============================] - ETA: 0s - loss: 0.6293 - binary_accuracy: 0.8125 - auc_1: 0.8783 - precision_1: 0.6346 - recall_1: 0.7795\n",
            "Epoch 30: val_loss did not improve from 0.37234\n",
            "43/43 [==============================] - 17s 407ms/step - loss: 0.6293 - binary_accuracy: 0.8125 - auc_1: 0.8783 - precision_1: 0.6346 - recall_1: 0.7795 - val_loss: 0.4497 - val_binary_accuracy: 0.7947 - val_auc_1: 0.8970 - val_precision_1: 0.5969 - val_recall_1: 0.8521 - lr: 0.0100\n",
            "Epoch 31/100\n",
            "43/43 [==============================] - ETA: 0s - loss: 0.6095 - binary_accuracy: 0.8100 - auc_1: 0.8869 - precision_1: 0.6266 - recall_1: 0.8023\n",
            "Epoch 31: val_loss did not improve from 0.37234\n",
            "43/43 [==============================] - 17s 401ms/step - loss: 0.6095 - binary_accuracy: 0.8100 - auc_1: 0.8869 - precision_1: 0.6266 - recall_1: 0.8023 - val_loss: 0.4175 - val_binary_accuracy: 0.8168 - val_auc_1: 0.8956 - val_precision_1: 0.6414 - val_recall_1: 0.8049 - lr: 0.0100\n",
            "Epoch 32/100\n",
            "43/43 [==============================] - ETA: 0s - loss: 0.6233 - binary_accuracy: 0.7987 - auc_1: 0.8845 - precision_1: 0.6229 - recall_1: 0.8137\n",
            "Epoch 32: val_loss did not improve from 0.37234\n",
            "43/43 [==============================] - 17s 400ms/step - loss: 0.6233 - binary_accuracy: 0.7987 - auc_1: 0.8845 - precision_1: 0.6229 - recall_1: 0.8137 - val_loss: 0.3797 - val_binary_accuracy: 0.8395 - val_auc_1: 0.8952 - val_precision_1: 0.7136 - val_recall_1: 0.7262 - lr: 0.0100\n",
            "Epoch 33/100\n",
            "43/43 [==============================] - ETA: 0s - loss: 0.6360 - binary_accuracy: 0.8165 - auc_1: 0.8750 - precision_1: 0.6458 - recall_1: 0.7808\n",
            "Epoch 33: val_loss did not improve from 0.37234\n",
            "43/43 [==============================] - 17s 401ms/step - loss: 0.6360 - binary_accuracy: 0.8165 - auc_1: 0.8750 - precision_1: 0.6458 - recall_1: 0.7808 - val_loss: 0.4133 - val_binary_accuracy: 0.8202 - val_auc_1: 0.8917 - val_precision_1: 0.6519 - val_recall_1: 0.7870 - lr: 0.0100\n",
            "Epoch 34/100\n",
            "43/43 [==============================] - ETA: 0s - loss: 0.6288 - binary_accuracy: 0.7998 - auc_1: 0.8799 - precision_1: 0.6261 - recall_1: 0.7896\n",
            "Epoch 34: val_loss did not improve from 0.37234\n",
            "43/43 [==============================] - 17s 403ms/step - loss: 0.6288 - binary_accuracy: 0.7998 - auc_1: 0.8799 - precision_1: 0.6261 - recall_1: 0.7896 - val_loss: 0.4058 - val_binary_accuracy: 0.8220 - val_auc_1: 0.8958 - val_precision_1: 0.6535 - val_recall_1: 0.7942 - lr: 0.0100\n",
            "Epoch 35/100\n",
            "43/43 [==============================] - ETA: 0s - loss: 0.6581 - binary_accuracy: 0.7983 - auc_1: 0.8672 - precision_1: 0.6171 - recall_1: 0.7720\n",
            "Epoch 35: val_loss did not improve from 0.37234\n",
            "43/43 [==============================] - 17s 398ms/step - loss: 0.6581 - binary_accuracy: 0.7983 - auc_1: 0.8672 - precision_1: 0.6171 - recall_1: 0.7720 - val_loss: 0.4088 - val_binary_accuracy: 0.8155 - val_auc_1: 0.8957 - val_precision_1: 0.6363 - val_recall_1: 0.8172 - lr: 0.0100\n",
            "Epoch 36/100\n",
            "43/43 [==============================] - ETA: 0s - loss: 0.6075 - binary_accuracy: 0.8056 - auc_1: 0.8876 - precision_1: 0.6209 - recall_1: 0.8333\n",
            "Epoch 36: val_loss did not improve from 0.37234\n",
            "\n",
            "Epoch 36: ReduceLROnPlateau reducing learning rate to 0.0009999999776482583.\n",
            "43/43 [==============================] - 17s 401ms/step - loss: 0.6075 - binary_accuracy: 0.8056 - auc_1: 0.8876 - precision_1: 0.6209 - recall_1: 0.8333 - val_loss: 0.3919 - val_binary_accuracy: 0.8236 - val_auc_1: 0.8958 - val_precision_1: 0.6576 - val_recall_1: 0.7902 - lr: 0.0100\n"
          ]
        }
      ],
      "source": [
        "history_effnetb0, model_effnetb0 = compile_fit_model(\n",
        "    model=model_effnetb0,\n",
        "    save_path=\"effnetb0.h5\", \n",
        "    train_data=train_data_eff, \n",
        "    val_data=val_data_eff\n",
        ")"
      ],
      "id": "06efbfab-a907-4e4b-9799-fe23a31170e6"
    },
    {
      "cell_type": "code",
      "execution_count": null,
      "metadata": {
        "colab": {
          "base_uri": "https://localhost:8080/"
        },
        "id": "0acf3032-c237-4f65-99d4-c69433d06c61",
        "outputId": "fb5bd6f6-5d3a-4328-f578-bcd53dd11fea"
      },
      "outputs": [
        {
          "name": "stdout",
          "output_type": "stream",
          "text": [
            "868/868 [==============================] - 22s 25ms/step - loss: 0.3742 - binary_accuracy: 0.8408 - auc_1: 0.8934 - precision_1: 0.7166 - recall_1: 0.7264\n"
          ]
        },
        {
          "data": {
            "text/plain": [
              "[0.37415462732315063,\n",
              " 0.8407710790634155,\n",
              " 0.8934152126312256,\n",
              " 0.7165842652320862,\n",
              " 0.7264072895050049]"
            ]
          },
          "execution_count": 32,
          "metadata": {},
          "output_type": "execute_result"
        }
      ],
      "source": [
        "effnet_eval = model_effnetb0.evaluate(test_data_eff)\n",
        "effnet_eval"
      ],
      "id": "0acf3032-c237-4f65-99d4-c69433d06c61"
    },
    {
      "cell_type": "code",
      "execution_count": null,
      "metadata": {
        "id": "af7e5a9e-d802-41a0-8311-5a0ef92aa467"
      },
      "outputs": [],
      "source": [
        "result_effnetb0 = pd.DataFrame(history_effnetb0.history)"
      ],
      "id": "af7e5a9e-d802-41a0-8311-5a0ef92aa467"
    },
    {
      "cell_type": "code",
      "execution_count": null,
      "metadata": {
        "colab": {
          "base_uri": "https://localhost:8080/",
          "height": 282
        },
        "id": "d13432af-f01a-41c2-bc3b-59e593eaaa91",
        "outputId": "76c1d316-7ea7-4f79-c1cf-85d56bd3186c"
      },
      "outputs": [
        {
          "data": {
            "text/plain": [
              "<matplotlib.axes._subplots.AxesSubplot at 0x7fa5d68186d0>"
            ]
          },
          "execution_count": 34,
          "metadata": {},
          "output_type": "execute_result"
        },
        {
          "data": {
            "image/png": "[encoded data removed]",
            "text/plain": [
              "<Figure size 432x288 with 1 Axes>"
            ]
          },
          "metadata": {},
          "output_type": "display_data"
        }
      ],
      "source": [
        "result_effnetb0.plot()"
      ],
      "id": "d13432af-f01a-41c2-bc3b-59e593eaaa91"
    },
    {
      "cell_type": "markdown",
      "metadata": {
        "id": "9deca209-dfa8-42f3-b152-d39c3fff84d8"
      },
      "source": [
        "## Xception"
      ],
      "id": "9deca209-dfa8-42f3-b152-d39c3fff84d8"
    },
    {
      "cell_type": "code",
      "execution_count": null,
      "metadata": {
        "id": "a2f9182c-2918-47b7-b212-d122a49dddf8"
      },
      "outputs": [],
      "source": [
        "# function to load image\n",
        "def image_loader_xception(path):\n",
        "    image = tf.io.read_file(path)                                   # read image file as binary\n",
        "    image = tf.image.decode_png(image, channels=3)                  # decode into image tensor\n",
        "    # image = tf.image.convert_image_dtype(image, dtype=tf.float32) # converts to float32 data type and scaling the values appropriately before casting.\n",
        "    image = tf.cast(image, dtype=tf.float32)\n",
        "    image = tf.image.resize(image, IMG_SIZE)                        # resize the image\n",
        "    image = keras.applications.xception.preprocess_input(image)     # custom preprocessing for VGG16\n",
        "    label = tf.strings.split(path, os.path.sep)[-2]                 # parse the class label from the file path\n",
        "    label = tf.strings.to_number(label, tf.int32)\n",
        "    return (image, label)\n"
      ],
      "id": "a2f9182c-2918-47b7-b212-d122a49dddf8"
    },
    {
      "cell_type": "code",
      "execution_count": null,
      "metadata": {
        "id": "b97cca5c-6c45-4232-a1ce-41cde72c2512"
      },
      "outputs": [],
      "source": [
        "train_data_xcep = tf.data.Dataset.from_tensor_slices(train_paths)\n",
        "train_data_xcep = (\n",
        "    train_data_xcep.shuffle(len(train_paths))                            # shuffle data, optional as already did train_test_split in scikit-learn\n",
        "    .map(image_loader_xception, num_parallel_calls=tf.data.AUTOTUNE)   # load the image\n",
        "    .map(augmentation, num_parallel_calls=tf.data.AUTOTUNE)         # apply augmentation\n",
        "    .cache()                                                        # caching for fast read\n",
        "    .batch(batch_size=BATCH_SIZE)                                   # batching the data\n",
        "    .prefetch(tf.data.AUTOTUNE)                                     # allows later elements to be prepared while the current element is being processed\n",
        ")\n",
        "\n",
        "\n",
        "val_data_xcep = tf.data.Dataset.from_tensor_slices(val_paths)                   # no augmentation & shuffle required for test data as it is ground truth\n",
        "val_data_xcep = (\n",
        "    val_data_xcep.map(image_loader_xception, num_parallel_calls=tf.data.AUTOTUNE)  # load the image\n",
        "    .batch(batch_size=BATCH_SIZE)                                          # batching the data\n",
        "    .prefetch(tf.data.AUTOTUNE)                                            # allows later elements to be prepared while the current element is being processed\n",
        ")\n",
        "\n",
        "\n",
        "test_data_xcep = tf.data.Dataset.from_tensor_slices(test_paths)                  # no augmentation & shuffle required for test data as it is ground truth\n",
        "test_data_xcep = (\n",
        "    test_data_xcep.map(image_loader_xception, num_parallel_calls=tf.data.AUTOTUNE)  # load the image\n",
        "    .batch(batch_size=BATCH_SIZE)                                           # batching the data\n",
        "    .prefetch(tf.data.AUTOTUNE)                                             # allows later elements to be prepared while the current element is being processed\n",
        ")"
      ],
      "id": "b97cca5c-6c45-4232-a1ce-41cde72c2512"
    },
    {
      "cell_type": "code",
      "execution_count": null,
      "metadata": {
        "colab": {
          "base_uri": "https://localhost:8080/"
        },
        "id": "823e240e-55db-4a61-8700-c6a96c7c4125",
        "outputId": "6be5ab66-836b-4dfd-98e0-053c22322e76"
      },
      "outputs": [
        {
          "name": "stdout",
          "output_type": "stream",
          "text": [
            "Downloading data from https://storage.googleapis.com/tensorflow/keras-applications/xception/xception_weights_tf_dim_ordering_tf_kernels_notop.h5\n",
            "83689472/83683744 [==============================] - 1s 0us/step\n",
            "83697664/83683744 [==============================] - 1s 0us/step\n"
          ]
        }
      ],
      "source": [
        "xception = keras.applications.Xception(include_top=False, weights=\"imagenet\")\n",
        "xception.trainable = False"
      ],
      "id": "823e240e-55db-4a61-8700-c6a96c7c4125"
    },
    {
      "cell_type": "code",
      "execution_count": null,
      "metadata": {
        "id": "f412c458-91ed-4e51-8a6b-0c6fec077cc0"
      },
      "outputs": [],
      "source": [
        "model_xception = keras.models.Sequential(\n",
        "    [\n",
        "        xception,\n",
        "        # keras.layers.BatchNormalization(),\n",
        "        keras.layers.GlobalAveragePooling2D(),\n",
        "        keras.layers.Flatten(),\n",
        "        keras.layers.Dropout(0.2),\n",
        "        keras.layers.Dense(units=128, activation=\"relu\"),\n",
        "        keras.layers.Dense(units=1, activation=\"sigmoid\"),\n",
        "    ]\n",
        ")"
      ],
      "id": "f412c458-91ed-4e51-8a6b-0c6fec077cc0"
    },
    {
      "cell_type": "code",
      "execution_count": null,
      "metadata": {
        "colab": {
          "base_uri": "https://localhost:8080/"
        },
        "id": "24a4c2a3-b0bc-4993-9a50-5d6f869d288d",
        "outputId": "ddd31526-c283-476c-8693-50f208ec0e33"
      },
      "outputs": [
        {
          "name": "stdout",
          "output_type": "stream",
          "text": [
            "Model: \"sequential_2\"\n",
            "_________________________________________________________________\n",
            " Layer (type)                Output Shape              Param #   \n",
            "=================================================================\n",
            " xception (Functional)       (None, None, None, 2048)  20861480  \n",
            "                                                                 \n",
            " global_average_pooling2d_2   (None, 2048)             0         \n",
            " (GlobalAveragePooling2D)                                        \n",
            "                                                                 \n",
            " flatten_2 (Flatten)         (None, 2048)              0         \n",
            "                                                                 \n",
            " dropout_2 (Dropout)         (None, 2048)              0         \n",
            "                                                                 \n",
            " dense_4 (Dense)             (None, 128)               262272    \n",
            "                                                                 \n",
            " dense_5 (Dense)             (None, 1)                 129       \n",
            "                                                                 \n",
            "=================================================================\n",
            "Total params: 21,123,881\n",
            "Trainable params: 262,401\n",
            "Non-trainable params: 20,861,480\n",
            "_________________________________________________________________\n"
          ]
        }
      ],
      "source": [
        "model_xception.summary()"
      ],
      "id": "24a4c2a3-b0bc-4993-9a50-5d6f869d288d"
    },
    {
      "cell_type": "code",
      "execution_count": null,
      "metadata": {
        "colab": {
          "base_uri": "https://localhost:8080/"
        },
        "id": "de6e1c7d-087b-470d-9f4e-7f967f87f1aa",
        "outputId": "7c4018db-99d2-44e6-d934-4005e274a8f7",
        "scrolled": true
      },
      "outputs": [
        {
          "name": "stdout",
          "output_type": "stream",
          "text": [
            "Epoch 1/100\n",
            "43/43 [==============================] - ETA: 0s - loss: 1.1819 - binary_accuracy: 0.7148 - auc_2: 0.7364 - precision_2: 0.4962 - recall_2: 0.6718\n",
            "Epoch 1: val_loss improved from inf to 0.50681, saving model to xception.h5\n",
            "43/43 [==============================] - 27s 562ms/step - loss: 1.1819 - binary_accuracy: 0.7148 - auc_2: 0.7364 - precision_2: 0.4962 - recall_2: 0.6718 - val_loss: 0.5068 - val_binary_accuracy: 0.7694 - val_auc_2: 0.8556 - val_precision_2: 0.5652 - val_recall_2: 0.8133 - lr: 0.0100\n",
            "Epoch 2/100\n",
            "43/43 [==============================] - ETA: 0s - loss: 0.7002 - binary_accuracy: 0.7889 - auc_2: 0.8523 - precision_2: 0.6053 - recall_2: 0.7918\n",
            "Epoch 2: val_loss improved from 0.50681 to 0.43830, saving model to xception.h5\n",
            "43/43 [==============================] - 23s 535ms/step - loss: 0.7002 - binary_accuracy: 0.7889 - auc_2: 0.8523 - precision_2: 0.6053 - recall_2: 0.7918 - val_loss: 0.4383 - val_binary_accuracy: 0.8125 - val_auc_2: 0.8667 - val_precision_2: 0.6474 - val_recall_2: 0.7459 - lr: 0.0100\n",
            "Epoch 3/100\n",
            "43/43 [==============================] - ETA: 0s - loss: 0.6883 - binary_accuracy: 0.7914 - auc_2: 0.8498 - precision_2: 0.5942 - recall_2: 0.7430\n",
            "Epoch 3: val_loss did not improve from 0.43830\n",
            "43/43 [==============================] - 22s 523ms/step - loss: 0.6883 - binary_accuracy: 0.7914 - auc_2: 0.8498 - precision_2: 0.5942 - recall_2: 0.7430 - val_loss: 0.4893 - val_binary_accuracy: 0.7682 - val_auc_2: 0.8775 - val_precision_2: 0.5598 - val_recall_2: 0.8593 - lr: 0.0100\n",
            "Epoch 4/100\n",
            "43/43 [==============================] - ETA: 0s - loss: 0.6415 - binary_accuracy: 0.7856 - auc_2: 0.8786 - precision_2: 0.5953 - recall_2: 0.8281\n",
            "Epoch 4: val_loss did not improve from 0.43830\n",
            "43/43 [==============================] - 22s 523ms/step - loss: 0.6415 - binary_accuracy: 0.7856 - auc_2: 0.8786 - precision_2: 0.5953 - recall_2: 0.8281 - val_loss: 0.4660 - val_binary_accuracy: 0.7779 - val_auc_2: 0.8788 - val_precision_2: 0.5734 - val_recall_2: 0.8506 - lr: 0.0100\n",
            "Epoch 5/100\n",
            "43/43 [==============================] - ETA: 0s - loss: 0.6573 - binary_accuracy: 0.7791 - auc_2: 0.8719 - precision_2: 0.5868 - recall_2: 0.8112\n",
            "Epoch 5: val_loss did not improve from 0.43830\n",
            "43/43 [==============================] - 22s 524ms/step - loss: 0.6573 - binary_accuracy: 0.7791 - auc_2: 0.8719 - precision_2: 0.5868 - recall_2: 0.8112 - val_loss: 0.4494 - val_binary_accuracy: 0.7957 - val_auc_2: 0.8728 - val_precision_2: 0.6064 - val_recall_2: 0.7991 - lr: 0.0100\n",
            "Epoch 6/100\n",
            "43/43 [==============================] - ETA: 0s - loss: 0.6385 - binary_accuracy: 0.8114 - auc_2: 0.8735 - precision_2: 0.6241 - recall_2: 0.7884\n",
            "Epoch 6: val_loss improved from 0.43830 to 0.42157, saving model to xception.h5\n",
            "43/43 [==============================] - 22s 534ms/step - loss: 0.6385 - binary_accuracy: 0.8114 - auc_2: 0.8735 - precision_2: 0.6241 - recall_2: 0.7884 - val_loss: 0.4216 - val_binary_accuracy: 0.8210 - val_auc_2: 0.8821 - val_precision_2: 0.6592 - val_recall_2: 0.7647 - lr: 0.0100\n",
            "Epoch 7/100\n",
            "43/43 [==============================] - ETA: 0s - loss: 0.6341 - binary_accuracy: 0.8074 - auc_2: 0.8808 - precision_2: 0.6233 - recall_2: 0.8059\n",
            "Epoch 7: val_loss did not improve from 0.42157\n",
            "43/43 [==============================] - 22s 523ms/step - loss: 0.6341 - binary_accuracy: 0.8074 - auc_2: 0.8808 - precision_2: 0.6233 - recall_2: 0.8059 - val_loss: 0.4656 - val_binary_accuracy: 0.7863 - val_auc_2: 0.8868 - val_precision_2: 0.5854 - val_recall_2: 0.8480 - lr: 0.0100\n",
            "Epoch 8/100\n",
            "43/43 [==============================] - ETA: 0s - loss: 0.6270 - binary_accuracy: 0.8074 - auc_2: 0.8829 - precision_2: 0.6252 - recall_2: 0.8173\n",
            "Epoch 8: val_loss improved from 0.42157 to 0.39759, saving model to xception.h5\n",
            "43/43 [==============================] - 23s 536ms/step - loss: 0.6270 - binary_accuracy: 0.8074 - auc_2: 0.8829 - precision_2: 0.6252 - recall_2: 0.8173 - val_loss: 0.3976 - val_binary_accuracy: 0.8301 - val_auc_2: 0.8843 - val_precision_2: 0.6796 - val_recall_2: 0.7600 - lr: 0.0100\n",
            "Epoch 9/100\n",
            "43/43 [==============================] - ETA: 0s - loss: 0.6359 - binary_accuracy: 0.8067 - auc_2: 0.8836 - precision_2: 0.6256 - recall_2: 0.8239\n",
            "Epoch 9: val_loss did not improve from 0.39759\n",
            "43/43 [==============================] - 22s 525ms/step - loss: 0.6359 - binary_accuracy: 0.8067 - auc_2: 0.8836 - precision_2: 0.6256 - recall_2: 0.8239 - val_loss: 0.4131 - val_binary_accuracy: 0.8228 - val_auc_2: 0.8880 - val_precision_2: 0.6574 - val_recall_2: 0.7849 - lr: 0.0100\n",
            "Epoch 10/100\n",
            "43/43 [==============================] - ETA: 0s - loss: 0.6545 - binary_accuracy: 0.7969 - auc_2: 0.8700 - precision_2: 0.6098 - recall_2: 0.8043\n",
            "Epoch 10: val_loss did not improve from 0.39759\n",
            "43/43 [==============================] - 22s 523ms/step - loss: 0.6545 - binary_accuracy: 0.7969 - auc_2: 0.8700 - precision_2: 0.6098 - recall_2: 0.8043 - val_loss: 0.4504 - val_binary_accuracy: 0.7935 - val_auc_2: 0.8866 - val_precision_2: 0.5956 - val_recall_2: 0.8490 - lr: 0.0100\n",
            "Epoch 11/100\n",
            "43/43 [==============================] - ETA: 0s - loss: 0.6390 - binary_accuracy: 0.7991 - auc_2: 0.8760 - precision_2: 0.6012 - recall_2: 0.8178\n",
            "Epoch 11: val_loss did not improve from 0.39759\n",
            "43/43 [==============================] - 22s 523ms/step - loss: 0.6390 - binary_accuracy: 0.7991 - auc_2: 0.8760 - precision_2: 0.6012 - recall_2: 0.8178 - val_loss: 0.4817 - val_binary_accuracy: 0.7879 - val_auc_2: 0.8853 - val_precision_2: 0.5878 - val_recall_2: 0.8471 - lr: 0.0100\n",
            "Epoch 12/100\n",
            "43/43 [==============================] - ETA: 0s - loss: 0.6238 - binary_accuracy: 0.8118 - auc_2: 0.8790 - precision_2: 0.6233 - recall_2: 0.7888\n",
            "Epoch 12: val_loss did not improve from 0.39759\n",
            "43/43 [==============================] - 22s 522ms/step - loss: 0.6238 - binary_accuracy: 0.8118 - auc_2: 0.8790 - precision_2: 0.6233 - recall_2: 0.7888 - val_loss: 0.4006 - val_binary_accuracy: 0.8257 - val_auc_2: 0.8885 - val_precision_2: 0.6684 - val_recall_2: 0.7661 - lr: 0.0100\n",
            "Epoch 13/100\n",
            "43/43 [==============================] - ETA: 0s - loss: 0.6344 - binary_accuracy: 0.7929 - auc_2: 0.8734 - precision_2: 0.5889 - recall_2: 0.8019\n",
            "Epoch 13: val_loss did not improve from 0.39759\n",
            "43/43 [==============================] - 22s 523ms/step - loss: 0.6344 - binary_accuracy: 0.7929 - auc_2: 0.8734 - precision_2: 0.5889 - recall_2: 0.8019 - val_loss: 0.4225 - val_binary_accuracy: 0.7945 - val_auc_2: 0.8834 - val_precision_2: 0.6009 - val_recall_2: 0.8224 - lr: 0.0100\n",
            "Epoch 14/100\n",
            "43/43 [==============================] - ETA: 0s - loss: 0.6226 - binary_accuracy: 0.7889 - auc_2: 0.8796 - precision_2: 0.5888 - recall_2: 0.8101\n",
            "Epoch 14: val_loss improved from 0.39759 to 0.39323, saving model to xception.h5\n",
            "43/43 [==============================] - 22s 534ms/step - loss: 0.6226 - binary_accuracy: 0.7889 - auc_2: 0.8796 - precision_2: 0.5888 - recall_2: 0.8101 - val_loss: 0.3932 - val_binary_accuracy: 0.8313 - val_auc_2: 0.8901 - val_precision_2: 0.6792 - val_recall_2: 0.7693 - lr: 0.0100\n",
            "Epoch 15/100\n",
            "43/43 [==============================] - ETA: 0s - loss: 0.6630 - binary_accuracy: 0.7834 - auc_2: 0.8689 - precision_2: 0.5865 - recall_2: 0.7931\n",
            "Epoch 15: val_loss did not improve from 0.39323\n",
            "43/43 [==============================] - 22s 525ms/step - loss: 0.6630 - binary_accuracy: 0.7834 - auc_2: 0.8689 - precision_2: 0.5865 - recall_2: 0.7931 - val_loss: 0.4144 - val_binary_accuracy: 0.8230 - val_auc_2: 0.8917 - val_precision_2: 0.6551 - val_recall_2: 0.7954 - lr: 0.0100\n",
            "Epoch 16/100\n",
            "43/43 [==============================] - ETA: 0s - loss: 0.6177 - binary_accuracy: 0.8161 - auc_2: 0.8881 - precision_2: 0.6504 - recall_2: 0.8392\n",
            "Epoch 16: val_loss did not improve from 0.39323\n",
            "43/43 [==============================] - 22s 523ms/step - loss: 0.6177 - binary_accuracy: 0.8161 - auc_2: 0.8881 - precision_2: 0.6504 - recall_2: 0.8392 - val_loss: 0.4385 - val_binary_accuracy: 0.8022 - val_auc_2: 0.8939 - val_precision_2: 0.6099 - val_recall_2: 0.8417 - lr: 0.0100\n",
            "Epoch 17/100\n",
            "43/43 [==============================] - ETA: 0s - loss: 0.6087 - binary_accuracy: 0.8118 - auc_2: 0.8877 - precision_2: 0.6360 - recall_2: 0.7992\n",
            "Epoch 17: val_loss did not improve from 0.39323\n",
            "43/43 [==============================] - 22s 524ms/step - loss: 0.6087 - binary_accuracy: 0.8118 - auc_2: 0.8877 - precision_2: 0.6360 - recall_2: 0.7992 - val_loss: 0.4521 - val_binary_accuracy: 0.7983 - val_auc_2: 0.8937 - val_precision_2: 0.6018 - val_recall_2: 0.8558 - lr: 0.0100\n",
            "Epoch 18/100\n",
            "43/43 [==============================] - ETA: 0s - loss: 0.6140 - binary_accuracy: 0.8140 - auc_2: 0.8868 - precision_2: 0.6419 - recall_2: 0.8108\n",
            "Epoch 18: val_loss did not improve from 0.39323\n",
            "43/43 [==============================] - 22s 524ms/step - loss: 0.6140 - binary_accuracy: 0.8140 - auc_2: 0.8868 - precision_2: 0.6419 - recall_2: 0.8108 - val_loss: 0.4413 - val_binary_accuracy: 0.7950 - val_auc_2: 0.8933 - val_precision_2: 0.5977 - val_recall_2: 0.8497 - lr: 0.0100\n",
            "Epoch 19/100\n",
            "43/43 [==============================] - ETA: 0s - loss: 0.6265 - binary_accuracy: 0.7987 - auc_2: 0.8798 - precision_2: 0.6109 - recall_2: 0.8003\n",
            "Epoch 19: val_loss did not improve from 0.39323\n",
            "43/43 [==============================] - 22s 523ms/step - loss: 0.6265 - binary_accuracy: 0.7987 - auc_2: 0.8798 - precision_2: 0.6109 - recall_2: 0.8003 - val_loss: 0.4290 - val_binary_accuracy: 0.8165 - val_auc_2: 0.8949 - val_precision_2: 0.6366 - val_recall_2: 0.8242 - lr: 0.0100\n",
            "Epoch 20/100\n",
            "43/43 [==============================] - ETA: 0s - loss: 0.6143 - binary_accuracy: 0.8045 - auc_2: 0.8845 - precision_2: 0.6105 - recall_2: 0.8296\n",
            "Epoch 20: val_loss improved from 0.39323 to 0.38496, saving model to xception.h5\n",
            "43/43 [==============================] - 22s 530ms/step - loss: 0.6143 - binary_accuracy: 0.8045 - auc_2: 0.8845 - precision_2: 0.6105 - recall_2: 0.8296 - val_loss: 0.3850 - val_binary_accuracy: 0.8319 - val_auc_2: 0.8946 - val_precision_2: 0.6774 - val_recall_2: 0.7786 - lr: 0.0100\n",
            "Epoch 21/100\n",
            "43/43 [==============================] - ETA: 0s - loss: 0.6028 - binary_accuracy: 0.8060 - auc_2: 0.8909 - precision_2: 0.6170 - recall_2: 0.8293\n",
            "Epoch 21: val_loss did not improve from 0.38496\n",
            "43/43 [==============================] - 22s 519ms/step - loss: 0.6028 - binary_accuracy: 0.8060 - auc_2: 0.8909 - precision_2: 0.6170 - recall_2: 0.8293 - val_loss: 0.4116 - val_binary_accuracy: 0.8074 - val_auc_2: 0.8930 - val_precision_2: 0.6206 - val_recall_2: 0.8277 - lr: 0.0100\n",
            "Epoch 22/100\n",
            "43/43 [==============================] - ETA: 0s - loss: 0.6106 - binary_accuracy: 0.8016 - auc_2: 0.8873 - precision_2: 0.6166 - recall_2: 0.8373\n",
            "Epoch 22: val_loss did not improve from 0.38496\n",
            "43/43 [==============================] - 22s 520ms/step - loss: 0.6106 - binary_accuracy: 0.8016 - auc_2: 0.8873 - precision_2: 0.6166 - recall_2: 0.8373 - val_loss: 0.4285 - val_binary_accuracy: 0.8029 - val_auc_2: 0.8940 - val_precision_2: 0.6111 - val_recall_2: 0.8409 - lr: 0.0100\n",
            "Epoch 23/100\n",
            "43/43 [==============================] - ETA: 0s - loss: 0.6026 - binary_accuracy: 0.7980 - auc_2: 0.8909 - precision_2: 0.6064 - recall_2: 0.8263\n",
            "Epoch 23: val_loss did not improve from 0.38496\n",
            "43/43 [==============================] - 22s 520ms/step - loss: 0.6026 - binary_accuracy: 0.7980 - auc_2: 0.8909 - precision_2: 0.6064 - recall_2: 0.8263 - val_loss: 0.4313 - val_binary_accuracy: 0.8037 - val_auc_2: 0.8915 - val_precision_2: 0.6140 - val_recall_2: 0.8308 - lr: 0.0100\n",
            "Epoch 24/100\n",
            "43/43 [==============================] - ETA: 0s - loss: 0.5895 - binary_accuracy: 0.8147 - auc_2: 0.8938 - precision_2: 0.6184 - recall_2: 0.8404\n",
            "Epoch 24: val_loss improved from 0.38496 to 0.36609, saving model to xception.h5\n",
            "43/43 [==============================] - 22s 530ms/step - loss: 0.5895 - binary_accuracy: 0.8147 - auc_2: 0.8938 - precision_2: 0.6184 - recall_2: 0.8404 - val_loss: 0.3661 - val_binary_accuracy: 0.8392 - val_auc_2: 0.8959 - val_precision_2: 0.7071 - val_recall_2: 0.7404 - lr: 0.0100\n",
            "Epoch 25/100\n",
            "43/43 [==============================] - ETA: 0s - loss: 0.5974 - binary_accuracy: 0.8194 - auc_2: 0.8945 - precision_2: 0.6542 - recall_2: 0.8183\n",
            "Epoch 25: val_loss did not improve from 0.36609\n",
            "43/43 [==============================] - 22s 527ms/step - loss: 0.5974 - binary_accuracy: 0.8194 - auc_2: 0.8945 - precision_2: 0.6542 - recall_2: 0.8183 - val_loss: 0.4119 - val_binary_accuracy: 0.8219 - val_auc_2: 0.8955 - val_precision_2: 0.6475 - val_recall_2: 0.8175 - lr: 0.0100\n",
            "Epoch 26/100\n",
            "43/43 [==============================] - ETA: 0s - loss: 0.6088 - binary_accuracy: 0.8140 - auc_2: 0.8913 - precision_2: 0.6468 - recall_2: 0.8323\n",
            "Epoch 26: val_loss did not improve from 0.36609\n",
            "43/43 [==============================] - 22s 523ms/step - loss: 0.6088 - binary_accuracy: 0.8140 - auc_2: 0.8913 - precision_2: 0.6468 - recall_2: 0.8323 - val_loss: 0.4448 - val_binary_accuracy: 0.8022 - val_auc_2: 0.8963 - val_precision_2: 0.6082 - val_recall_2: 0.8521 - lr: 0.0100\n",
            "Epoch 27/100\n",
            "43/43 [==============================] - ETA: 0s - loss: 0.6177 - binary_accuracy: 0.8089 - auc_2: 0.8859 - precision_2: 0.6375 - recall_2: 0.8052\n",
            "Epoch 27: val_loss did not improve from 0.36609\n",
            "43/43 [==============================] - 22s 521ms/step - loss: 0.6177 - binary_accuracy: 0.8089 - auc_2: 0.8859 - precision_2: 0.6375 - recall_2: 0.8052 - val_loss: 0.4150 - val_binary_accuracy: 0.8229 - val_auc_2: 0.8961 - val_precision_2: 0.6526 - val_recall_2: 0.8047 - lr: 0.0100\n",
            "Epoch 28/100\n",
            "43/43 [==============================] - ETA: 0s - loss: 0.6029 - binary_accuracy: 0.8227 - auc_2: 0.8902 - precision_2: 0.6543 - recall_2: 0.8056\n",
            "Epoch 28: val_loss did not improve from 0.36609\n",
            "43/43 [==============================] - 22s 525ms/step - loss: 0.6029 - binary_accuracy: 0.8227 - auc_2: 0.8902 - precision_2: 0.6543 - recall_2: 0.8056 - val_loss: 0.3948 - val_binary_accuracy: 0.8273 - val_auc_2: 0.8986 - val_precision_2: 0.6596 - val_recall_2: 0.8097 - lr: 0.0100\n",
            "Epoch 29/100\n",
            "43/43 [==============================] - ETA: 0s - loss: 0.6481 - binary_accuracy: 0.7914 - auc_2: 0.8778 - precision_2: 0.6079 - recall_2: 0.8156\n",
            "Epoch 29: val_loss did not improve from 0.36609\n",
            "43/43 [==============================] - 22s 519ms/step - loss: 0.6481 - binary_accuracy: 0.7914 - auc_2: 0.8778 - precision_2: 0.6079 - recall_2: 0.8156 - val_loss: 0.3739 - val_binary_accuracy: 0.8380 - val_auc_2: 0.8895 - val_precision_2: 0.7107 - val_recall_2: 0.7239 - lr: 0.0100\n",
            "Epoch 30/100\n",
            "43/43 [==============================] - ETA: 0s - loss: 0.5898 - binary_accuracy: 0.8103 - auc_2: 0.8939 - precision_2: 0.6173 - recall_2: 0.8265\n",
            "Epoch 30: val_loss did not improve from 0.36609\n",
            "43/43 [==============================] - 22s 524ms/step - loss: 0.5898 - binary_accuracy: 0.8103 - auc_2: 0.8939 - precision_2: 0.6173 - recall_2: 0.8265 - val_loss: 0.3818 - val_binary_accuracy: 0.8274 - val_auc_2: 0.8961 - val_precision_2: 0.6650 - val_recall_2: 0.7904 - lr: 0.0100\n",
            "Epoch 31/100\n",
            "43/43 [==============================] - ETA: 0s - loss: 0.6094 - binary_accuracy: 0.8020 - auc_2: 0.8859 - precision_2: 0.6071 - recall_2: 0.8042\n",
            "Epoch 31: val_loss did not improve from 0.36609\n",
            "43/43 [==============================] - 22s 521ms/step - loss: 0.6094 - binary_accuracy: 0.8020 - auc_2: 0.8859 - precision_2: 0.6071 - recall_2: 0.8042 - val_loss: 0.4206 - val_binary_accuracy: 0.8090 - val_auc_2: 0.8947 - val_precision_2: 0.6224 - val_recall_2: 0.8321 - lr: 0.0100\n",
            "Epoch 32/100\n",
            "43/43 [==============================] - ETA: 0s - loss: 0.6196 - binary_accuracy: 0.7976 - auc_2: 0.8875 - precision_2: 0.6227 - recall_2: 0.8389\n",
            "Epoch 32: val_loss did not improve from 0.36609\n",
            "43/43 [==============================] - 22s 522ms/step - loss: 0.6196 - binary_accuracy: 0.7976 - auc_2: 0.8875 - precision_2: 0.6227 - recall_2: 0.8389 - val_loss: 0.4143 - val_binary_accuracy: 0.8147 - val_auc_2: 0.8961 - val_precision_2: 0.6326 - val_recall_2: 0.8280 - lr: 0.0100\n",
            "Epoch 33/100\n",
            "43/43 [==============================] - ETA: 0s - loss: 0.5965 - binary_accuracy: 0.8114 - auc_2: 0.8905 - precision_2: 0.6194 - recall_2: 0.8106\n",
            "Epoch 33: val_loss did not improve from 0.36609\n",
            "43/43 [==============================] - 22s 527ms/step - loss: 0.5965 - binary_accuracy: 0.8114 - auc_2: 0.8905 - precision_2: 0.6194 - recall_2: 0.8106 - val_loss: 0.5225 - val_binary_accuracy: 0.7348 - val_auc_2: 0.8935 - val_precision_2: 0.5187 - val_recall_2: 0.9162 - lr: 0.0100\n",
            "Epoch 34/100\n",
            "43/43 [==============================] - ETA: 0s - loss: 0.6353 - binary_accuracy: 0.8001 - auc_2: 0.8809 - precision_2: 0.6153 - recall_2: 0.8199\n",
            "Epoch 34: val_loss did not improve from 0.36609\n",
            "\n",
            "Epoch 34: ReduceLROnPlateau reducing learning rate to 0.0009999999776482583.\n",
            "43/43 [==============================] - 22s 526ms/step - loss: 0.6353 - binary_accuracy: 0.8001 - auc_2: 0.8809 - precision_2: 0.6153 - recall_2: 0.8199 - val_loss: 0.4420 - val_binary_accuracy: 0.8031 - val_auc_2: 0.8966 - val_precision_2: 0.6100 - val_recall_2: 0.8491 - lr: 0.0100\n"
          ]
        }
      ],
      "source": [
        "history_xception, model_xception = compile_fit_model(\n",
        "    model=model_xception, \n",
        "    save_path=\"xception.h5\", \n",
        "    train_data=train_data_xcep, \n",
        "    val_data=val_data_xcep\n",
        ")"
      ],
      "id": "de6e1c7d-087b-470d-9f4e-7f967f87f1aa"
    },
    {
      "cell_type": "code",
      "execution_count": null,
      "metadata": {
        "colab": {
          "base_uri": "https://localhost:8080/"
        },
        "id": "5edfc26c-9384-4288-b7e0-41e5a5c94bd1",
        "outputId": "3d7a8690-c7b8-44a5-c4e9-f1f0cae9910c"
      },
      "outputs": [
        {
          "name": "stdout",
          "output_type": "stream",
          "text": [
            "868/868 [==============================] - 28s 32ms/step - loss: 0.3652 - binary_accuracy: 0.8387 - auc_2: 0.8965 - precision_2: 0.7054 - recall_2: 0.7413\n"
          ]
        },
        {
          "data": {
            "text/plain": [
              "[0.36518535017967224,\n",
              " 0.8386812210083008,\n",
              " 0.8965451717376709,\n",
              " 0.7054169774055481,\n",
              " 0.741321325302124]"
            ]
          },
          "execution_count": 41,
          "metadata": {},
          "output_type": "execute_result"
        }
      ],
      "source": [
        "xception_eval = model_xception.evaluate(test_data_xcep)\n",
        "xception_eval"
      ],
      "id": "5edfc26c-9384-4288-b7e0-41e5a5c94bd1"
    },
    {
      "cell_type": "code",
      "execution_count": null,
      "metadata": {
        "id": "05e322bd-b8e4-46ba-ba93-e3fe300c8cc1"
      },
      "outputs": [],
      "source": [
        "result_xception = pd.DataFrame(history_xception.history)"
      ],
      "id": "05e322bd-b8e4-46ba-ba93-e3fe300c8cc1"
    },
    {
      "cell_type": "code",
      "execution_count": null,
      "metadata": {
        "colab": {
          "base_uri": "https://localhost:8080/",
          "height": 282
        },
        "id": "92a58a0e-7678-4d48-9604-beca9c32049b",
        "outputId": "23d26519-eff9-4b86-f7c7-da8f7d251c6a"
      },
      "outputs": [
        {
          "data": {
            "text/plain": [
              "<matplotlib.axes._subplots.AxesSubplot at 0x7fa5d389b150>"
            ]
          },
          "execution_count": 43,
          "metadata": {},
          "output_type": "execute_result"
        },
        {
          "data": {
            "image/png": "[encoded data removed]",
            "text/plain": [
              "<Figure size 432x288 with 1 Axes>"
            ]
          },
          "metadata": {},
          "output_type": "display_data"
        }
      ],
      "source": [
        "result_xception.plot()"
      ],
      "id": "92a58a0e-7678-4d48-9604-beca9c32049b"
    },
    {
      "cell_type": "markdown",
      "metadata": {
        "id": "54aced02-ba0b-4265-a14f-2e4d504c11c7"
      },
      "source": [
        "## DenseNet121"
      ],
      "id": "54aced02-ba0b-4265-a14f-2e4d504c11c7"
    },
    {
      "cell_type": "code",
      "execution_count": null,
      "metadata": {
        "id": "c8562d46-c7d7-4d15-9b87-2cdcd29fa7f6"
      },
      "outputs": [],
      "source": [
        "# function to load image\n",
        "def image_loader_densenet121(path):\n",
        "    image = tf.io.read_file(path)                                   # read image file as binary\n",
        "    image = tf.image.decode_png(image, channels=3)                  # decode into image tensor\n",
        "    # image = tf.image.convert_image_dtype(image, dtype=tf.float32) # converts to float32 data type and scaling the values appropriately before casting.\n",
        "    image = tf.cast(image, dtype=tf.float32)\n",
        "    image = tf.image.resize(image, IMG_SIZE)                        # resize the image\n",
        "    image = keras.applications.densenet.preprocess_input(image)        # custom preprocessing for VGG16\n",
        "    label = tf.strings.split(path, os.path.sep)[-2]                 # parse the class label from the file path\n",
        "    label = tf.strings.to_number(label, tf.int32)\n",
        "    return (image, label)\n"
      ],
      "id": "c8562d46-c7d7-4d15-9b87-2cdcd29fa7f6"
    },
    {
      "cell_type": "code",
      "execution_count": null,
      "metadata": {
        "id": "e039eb49-3ce4-436f-9fef-7996b78fbcb2"
      },
      "outputs": [],
      "source": [
        "train_data_dense = tf.data.Dataset.from_tensor_slices(train_paths)\n",
        "train_data_dense = (\n",
        "    train_data_dense.shuffle(len(train_paths))                            # shuffle data, optional as already did train_test_split in scikit-learn\n",
        "    .map(image_loader_densenet121, num_parallel_calls=tf.data.AUTOTUNE)   # load the image\n",
        "    .map(augmentation, num_parallel_calls=tf.data.AUTOTUNE)         # apply augmentation\n",
        "    .cache()                                                        # caching for fast read\n",
        "    .batch(batch_size=BATCH_SIZE)                                   # batching the data\n",
        "    .prefetch(tf.data.AUTOTUNE)                                     # allows later elements to be prepared while the current element is being processed\n",
        ")\n",
        "\n",
        "\n",
        "val_data_dense = tf.data.Dataset.from_tensor_slices(val_paths)                   # no augmentation & shuffle required for test data as it is ground truth\n",
        "val_data_dense = (\n",
        "    val_data_dense.map(image_loader_densenet121, num_parallel_calls=tf.data.AUTOTUNE)  # load the image\n",
        "    .batch(batch_size=BATCH_SIZE)                                          # batching the data\n",
        "    .prefetch(tf.data.AUTOTUNE)                                            # allows later elements to be prepared while the current element is being processed\n",
        ")\n",
        "\n",
        "\n",
        "test_data_dense = tf.data.Dataset.from_tensor_slices(test_paths)                  # no augmentation & shuffle required for test data as it is ground truth\n",
        "test_data_dense = (\n",
        "    test_data_dense.map(image_loader_densenet121, num_parallel_calls=tf.data.AUTOTUNE)  # load the image\n",
        "    .batch(batch_size=BATCH_SIZE)                                           # batching the data\n",
        "    .prefetch(tf.data.AUTOTUNE)                                             # allows later elements to be prepared while the current element is being processed\n",
        ")"
      ],
      "id": "e039eb49-3ce4-436f-9fef-7996b78fbcb2"
    },
    {
      "cell_type": "code",
      "execution_count": null,
      "metadata": {
        "colab": {
          "base_uri": "https://localhost:8080/"
        },
        "id": "fc436782-a2bf-4168-a6b1-f1f22ba5f942",
        "outputId": "bc5199ed-e9b0-4e7e-b835-47fba2edb796"
      },
      "outputs": [
        {
          "name": "stdout",
          "output_type": "stream",
          "text": [
            "Downloading data from https://storage.googleapis.com/tensorflow/keras-applications/densenet/densenet121_weights_tf_dim_ordering_tf_kernels_notop.h5\n",
            "29089792/29084464 [==============================] - 0s 0us/step\n",
            "29097984/29084464 [==============================] - 0s 0us/step\n"
          ]
        }
      ],
      "source": [
        "densenet121 = keras.applications.DenseNet121(include_top=False, weights=\"imagenet\")\n",
        "densenet121.trainable = False"
      ],
      "id": "fc436782-a2bf-4168-a6b1-f1f22ba5f942"
    },
    {
      "cell_type": "code",
      "execution_count": null,
      "metadata": {
        "id": "671d3a32-6acc-47ff-a388-2e740d957d28"
      },
      "outputs": [],
      "source": [
        "model_densenet121 = keras.models.Sequential(\n",
        "    [\n",
        "        densenet121,\n",
        "        # keras.layers.BatchNormalization(),\n",
        "        keras.layers.GlobalAveragePooling2D(),\n",
        "        keras.layers.Flatten(),\n",
        "        keras.layers.Dropout(0.2),\n",
        "        keras.layers.Dense(units=128, activation=\"relu\"),\n",
        "        keras.layers.Dense(units=1, activation=\"sigmoid\"),\n",
        "    ]\n",
        ")"
      ],
      "id": "671d3a32-6acc-47ff-a388-2e740d957d28"
    },
    {
      "cell_type": "code",
      "execution_count": null,
      "metadata": {
        "colab": {
          "base_uri": "https://localhost:8080/"
        },
        "id": "9e5832e3-05b3-4246-8f22-9afe41c12ec4",
        "outputId": "d5e5f020-0a3a-42db-e7f7-fb28e74679c3"
      },
      "outputs": [
        {
          "name": "stdout",
          "output_type": "stream",
          "text": [
            "Model: \"sequential_3\"\n",
            "_________________________________________________________________\n",
            " Layer (type)                Output Shape              Param #   \n",
            "=================================================================\n",
            " densenet121 (Functional)    (None, None, None, 1024)  7037504   \n",
            "                                                                 \n",
            " global_average_pooling2d_3   (None, 1024)             0         \n",
            " (GlobalAveragePooling2D)                                        \n",
            "                                                                 \n",
            " flatten_3 (Flatten)         (None, 1024)              0         \n",
            "                                                                 \n",
            " dropout_3 (Dropout)         (None, 1024)              0         \n",
            "                                                                 \n",
            " dense_6 (Dense)             (None, 128)               131200    \n",
            "                                                                 \n",
            " dense_7 (Dense)             (None, 1)                 129       \n",
            "                                                                 \n",
            "=================================================================\n",
            "Total params: 7,168,833\n",
            "Trainable params: 131,329\n",
            "Non-trainable params: 7,037,504\n",
            "_________________________________________________________________\n"
          ]
        }
      ],
      "source": [
        "model_densenet121.summary()"
      ],
      "id": "9e5832e3-05b3-4246-8f22-9afe41c12ec4"
    },
    {
      "cell_type": "code",
      "execution_count": null,
      "metadata": {
        "colab": {
          "base_uri": "https://localhost:8080/"
        },
        "id": "58228574-846e-48f6-836d-178275b18a6c",
        "outputId": "999c1474-6534-4f94-b284-491378845f21",
        "scrolled": true
      },
      "outputs": [
        {
          "name": "stdout",
          "output_type": "stream",
          "text": [
            "Epoch 1/100\n",
            "43/43 [==============================] - ETA: 0s - loss: 1.4160 - binary_accuracy: 0.5872 - auc_3: 0.7465 - precision_3: 0.3853 - recall_3: 0.7891\n",
            "Epoch 1: val_loss improved from inf to 0.62614, saving model to densenet152.h5\n",
            "43/43 [==============================] - 31s 585ms/step - loss: 1.4160 - binary_accuracy: 0.5872 - auc_3: 0.7465 - precision_3: 0.3853 - recall_3: 0.7891 - val_loss: 0.6261 - val_binary_accuracy: 0.8216 - val_auc_3: 0.8125 - val_precision_3: 0.6826 - val_recall_3: 0.6947 - lr: 0.0100\n",
            "Epoch 2/100\n",
            "43/43 [==============================] - ETA: 0s - loss: 0.7659 - binary_accuracy: 0.8165 - auc_3: 0.8168 - precision_3: 0.6535 - recall_3: 0.7012\n",
            "Epoch 2: val_loss improved from 0.62614 to 0.55254, saving model to densenet152.h5\n",
            "43/43 [==============================] - 23s 536ms/step - loss: 0.7659 - binary_accuracy: 0.8165 - auc_3: 0.8168 - precision_3: 0.6535 - recall_3: 0.7012 - val_loss: 0.5525 - val_binary_accuracy: 0.8393 - val_auc_3: 0.8450 - val_precision_3: 0.7208 - val_recall_3: 0.7082 - lr: 0.0100\n",
            "Epoch 3/100\n",
            "42/43 [============================>.] - ETA: 0s - loss: 0.7265 - binary_accuracy: 0.8166 - auc_3: 0.8522 - precision_3: 0.6490 - recall_3: 0.7596\n",
            "Epoch 3: val_loss improved from 0.55254 to 0.49865, saving model to densenet152.h5\n",
            "43/43 [==============================] - 22s 526ms/step - loss: 0.7221 - binary_accuracy: 0.8183 - auc_3: 0.8557 - precision_3: 0.6524 - recall_3: 0.7632 - val_loss: 0.4986 - val_binary_accuracy: 0.8441 - val_auc_3: 0.8631 - val_precision_3: 0.7431 - val_recall_3: 0.6890 - lr: 0.0100\n",
            "Epoch 4/100\n",
            "43/43 [==============================] - ETA: 0s - loss: 0.6782 - binary_accuracy: 0.8318 - auc_3: 0.8582 - precision_3: 0.6817 - recall_3: 0.7481\n",
            "Epoch 4: val_loss improved from 0.49865 to 0.48042, saving model to densenet152.h5\n",
            "43/43 [==============================] - 22s 529ms/step - loss: 0.6782 - binary_accuracy: 0.8318 - auc_3: 0.8582 - precision_3: 0.6817 - recall_3: 0.7481 - val_loss: 0.4804 - val_binary_accuracy: 0.8440 - val_auc_3: 0.8586 - val_precision_3: 0.7249 - val_recall_3: 0.7262 - lr: 0.0100\n",
            "Epoch 5/100\n",
            "43/43 [==============================] - ETA: 0s - loss: 0.6598 - binary_accuracy: 0.8281 - auc_3: 0.8725 - precision_3: 0.6754 - recall_3: 0.7814\n",
            "Epoch 5: val_loss improved from 0.48042 to 0.45737, saving model to densenet152.h5\n",
            "43/43 [==============================] - 22s 529ms/step - loss: 0.6598 - binary_accuracy: 0.8281 - auc_3: 0.8725 - precision_3: 0.6754 - recall_3: 0.7814 - val_loss: 0.4574 - val_binary_accuracy: 0.8413 - val_auc_3: 0.8769 - val_precision_3: 0.7039 - val_recall_3: 0.7614 - lr: 0.0100\n",
            "Epoch 6/100\n",
            "43/43 [==============================] - ETA: 0s - loss: 0.6804 - binary_accuracy: 0.8103 - auc_3: 0.8602 - precision_3: 0.6573 - recall_3: 0.7643\n",
            "Epoch 6: val_loss did not improve from 0.45737\n",
            "43/43 [==============================] - 22s 512ms/step - loss: 0.6804 - binary_accuracy: 0.8103 - auc_3: 0.8602 - precision_3: 0.6573 - recall_3: 0.7643 - val_loss: 0.4607 - val_binary_accuracy: 0.8291 - val_auc_3: 0.8870 - val_precision_3: 0.6638 - val_recall_3: 0.8064 - lr: 0.0100\n",
            "Epoch 7/100\n",
            "43/43 [==============================] - ETA: 0s - loss: 0.6205 - binary_accuracy: 0.8249 - auc_3: 0.8858 - precision_3: 0.6485 - recall_3: 0.7878\n",
            "Epoch 7: val_loss improved from 0.45737 to 0.42516, saving model to densenet152.h5\n",
            "43/43 [==============================] - 22s 528ms/step - loss: 0.6205 - binary_accuracy: 0.8249 - auc_3: 0.8858 - precision_3: 0.6485 - recall_3: 0.7878 - val_loss: 0.4252 - val_binary_accuracy: 0.8438 - val_auc_3: 0.8855 - val_precision_3: 0.7108 - val_recall_3: 0.7584 - lr: 0.0100\n",
            "Epoch 8/100\n",
            "43/43 [==============================] - ETA: 0s - loss: 0.6113 - binary_accuracy: 0.8361 - auc_3: 0.8752 - precision_3: 0.6708 - recall_3: 0.7859\n",
            "Epoch 8: val_loss improved from 0.42516 to 0.42097, saving model to densenet152.h5\n",
            "43/43 [==============================] - 22s 531ms/step - loss: 0.6113 - binary_accuracy: 0.8361 - auc_3: 0.8752 - precision_3: 0.6708 - recall_3: 0.7859 - val_loss: 0.4210 - val_binary_accuracy: 0.8428 - val_auc_3: 0.8834 - val_precision_3: 0.7110 - val_recall_3: 0.7519 - lr: 0.0100\n",
            "Epoch 9/100\n",
            "42/43 [============================>.] - ETA: 0s - loss: 0.6476 - binary_accuracy: 0.8181 - auc_3: 0.8728 - precision_3: 0.6645 - recall_3: 0.7774\n",
            "Epoch 9: val_loss did not improve from 0.42097\n",
            "43/43 [==============================] - 22s 514ms/step - loss: 0.6446 - binary_accuracy: 0.8194 - auc_3: 0.8743 - precision_3: 0.6653 - recall_3: 0.7778 - val_loss: 0.4437 - val_binary_accuracy: 0.8274 - val_auc_3: 0.8938 - val_precision_3: 0.6586 - val_recall_3: 0.8139 - lr: 0.0100\n",
            "Epoch 10/100\n",
            "43/43 [==============================] - ETA: 0s - loss: 0.6128 - binary_accuracy: 0.8328 - auc_3: 0.8832 - precision_3: 0.6623 - recall_3: 0.8053\n",
            "Epoch 10: val_loss did not improve from 0.42097\n",
            "43/43 [==============================] - 22s 513ms/step - loss: 0.6128 - binary_accuracy: 0.8328 - auc_3: 0.8832 - precision_3: 0.6623 - recall_3: 0.8053 - val_loss: 0.4257 - val_binary_accuracy: 0.8356 - val_auc_3: 0.8950 - val_precision_3: 0.6772 - val_recall_3: 0.8041 - lr: 0.0100\n",
            "Epoch 11/100\n",
            "43/43 [==============================] - ETA: 0s - loss: 0.6229 - binary_accuracy: 0.8212 - auc_3: 0.8818 - precision_3: 0.6501 - recall_3: 0.7802\n",
            "Epoch 11: val_loss improved from 0.42097 to 0.39131, saving model to densenet152.h5\n",
            "43/43 [==============================] - 22s 529ms/step - loss: 0.6229 - binary_accuracy: 0.8212 - auc_3: 0.8818 - precision_3: 0.6501 - recall_3: 0.7802 - val_loss: 0.3913 - val_binary_accuracy: 0.8481 - val_auc_3: 0.8900 - val_precision_3: 0.7401 - val_recall_3: 0.7165 - lr: 0.0100\n",
            "Epoch 12/100\n",
            "43/43 [==============================] - ETA: 0s - loss: 0.6110 - binary_accuracy: 0.8328 - auc_3: 0.8867 - precision_3: 0.6819 - recall_3: 0.7884\n",
            "Epoch 12: val_loss did not improve from 0.39131\n",
            "43/43 [==============================] - 22s 516ms/step - loss: 0.6110 - binary_accuracy: 0.8328 - auc_3: 0.8867 - precision_3: 0.6819 - recall_3: 0.7884 - val_loss: 0.4682 - val_binary_accuracy: 0.8094 - val_auc_3: 0.9002 - val_precision_3: 0.6182 - val_recall_3: 0.8593 - lr: 0.0100\n",
            "Epoch 13/100\n",
            "43/43 [==============================] - ETA: 0s - loss: 0.6366 - binary_accuracy: 0.8209 - auc_3: 0.8778 - precision_3: 0.6673 - recall_3: 0.7951\n",
            "Epoch 13: val_loss did not improve from 0.39131\n",
            "43/43 [==============================] - 22s 516ms/step - loss: 0.6366 - binary_accuracy: 0.8209 - auc_3: 0.8778 - precision_3: 0.6673 - recall_3: 0.7951 - val_loss: 0.4084 - val_binary_accuracy: 0.8390 - val_auc_3: 0.8999 - val_precision_3: 0.6887 - val_recall_3: 0.7900 - lr: 0.0100\n",
            "Epoch 14/100\n",
            "43/43 [==============================] - 22s 512ms/step - loss: 0.6376 - binary_accuracy: 0.8154 - auc_3: 0.8810 - precision_3: 0.6511 - recall_3: 0.7847 - val_loss: 0.4386 - val_binary_accuracy: 0.8246 - val_auc_3: 0.9024 - val_precision_3: 0.6476 - val_recall_3: 0.8382 - lr: 0.0100\n",
            "Epoch 15/100\n",
            "43/43 [==============================] - ETA: 0s - loss: 0.6243 - binary_accuracy: 0.8216 - auc_3: 0.8798 - precision_3: 0.6470 - recall_3: 0.7503\n",
            "Epoch 15: val_loss improved from 0.39131 to 0.38957, saving model to densenet152.h5\n",
            "43/43 [==============================] - 22s 530ms/step - loss: 0.6243 - binary_accuracy: 0.8216 - auc_3: 0.8798 - precision_3: 0.6470 - recall_3: 0.7503 - val_loss: 0.3896 - val_binary_accuracy: 0.8465 - val_auc_3: 0.9036 - val_precision_3: 0.7112 - val_recall_3: 0.7730 - lr: 0.0100\n",
            "Epoch 16/100\n",
            "43/43 [==============================] - ETA: 0s - loss: 0.6080 - binary_accuracy: 0.8201 - auc_3: 0.8893 - precision_3: 0.6603 - recall_3: 0.8057\n",
            "Epoch 16: val_loss improved from 0.38957 to 0.38141, saving model to densenet152.h5\n",
            "43/43 [==============================] - 22s 526ms/step - loss: 0.6080 - binary_accuracy: 0.8201 - auc_3: 0.8893 - precision_3: 0.6603 - recall_3: 0.8057 - val_loss: 0.3814 - val_binary_accuracy: 0.8481 - val_auc_3: 0.9041 - val_precision_3: 0.7215 - val_recall_3: 0.7569 - lr: 0.0100\n",
            "Epoch 17/100\n",
            "43/43 [==============================] - ETA: 0s - loss: 0.6358 - binary_accuracy: 0.8150 - auc_3: 0.8807 - precision_3: 0.6538 - recall_3: 0.7783\n",
            "Epoch 17: val_loss did not improve from 0.38141\n",
            "43/43 [==============================] - 22s 513ms/step - loss: 0.6358 - binary_accuracy: 0.8150 - auc_3: 0.8807 - precision_3: 0.6538 - recall_3: 0.7783 - val_loss: 0.4360 - val_binary_accuracy: 0.8257 - val_auc_3: 0.9020 - val_precision_3: 0.6499 - val_recall_3: 0.8364 - lr: 0.0100\n",
            "Epoch 18/100\n",
            "43/43 [==============================] - ETA: 0s - loss: 0.6243 - binary_accuracy: 0.8230 - auc_3: 0.8864 - precision_3: 0.6676 - recall_3: 0.8215\n",
            "Epoch 18: val_loss did not improve from 0.38141\n",
            "43/43 [==============================] - 21s 510ms/step - loss: 0.6243 - binary_accuracy: 0.8230 - auc_3: 0.8864 - precision_3: 0.6676 - recall_3: 0.8215 - val_loss: 0.4432 - val_binary_accuracy: 0.8187 - val_auc_3: 0.9045 - val_precision_3: 0.6335 - val_recall_3: 0.8574 - lr: 0.0100\n",
            "Epoch 19/100\n",
            "43/43 [==============================] - ETA: 0s - loss: 0.6046 - binary_accuracy: 0.8296 - auc_3: 0.8834 - precision_3: 0.6462 - recall_3: 0.8000\n",
            "Epoch 19: val_loss improved from 0.38141 to 0.36956, saving model to densenet152.h5\n",
            "43/43 [==============================] - 22s 527ms/step - loss: 0.6046 - binary_accuracy: 0.8296 - auc_3: 0.8834 - precision_3: 0.6462 - recall_3: 0.8000 - val_loss: 0.3696 - val_binary_accuracy: 0.8522 - val_auc_3: 0.8998 - val_precision_3: 0.7408 - val_recall_3: 0.7373 - lr: 0.0100\n",
            "Epoch 20/100\n",
            "43/43 [==============================] - ETA: 0s - loss: 0.5887 - binary_accuracy: 0.8368 - auc_3: 0.8976 - precision_3: 0.6791 - recall_3: 0.7974\n",
            "Epoch 20: val_loss did not improve from 0.36956\n",
            "43/43 [==============================] - 22s 517ms/step - loss: 0.5887 - binary_accuracy: 0.8368 - auc_3: 0.8976 - precision_3: 0.6791 - recall_3: 0.7974 - val_loss: 0.3933 - val_binary_accuracy: 0.8424 - val_auc_3: 0.9051 - val_precision_3: 0.6941 - val_recall_3: 0.7956 - lr: 0.0100\n",
            "Epoch 21/100\n",
            "43/43 [==============================] - ETA: 0s - loss: 0.5820 - binary_accuracy: 0.8307 - auc_3: 0.9008 - precision_3: 0.6624 - recall_3: 0.8083\n",
            "Epoch 21: val_loss did not improve from 0.36956\n",
            "43/43 [==============================] - 22s 515ms/step - loss: 0.5820 - binary_accuracy: 0.8307 - auc_3: 0.9008 - precision_3: 0.6624 - recall_3: 0.8083 - val_loss: 0.3787 - val_binary_accuracy: 0.8465 - val_auc_3: 0.9049 - val_precision_3: 0.7097 - val_recall_3: 0.7774 - lr: 0.0100\n",
            "Epoch 22/100\n",
            "43/43 [==============================] - ETA: 0s - loss: 0.5514 - binary_accuracy: 0.8412 - auc_3: 0.9073 - precision_3: 0.6851 - recall_3: 0.8031\n",
            "Epoch 22: val_loss did not improve from 0.36956\n",
            "43/43 [==============================] - 22s 515ms/step - loss: 0.5514 - binary_accuracy: 0.8412 - auc_3: 0.9073 - precision_3: 0.6851 - recall_3: 0.8031 - val_loss: 0.4050 - val_binary_accuracy: 0.8358 - val_auc_3: 0.9046 - val_precision_3: 0.6719 - val_recall_3: 0.8236 - lr: 0.0100\n",
            "Epoch 23/100\n",
            "43/43 [==============================] - ETA: 0s - loss: 0.5973 - binary_accuracy: 0.8267 - auc_3: 0.8987 - precision_3: 0.6803 - recall_3: 0.8255\n",
            "Epoch 23: val_loss did not improve from 0.36956\n",
            "43/43 [==============================] - 22s 514ms/step - loss: 0.5973 - binary_accuracy: 0.8267 - auc_3: 0.8987 - precision_3: 0.6803 - recall_3: 0.8255 - val_loss: 0.4097 - val_binary_accuracy: 0.8326 - val_auc_3: 0.9057 - val_precision_3: 0.6652 - val_recall_3: 0.8257 - lr: 0.0100\n",
            "Epoch 24/100\n",
            "43/43 [==============================] - ETA: 0s - loss: 0.5678 - binary_accuracy: 0.8503 - auc_3: 0.9034 - precision_3: 0.6993 - recall_3: 0.8058\n",
            "Epoch 24: val_loss did not improve from 0.36956\n",
            "43/43 [==============================] - 22s 515ms/step - loss: 0.5678 - binary_accuracy: 0.8503 - auc_3: 0.9034 - precision_3: 0.6993 - recall_3: 0.8058 - val_loss: 0.4297 - val_binary_accuracy: 0.8281 - val_auc_3: 0.9061 - val_precision_3: 0.6552 - val_recall_3: 0.8323 - lr: 0.0100\n",
            "Epoch 25/100\n",
            "43/43 [==============================] - ETA: 0s - loss: 0.5842 - binary_accuracy: 0.8296 - auc_3: 0.8980 - precision_3: 0.6639 - recall_3: 0.8107\n",
            "Epoch 25: val_loss did not improve from 0.36956\n",
            "43/43 [==============================] - 22s 513ms/step - loss: 0.5842 - binary_accuracy: 0.8296 - auc_3: 0.8980 - precision_3: 0.6639 - recall_3: 0.8107 - val_loss: 0.3815 - val_binary_accuracy: 0.8440 - val_auc_3: 0.9064 - val_precision_3: 0.7008 - val_recall_3: 0.7864 - lr: 0.0100\n",
            "Epoch 26/100\n",
            "43/43 [==============================] - ETA: 0s - loss: 0.6013 - binary_accuracy: 0.8350 - auc_3: 0.8918 - precision_3: 0.6820 - recall_3: 0.7913\n",
            "Epoch 26: val_loss did not improve from 0.36956\n",
            "43/43 [==============================] - 22s 513ms/step - loss: 0.6013 - binary_accuracy: 0.8350 - auc_3: 0.8918 - precision_3: 0.6820 - recall_3: 0.7913 - val_loss: 0.4009 - val_binary_accuracy: 0.8343 - val_auc_3: 0.9055 - val_precision_3: 0.6699 - val_recall_3: 0.8208 - lr: 0.0100\n",
            "Epoch 27/100\n",
            "43/43 [==============================] - ETA: 0s - loss: 0.5923 - binary_accuracy: 0.8336 - auc_3: 0.8918 - precision_3: 0.6738 - recall_3: 0.7810\n",
            "Epoch 27: val_loss did not improve from 0.36956\n",
            "43/43 [==============================] - 23s 558ms/step - loss: 0.5923 - binary_accuracy: 0.8336 - auc_3: 0.8918 - precision_3: 0.6738 - recall_3: 0.7810 - val_loss: 0.4458 - val_binary_accuracy: 0.8196 - val_auc_3: 0.9078 - val_precision_3: 0.6346 - val_recall_3: 0.8595 - lr: 0.0100\n",
            "Epoch 28/100\n",
            "43/43 [==============================] - ETA: 0s - loss: 0.5872 - binary_accuracy: 0.8350 - auc_3: 0.8961 - precision_3: 0.6741 - recall_3: 0.7917\n",
            "Epoch 28: val_loss improved from 0.36956 to 0.36627, saving model to densenet152.h5\n",
            "43/43 [==============================] - 22s 532ms/step - loss: 0.5872 - binary_accuracy: 0.8350 - auc_3: 0.8961 - precision_3: 0.6741 - recall_3: 0.7917 - val_loss: 0.3663 - val_binary_accuracy: 0.8511 - val_auc_3: 0.9064 - val_precision_3: 0.7289 - val_recall_3: 0.7572 - lr: 0.0100\n",
            "Epoch 29/100\n",
            "43/43 [==============================] - ETA: 0s - loss: 0.5992 - binary_accuracy: 0.8274 - auc_3: 0.8924 - precision_3: 0.6684 - recall_3: 0.7972\n",
            "Epoch 29: val_loss did not improve from 0.36627\n",
            "43/43 [==============================] - 22s 512ms/step - loss: 0.5992 - binary_accuracy: 0.8274 - auc_3: 0.8924 - precision_3: 0.6684 - recall_3: 0.7972 - val_loss: 0.4022 - val_binary_accuracy: 0.8351 - val_auc_3: 0.9077 - val_precision_3: 0.6700 - val_recall_3: 0.8260 - lr: 0.0100\n",
            "Epoch 30/100\n",
            "43/43 [==============================] - ETA: 0s - loss: 0.6047 - binary_accuracy: 0.8307 - auc_3: 0.8908 - precision_3: 0.6810 - recall_3: 0.7771\n",
            "Epoch 30: val_loss did not improve from 0.36627\n",
            "43/43 [==============================] - 21s 509ms/step - loss: 0.6047 - binary_accuracy: 0.8307 - auc_3: 0.8908 - precision_3: 0.6810 - recall_3: 0.7771 - val_loss: 0.4263 - val_binary_accuracy: 0.8279 - val_auc_3: 0.9073 - val_precision_3: 0.6516 - val_recall_3: 0.8463 - lr: 0.0100\n",
            "Epoch 31/100\n",
            "43/43 [==============================] - ETA: 0s - loss: 0.6169 - binary_accuracy: 0.8219 - auc_3: 0.8885 - precision_3: 0.6674 - recall_3: 0.7966\n",
            "Epoch 31: val_loss did not improve from 0.36627\n",
            "43/43 [==============================] - 22s 516ms/step - loss: 0.6169 - binary_accuracy: 0.8219 - auc_3: 0.8885 - precision_3: 0.6674 - recall_3: 0.7966 - val_loss: 0.3737 - val_binary_accuracy: 0.8473 - val_auc_3: 0.9065 - val_precision_3: 0.7187 - val_recall_3: 0.7592 - lr: 0.0100\n",
            "Epoch 32/100\n",
            "43/43 [==============================] - ETA: 0s - loss: 0.6026 - binary_accuracy: 0.8274 - auc_3: 0.8931 - precision_3: 0.6789 - recall_3: 0.7914\n",
            "Epoch 32: val_loss did not improve from 0.36627\n",
            "43/43 [==============================] - 22s 521ms/step - loss: 0.6026 - binary_accuracy: 0.8274 - auc_3: 0.8931 - precision_3: 0.6789 - recall_3: 0.7914 - val_loss: 0.3786 - val_binary_accuracy: 0.8444 - val_auc_3: 0.9088 - val_precision_3: 0.7023 - val_recall_3: 0.7842 - lr: 0.0100\n",
            "Epoch 33/100\n",
            "43/43 [==============================] - ETA: 0s - loss: 0.5964 - binary_accuracy: 0.8307 - auc_3: 0.8928 - precision_3: 0.6590 - recall_3: 0.8166\n",
            "Epoch 33: val_loss did not improve from 0.36627\n",
            "43/43 [==============================] - 21s 511ms/step - loss: 0.5964 - binary_accuracy: 0.8307 - auc_3: 0.8928 - precision_3: 0.6590 - recall_3: 0.8166 - val_loss: 0.3734 - val_binary_accuracy: 0.8484 - val_auc_3: 0.9084 - val_precision_3: 0.7172 - val_recall_3: 0.7692 - lr: 0.0100\n",
            "Epoch 34/100\n",
            "43/43 [==============================] - ETA: 0s - loss: 0.5939 - binary_accuracy: 0.8274 - auc_3: 0.8942 - precision_3: 0.6575 - recall_3: 0.7829\n",
            "Epoch 34: val_loss did not improve from 0.36627\n",
            "43/43 [==============================] - 25s 600ms/step - loss: 0.5939 - binary_accuracy: 0.8274 - auc_3: 0.8942 - precision_3: 0.6575 - recall_3: 0.7829 - val_loss: 0.3940 - val_binary_accuracy: 0.8383 - val_auc_3: 0.9088 - val_precision_3: 0.6771 - val_recall_3: 0.8226 - lr: 0.0100\n",
            "Epoch 35/100\n",
            "43/43 [==============================] - ETA: 0s - loss: 0.5931 - binary_accuracy: 0.8256 - auc_3: 0.8951 - precision_3: 0.6650 - recall_3: 0.8092\n",
            "Epoch 35: val_loss did not improve from 0.36627\n",
            "43/43 [==============================] - 27s 648ms/step - loss: 0.5931 - binary_accuracy: 0.8256 - auc_3: 0.8951 - precision_3: 0.6650 - recall_3: 0.8092 - val_loss: 0.3984 - val_binary_accuracy: 0.8372 - val_auc_3: 0.9078 - val_precision_3: 0.6750 - val_recall_3: 0.8225 - lr: 0.0100\n",
            "Epoch 36/100\n",
            "43/43 [==============================] - ETA: 0s - loss: 0.6012 - binary_accuracy: 0.8270 - auc_3: 0.8926 - precision_3: 0.6691 - recall_3: 0.8042\n",
            "Epoch 36: val_loss did not improve from 0.36627\n",
            "43/43 [==============================] - 22s 517ms/step - loss: 0.6012 - binary_accuracy: 0.8270 - auc_3: 0.8926 - precision_3: 0.6691 - recall_3: 0.8042 - val_loss: 0.3963 - val_binary_accuracy: 0.8343 - val_auc_3: 0.9077 - val_precision_3: 0.6707 - val_recall_3: 0.8178 - lr: 0.0100\n",
            "Epoch 37/100\n",
            "43/43 [==============================] - ETA: 0s - loss: 0.5682 - binary_accuracy: 0.8412 - auc_3: 0.9046 - precision_3: 0.6799 - recall_3: 0.8089\n",
            "Epoch 37: val_loss did not improve from 0.36627\n",
            "43/43 [==============================] - 22s 515ms/step - loss: 0.5682 - binary_accuracy: 0.8412 - auc_3: 0.9046 - precision_3: 0.6799 - recall_3: 0.8089 - val_loss: 0.4195 - val_binary_accuracy: 0.8261 - val_auc_3: 0.9078 - val_precision_3: 0.6482 - val_recall_3: 0.8473 - lr: 0.0100\n",
            "Epoch 38/100\n",
            "43/43 [==============================] - ETA: 0s - loss: 0.5853 - binary_accuracy: 0.8314 - auc_3: 0.8973 - precision_3: 0.6718 - recall_3: 0.8168\n",
            "Epoch 38: val_loss did not improve from 0.36627\n",
            "\n",
            "Epoch 38: ReduceLROnPlateau reducing learning rate to 0.0009999999776482583.\n",
            "43/43 [==============================] - 22s 521ms/step - loss: 0.5853 - binary_accuracy: 0.8314 - auc_3: 0.8973 - precision_3: 0.6718 - recall_3: 0.8168 - val_loss: 0.4250 - val_binary_accuracy: 0.8256 - val_auc_3: 0.9076 - val_precision_3: 0.6475 - val_recall_3: 0.8469 - lr: 0.0100\n"
          ]
        }
      ],
      "source": [
        "history_densenet121, model_densenet121 = compile_fit_model(\n",
        "    model=model_densenet121, \n",
        "    save_path=\"densenet152.h5\", \n",
        "    train_data=train_data_dense, \n",
        "    val_data=val_data_dense\n",
        ")"
      ],
      "id": "58228574-846e-48f6-836d-178275b18a6c"
    },
    {
      "cell_type": "code",
      "execution_count": null,
      "metadata": {
        "colab": {
          "base_uri": "https://localhost:8080/"
        },
        "id": "9260036b-cd97-4d50-902a-5d5495a5ba5f",
        "outputId": "89efc478-cd05-4da3-d782-5c9899141ac8"
      },
      "outputs": [
        {
          "name": "stdout",
          "output_type": "stream",
          "text": [
            "868/868 [==============================] - 28s 32ms/step - loss: 0.3646 - binary_accuracy: 0.8532 - auc_3: 0.9081 - precision_3: 0.7309 - recall_3: 0.7643\n"
          ]
        },
        {
          "data": {
            "text/plain": [
              "[0.3646146357059479,\n",
              " 0.8532024025917053,\n",
              " 0.9081313610076904,\n",
              " 0.7308976054191589,\n",
              " 0.764295220375061]"
            ]
          },
          "execution_count": 50,
          "metadata": {},
          "output_type": "execute_result"
        }
      ],
      "source": [
        "densenet_eval = model_densenet121.evaluate(test_data_dense)\n",
        "densenet_eval"
      ],
      "id": "9260036b-cd97-4d50-902a-5d5495a5ba5f"
    },
    {
      "cell_type": "code",
      "execution_count": null,
      "metadata": {
        "id": "f3ddc592-7444-4d3c-a062-595a6664ed71"
      },
      "outputs": [],
      "source": [
        "result_densenet121 = pd.DataFrame(history_densenet121.history)"
      ],
      "id": "f3ddc592-7444-4d3c-a062-595a6664ed71"
    },
    {
      "cell_type": "code",
      "execution_count": null,
      "metadata": {
        "colab": {
          "base_uri": "https://localhost:8080/",
          "height": 282
        },
        "id": "1c6a0097-a0e8-424c-a613-ecbeda055a67",
        "outputId": "66a20e8d-951a-4d30-b5ba-e730ab3fe824"
      },
      "outputs": [
        {
          "data": {
            "text/plain": [
              "<matplotlib.axes._subplots.AxesSubplot at 0x7fa546267b90>"
            ]
          },
          "execution_count": 52,
          "metadata": {},
          "output_type": "execute_result"
        },
        {
          "data": {
            "image/png": "[encoded data removed]",
            "text/plain": [
              "<Figure size 432x288 with 1 Axes>"
            ]
          },
          "metadata": {},
          "output_type": "display_data"
        }
      ],
      "source": [
        "result_densenet121.plot()"
      ],
      "id": "1c6a0097-a0e8-424c-a613-ecbeda055a67"
    },
    {
      "cell_type": "markdown",
      "metadata": {
        "id": "oE5wsZjNrEWb"
      },
      "source": [
        "### Hyperparameters Tuning \n",
        "\n",
        "Using keras tuner API, hyperparameters for densnet will be further fine-tuned.\n",
        "\n",
        "The evaluation with test showes that hyperparameter tuning produce a slightly better reuslt."
      ],
      "id": "oE5wsZjNrEWb"
    },
    {
      "cell_type": "code",
      "execution_count": 169,
      "metadata": {
        "id": "d9TMSYacu8u6"
      },
      "outputs": [],
      "source": [
        "# function to load image\n",
        "def image_loader_densenet121(path):\n",
        "    image = tf.io.read_file(path)                                   # read image file as binary\n",
        "    image = tf.image.decode_png(image, channels=3)                  # decode into image tensor\n",
        "    # image = tf.image.convert_image_dtype(image, dtype=tf.float32) # converts to float32 data type and scaling the values appropriately before casting.\n",
        "    image = tf.cast(image, dtype=tf.float32)\n",
        "    image = tf.image.resize(image, IMG_SIZE)                        # resize the image\n",
        "    image = keras.applications.densenet.preprocess_input(image)        # custom preprocessing for VGG16\n",
        "    label = tf.strings.split(path, os.path.sep)[-2]                 # parse the class label from the file path\n",
        "    label = tf.strings.to_number(label, tf.int32)\n",
        "    return (image, label)"
      ],
      "id": "d9TMSYacu8u6"
    },
    {
      "cell_type": "code",
      "execution_count": 170,
      "metadata": {
        "id": "t77P006-u5Jc"
      },
      "outputs": [],
      "source": [
        "train_data_dense = tf.data.Dataset.from_tensor_slices(train_paths)\n",
        "train_data_dense = (\n",
        "    train_data_dense.shuffle(len(train_paths))                            # shuffle data, optional as already did train_test_split in scikit-learn\n",
        "    .map(image_loader_densenet121, num_parallel_calls=tf.data.AUTOTUNE)   # load the image\n",
        "    .map(augmentation, num_parallel_calls=tf.data.AUTOTUNE)         # apply augmentation\n",
        "    .cache()                                                        # caching for fast read\n",
        "    .batch(batch_size=BATCH_SIZE)                                   # batching the data\n",
        "    .prefetch(tf.data.AUTOTUNE)                                     # allows later elements to be prepared while the current element is being processed\n",
        ")\n",
        "\n",
        "\n",
        "val_data_dense = tf.data.Dataset.from_tensor_slices(val_paths)                   # no augmentation & shuffle required for test data as it is ground truth\n",
        "val_data_dense = (\n",
        "    val_data_dense.map(image_loader_densenet121, num_parallel_calls=tf.data.AUTOTUNE)  # load the image\n",
        "    .batch(batch_size=BATCH_SIZE)                                          # batching the data\n",
        "    .prefetch(tf.data.AUTOTUNE)                                            # allows later elements to be prepared while the current element is being processed\n",
        ")\n",
        "\n",
        "\n",
        "test_data_dense = tf.data.Dataset.from_tensor_slices(test_paths)                  # no augmentation & shuffle required for test data as it is ground truth\n",
        "test_data_dense = (\n",
        "    test_data_dense.map(image_loader_densenet121, num_parallel_calls=tf.data.AUTOTUNE)  # load the image\n",
        "    .batch(batch_size=BATCH_SIZE)                                           # batching the data\n",
        "    .prefetch(tf.data.AUTOTUNE)                                             # allows later elements to be prepared while the current element is being processed\n",
        ")"
      ],
      "id": "t77P006-u5Jc"
    },
    {
      "cell_type": "code",
      "execution_count": 171,
      "metadata": {
        "id": "H9Sye9BKxkIT"
      },
      "outputs": [],
      "source": [
        "densenet121 = keras.applications.DenseNet121(include_top=False, weights=\"imagenet\")\n",
        "densenet121.trainable = False"
      ],
      "id": "H9Sye9BKxkIT"
    },
    {
      "cell_type": "code",
      "execution_count": 172,
      "metadata": {
        "id": "egHZ1ILGxK_y",
        "colab": {
          "base_uri": "https://localhost:8080/"
        },
        "outputId": "eeeedd59-d6fd-4acd-a2bb-e5d8af02ffa1"
      },
      "outputs": [
        {
          "output_type": "stream",
          "name": "stdout",
          "text": [
            "\u001b[?25l\r\u001b[K     |██▌                             | 10 kB 34.8 MB/s eta 0:00:01\r\u001b[K     |█████                           | 20 kB 19.1 MB/s eta 0:00:01\r\u001b[K     |███████▍                        | 30 kB 15.2 MB/s eta 0:00:01\r\u001b[K     |█████████▉                      | 40 kB 14.0 MB/s eta 0:00:01\r\u001b[K     |████████████▎                   | 51 kB 6.7 MB/s eta 0:00:01\r\u001b[K     |██████████████▊                 | 61 kB 7.9 MB/s eta 0:00:01\r\u001b[K     |█████████████████▏              | 71 kB 8.3 MB/s eta 0:00:01\r\u001b[K     |███████████████████▋            | 81 kB 8.1 MB/s eta 0:00:01\r\u001b[K     |██████████████████████          | 92 kB 9.0 MB/s eta 0:00:01\r\u001b[K     |████████████████████████▌       | 102 kB 7.3 MB/s eta 0:00:01\r\u001b[K     |███████████████████████████     | 112 kB 7.3 MB/s eta 0:00:01\r\u001b[K     |█████████████████████████████▌  | 122 kB 7.3 MB/s eta 0:00:01\r\u001b[K     |████████████████████████████████| 133 kB 7.3 MB/s eta 0:00:01\r\u001b[K     |████████████████████████████████| 133 kB 7.3 MB/s \n",
            "\u001b[?25h"
          ]
        }
      ],
      "source": [
        "!pip install keras-tuner -q"
      ],
      "id": "egHZ1ILGxK_y"
    },
    {
      "cell_type": "code",
      "execution_count": 173,
      "metadata": {
        "id": "EMGaIBvKrKTr"
      },
      "outputs": [],
      "source": [
        "import keras_tuner as kt\n",
        "\n",
        "\n",
        "def tune_model(hp):\n",
        "    model_densenet121 = keras.models.Sequential(\n",
        "        [\n",
        "            densenet121,\n",
        "            keras.layers.BatchNormalization(),\n",
        "            keras.layers.GlobalAveragePooling2D(),\n",
        "            keras.layers.Dropout(hp.Choice(\"dropout\", [0.2, 0.3, 0.4, 0.5])),\n",
        "            keras.layers.Flatten(),\n",
        "            keras.layers.Dense(\n",
        "                hp.Int(\"units\", min_value=16, max_value=512, step=32),\n",
        "                activation=\"relu\",\n",
        "            ),\n",
        "            keras.layers.Dense(units=1, activation=\"sigmoid\"),\n",
        "        ]\n",
        "    )\n",
        "\n",
        "    model_densenet121.compile(\n",
        "        loss=\"binary_crossentropy\",\n",
        "        optimizer=hp.Choice(\"optimizer\", [\"adam\", \"sgd\", \"nadam\"]),\n",
        "        metrics=[\n",
        "            keras.metrics.BinaryAccuracy(),\n",
        "            keras.metrics.AUC(),\n",
        "            keras.metrics.Precision(),\n",
        "            keras.metrics.Recall(),\n",
        "        ],\n",
        "    )\n",
        "    return model_densenet121"
      ],
      "id": "EMGaIBvKrKTr"
    },
    {
      "cell_type": "code",
      "execution_count": 174,
      "metadata": {
        "id": "Qy9cZGkPugkm"
      },
      "outputs": [],
      "source": [
        "tuner = kt.Hyperband(tune_model, objective=\"val_loss\", max_epochs=5)"
      ],
      "id": "Qy9cZGkPugkm"
    },
    {
      "cell_type": "code",
      "execution_count": 175,
      "metadata": {
        "id": "bHHaCJ_4vr6c",
        "colab": {
          "base_uri": "https://localhost:8080/"
        },
        "outputId": "193b6443-a291-4897-eabb-0bc03385a042"
      },
      "outputs": [
        {
          "output_type": "stream",
          "name": "stdout",
          "text": [
            "Trial 10 Complete [00h 00m 21s]\n",
            "val_loss: 0.0806564912199974\n",
            "\n",
            "Best val_loss So Far: 0.06673961877822876\n",
            "Total elapsed time: 00h 03m 13s\n",
            "INFO:tensorflow:Oracle triggered exit\n"
          ]
        }
      ],
      "source": [
        "tuner.search(\n",
        "    train_data_dense,\n",
        "    steps_per_epoch=len(train_data_dense) // BATCH_SIZE,\n",
        "    epochs=5,\n",
        "    validation_data=val_data_dense,\n",
        "    validation_steps=len(val_data_dense) // BATCH_SIZE,\n",
        ")"
      ],
      "id": "bHHaCJ_4vr6c"
    },
    {
      "cell_type": "code",
      "execution_count": 176,
      "metadata": {
        "id": "nqUA6W4zvH5w",
        "scrolled": true,
        "colab": {
          "base_uri": "https://localhost:8080/"
        },
        "outputId": "867eccf0-eaf1-43f2-8bc5-763a36641ff7"
      },
      "outputs": [
        {
          "output_type": "stream",
          "name": "stdout",
          "text": [
            "Results summary\n",
            "Results in ./untitled_project\n",
            "Showing 10 best trials\n",
            "<keras_tuner.engine.objective.Objective object at 0x7fa3443ebe90>\n",
            "Trial summary\n",
            "Hyperparameters:\n",
            "dropout: 0.3\n",
            "units: 400\n",
            "optimizer: adam\n",
            "tuner/epochs: 2\n",
            "tuner/initial_epoch: 0\n",
            "tuner/bracket: 1\n",
            "tuner/round: 0\n",
            "Score: 0.06673961877822876\n",
            "Trial summary\n",
            "Hyperparameters:\n",
            "dropout: 0.2\n",
            "units: 176\n",
            "optimizer: nadam\n",
            "tuner/epochs: 5\n",
            "tuner/initial_epoch: 0\n",
            "tuner/bracket: 0\n",
            "tuner/round: 0\n",
            "Score: 0.07138364017009735\n",
            "Trial summary\n",
            "Hyperparameters:\n",
            "dropout: 0.4\n",
            "units: 496\n",
            "optimizer: nadam\n",
            "tuner/epochs: 5\n",
            "tuner/initial_epoch: 2\n",
            "tuner/bracket: 1\n",
            "tuner/round: 1\n",
            "tuner/trial_id: 0001\n",
            "Score: 0.0766867846250534\n",
            "Trial summary\n",
            "Hyperparameters:\n",
            "dropout: 0.5\n",
            "units: 112\n",
            "optimizer: nadam\n",
            "tuner/epochs: 5\n",
            "tuner/initial_epoch: 0\n",
            "tuner/bracket: 0\n",
            "tuner/round: 0\n",
            "Score: 0.0806564912199974\n",
            "Trial summary\n",
            "Hyperparameters:\n",
            "dropout: 0.4\n",
            "units: 496\n",
            "optimizer: nadam\n",
            "tuner/epochs: 2\n",
            "tuner/initial_epoch: 0\n",
            "tuner/bracket: 1\n",
            "tuner/round: 0\n",
            "Score: 0.08473367989063263\n",
            "Trial summary\n",
            "Hyperparameters:\n",
            "dropout: 0.3\n",
            "units: 400\n",
            "optimizer: adam\n",
            "tuner/epochs: 5\n",
            "tuner/initial_epoch: 2\n",
            "tuner/bracket: 1\n",
            "tuner/round: 1\n",
            "tuner/trial_id: 0004\n",
            "Score: 0.0987020954489708\n",
            "Trial summary\n",
            "Hyperparameters:\n",
            "dropout: 0.5\n",
            "units: 272\n",
            "optimizer: adam\n",
            "tuner/epochs: 5\n",
            "tuner/initial_epoch: 0\n",
            "tuner/bracket: 0\n",
            "tuner/round: 0\n",
            "Score: 0.1009163111448288\n",
            "Trial summary\n",
            "Hyperparameters:\n",
            "dropout: 0.5\n",
            "units: 304\n",
            "optimizer: adam\n",
            "tuner/epochs: 2\n",
            "tuner/initial_epoch: 0\n",
            "tuner/bracket: 1\n",
            "tuner/round: 0\n",
            "Score: 0.10202054679393768\n",
            "Trial summary\n",
            "Hyperparameters:\n",
            "dropout: 0.5\n",
            "units: 240\n",
            "optimizer: nadam\n",
            "tuner/epochs: 2\n",
            "tuner/initial_epoch: 0\n",
            "tuner/bracket: 1\n",
            "tuner/round: 0\n",
            "Score: 0.12160686403512955\n",
            "Trial summary\n",
            "Hyperparameters:\n",
            "dropout: 0.5\n",
            "units: 80\n",
            "optimizer: nadam\n",
            "tuner/epochs: 2\n",
            "tuner/initial_epoch: 0\n",
            "tuner/bracket: 1\n",
            "tuner/round: 0\n",
            "Score: 0.13058488070964813\n"
          ]
        }
      ],
      "source": [
        "tuner.results_summary()"
      ],
      "id": "nqUA6W4zvH5w"
    },
    {
      "cell_type": "code",
      "execution_count": 177,
      "metadata": {
        "id": "e9NBtWgB_NTp"
      },
      "outputs": [],
      "source": [
        "best_hps = tuner.get_best_hyperparameters(num_trials=1)[0]\n",
        "model_tuned = tuner.hypermodel.build(best_hps)"
      ],
      "id": "e9NBtWgB_NTp"
    },
    {
      "cell_type": "code",
      "execution_count": 178,
      "metadata": {
        "id": "IQTDeyPq_NQz",
        "colab": {
          "base_uri": "https://localhost:8080/"
        },
        "outputId": "6277c6d5-fa66-4629-dae2-48c9053efb64"
      },
      "outputs": [
        {
          "output_type": "stream",
          "name": "stdout",
          "text": [
            "Epoch 1/100\n",
            "43/43 [==============================] - ETA: 0s - loss: 1.0121 - binary_accuracy: 0.7547 - auc_2: 0.8218 - precision_2: 0.5534 - recall_2: 0.7824\n",
            "Epoch 1: val_loss improved from inf to 0.51077, saving model to densenet152_tuned.h5\n",
            "43/43 [==============================] - 31s 592ms/step - loss: 1.0121 - binary_accuracy: 0.7547 - auc_2: 0.8218 - precision_2: 0.5534 - recall_2: 0.7824 - val_loss: 0.5108 - val_binary_accuracy: 0.7683 - val_auc_2: 0.8447 - val_precision_2: 0.5617 - val_recall_2: 0.8372 - lr: 0.0100\n",
            "Epoch 2/100\n",
            "43/43 [==============================] - ETA: 0s - loss: 0.5937 - binary_accuracy: 0.8081 - auc_2: 0.8964 - precision_2: 0.6276 - recall_2: 0.8321\n",
            "Epoch 2: val_loss improved from 0.51077 to 0.43120, saving model to densenet152_tuned.h5\n",
            "43/43 [==============================] - 23s 541ms/step - loss: 0.5937 - binary_accuracy: 0.8081 - auc_2: 0.8964 - precision_2: 0.6276 - recall_2: 0.8321 - val_loss: 0.4312 - val_binary_accuracy: 0.8392 - val_auc_2: 0.8899 - val_precision_2: 0.7239 - val_recall_2: 0.7011 - lr: 0.0100\n",
            "Epoch 3/100\n",
            "43/43 [==============================] - ETA: 0s - loss: 0.5973 - binary_accuracy: 0.8230 - auc_2: 0.8952 - precision_2: 0.6565 - recall_2: 0.8141\n",
            "Epoch 3: val_loss improved from 0.43120 to 0.40377, saving model to densenet152_tuned.h5\n",
            "43/43 [==============================] - 23s 537ms/step - loss: 0.5973 - binary_accuracy: 0.8230 - auc_2: 0.8952 - precision_2: 0.6565 - recall_2: 0.8141 - val_loss: 0.4038 - val_binary_accuracy: 0.8371 - val_auc_2: 0.8837 - val_precision_2: 0.7264 - val_recall_2: 0.6836 - lr: 0.0100\n",
            "Epoch 4/100\n",
            "43/43 [==============================] - ETA: 0s - loss: 0.5779 - binary_accuracy: 0.8143 - auc_2: 0.8991 - precision_2: 0.6158 - recall_2: 0.8349\n",
            "Epoch 4: val_loss improved from 0.40377 to 0.39820, saving model to densenet152_tuned.h5\n",
            "43/43 [==============================] - 22s 534ms/step - loss: 0.5779 - binary_accuracy: 0.8143 - auc_2: 0.8991 - precision_2: 0.6158 - recall_2: 0.8349 - val_loss: 0.3982 - val_binary_accuracy: 0.8445 - val_auc_2: 0.8968 - val_precision_2: 0.7446 - val_recall_2: 0.6883 - lr: 0.0100\n",
            "Epoch 5/100\n",
            "43/43 [==============================] - ETA: 0s - loss: 0.5879 - binary_accuracy: 0.8227 - auc_2: 0.8947 - precision_2: 0.6462 - recall_2: 0.7984\n",
            "Epoch 5: val_loss improved from 0.39820 to 0.35407, saving model to densenet152_tuned.h5\n",
            "43/43 [==============================] - 23s 536ms/step - loss: 0.5879 - binary_accuracy: 0.8227 - auc_2: 0.8947 - precision_2: 0.6462 - recall_2: 0.7984 - val_loss: 0.3541 - val_binary_accuracy: 0.8567 - val_auc_2: 0.9070 - val_precision_2: 0.7494 - val_recall_2: 0.7438 - lr: 0.0100\n",
            "Epoch 6/100\n",
            "43/43 [==============================] - ETA: 0s - loss: 0.5576 - binary_accuracy: 0.8289 - auc_2: 0.9097 - precision_2: 0.6680 - recall_2: 0.8393\n",
            "Epoch 6: val_loss did not improve from 0.35407\n",
            "43/43 [==============================] - 22s 517ms/step - loss: 0.5576 - binary_accuracy: 0.8289 - auc_2: 0.9097 - precision_2: 0.6680 - recall_2: 0.8393 - val_loss: 0.4840 - val_binary_accuracy: 0.7690 - val_auc_2: 0.9105 - val_precision_2: 0.5564 - val_recall_2: 0.9189 - lr: 0.0100\n",
            "Epoch 7/100\n",
            "43/43 [==============================] - ETA: 0s - loss: 0.5460 - binary_accuracy: 0.8343 - auc_2: 0.9094 - precision_2: 0.6552 - recall_2: 0.8493\n",
            "Epoch 7: val_loss did not improve from 0.35407\n",
            "43/43 [==============================] - 22s 513ms/step - loss: 0.5460 - binary_accuracy: 0.8343 - auc_2: 0.9094 - precision_2: 0.6552 - recall_2: 0.8493 - val_loss: 0.3835 - val_binary_accuracy: 0.8391 - val_auc_2: 0.9076 - val_precision_2: 0.6797 - val_recall_2: 0.8197 - lr: 0.0100\n",
            "Epoch 8/100\n",
            "43/43 [==============================] - ETA: 0s - loss: 0.5835 - binary_accuracy: 0.8172 - auc_2: 0.8958 - precision_2: 0.6254 - recall_2: 0.8213\n",
            "Epoch 8: val_loss did not improve from 0.35407\n",
            "43/43 [==============================] - 22s 519ms/step - loss: 0.5835 - binary_accuracy: 0.8172 - auc_2: 0.8958 - precision_2: 0.6254 - recall_2: 0.8213 - val_loss: 0.4092 - val_binary_accuracy: 0.8368 - val_auc_2: 0.9106 - val_precision_2: 0.6745 - val_recall_2: 0.8216 - lr: 0.0100\n",
            "Epoch 9/100\n",
            "43/43 [==============================] - ETA: 0s - loss: 0.5711 - binary_accuracy: 0.8358 - auc_2: 0.9029 - precision_2: 0.6718 - recall_2: 0.8323\n",
            "Epoch 9: val_loss improved from 0.35407 to 0.34622, saving model to densenet152_tuned.h5\n",
            "43/43 [==============================] - 23s 556ms/step - loss: 0.5711 - binary_accuracy: 0.8358 - auc_2: 0.9029 - precision_2: 0.6718 - recall_2: 0.8323 - val_loss: 0.3462 - val_binary_accuracy: 0.8486 - val_auc_2: 0.9107 - val_precision_2: 0.7150 - val_recall_2: 0.7761 - lr: 0.0100\n",
            "Epoch 10/100\n",
            "43/43 [==============================] - ETA: 0s - loss: 0.5682 - binary_accuracy: 0.8307 - auc_2: 0.9041 - precision_2: 0.6582 - recall_2: 0.8327\n",
            "Epoch 10: val_loss did not improve from 0.34622\n",
            "43/43 [==============================] - 22s 517ms/step - loss: 0.5682 - binary_accuracy: 0.8307 - auc_2: 0.9041 - precision_2: 0.6582 - recall_2: 0.8327 - val_loss: 0.4105 - val_binary_accuracy: 0.8106 - val_auc_2: 0.9141 - val_precision_2: 0.6162 - val_recall_2: 0.8831 - lr: 0.0100\n",
            "Epoch 11/100\n",
            "43/43 [==============================] - ETA: 0s - loss: 0.5705 - binary_accuracy: 0.8198 - auc_2: 0.9024 - precision_2: 0.6339 - recall_2: 0.8444\n",
            "Epoch 11: val_loss did not improve from 0.34622\n",
            "43/43 [==============================] - 22s 518ms/step - loss: 0.5705 - binary_accuracy: 0.8198 - auc_2: 0.9024 - precision_2: 0.6339 - recall_2: 0.8444 - val_loss: 0.3897 - val_binary_accuracy: 0.8375 - val_auc_2: 0.9104 - val_precision_2: 0.6753 - val_recall_2: 0.8236 - lr: 0.0100\n",
            "Epoch 12/100\n",
            "43/43 [==============================] - ETA: 0s - loss: 0.5750 - binary_accuracy: 0.8332 - auc_2: 0.9025 - precision_2: 0.6714 - recall_2: 0.8306\n",
            "Epoch 12: val_loss did not improve from 0.34622\n",
            "43/43 [==============================] - 22s 519ms/step - loss: 0.5750 - binary_accuracy: 0.8332 - auc_2: 0.9025 - precision_2: 0.6714 - recall_2: 0.8306 - val_loss: 0.4226 - val_binary_accuracy: 0.8250 - val_auc_2: 0.9132 - val_precision_2: 0.6432 - val_recall_2: 0.8613 - lr: 0.0100\n",
            "Epoch 13/100\n",
            "43/43 [==============================] - ETA: 0s - loss: 0.5975 - binary_accuracy: 0.8154 - auc_2: 0.8927 - precision_2: 0.6264 - recall_2: 0.8327\n",
            "Epoch 13: val_loss did not improve from 0.34622\n",
            "43/43 [==============================] - 22s 518ms/step - loss: 0.5975 - binary_accuracy: 0.8154 - auc_2: 0.8927 - precision_2: 0.6264 - recall_2: 0.8327 - val_loss: 0.3635 - val_binary_accuracy: 0.8493 - val_auc_2: 0.9157 - val_precision_2: 0.7072 - val_recall_2: 0.8006 - lr: 0.0100\n",
            "Epoch 14/100\n",
            "43/43 [==============================] - ETA: 0s - loss: 0.5557 - binary_accuracy: 0.8241 - auc_2: 0.9066 - precision_2: 0.6511 - recall_2: 0.8210\n",
            "Epoch 14: val_loss did not improve from 0.34622\n",
            "43/43 [==============================] - 22s 518ms/step - loss: 0.5557 - binary_accuracy: 0.8241 - auc_2: 0.9066 - precision_2: 0.6511 - recall_2: 0.8210 - val_loss: 0.3580 - val_binary_accuracy: 0.8435 - val_auc_2: 0.9200 - val_precision_2: 0.6820 - val_recall_2: 0.8407 - lr: 0.0100\n",
            "Epoch 15/100\n",
            "43/43 [==============================] - ETA: 0s - loss: 0.5343 - binary_accuracy: 0.8354 - auc_2: 0.9137 - precision_2: 0.6632 - recall_2: 0.8379\n",
            "Epoch 15: val_loss improved from 0.34622 to 0.33989, saving model to densenet152_tuned.h5\n",
            "43/43 [==============================] - 22s 535ms/step - loss: 0.5343 - binary_accuracy: 0.8354 - auc_2: 0.9137 - precision_2: 0.6632 - recall_2: 0.8379 - val_loss: 0.3399 - val_binary_accuracy: 0.8507 - val_auc_2: 0.9188 - val_precision_2: 0.7069 - val_recall_2: 0.8098 - lr: 0.0100\n",
            "Epoch 16/100\n",
            "43/43 [==============================] - ETA: 0s - loss: 0.5775 - binary_accuracy: 0.8183 - auc_2: 0.9012 - precision_2: 0.6448 - recall_2: 0.8350\n",
            "Epoch 16: val_loss did not improve from 0.33989\n",
            "43/43 [==============================] - 22s 517ms/step - loss: 0.5775 - binary_accuracy: 0.8183 - auc_2: 0.9012 - precision_2: 0.6448 - recall_2: 0.8350 - val_loss: 0.3694 - val_binary_accuracy: 0.8333 - val_auc_2: 0.9205 - val_precision_2: 0.6570 - val_recall_2: 0.8637 - lr: 0.0100\n",
            "Epoch 17/100\n",
            "43/43 [==============================] - ETA: 0s - loss: 0.5838 - binary_accuracy: 0.8267 - auc_2: 0.9031 - precision_2: 0.6594 - recall_2: 0.8520\n",
            "Epoch 17: val_loss did not improve from 0.33989\n",
            "43/43 [==============================] - 22s 514ms/step - loss: 0.5838 - binary_accuracy: 0.8267 - auc_2: 0.9031 - precision_2: 0.6594 - recall_2: 0.8520 - val_loss: 0.3870 - val_binary_accuracy: 0.8443 - val_auc_2: 0.9204 - val_precision_2: 0.6807 - val_recall_2: 0.8502 - lr: 0.0100\n",
            "Epoch 18/100\n",
            "43/43 [==============================] - ETA: 0s - loss: 0.5401 - binary_accuracy: 0.8423 - auc_2: 0.9134 - precision_2: 0.6866 - recall_2: 0.8291\n",
            "Epoch 18: val_loss did not improve from 0.33989\n",
            "43/43 [==============================] - 22s 515ms/step - loss: 0.5401 - binary_accuracy: 0.8423 - auc_2: 0.9134 - precision_2: 0.6866 - recall_2: 0.8291 - val_loss: 0.3664 - val_binary_accuracy: 0.8336 - val_auc_2: 0.9185 - val_precision_2: 0.6588 - val_recall_2: 0.8585 - lr: 0.0100\n",
            "Epoch 19/100\n",
            "43/43 [==============================] - ETA: 0s - loss: 0.5529 - binary_accuracy: 0.8325 - auc_2: 0.9101 - precision_2: 0.6607 - recall_2: 0.8484\n",
            "Epoch 19: val_loss did not improve from 0.33989\n",
            "43/43 [==============================] - 22s 515ms/step - loss: 0.5529 - binary_accuracy: 0.8325 - auc_2: 0.9101 - precision_2: 0.6607 - recall_2: 0.8484 - val_loss: 0.3645 - val_binary_accuracy: 0.8377 - val_auc_2: 0.9178 - val_precision_2: 0.6694 - val_recall_2: 0.8463 - lr: 0.0100\n",
            "Epoch 20/100\n",
            "43/43 [==============================] - ETA: 0s - loss: 0.5700 - binary_accuracy: 0.8263 - auc_2: 0.9012 - precision_2: 0.6482 - recall_2: 0.8344\n",
            "Epoch 20: val_loss did not improve from 0.33989\n",
            "43/43 [==============================] - 22s 515ms/step - loss: 0.5700 - binary_accuracy: 0.8263 - auc_2: 0.9012 - precision_2: 0.6482 - recall_2: 0.8344 - val_loss: 0.3588 - val_binary_accuracy: 0.8408 - val_auc_2: 0.9214 - val_precision_2: 0.6740 - val_recall_2: 0.8510 - lr: 0.0100\n",
            "Epoch 21/100\n",
            "43/43 [==============================] - ETA: 0s - loss: 0.5289 - binary_accuracy: 0.8448 - auc_2: 0.9177 - precision_2: 0.6869 - recall_2: 0.8518\n",
            "Epoch 21: val_loss did not improve from 0.33989\n",
            "43/43 [==============================] - 22s 516ms/step - loss: 0.5289 - binary_accuracy: 0.8448 - auc_2: 0.9177 - precision_2: 0.6869 - recall_2: 0.8518 - val_loss: 0.4376 - val_binary_accuracy: 0.8168 - val_auc_2: 0.9210 - val_precision_2: 0.6243 - val_recall_2: 0.8913 - lr: 0.0100\n",
            "Epoch 22/100\n",
            "43/43 [==============================] - ETA: 0s - loss: 0.5636 - binary_accuracy: 0.8321 - auc_2: 0.9061 - precision_2: 0.6564 - recall_2: 0.8507\n",
            "Epoch 22: val_loss improved from 0.33989 to 0.32635, saving model to densenet152_tuned.h5\n",
            "43/43 [==============================] - 22s 533ms/step - loss: 0.5636 - binary_accuracy: 0.8321 - auc_2: 0.9061 - precision_2: 0.6564 - recall_2: 0.8507 - val_loss: 0.3263 - val_binary_accuracy: 0.8583 - val_auc_2: 0.9224 - val_precision_2: 0.7280 - val_recall_2: 0.7995 - lr: 0.0100\n",
            "Epoch 23/100\n",
            "43/43 [==============================] - ETA: 0s - loss: 0.5086 - binary_accuracy: 0.8612 - auc_2: 0.9225 - precision_2: 0.7166 - recall_2: 0.8387\n",
            "Epoch 23: val_loss did not improve from 0.32635\n",
            "43/43 [==============================] - 22s 516ms/step - loss: 0.5086 - binary_accuracy: 0.8612 - auc_2: 0.9225 - precision_2: 0.7166 - recall_2: 0.8387 - val_loss: 0.3936 - val_binary_accuracy: 0.8338 - val_auc_2: 0.9231 - val_precision_2: 0.6560 - val_recall_2: 0.8715 - lr: 0.0100\n",
            "Epoch 24/100\n",
            "43/43 [==============================] - ETA: 0s - loss: 0.5823 - binary_accuracy: 0.8256 - auc_2: 0.8958 - precision_2: 0.6398 - recall_2: 0.8179\n",
            "Epoch 24: val_loss did not improve from 0.32635\n",
            "43/43 [==============================] - 22s 515ms/step - loss: 0.5823 - binary_accuracy: 0.8256 - auc_2: 0.8958 - precision_2: 0.6398 - recall_2: 0.8179 - val_loss: 0.3775 - val_binary_accuracy: 0.8348 - val_auc_2: 0.9199 - val_precision_2: 0.6604 - val_recall_2: 0.8609 - lr: 0.0100\n",
            "Epoch 25/100\n",
            "43/43 [==============================] - ETA: 0s - loss: 0.5434 - binary_accuracy: 0.8307 - auc_2: 0.9130 - precision_2: 0.6676 - recall_2: 0.8443\n",
            "Epoch 25: val_loss did not improve from 0.32635\n",
            "43/43 [==============================] - 22s 515ms/step - loss: 0.5434 - binary_accuracy: 0.8307 - auc_2: 0.9130 - precision_2: 0.6676 - recall_2: 0.8443 - val_loss: 0.4080 - val_binary_accuracy: 0.8226 - val_auc_2: 0.9224 - val_precision_2: 0.6343 - val_recall_2: 0.8858 - lr: 0.0100\n",
            "Epoch 26/100\n",
            "43/43 [==============================] - ETA: 0s - loss: 0.5391 - binary_accuracy: 0.8427 - auc_2: 0.9116 - precision_2: 0.6742 - recall_2: 0.8298\n",
            "Epoch 26: val_loss did not improve from 0.32635\n",
            "43/43 [==============================] - 22s 517ms/step - loss: 0.5391 - binary_accuracy: 0.8427 - auc_2: 0.9116 - precision_2: 0.6742 - recall_2: 0.8298 - val_loss: 0.4003 - val_binary_accuracy: 0.8311 - val_auc_2: 0.9234 - val_precision_2: 0.6503 - val_recall_2: 0.8757 - lr: 0.0100\n",
            "Epoch 27/100\n",
            "43/43 [==============================] - ETA: 0s - loss: 0.5913 - binary_accuracy: 0.8140 - auc_2: 0.8954 - precision_2: 0.6422 - recall_2: 0.8110\n",
            "Epoch 27: val_loss did not improve from 0.32635\n",
            "43/43 [==============================] - 22s 516ms/step - loss: 0.5913 - binary_accuracy: 0.8140 - auc_2: 0.8954 - precision_2: 0.6422 - recall_2: 0.8110 - val_loss: 0.3504 - val_binary_accuracy: 0.8446 - val_auc_2: 0.9222 - val_precision_2: 0.6836 - val_recall_2: 0.8422 - lr: 0.0100\n",
            "Epoch 28/100\n",
            "42/43 [============================>.] - ETA: 0s - loss: 0.5541 - binary_accuracy: 0.8278 - auc_2: 0.9103 - precision_2: 0.6670 - recall_2: 0.8295\n",
            "Epoch 28: val_loss did not improve from 0.32635\n",
            "43/43 [==============================] - 22s 517ms/step - loss: 0.5529 - binary_accuracy: 0.8285 - auc_2: 0.9105 - precision_2: 0.6680 - recall_2: 0.8282 - val_loss: 0.3467 - val_binary_accuracy: 0.8551 - val_auc_2: 0.9230 - val_precision_2: 0.7121 - val_recall_2: 0.8217 - lr: 0.0100\n",
            "Epoch 29/100\n",
            "43/43 [==============================] - ETA: 0s - loss: 0.5348 - binary_accuracy: 0.8448 - auc_2: 0.9139 - precision_2: 0.6880 - recall_2: 0.8189\n",
            "Epoch 29: val_loss did not improve from 0.32635\n",
            "43/43 [==============================] - 22s 516ms/step - loss: 0.5348 - binary_accuracy: 0.8448 - auc_2: 0.9139 - precision_2: 0.6880 - recall_2: 0.8189 - val_loss: 0.3449 - val_binary_accuracy: 0.8556 - val_auc_2: 0.9218 - val_precision_2: 0.7136 - val_recall_2: 0.8208 - lr: 0.0100\n",
            "Epoch 30/100\n",
            "43/43 [==============================] - ETA: 0s - loss: 0.5388 - binary_accuracy: 0.8434 - auc_2: 0.9110 - precision_2: 0.6739 - recall_2: 0.8256\n",
            "Epoch 30: val_loss did not improve from 0.32635\n",
            "43/43 [==============================] - 22s 516ms/step - loss: 0.5388 - binary_accuracy: 0.8434 - auc_2: 0.9110 - precision_2: 0.6739 - recall_2: 0.8256 - val_loss: 0.3993 - val_binary_accuracy: 0.8320 - val_auc_2: 0.9215 - val_precision_2: 0.6527 - val_recall_2: 0.8730 - lr: 0.0100\n",
            "Epoch 31/100\n",
            "43/43 [==============================] - ETA: 0s - loss: 0.5672 - binary_accuracy: 0.8249 - auc_2: 0.9069 - precision_2: 0.6638 - recall_2: 0.8466\n",
            "Epoch 31: val_loss did not improve from 0.32635\n",
            "43/43 [==============================] - 22s 518ms/step - loss: 0.5672 - binary_accuracy: 0.8249 - auc_2: 0.9069 - precision_2: 0.6638 - recall_2: 0.8466 - val_loss: 0.3666 - val_binary_accuracy: 0.8447 - val_auc_2: 0.9223 - val_precision_2: 0.6809 - val_recall_2: 0.8521 - lr: 0.0100\n",
            "Epoch 32/100\n",
            "42/43 [============================>.] - ETA: 0s - loss: 0.5588 - binary_accuracy: 0.8318 - auc_2: 0.9063 - precision_2: 0.6656 - recall_2: 0.8283\n",
            "Epoch 32: val_loss did not improve from 0.32635\n",
            "\n",
            "Epoch 32: ReduceLROnPlateau reducing learning rate to 0.0009999999776482583.\n",
            "43/43 [==============================] - 22s 523ms/step - loss: 0.5615 - binary_accuracy: 0.8325 - auc_2: 0.9057 - precision_2: 0.6680 - recall_2: 0.8293 - val_loss: 0.3460 - val_binary_accuracy: 0.8518 - val_auc_2: 0.9242 - val_precision_2: 0.7008 - val_recall_2: 0.8340 - lr: 0.0100\n"
          ]
        }
      ],
      "source": [
        "history_densenet121_tuned, model_densenet121_tuned = compile_fit_model(\n",
        "    model=model_tuned,\n",
        "    save_path=\"densenet152_tuned.h5\",\n",
        "    train_data = train_data_dense,\n",
        "    val_data=val_data_dense\n",
        ")"
      ],
      "id": "IQTDeyPq_NQz"
    },
    {
      "cell_type": "code",
      "execution_count": 179,
      "metadata": {
        "id": "OuBwaEvY_NNI",
        "colab": {
          "base_uri": "https://localhost:8080/"
        },
        "outputId": "33e854d1-c8ef-43d5-893c-9f351f93a383"
      },
      "outputs": [
        {
          "output_type": "stream",
          "name": "stdout",
          "text": [
            "868/868 [==============================] - 28s 32ms/step - loss: 0.3263 - binary_accuracy: 0.8587 - auc_2: 0.9228 - precision_2: 0.7262 - recall_2: 0.8065\n"
          ]
        },
        {
          "output_type": "execute_result",
          "data": {
            "text/plain": [
              "[0.3262534439563751,\n",
              " 0.8587334752082825,\n",
              " 0.922759473323822,\n",
              " 0.7261714339256287,\n",
              " 0.8064987063407898]"
            ]
          },
          "metadata": {},
          "execution_count": 179
        }
      ],
      "source": [
        "tuned_densenet = model_densenet121_tuned.evaluate(test_data_dense)\n",
        "tuned_densenet"
      ],
      "id": "OuBwaEvY_NNI"
    },
    {
      "cell_type": "markdown",
      "metadata": {
        "id": "d7a826d7-1533-42cd-b30e-2053ee4de33f"
      },
      "source": [
        "## ResNet152V2 "
      ],
      "id": "d7a826d7-1533-42cd-b30e-2053ee4de33f"
    },
    {
      "cell_type": "code",
      "execution_count": null,
      "metadata": {
        "id": "58ab2896-336a-432a-9331-e894d4051c3c"
      },
      "outputs": [],
      "source": [
        "# function to load image\n",
        "def image_loader_resnet152(path):\n",
        "    image = tf.io.read_file(path)                                   # read image file as binary\n",
        "    image = tf.image.decode_png(image, channels=3)                  # decode into image tensor\n",
        "    # image = tf.image.convert_image_dtype(image, dtype=tf.float32) # converts to float32 data type and scaling the values appropriately before casting.\n",
        "    image = tf.cast(image, dtype=tf.float32)\n",
        "    image = tf.image.resize(image, IMG_SIZE)                        # resize the image\n",
        "    image = keras.applications.resnet_v2.preprocess_input(image)        # custom preprocessing for VGG16\n",
        "    label = tf.strings.split(path, os.path.sep)[-2]                 # parse the class label from the file path\n",
        "    label = tf.strings.to_number(label, tf.int32)\n",
        "    return (image, label)\n"
      ],
      "id": "58ab2896-336a-432a-9331-e894d4051c3c"
    },
    {
      "cell_type": "code",
      "execution_count": null,
      "metadata": {
        "id": "62aadfac-6581-4b4f-9eda-bdb1bda3301b"
      },
      "outputs": [],
      "source": [
        "train_data_res = tf.data.Dataset.from_tensor_slices(train_paths)\n",
        "train_data_res = (\n",
        "    train_data_res.shuffle(len(train_paths))                            # shuffle data, optional as already did train_test_split in scikit-learn\n",
        "    .map(image_loader_resnet152, num_parallel_calls=tf.data.AUTOTUNE)   # load the image\n",
        "    .map(augmentation, num_parallel_calls=tf.data.AUTOTUNE)         # apply augmentation\n",
        "    .cache()                                                        # caching for fast read\n",
        "    .batch(batch_size=BATCH_SIZE)                                   # batching the data\n",
        "    .prefetch(tf.data.AUTOTUNE)                                     # allows later elements to be prepared while the current element is being processed\n",
        ")\n",
        "\n",
        "\n",
        "val_data_res = tf.data.Dataset.from_tensor_slices(val_paths)                   # no augmentation & shuffle required for test data as it is ground truth\n",
        "val_data_res = (\n",
        "    val_data_res.map(image_loader_resnet152, num_parallel_calls=tf.data.AUTOTUNE)  # load the image\n",
        "    .batch(batch_size=BATCH_SIZE)                                          # batching the data\n",
        "    .prefetch(tf.data.AUTOTUNE)                                            # allows later elements to be prepared while the current element is being processed\n",
        ")\n",
        "\n",
        "\n",
        "test_data_res = tf.data.Dataset.from_tensor_slices(test_paths)                  # no augmentation & shuffle required for test data as it is ground truth\n",
        "test_data_res = (\n",
        "    test_data_res.map(image_loader_resnet152, num_parallel_calls=tf.data.AUTOTUNE)  # load the image\n",
        "    .batch(batch_size=BATCH_SIZE)                                           # batching the data\n",
        "    .prefetch(tf.data.AUTOTUNE)                                             # allows later elements to be prepared while the current element is being processed\n",
        ")"
      ],
      "id": "62aadfac-6581-4b4f-9eda-bdb1bda3301b"
    },
    {
      "cell_type": "code",
      "execution_count": null,
      "metadata": {
        "colab": {
          "base_uri": "https://localhost:8080/"
        },
        "id": "4e0e130e-f393-4d79-958d-01c48395354e",
        "outputId": "e153fb63-cbb7-4cb8-c242-614ed4ad3891"
      },
      "outputs": [
        {
          "name": "stdout",
          "output_type": "stream",
          "text": [
            "Downloading data from https://storage.googleapis.com/tensorflow/keras-applications/resnet/resnet152v2_weights_tf_dim_ordering_tf_kernels_notop.h5\n",
            "234553344/234545216 [==============================] - 3s 0us/step\n",
            "234561536/234545216 [==============================] - 3s 0us/step\n"
          ]
        }
      ],
      "source": [
        "resnet152 = keras.applications.ResNet152V2(include_top=False, weights=\"imagenet\")\n",
        "resnet152.trainable = False"
      ],
      "id": "4e0e130e-f393-4d79-958d-01c48395354e"
    },
    {
      "cell_type": "code",
      "execution_count": null,
      "metadata": {
        "id": "e6397efb-0d77-4d7d-b995-0e8dd8d2c2c8"
      },
      "outputs": [],
      "source": [
        "model_resnet152 = keras.models.Sequential(\n",
        "    [\n",
        "        resnet152,\n",
        "        # keras.layers.BatchNormalization(),\n",
        "        keras.layers.GlobalAveragePooling2D(),\n",
        "        keras.layers.Flatten(),\n",
        "        keras.layers.Dropout(0.2),\n",
        "        keras.layers.Dense(units=128, activation=\"relu\"),\n",
        "        keras.layers.Dense(units=1, activation=\"sigmoid\"),\n",
        "    ]\n",
        ")"
      ],
      "id": "e6397efb-0d77-4d7d-b995-0e8dd8d2c2c8"
    },
    {
      "cell_type": "code",
      "execution_count": null,
      "metadata": {
        "colab": {
          "base_uri": "https://localhost:8080/"
        },
        "id": "9b22e46f-a6d8-4df1-95ca-a44ac0da26f6",
        "outputId": "1141d344-e88c-4951-ab69-cfd6c458bc77"
      },
      "outputs": [
        {
          "name": "stdout",
          "output_type": "stream",
          "text": [
            "Model: \"sequential_4\"\n",
            "_________________________________________________________________\n",
            " Layer (type)                Output Shape              Param #   \n",
            "=================================================================\n",
            " resnet152v2 (Functional)    (None, None, None, 2048)  58331648  \n",
            "                                                                 \n",
            " global_average_pooling2d_4   (None, 2048)             0         \n",
            " (GlobalAveragePooling2D)                                        \n",
            "                                                                 \n",
            " flatten_4 (Flatten)         (None, 2048)              0         \n",
            "                                                                 \n",
            " dropout_4 (Dropout)         (None, 2048)              0         \n",
            "                                                                 \n",
            " dense_8 (Dense)             (None, 128)               262272    \n",
            "                                                                 \n",
            " dense_9 (Dense)             (None, 1)                 129       \n",
            "                                                                 \n",
            "=================================================================\n",
            "Total params: 58,594,049\n",
            "Trainable params: 262,401\n",
            "Non-trainable params: 58,331,648\n",
            "_________________________________________________________________\n"
          ]
        }
      ],
      "source": [
        "model_resnet152.summary()"
      ],
      "id": "9b22e46f-a6d8-4df1-95ca-a44ac0da26f6"
    },
    {
      "cell_type": "code",
      "execution_count": null,
      "metadata": {
        "colab": {
          "base_uri": "https://localhost:8080/"
        },
        "id": "1bfa8c0b-9813-4191-9fb2-9c6a96b88cfa",
        "outputId": "2f6e3632-d266-4f4c-f837-dcbd44ef5230",
        "scrolled": true
      },
      "outputs": [
        {
          "name": "stdout",
          "output_type": "stream",
          "text": [
            "Epoch 1/100\n",
            "43/43 [==============================] - ETA: 0s - loss: 0.9975 - binary_accuracy: 0.7242 - auc_4: 0.7702 - precision_4: 0.5137 - recall_4: 0.6904\n",
            "Epoch 1: val_loss improved from inf to 0.45872, saving model to resnet152.h5\n",
            "43/43 [==============================] - 68s 1s/step - loss: 0.9975 - binary_accuracy: 0.7242 - auc_4: 0.7702 - precision_4: 0.5137 - recall_4: 0.6904 - val_loss: 0.4587 - val_binary_accuracy: 0.8053 - val_auc_4: 0.8423 - val_precision_4: 0.6457 - val_recall_4: 0.6960 - lr: 0.0100\n",
            "Epoch 2/100\n",
            "43/43 [==============================] - ETA: 0s - loss: 0.7121 - binary_accuracy: 0.7689 - auc_4: 0.8416 - precision_4: 0.5557 - recall_4: 0.7530\n",
            "Epoch 2: val_loss improved from 0.45872 to 0.43040, saving model to resnet152.h5\n",
            "43/43 [==============================] - 56s 1s/step - loss: 0.7121 - binary_accuracy: 0.7689 - auc_4: 0.8416 - precision_4: 0.5557 - recall_4: 0.7530 - val_loss: 0.4304 - val_binary_accuracy: 0.8175 - val_auc_4: 0.8549 - val_precision_4: 0.6739 - val_recall_4: 0.6923 - lr: 0.0100\n",
            "Epoch 3/100\n",
            "43/43 [==============================] - ETA: 0s - loss: 0.7197 - binary_accuracy: 0.7798 - auc_4: 0.8429 - precision_4: 0.5980 - recall_4: 0.7456\n",
            "Epoch 3: val_loss did not improve from 0.43040\n",
            "43/43 [==============================] - 54s 1s/step - loss: 0.7197 - binary_accuracy: 0.7798 - auc_4: 0.8429 - precision_4: 0.5980 - recall_4: 0.7456 - val_loss: 0.4332 - val_binary_accuracy: 0.8207 - val_auc_4: 0.8639 - val_precision_4: 0.6796 - val_recall_4: 0.6973 - lr: 0.0100\n",
            "Epoch 4/100\n",
            "43/43 [==============================] - ETA: 0s - loss: 0.6964 - binary_accuracy: 0.7936 - auc_4: 0.8485 - precision_4: 0.6182 - recall_4: 0.7252\n",
            "Epoch 4: val_loss did not improve from 0.43040\n",
            "43/43 [==============================] - 54s 1s/step - loss: 0.6964 - binary_accuracy: 0.7936 - auc_4: 0.8485 - precision_4: 0.6182 - recall_4: 0.7252 - val_loss: 0.4342 - val_binary_accuracy: 0.8188 - val_auc_4: 0.8641 - val_precision_4: 0.6800 - val_recall_4: 0.6828 - lr: 0.0100\n",
            "Epoch 5/100\n",
            "43/43 [==============================] - ETA: 0s - loss: 0.6737 - binary_accuracy: 0.7834 - auc_4: 0.8559 - precision_4: 0.5791 - recall_4: 0.7477\n",
            "Epoch 5: val_loss did not improve from 0.43040\n",
            "43/43 [==============================] - 54s 1s/step - loss: 0.6737 - binary_accuracy: 0.7834 - auc_4: 0.8559 - precision_4: 0.5791 - recall_4: 0.7477 - val_loss: 0.4428 - val_binary_accuracy: 0.7991 - val_auc_4: 0.8715 - val_precision_4: 0.6143 - val_recall_4: 0.7860 - lr: 0.0100\n",
            "Epoch 6/100\n",
            "43/43 [==============================] - ETA: 0s - loss: 0.7119 - binary_accuracy: 0.7889 - auc_4: 0.8479 - precision_4: 0.5974 - recall_4: 0.7706\n",
            "Epoch 6: val_loss did not improve from 0.43040\n",
            "43/43 [==============================] - 54s 1s/step - loss: 0.7119 - binary_accuracy: 0.7889 - auc_4: 0.8479 - precision_4: 0.5974 - recall_4: 0.7706 - val_loss: 0.4635 - val_binary_accuracy: 0.7983 - val_auc_4: 0.8731 - val_precision_4: 0.6105 - val_recall_4: 0.8000 - lr: 0.0100\n",
            "Epoch 7/100\n",
            "43/43 [==============================] - ETA: 0s - loss: 0.7148 - binary_accuracy: 0.7671 - auc_4: 0.8438 - precision_4: 0.5637 - recall_4: 0.7885\n",
            "Epoch 7: val_loss did not improve from 0.43040\n",
            "43/43 [==============================] - 55s 1s/step - loss: 0.7148 - binary_accuracy: 0.7671 - auc_4: 0.8438 - precision_4: 0.5637 - recall_4: 0.7885 - val_loss: 0.5022 - val_binary_accuracy: 0.7623 - val_auc_4: 0.8665 - val_precision_4: 0.5538 - val_recall_4: 0.8367 - lr: 0.0100\n",
            "Epoch 8/100\n",
            "43/43 [==============================] - ETA: 0s - loss: 0.6684 - binary_accuracy: 0.7878 - auc_4: 0.8622 - precision_4: 0.5887 - recall_4: 0.7785\n",
            "Epoch 8: val_loss improved from 0.43040 to 0.43007, saving model to resnet152.h5\n",
            "43/43 [==============================] - 56s 1s/step - loss: 0.6684 - binary_accuracy: 0.7878 - auc_4: 0.8622 - precision_4: 0.5887 - recall_4: 0.7785 - val_loss: 0.4301 - val_binary_accuracy: 0.8106 - val_auc_4: 0.8725 - val_precision_4: 0.6387 - val_recall_4: 0.7662 - lr: 0.0100\n",
            "Epoch 9/100\n",
            "43/43 [==============================] - ETA: 0s - loss: 0.6399 - binary_accuracy: 0.8041 - auc_4: 0.8755 - precision_4: 0.6142 - recall_4: 0.7845\n",
            "Epoch 9: val_loss improved from 0.43007 to 0.40820, saving model to resnet152.h5\n",
            "43/43 [==============================] - 56s 1s/step - loss: 0.6399 - binary_accuracy: 0.8041 - auc_4: 0.8755 - precision_4: 0.6142 - recall_4: 0.7845 - val_loss: 0.4082 - val_binary_accuracy: 0.8187 - val_auc_4: 0.8778 - val_precision_4: 0.6563 - val_recall_4: 0.7587 - lr: 0.0100\n",
            "Epoch 10/100\n",
            "43/43 [==============================] - ETA: 0s - loss: 0.6390 - binary_accuracy: 0.7965 - auc_4: 0.8791 - precision_4: 0.6156 - recall_4: 0.8057\n",
            "Epoch 10: val_loss did not improve from 0.40820\n",
            "43/43 [==============================] - 55s 1s/step - loss: 0.6390 - binary_accuracy: 0.7965 - auc_4: 0.8791 - precision_4: 0.6156 - recall_4: 0.8057 - val_loss: 0.4236 - val_binary_accuracy: 0.8053 - val_auc_4: 0.8787 - val_precision_4: 0.6235 - val_recall_4: 0.7930 - lr: 0.0100\n",
            "Epoch 11/100\n",
            "43/43 [==============================] - ETA: 0s - loss: 0.6837 - binary_accuracy: 0.7831 - auc_4: 0.8621 - precision_4: 0.5931 - recall_4: 0.8142\n",
            "Epoch 11: val_loss did not improve from 0.40820\n",
            "43/43 [==============================] - 55s 1s/step - loss: 0.6837 - binary_accuracy: 0.7831 - auc_4: 0.8621 - precision_4: 0.5931 - recall_4: 0.8142 - val_loss: 0.4371 - val_binary_accuracy: 0.7988 - val_auc_4: 0.8790 - val_precision_4: 0.6109 - val_recall_4: 0.8021 - lr: 0.0100\n",
            "Epoch 12/100\n",
            "43/43 [==============================] - ETA: 0s - loss: 0.6419 - binary_accuracy: 0.8023 - auc_4: 0.8742 - precision_4: 0.6047 - recall_4: 0.7933\n",
            "Epoch 12: val_loss did not improve from 0.40820\n",
            "43/43 [==============================] - 54s 1s/step - loss: 0.6419 - binary_accuracy: 0.8023 - auc_4: 0.8742 - precision_4: 0.6047 - recall_4: 0.7933 - val_loss: 0.4551 - val_binary_accuracy: 0.7892 - val_auc_4: 0.8798 - val_precision_4: 0.5929 - val_recall_4: 0.8216 - lr: 0.0100\n",
            "Epoch 13/100\n",
            "43/43 [==============================] - ETA: 0s - loss: 0.6456 - binary_accuracy: 0.7896 - auc_4: 0.8709 - precision_4: 0.5918 - recall_4: 0.7930\n",
            "Epoch 13: val_loss did not improve from 0.40820\n",
            "43/43 [==============================] - 55s 1s/step - loss: 0.6456 - binary_accuracy: 0.7896 - auc_4: 0.8709 - precision_4: 0.5918 - recall_4: 0.7930 - val_loss: 0.4897 - val_binary_accuracy: 0.7747 - val_auc_4: 0.8785 - val_precision_4: 0.5698 - val_recall_4: 0.8427 - lr: 0.0100\n",
            "Epoch 14/100\n",
            "43/43 [==============================] - ETA: 0s - loss: 0.6519 - binary_accuracy: 0.8078 - auc_4: 0.8759 - precision_4: 0.6275 - recall_4: 0.8169\n",
            "Epoch 14: val_loss did not improve from 0.40820\n",
            "43/43 [==============================] - 55s 1s/step - loss: 0.6519 - binary_accuracy: 0.8078 - auc_4: 0.8759 - precision_4: 0.6275 - recall_4: 0.8169 - val_loss: 0.4317 - val_binary_accuracy: 0.8020 - val_auc_4: 0.8804 - val_precision_4: 0.6161 - val_recall_4: 0.8030 - lr: 0.0100\n",
            "Epoch 15/100\n",
            "43/43 [==============================] - ETA: 0s - loss: 0.6800 - binary_accuracy: 0.7762 - auc_4: 0.8573 - precision_4: 0.5721 - recall_4: 0.8060\n",
            "Epoch 15: val_loss did not improve from 0.40820\n",
            "43/43 [==============================] - 55s 1s/step - loss: 0.6800 - binary_accuracy: 0.7762 - auc_4: 0.8573 - precision_4: 0.5721 - recall_4: 0.8060 - val_loss: 0.4426 - val_binary_accuracy: 0.8028 - val_auc_4: 0.8819 - val_precision_4: 0.6172 - val_recall_4: 0.8035 - lr: 0.0100\n",
            "Epoch 16/100\n",
            "43/43 [==============================] - ETA: 0s - loss: 0.6760 - binary_accuracy: 0.7980 - auc_4: 0.8568 - precision_4: 0.5981 - recall_4: 0.7702\n",
            "Epoch 16: val_loss did not improve from 0.40820\n",
            "43/43 [==============================] - 55s 1s/step - loss: 0.6760 - binary_accuracy: 0.7980 - auc_4: 0.8568 - precision_4: 0.5981 - recall_4: 0.7702 - val_loss: 0.4994 - val_binary_accuracy: 0.7704 - val_auc_4: 0.8818 - val_precision_4: 0.5631 - val_recall_4: 0.8529 - lr: 0.0100\n",
            "Epoch 17/100\n",
            "43/43 [==============================] - ETA: 0s - loss: 0.6425 - binary_accuracy: 0.7932 - auc_4: 0.8761 - precision_4: 0.5985 - recall_4: 0.8162\n",
            "Epoch 17: val_loss improved from 0.40820 to 0.40060, saving model to resnet152.h5\n",
            "43/43 [==============================] - 56s 1s/step - loss: 0.6425 - binary_accuracy: 0.7932 - auc_4: 0.8761 - precision_4: 0.5985 - recall_4: 0.8162 - val_loss: 0.4006 - val_binary_accuracy: 0.8169 - val_auc_4: 0.8835 - val_precision_4: 0.6487 - val_recall_4: 0.7743 - lr: 0.0100\n",
            "Epoch 18/100\n",
            "43/43 [==============================] - ETA: 0s - loss: 0.6399 - binary_accuracy: 0.7874 - auc_4: 0.8761 - precision_4: 0.5886 - recall_4: 0.8142\n",
            "Epoch 18: val_loss did not improve from 0.40060\n",
            "43/43 [==============================] - 55s 1s/step - loss: 0.6399 - binary_accuracy: 0.7874 - auc_4: 0.8761 - precision_4: 0.5886 - recall_4: 0.8142 - val_loss: 0.4391 - val_binary_accuracy: 0.8089 - val_auc_4: 0.8837 - val_precision_4: 0.6292 - val_recall_4: 0.7960 - lr: 0.0100\n",
            "Epoch 19/100\n",
            "43/43 [==============================] - ETA: 0s - loss: 0.6243 - binary_accuracy: 0.7987 - auc_4: 0.8847 - precision_4: 0.6190 - recall_4: 0.8112\n",
            "Epoch 19: val_loss did not improve from 0.40060\n",
            "43/43 [==============================] - 55s 1s/step - loss: 0.6243 - binary_accuracy: 0.7987 - auc_4: 0.8847 - precision_4: 0.6190 - recall_4: 0.8112 - val_loss: 0.4201 - val_binary_accuracy: 0.8079 - val_auc_4: 0.8851 - val_precision_4: 0.6254 - val_recall_4: 0.8064 - lr: 0.0100\n",
            "Epoch 20/100\n",
            "43/43 [==============================] - ETA: 0s - loss: 0.6333 - binary_accuracy: 0.7831 - auc_4: 0.8771 - precision_4: 0.5859 - recall_4: 0.8138\n",
            "Epoch 20: val_loss improved from 0.40060 to 0.39888, saving model to resnet152.h5\n",
            "43/43 [==============================] - 56s 1s/step - loss: 0.6333 - binary_accuracy: 0.7831 - auc_4: 0.8771 - precision_4: 0.5859 - recall_4: 0.8138 - val_loss: 0.3989 - val_binary_accuracy: 0.8208 - val_auc_4: 0.8857 - val_precision_4: 0.6534 - val_recall_4: 0.7853 - lr: 0.0100\n",
            "Epoch 21/100\n",
            "43/43 [==============================] - ETA: 0s - loss: 0.6115 - binary_accuracy: 0.8085 - auc_4: 0.8848 - precision_4: 0.6219 - recall_4: 0.8096\n",
            "Epoch 21: val_loss did not improve from 0.39888\n",
            "43/43 [==============================] - 55s 1s/step - loss: 0.6115 - binary_accuracy: 0.8085 - auc_4: 0.8848 - precision_4: 0.6219 - recall_4: 0.8096 - val_loss: 0.4295 - val_binary_accuracy: 0.8088 - val_auc_4: 0.8862 - val_precision_4: 0.6257 - val_recall_4: 0.8122 - lr: 0.0100\n",
            "Epoch 22/100\n",
            "43/43 [==============================] - ETA: 0s - loss: 0.5922 - binary_accuracy: 0.8143 - auc_4: 0.8948 - precision_4: 0.6390 - recall_4: 0.8157\n",
            "Epoch 22: val_loss did not improve from 0.39888\n",
            "43/43 [==============================] - 54s 1s/step - loss: 0.5922 - binary_accuracy: 0.8143 - auc_4: 0.8948 - precision_4: 0.6390 - recall_4: 0.8157 - val_loss: 0.4280 - val_binary_accuracy: 0.8102 - val_auc_4: 0.8862 - val_precision_4: 0.6286 - val_recall_4: 0.8098 - lr: 0.0100\n",
            "Epoch 23/100\n",
            "43/43 [==============================] - ETA: 0s - loss: 0.6306 - binary_accuracy: 0.8081 - auc_4: 0.8780 - precision_4: 0.6223 - recall_4: 0.8088\n",
            "Epoch 23: val_loss did not improve from 0.39888\n",
            "43/43 [==============================] - 55s 1s/step - loss: 0.6306 - binary_accuracy: 0.8081 - auc_4: 0.8780 - precision_4: 0.6223 - recall_4: 0.8088 - val_loss: 0.4453 - val_binary_accuracy: 0.7923 - val_auc_4: 0.8784 - val_precision_4: 0.5977 - val_recall_4: 0.8203 - lr: 0.0100\n",
            "Epoch 24/100\n",
            "43/43 [==============================] - ETA: 0s - loss: 0.6671 - binary_accuracy: 0.7743 - auc_4: 0.8648 - precision_4: 0.5808 - recall_4: 0.8184\n",
            "Epoch 24: val_loss did not improve from 0.39888\n",
            "43/43 [==============================] - 54s 1s/step - loss: 0.6671 - binary_accuracy: 0.7743 - auc_4: 0.8648 - precision_4: 0.5808 - recall_4: 0.8184 - val_loss: 0.3997 - val_binary_accuracy: 0.8204 - val_auc_4: 0.8876 - val_precision_4: 0.6520 - val_recall_4: 0.7878 - lr: 0.0100\n",
            "Epoch 25/100\n",
            "43/43 [==============================] - ETA: 0s - loss: 0.6179 - binary_accuracy: 0.8089 - auc_4: 0.8861 - precision_4: 0.6327 - recall_4: 0.8048\n",
            "Epoch 25: val_loss did not improve from 0.39888\n",
            "43/43 [==============================] - 55s 1s/step - loss: 0.6179 - binary_accuracy: 0.8089 - auc_4: 0.8861 - precision_4: 0.6327 - recall_4: 0.8048 - val_loss: 0.4306 - val_binary_accuracy: 0.8060 - val_auc_4: 0.8853 - val_precision_4: 0.6208 - val_recall_4: 0.8140 - lr: 0.0100\n",
            "Epoch 26/100\n",
            "43/43 [==============================] - ETA: 0s - loss: 0.6412 - binary_accuracy: 0.7976 - auc_4: 0.8752 - precision_4: 0.6035 - recall_4: 0.8065\n",
            "Epoch 26: val_loss did not improve from 0.39888\n",
            "43/43 [==============================] - 55s 1s/step - loss: 0.6412 - binary_accuracy: 0.7976 - auc_4: 0.8752 - precision_4: 0.6035 - recall_4: 0.8065 - val_loss: 0.4259 - val_binary_accuracy: 0.8090 - val_auc_4: 0.8818 - val_precision_4: 0.6292 - val_recall_4: 0.7969 - lr: 0.0100\n",
            "Epoch 27/100\n",
            "43/43 [==============================] - ETA: 0s - loss: 0.6191 - binary_accuracy: 0.8045 - auc_4: 0.8852 - precision_4: 0.6180 - recall_4: 0.8057\n",
            "Epoch 27: val_loss did not improve from 0.39888\n",
            "43/43 [==============================] - 54s 1s/step - loss: 0.6191 - binary_accuracy: 0.8045 - auc_4: 0.8852 - precision_4: 0.6180 - recall_4: 0.8057 - val_loss: 0.4120 - val_binary_accuracy: 0.8111 - val_auc_4: 0.8851 - val_precision_4: 0.6327 - val_recall_4: 0.7980 - lr: 0.0100\n",
            "Epoch 28/100\n",
            "43/43 [==============================] - ETA: 0s - loss: 0.6294 - binary_accuracy: 0.7994 - auc_4: 0.8780 - precision_4: 0.5984 - recall_4: 0.8056\n",
            "Epoch 28: val_loss did not improve from 0.39888\n",
            "43/43 [==============================] - 55s 1s/step - loss: 0.6294 - binary_accuracy: 0.7994 - auc_4: 0.8780 - precision_4: 0.5984 - recall_4: 0.8056 - val_loss: 0.3992 - val_binary_accuracy: 0.8164 - val_auc_4: 0.8869 - val_precision_4: 0.6434 - val_recall_4: 0.7928 - lr: 0.0100\n",
            "Epoch 29/100\n",
            "43/43 [==============================] - ETA: 0s - loss: 0.6223 - binary_accuracy: 0.7991 - auc_4: 0.8774 - precision_4: 0.5828 - recall_4: 0.8047\n",
            "Epoch 29: val_loss did not improve from 0.39888\n",
            "43/43 [==============================] - 54s 1s/step - loss: 0.6223 - binary_accuracy: 0.7991 - auc_4: 0.8774 - precision_4: 0.5828 - recall_4: 0.8047 - val_loss: 0.4370 - val_binary_accuracy: 0.8081 - val_auc_4: 0.8863 - val_precision_4: 0.6249 - val_recall_4: 0.8105 - lr: 0.0100\n",
            "Epoch 30/100\n",
            "43/43 [==============================] - ETA: 0s - loss: 0.6284 - binary_accuracy: 0.7998 - auc_4: 0.8799 - precision_4: 0.6100 - recall_4: 0.8041\n",
            "Epoch 30: val_loss did not improve from 0.39888\n",
            "\n",
            "Epoch 30: ReduceLROnPlateau reducing learning rate to 0.0009999999776482583.\n",
            "43/43 [==============================] - 55s 1s/step - loss: 0.6284 - binary_accuracy: 0.7998 - auc_4: 0.8799 - precision_4: 0.6100 - recall_4: 0.8041 - val_loss: 0.4194 - val_binary_accuracy: 0.8144 - val_auc_4: 0.8887 - val_precision_4: 0.6363 - val_recall_4: 0.8083 - lr: 0.0100\n"
          ]
        }
      ],
      "source": [
        "history_resnet152, model_resnet152 = compile_fit_model(\n",
        "    model=model_resnet152, \n",
        "    save_path=\"resnet152.h5\", \n",
        "    train_data=train_data_res, \n",
        "    val_data=val_data_res\n",
        ")"
      ],
      "id": "1bfa8c0b-9813-4191-9fb2-9c6a96b88cfa"
    },
    {
      "cell_type": "code",
      "execution_count": null,
      "metadata": {
        "colab": {
          "base_uri": "https://localhost:8080/"
        },
        "id": "8ef7d3e2-eeec-43f2-bce9-f00b79253b0b",
        "outputId": "a895dc68-b181-4384-a101-7db70f85f6cc"
      },
      "outputs": [
        {
          "name": "stdout",
          "output_type": "stream",
          "text": [
            "868/868 [==============================] - 68s 78ms/step - loss: 0.3954 - binary_accuracy: 0.8200 - auc_4: 0.8875 - precision_4: 0.6521 - recall_4: 0.7845\n"
          ]
        },
        {
          "data": {
            "text/plain": [
              "[0.3954187333583832,\n",
              " 0.8199982047080994,\n",
              " 0.887549638748169,\n",
              " 0.6520730257034302,\n",
              " 0.7845401763916016]"
            ]
          },
          "execution_count": 59,
          "metadata": {},
          "output_type": "execute_result"
        }
      ],
      "source": [
        "resnet_eval = model_resnet152.evaluate(test_data_res)\n",
        "resnet_eval"
      ],
      "id": "8ef7d3e2-eeec-43f2-bce9-f00b79253b0b"
    },
    {
      "cell_type": "code",
      "execution_count": null,
      "metadata": {
        "id": "e34bdb9c-120c-418f-9174-05a2cc006c6d"
      },
      "outputs": [],
      "source": [
        "result_resnet152 = pd.DataFrame(history_resnet152.history)"
      ],
      "id": "e34bdb9c-120c-418f-9174-05a2cc006c6d"
    },
    {
      "cell_type": "code",
      "execution_count": null,
      "metadata": {
        "colab": {
          "base_uri": "https://localhost:8080/",
          "height": 282
        },
        "id": "3696b663-09cc-4bb2-a130-68801992a0e8",
        "outputId": "18ded2a4-78cb-49ac-dd1c-c5c85d7ce878"
      },
      "outputs": [
        {
          "data": {
            "text/plain": [
              "<matplotlib.axes._subplots.AxesSubplot at 0x7fa45851e1d0>"
            ]
          },
          "execution_count": 61,
          "metadata": {},
          "output_type": "execute_result"
        },
        {
          "data": {
            "image/png": "[encoded data removed]",
            "text/plain": [
              "<Figure size 432x288 with 1 Axes>"
            ]
          },
          "metadata": {},
          "output_type": "display_data"
        }
      ],
      "source": [
        "result_resnet152.plot()"
      ],
      "id": "3696b663-09cc-4bb2-a130-68801992a0e8"
    },
    {
      "cell_type": "markdown",
      "metadata": {
        "id": "-rwfzI3_6r72"
      },
      "source": [
        "## Ensembling\n",
        "\n",
        "For an ensemble model, it will be the the weighted average of previously trained model."
      ],
      "id": "-rwfzI3_6r72"
    },
    {
      "cell_type": "code",
      "execution_count": 211,
      "metadata": {
        "id": "8YbFmK8xGnqp"
      },
      "outputs": [],
      "source": [
        "#save prediction from each model\n",
        "proba_vgg = model_vgg16.predict(test_data_vgg)\n",
        "proba_effnet = model_effnetb0.predict(test_data_eff)\n",
        "proba_xception = model_xception.predict(test_data_xcep)\n",
        "proba_densenet = model_densenet121_tuned.predict(test_data_dense)\n",
        "proba_resnet = model_resnet152.predict(test_data_res)"
      ],
      "id": "8YbFmK8xGnqp"
    },
    {
      "cell_type": "code",
      "execution_count": 227,
      "metadata": {
        "id": "_NDbIzY91p3A"
      },
      "outputs": [],
      "source": [
        "models_predictions = [\n",
        "    proba_vgg,\n",
        "    proba_effnet,\n",
        "    proba_xception,\n",
        "    proba_densenet,\n",
        "    proba_resnet\n",
        "]"
      ],
      "id": "_NDbIzY91p3A"
    },
    {
      "cell_type": "code",
      "execution_count": 228,
      "metadata": {
        "id": "cF8NZvW27C8c"
      },
      "outputs": [],
      "source": [
        "#assigning weights to respective model\n",
        "weights = [\n",
        "    0.1,     #weights for vgg16\n",
        "    0.1,     #weights for efficientnet \n",
        "    0.1,     #weights for xception\n",
        "    0.5,     #weigths for densenet\n",
        "    0.2      #weights for resnet\n",
        "]\n",
        "for i in range(len(models_predictions)):\n",
        "   models_predictions[i] = weights[i] * models_predictions[i]\n",
        "\n",
        "#weighted average of ensembled model\n",
        "ensemble_pred = np.sum(models_predictions,axis=0)"
      ],
      "id": "cF8NZvW27C8c"
    },
    {
      "cell_type": "code",
      "execution_count": 191,
      "metadata": {
        "id": "ey2lYeSlKdf2"
      },
      "outputs": [],
      "source": [
        "#since we are only going to extract the label information, the preprocessing in test_data does not matter\n",
        "y = np.concatenate([label for image, label in test_data_xcep], axis=0)"
      ],
      "id": "ey2lYeSlKdf2"
    },
    {
      "cell_type": "code",
      "execution_count": 229,
      "metadata": {
        "colab": {
          "base_uri": "https://localhost:8080/"
        },
        "id": "4GQAKgL8OeYq",
        "outputId": "ed797b2c-1b57-4721-d936-e97c19b6e9a4"
      },
      "outputs": [
        {
          "output_type": "stream",
          "name": "stdout",
          "text": [
            "accuracy: 0.8637059724349158\n",
            "auc_roc: 0.9248503162741161\n",
            "precision: 0.7444497493435187\n",
            "recall: 0.7916481563749445\n"
          ]
        }
      ],
      "source": [
        "acc = accuracy_score(y, np.round(ensemble_pred))\n",
        "roc = roc_auc_score(y, (ensemble_pred))\n",
        "prec = precision_score(y, np.round(ensemble_pred))\n",
        "recal = recall_score(y, np.round(ensemble_pred))\n",
        "\n",
        "print(f\"accuracy: {acc}\")\n",
        "print(f\"auc_roc: {roc}\")\n",
        "print(f\"precision: {prec}\")\n",
        "print(f\"recall: {recal}\")\n",
        "\n",
        "ensemble_eval = [\"_\", acc, roc, prec, recal]"
      ],
      "id": "4GQAKgL8OeYq"
    },
    {
      "cell_type": "markdown",
      "metadata": {
        "id": "K-aBw7LNRXQm"
      },
      "source": [
        "# Evaluation\n",
        "\n",
        "Among all the pretrained models, an ensemble performed the best on the unseen test data."
      ],
      "id": "K-aBw7LNRXQm"
    },
    {
      "cell_type": "code",
      "execution_count": 230,
      "metadata": {
        "colab": {
          "base_uri": "https://localhost:8080/",
          "height": 269
        },
        "id": "mWfFUWWaRWOl",
        "outputId": "d115d5fd-7a0b-4df9-d4e2-6e32bce5cdb0"
      },
      "outputs": [
        {
          "output_type": "execute_result",
          "data": {
            "text/plain": [
              "                    accuracy   auc_roc  precision    recall\n",
              "VGG16               0.845365  0.897877   0.732711  0.716761\n",
              "EfficientNetB0      0.840771  0.893415   0.716584  0.726407\n",
              "Xception            0.838681  0.896545   0.705417  0.741321\n",
              "DenseNet            0.853202  0.908131   0.730898  0.764295\n",
              "DenseNet(tuned)     0.858733  0.922759   0.726171  0.806499\n",
              "ResNet              0.819998  0.887550   0.652073  0.784540\n",
              "Ensemble(5 models)  0.863706  0.924850   0.744450  0.791648"
            ],
            "text/html": [
              "\n",
              "  <div id=\"df-7043b106-f2b3-4a71-b25b-41aeea4ab263\">\n",
              "    <div class=\"colab-df-container\">\n",
              "      <div>\n",
              "<style scoped>\n",
              "    .dataframe tbody tr th:only-of-type {\n",
              "        vertical-align: middle;\n",
              "    }\n",
              "\n",
              "    .dataframe tbody tr th {\n",
              "        vertical-align: top;\n",
              "    }\n",
              "\n",
              "    .dataframe thead th {\n",
              "        text-align: right;\n",
              "    }\n",
              "</style>\n",
              "<table border=\"1\" class=\"dataframe\">\n",
              "  <thead>\n",
              "    <tr style=\"text-align: right;\">\n",
              "      <th></th>\n",
              "      <th>accuracy</th>\n",
              "      <th>auc_roc</th>\n",
              "      <th>precision</th>\n",
              "      <th>recall</th>\n",
              "    </tr>\n",
              "  </thead>\n",
              "  <tbody>\n",
              "    <tr>\n",
              "      <th>VGG16</th>\n",
              "      <td>0.845365</td>\n",
              "      <td>0.897877</td>\n",
              "      <td>0.732711</td>\n",
              "      <td>0.716761</td>\n",
              "    </tr>\n",
              "    <tr>\n",
              "      <th>EfficientNetB0</th>\n",
              "      <td>0.840771</td>\n",
              "      <td>0.893415</td>\n",
              "      <td>0.716584</td>\n",
              "      <td>0.726407</td>\n",
              "    </tr>\n",
              "    <tr>\n",
              "      <th>Xception</th>\n",
              "      <td>0.838681</td>\n",
              "      <td>0.896545</td>\n",
              "      <td>0.705417</td>\n",
              "      <td>0.741321</td>\n",
              "    </tr>\n",
              "    <tr>\n",
              "      <th>DenseNet</th>\n",
              "      <td>0.853202</td>\n",
              "      <td>0.908131</td>\n",
              "      <td>0.730898</td>\n",
              "      <td>0.764295</td>\n",
              "    </tr>\n",
              "    <tr>\n",
              "      <th>DenseNet(tuned)</th>\n",
              "      <td>0.858733</td>\n",
              "      <td>0.922759</td>\n",
              "      <td>0.726171</td>\n",
              "      <td>0.806499</td>\n",
              "    </tr>\n",
              "    <tr>\n",
              "      <th>ResNet</th>\n",
              "      <td>0.819998</td>\n",
              "      <td>0.887550</td>\n",
              "      <td>0.652073</td>\n",
              "      <td>0.784540</td>\n",
              "    </tr>\n",
              "    <tr>\n",
              "      <th>Ensemble(5 models)</th>\n",
              "      <td>0.863706</td>\n",
              "      <td>0.924850</td>\n",
              "      <td>0.744450</td>\n",
              "      <td>0.791648</td>\n",
              "    </tr>\n",
              "  </tbody>\n",
              "</table>\n",
              "</div>\n",
              "      <button class=\"colab-df-convert\" onclick=\"convertToInteractive('df-7043b106-f2b3-4a71-b25b-41aeea4ab263')\"\n",
              "              title=\"Convert this dataframe to an interactive table.\"\n",
              "              style=\"display:none;\">\n",
              "        \n",
              "  <svg xmlns=\"http://www.w3.org/2000/svg\" height=\"24px\"viewBox=\"0 0 24 24\"\n",
              "       width=\"24px\">\n",
              "    <path d=\"M0 0h24v24H0V0z\" fill=\"none\"/>\n",
              "    <path d=\"M18.56 5.44l.94 2.06.94-2.06 2.06-.94-2.06-.94-.94-2.06-.94 2.06-2.06.94zm-11 1L8.5 8.5l.94-2.06 2.06-.94-2.06-.94L8.5 2.5l-.94 2.06-2.06.94zm10 10l.94 2.06.94-2.06 2.06-.94-2.06-.94-.94-2.06-.94 2.06-2.06.94z\"/><path d=\"M17.41 7.96l-1.37-1.37c-.4-.4-.92-.59-1.43-.59-.52 0-1.04.2-1.43.59L10.3 9.45l-7.72 7.72c-.78.78-.78 2.05 0 2.83L4 21.41c.39.39.9.59 1.41.59.51 0 1.02-.2 1.41-.59l7.78-7.78 2.81-2.81c.8-.78.8-2.07 0-2.86zM5.41 20L4 18.59l7.72-7.72 1.47 1.35L5.41 20z\"/>\n",
              "  </svg>\n",
              "      </button>\n",
              "      \n",
              "  <style>\n",
              "    .colab-df-container {\n",
              "      display:flex;\n",
              "      flex-wrap:wrap;\n",
              "      gap: 12px;\n",
              "    }\n",
              "\n",
              "    .colab-df-convert {\n",
              "      background-color: #E8F0FE;\n",
              "      border: none;\n",
              "      border-radius: 50%;\n",
              "      cursor: pointer;\n",
              "      display: none;\n",
              "      fill: #1967D2;\n",
              "      height: 32px;\n",
              "      padding: 0 0 0 0;\n",
              "      width: 32px;\n",
              "    }\n",
              "\n",
              "    .colab-df-convert:hover {\n",
              "      background-color: #E2EBFA;\n",
              "      box-shadow: 0px 1px 2px rgba(60, 64, 67, 0.3), 0px 1px 3px 1px rgba(60, 64, 67, 0.15);\n",
              "      fill: #174EA6;\n",
              "    }\n",
              "\n",
              "    [theme=dark] .colab-df-convert {\n",
              "      background-color: #3B4455;\n",
              "      fill: #D2E3FC;\n",
              "    }\n",
              "\n",
              "    [theme=dark] .colab-df-convert:hover {\n",
              "      background-color: #434B5C;\n",
              "      box-shadow: 0px 1px 3px 1px rgba(0, 0, 0, 0.15);\n",
              "      filter: drop-shadow(0px 1px 2px rgba(0, 0, 0, 0.3));\n",
              "      fill: #FFFFFF;\n",
              "    }\n",
              "  </style>\n",
              "\n",
              "      <script>\n",
              "        const buttonEl =\n",
              "          document.querySelector('#df-7043b106-f2b3-4a71-b25b-41aeea4ab263 button.colab-df-convert');\n",
              "        buttonEl.style.display =\n",
              "          google.colab.kernel.accessAllowed ? 'block' : 'none';\n",
              "\n",
              "        async function convertToInteractive(key) {\n",
              "          const element = document.querySelector('#df-7043b106-f2b3-4a71-b25b-41aeea4ab263');\n",
              "          const dataTable =\n",
              "            await google.colab.kernel.invokeFunction('convertToInteractive',\n",
              "                                                     [key], {});\n",
              "          if (!dataTable) return;\n",
              "\n",
              "          const docLinkHtml = 'Like what you see? Visit the ' +\n",
              "            '<a target=\"_blank\" href=https://colab.research.google.com/notebooks/data_table.ipynb>data table notebook</a>'\n",
              "            + ' to learn more about interactive tables.';\n",
              "          element.innerHTML = '';\n",
              "          dataTable['output_type'] = 'display_data';\n",
              "          await google.colab.output.renderOutput(dataTable, element);\n",
              "          const docLink = document.createElement('div');\n",
              "          docLink.innerHTML = docLinkHtml;\n",
              "          element.appendChild(docLink);\n",
              "        }\n",
              "      </script>\n",
              "    </div>\n",
              "  </div>\n",
              "  "
            ]
          },
          "metadata": {},
          "execution_count": 230
        }
      ],
      "source": [
        "pd.DataFrame(\n",
        "    data= [\n",
        "           vgg16_eval[1:],\n",
        "           effnet_eval[1:],\n",
        "           xception_eval[1:],\n",
        "           densenet_eval[1:],\n",
        "           tuned_densenet[1:],\n",
        "           resnet_eval[1:],\n",
        "           ensemble_eval[1:]\n",
        "     ],\n",
        "     columns=[\n",
        "              'accuracy',\n",
        "              'auc_roc',\n",
        "              'precision',\n",
        "              'recall'\n",
        "    ],\n",
        "    index=[\n",
        "           'VGG16',\n",
        "           'EfficientNetB0',\n",
        "           'Xception',\n",
        "           'DenseNet',\n",
        "           'DenseNet(tuned)',\n",
        "           'ResNet',\n",
        "           \"Ensemble(5 models)\"\n",
        "    ]\n",
        ")"
      ],
      "id": "mWfFUWWaRWOl"
    },
    {
      "cell_type": "markdown",
      "metadata": {
        "id": "2TuCf-QI53k1"
      },
      "source": [
        "## Confusion matrix & ROC AUC"
      ],
      "id": "2TuCf-QI53k1"
    },
    {
      "cell_type": "code",
      "execution_count": 231,
      "metadata": {
        "colab": {
          "base_uri": "https://localhost:8080/",
          "height": 280
        },
        "id": "RfqU-E1NN41I",
        "outputId": "c5193c6a-aeb9-4192-d945-a4893b6bfe66"
      },
      "outputs": [
        {
          "output_type": "display_data",
          "data": {
            "text/plain": [
              "<Figure size 432x288 with 2 Axes>"
            ],
            "image/png": "[encoded data removed]"
          },
          "metadata": {
            "needs_background": "light"
          }
        }
      ],
      "source": [
        "#print confusion matrix\n",
        "cm = confusion_matrix(y, np.round(ensemble_pred))\n",
        "disp = ConfusionMatrixDisplay(confusion_matrix=cm)\n",
        "disp.plot(cmap=\"Blues\");"
      ],
      "id": "RfqU-E1NN41I"
    },
    {
      "cell_type": "code",
      "execution_count": 232,
      "metadata": {
        "colab": {
          "base_uri": "https://localhost:8080/",
          "height": 279
        },
        "id": "IGhLMb097Zzz",
        "outputId": "95939c5e-32a8-43bd-96ef-f41cfed9b667"
      },
      "outputs": [
        {
          "output_type": "display_data",
          "data": {
            "text/plain": [
              "<Figure size 432x288 with 1 Axes>"
            ],
            "image/png": "[encoded data removed]"
          },
          "metadata": {
            "needs_background": "light"
          }
        }
      ],
      "source": [
        "RocCurveDisplay.from_predictions(y, ensemble_pred);"
      ],
      "id": "IGhLMb097Zzz"
    },
    {
      "cell_type": "markdown",
      "metadata": {
        "id": "3992af1d-7dac-4d26-b42c-2e338619a605"
      },
      "source": [
        "# Conclusion\n",
        "\n",
        "Transfer learning has proven capable of learninig to differentiate between cancerous tissues and non-cancerous. \n",
        "\n",
        "In the best performing ensemble model, it has\n",
        "- 86% accuracy\n",
        "- 0.92 roc auc\n",
        "- 74% precision\n",
        "- 79% recall"
      ],
      "id": "3992af1d-7dac-4d26-b42c-2e338619a605"
    },
    {
      "cell_type": "code",
      "execution_count": null,
      "metadata": {
        "id": "f93a840f-1a03-4895-bd4c-567d67d61618"
      },
      "outputs": [],
      "source": [
        ""
      ],
      "id": "f93a840f-1a03-4895-bd4c-567d67d61618"
    }
  ],
  "metadata": {
    "accelerator": "GPU",
    "colab": {
      "collapsed_sections": [],
      "machine_shape": "hm",
      "name": "2_cancer.ipynb",
      "toc_visible": true,
      "provenance": []
    },
    "kernelspec": {
      "display_name": "Python 3 (ipykernel)",
      "language": "python",
      "name": "python3"
    },
    "language_info": {
      "codemirror_mode": {
        "name": "ipython",
        "version": 3
      },
      "file_extension": ".py",
      "mimetype": "text/x-python",
      "name": "python",
      "nbconvert_exporter": "python",
      "pygments_lexer": "ipython3",
      "version": "3.8.12"
    }
  },
  "nbformat": 4,
  "nbformat_minor": 5
}
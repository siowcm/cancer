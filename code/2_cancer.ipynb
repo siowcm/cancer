{
 "cells": [
  {
   "cell_type": "markdown",
   "id": "324598b6-184a-4cdb-a89c-42b537f93dc2",
   "metadata": {
    "id": "324598b6-184a-4cdb-a89c-42b537f93dc2"
   },
   "source": [
    "[![Open In Colab](https://colab.research.google.com/assets/colab-badge.svg)](https://colab.research.google.com/github/siowcm/cancer/blob/main/code/02-cancer.ipynb)\n",
    "\n",
    "Note: Run notebook in colab"
   ]
  },
  {
   "cell_type": "markdown",
   "id": "01079716-bb63-4f39-83b8-eacab1fdeb7b",
   "metadata": {
    "id": "01079716-bb63-4f39-83b8-eacab1fdeb7b"
   },
   "source": [
    "# Import libraries"
   ]
  },
  {
   "cell_type": "code",
   "execution_count": 1,
   "id": "39a8dfe3-4921-4ab5-92fd-c4af1086c39c",
   "metadata": {
    "execution": {
     "iopub.execute_input": "2022-03-15T05:42:59.722970Z",
     "iopub.status.busy": "2022-03-15T05:42:59.722451Z",
     "iopub.status.idle": "2022-03-15T05:43:05.694354Z",
     "shell.execute_reply": "2022-03-15T05:43:05.694109Z",
     "shell.execute_reply.started": "2022-03-15T05:42:59.722890Z"
    },
    "id": "39a8dfe3-4921-4ab5-92fd-c4af1086c39c",
    "tags": []
   },
   "outputs": [],
   "source": [
    "# import libraries\n",
    "import glob\n",
    "import os\n",
    "import re\n",
    "import shutil\n",
    "\n",
    "import cv2\n",
    "import matplotlib.pyplot as plt\n",
    "import numpy as np\n",
    "import pandas as pd\n",
    "import seaborn as sns\n",
    "import tensorflow as tf\n",
    "from imutils import paths\n",
    "from keras.preprocessing.image import ImageDataGenerator\n",
    "from sklearn.metrics import (\n",
    "    ConfusionMatrixDisplay,\n",
    "    RocCurveDisplay,\n",
    "    confusion_matrix,\n",
    ")\n",
    "from sklearn.model_selection import train_test_split\n",
    "from tensorflow import keras"
   ]
  },
  {
   "cell_type": "code",
   "execution_count": 2,
   "id": "ce7d48d6-69e4-4313-b8c1-75772446b5d4",
   "metadata": {
    "colab": {
     "base_uri": "https://localhost:8080/"
    },
    "id": "ce7d48d6-69e4-4313-b8c1-75772446b5d4",
    "outputId": "5a8f9c62-4ca9-492d-d205-f276faf8ae71"
   },
   "outputs": [
    {
     "name": "stdout",
     "output_type": "stream",
     "text": [
      "Cloning into 'cancer'...\n",
      "remote: Enumerating objects: 278383, done.\u001b[K\n",
      "remote: Counting objects: 100% (11/11), done.\u001b[K\n",
      "remote: Compressing objects: 100% (10/10), done.\u001b[K\n",
      "remote: Total 278383 (delta 0), reused 11 (delta 0), pack-reused 278372\u001b[K\n",
      "Receiving objects: 100% (278383/278383), 1.54 GiB | 14.24 MiB/s, done.\n",
      "Resolving deltas: 100% (1/1), done.\n",
      "Checking out files: 100% (555055/555055), done.\n"
     ]
    }
   ],
   "source": [
    "# clone github repo\n",
    "!git clone https://github.com/siowcm/cancer.git"
   ]
  },
  {
   "cell_type": "code",
   "execution_count": 3,
   "id": "0a15bc9a-3bf9-443a-b7c5-1474ec4aab6b",
   "metadata": {
    "colab": {
     "base_uri": "https://localhost:8080/"
    },
    "id": "0a15bc9a-3bf9-443a-b7c5-1474ec4aab6b",
    "outputId": "e28cadf0-7e45-4e28-e699-2decea7f7831"
   },
   "outputs": [
    {
     "name": "stdout",
     "output_type": "stream",
     "text": [
      "/content/cancer/code\n"
     ]
    }
   ],
   "source": [
    "%cd ./cancer/code"
   ]
  },
  {
   "cell_type": "code",
   "execution_count": 4,
   "id": "fef43e9b-80f6-49e2-a05b-bca11a8f9fed",
   "metadata": {
    "execution": {
     "iopub.execute_input": "2022-03-15T01:21:31.082561Z",
     "iopub.status.busy": "2022-03-15T01:21:31.082474Z",
     "iopub.status.idle": "2022-03-15T01:21:31.448907Z",
     "shell.execute_reply": "2022-03-15T01:21:31.448613Z",
     "shell.execute_reply.started": "2022-03-15T01:21:31.082552Z"
    },
    "id": "fef43e9b-80f6-49e2-a05b-bca11a8f9fed",
    "tags": []
   },
   "outputs": [],
   "source": [
    "df = pd.read_csv(\"../data/cancer.csv\")"
   ]
  },
  {
   "cell_type": "code",
   "execution_count": 5,
   "id": "ccabca75-81d0-4a6f-8688-88431ab800e8",
   "metadata": {
    "colab": {
     "base_uri": "https://localhost:8080/"
    },
    "execution": {
     "iopub.execute_input": "2022-03-15T01:21:31.449455Z",
     "iopub.status.busy": "2022-03-15T01:21:31.449378Z",
     "iopub.status.idle": "2022-03-15T01:21:31.499681Z",
     "shell.execute_reply": "2022-03-15T01:21:31.499437Z",
     "shell.execute_reply.started": "2022-03-15T01:21:31.449445Z"
    },
    "id": "ccabca75-81d0-4a6f-8688-88431ab800e8",
    "outputId": "cd5abe24-52ff-4583-a2ac-99d8e2280dd0",
    "tags": []
   },
   "outputs": [
    {
     "name": "stdout",
     "output_type": "stream",
     "text": [
      "<class 'pandas.core.frame.DataFrame'>\n",
      "RangeIndex: 277524 entries, 0 to 277523\n",
      "Data columns (total 8 columns):\n",
      " #   Column      Non-Null Count   Dtype \n",
      "---  ------      --------------   ----- \n",
      " 0   patient_id  277524 non-null  int64 \n",
      " 1   label       277524 non-null  int64 \n",
      " 2   path        277524 non-null  object\n",
      " 3   file_name   277524 non-null  object\n",
      " 4   img_x       277524 non-null  int64 \n",
      " 5   img_y       277524 non-null  int64 \n",
      " 6   height      277524 non-null  int64 \n",
      " 7   width       277524 non-null  int64 \n",
      "dtypes: int64(6), object(2)\n",
      "memory usage: 16.9+ MB\n"
     ]
    }
   ],
   "source": [
    "df.info()"
   ]
  },
  {
   "cell_type": "markdown",
   "id": "2745c8cb-b5ea-4e74-9264-d43847141343",
   "metadata": {
    "id": "2745c8cb-b5ea-4e74-9264-d43847141343"
   },
   "source": [
    "# Preprocessing\n",
    "For preprocessing, the models parameters will be defined and also helper functions"
   ]
  },
  {
   "cell_type": "code",
   "execution_count": 6,
   "id": "ff0d1a0d-f876-4671-bee3-84ba23d2255f",
   "metadata": {
    "execution": {
     "iopub.execute_input": "2022-03-15T01:21:31.500833Z",
     "iopub.status.busy": "2022-03-15T01:21:31.500731Z",
     "iopub.status.idle": "2022-03-15T01:21:31.503535Z",
     "shell.execute_reply": "2022-03-15T01:21:31.503248Z",
     "shell.execute_reply.started": "2022-03-15T01:21:31.500820Z"
    },
    "id": "ff0d1a0d-f876-4671-bee3-84ba23d2255f",
    "tags": []
   },
   "outputs": [],
   "source": [
    "# parameters\n",
    "TRAIN_PATH = \"../data/train\"\n",
    "VAL_PATH = \"../data/val\"\n",
    "TEST_PATH = \"../data/test\"\n",
    "IMG_SIZE = (100, 100)\n",
    "BATCH_SIZE = 64\n",
    "PATIENCE = 10\n",
    "NUM_EPOCHS = 100\n",
    "INIT_LR = 0.01"
   ]
  },
  {
   "cell_type": "code",
   "execution_count": 7,
   "id": "6550620f-0d10-4d35-99d6-97f91e97558f",
   "metadata": {
    "execution": {
     "iopub.execute_input": "2022-03-15T01:21:31.504065Z",
     "iopub.status.busy": "2022-03-15T01:21:31.503999Z",
     "iopub.status.idle": "2022-03-15T01:21:31.603667Z",
     "shell.execute_reply": "2022-03-15T01:21:31.603416Z",
     "shell.execute_reply.started": "2022-03-15T01:21:31.504056Z"
    },
    "id": "6550620f-0d10-4d35-99d6-97f91e97558f",
    "tags": []
   },
   "outputs": [],
   "source": [
    "# create training, validation and testing data\n",
    "df_train_and_val, df_test = train_test_split(\n",
    "    df, train_size=0.8, random_state=42, stratify=df[\"label\"]\n",
    ")\n",
    "\n",
    "df_train, df_val = train_test_split(\n",
    "    df_train_and_val,\n",
    "    train_size=0.8,\n",
    "    random_state=42,\n",
    "    stratify=df_train_and_val[\"label\"],\n",
    ")"
   ]
  },
  {
   "cell_type": "code",
   "execution_count": 8,
   "id": "cb5b7531-e570-42eb-a482-f51595497f05",
   "metadata": {
    "colab": {
     "base_uri": "https://localhost:8080/"
    },
    "execution": {
     "iopub.execute_input": "2022-03-15T01:21:31.604358Z",
     "iopub.status.busy": "2022-03-15T01:21:31.604282Z",
     "iopub.status.idle": "2022-03-15T01:21:31.607497Z",
     "shell.execute_reply": "2022-03-15T01:21:31.607047Z",
     "shell.execute_reply.started": "2022-03-15T01:21:31.604348Z"
    },
    "id": "cb5b7531-e570-42eb-a482-f51595497f05",
    "outputId": "c37e9859-f99e-4ce6-fcd7-227efa299f22",
    "tags": []
   },
   "outputs": [
    {
     "name": "stdout",
     "output_type": "stream",
     "text": [
      "Shape of training df: (177615, 8)\n",
      "Shape of validation df: (44404, 8)\n",
      "Shape of testing df: (55505, 8)\n"
     ]
    }
   ],
   "source": [
    "# check the shape of training and testing data\n",
    "print(f\"Shape of training df: {df_train.shape}\")\n",
    "print(f\"Shape of validation df: {df_val.shape}\")\n",
    "print(f\"Shape of testing df: {df_test.shape}\")"
   ]
  },
  {
   "cell_type": "code",
   "execution_count": 9,
   "id": "a0da753b-b8c9-423d-b6b1-f03a38e76b66",
   "metadata": {
    "execution": {
     "iopub.execute_input": "2022-03-15T01:21:31.608039Z",
     "iopub.status.busy": "2022-03-15T01:21:31.607965Z",
     "iopub.status.idle": "2022-03-15T01:21:31.611343Z",
     "shell.execute_reply": "2022-03-15T01:21:31.611080Z",
     "shell.execute_reply.started": "2022-03-15T01:21:31.608030Z"
    },
    "id": "a0da753b-b8c9-423d-b6b1-f03a38e76b66",
    "tags": []
   },
   "outputs": [],
   "source": [
    "# create folder/ subfolders if it does not exist\n",
    "for folder in [TRAIN_PATH, VAL_PATH, TEST_PATH]:\n",
    "    if not os.path.exists(folder):\n",
    "        os.makedirs(folder)\n",
    "    if not os.path.exists(os.path.join(folder, \"0\")):\n",
    "        os.makedirs(os.path.join(folder, \"0\"))\n",
    "    if not os.path.exists(os.path.join(folder, \"1\")):\n",
    "        os.makedirs(os.path.join(folder, \"1\"))"
   ]
  },
  {
   "cell_type": "code",
   "execution_count": 10,
   "id": "66f7e14d-2579-42db-94b0-5f5dc657a8bb",
   "metadata": {
    "execution": {
     "iopub.execute_input": "2022-03-15T01:21:31.611926Z",
     "iopub.status.busy": "2022-03-15T01:21:31.611850Z",
     "iopub.status.idle": "2022-03-15T01:24:03.396104Z",
     "shell.execute_reply": "2022-03-15T01:24:03.392778Z",
     "shell.execute_reply.started": "2022-03-15T01:21:31.611917Z"
    },
    "id": "66f7e14d-2579-42db-94b0-5f5dc657a8bb",
    "scrolled": true,
    "tags": []
   },
   "outputs": [],
   "source": [
    "# copy to newly created folders\n",
    "for index, data in df_train.iterrows():\n",
    "    shutil.copy2(data[\"path\"], os.path.join(TRAIN_PATH, str(data[\"label\"])))\n",
    "\n",
    "for index, data in df_val.iterrows():\n",
    "    shutil.copy2(data[\"path\"], os.path.join(VAL_PATH, str(data[\"label\"])))\n",
    "\n",
    "for index, data in df_test.iterrows():\n",
    "    shutil.copy2(data[\"path\"], os.path.join(TEST_PATH, str(data[\"label\"])))"
   ]
  },
  {
   "cell_type": "code",
   "execution_count": 11,
   "id": "64226468-370c-49b3-888d-55f8a6d26a2a",
   "metadata": {
    "colab": {
     "base_uri": "https://localhost:8080/"
    },
    "execution": {
     "iopub.execute_input": "2022-03-15T01:24:03.409978Z",
     "iopub.status.busy": "2022-03-15T01:24:03.409422Z",
     "iopub.status.idle": "2022-03-15T01:24:10.285632Z",
     "shell.execute_reply": "2022-03-15T01:24:10.285301Z",
     "shell.execute_reply.started": "2022-03-15T01:24:03.409869Z"
    },
    "id": "64226468-370c-49b3-888d-55f8a6d26a2a",
    "outputId": "02c263da-79f5-4834-d73e-e4b4c2cd201e",
    "tags": []
   },
   "outputs": [
    {
     "name": "stdout",
     "output_type": "stream",
     "text": [
      "Reading package lists... Done\n",
      "Building dependency tree       \n",
      "Reading state information... Done\n",
      "The following NEW packages will be installed:\n",
      "  tree\n",
      "0 upgraded, 1 newly installed, 0 to remove and 39 not upgraded.\n",
      "Need to get 40.7 kB of archives.\n",
      "After this operation, 105 kB of additional disk space will be used.\n",
      "Get:1 http://archive.ubuntu.com/ubuntu bionic/universe amd64 tree amd64 1.7.0-5 [40.7 kB]\n",
      "Fetched 40.7 kB in 1s (74.5 kB/s)\n",
      "Selecting previously unselected package tree.\n",
      "(Reading database ... 155335 files and directories currently installed.)\n",
      "Preparing to unpack .../tree_1.7.0-5_amd64.deb ...\n",
      "Unpacking tree (1.7.0-5) ...\n",
      "Setting up tree (1.7.0-5) ...\n",
      "Processing triggers for man-db (2.8.3-2ubuntu0.1) ...\n",
      ".\n",
      "├── archive [280 entries exceeds filelimit, not opening dir]\n",
      "├── test\n",
      "│   ├── 0 [39748 entries exceeds filelimit, not opening dir]\n",
      "│   └── 1 [15757 entries exceeds filelimit, not opening dir]\n",
      "├── train\n",
      "│   ├── 0 [127192 entries exceeds filelimit, not opening dir]\n",
      "│   └── 1 [50423 entries exceeds filelimit, not opening dir]\n",
      "├── val\n",
      "│   ├── 0 [31798 entries exceeds filelimit, not opening dir]\n",
      "│   └── 1 [12606 entries exceeds filelimit, not opening dir]\n",
      "└── cancer.csv\n",
      "\n",
      "10 directories, 1 file\n"
     ]
    }
   ],
   "source": [
    "# check folder structure\n",
    "!apt-get install tree\n",
    "!cd ../data ; tree --dirsfirst --filelimit 5"
   ]
  },
  {
   "cell_type": "code",
   "execution_count": 12,
   "id": "a07b2b72-cd43-4566-9374-43c07df4853b",
   "metadata": {
    "colab": {
     "base_uri": "https://localhost:8080/"
    },
    "execution": {
     "iopub.execute_input": "2022-03-15T01:24:10.305260Z",
     "iopub.status.busy": "2022-03-15T01:24:10.305179Z",
     "iopub.status.idle": "2022-03-15T01:24:11.065934Z",
     "shell.execute_reply": "2022-03-15T01:24:11.065714Z",
     "shell.execute_reply.started": "2022-03-15T01:24:10.305250Z"
    },
    "id": "a07b2b72-cd43-4566-9374-43c07df4853b",
    "outputId": "cb9ca1b0-6bc9-4264-987e-34f524f68626",
    "tags": []
   },
   "outputs": [
    {
     "name": "stdout",
     "output_type": "stream",
     "text": [
      "['../data/train/0/13693_idx5_x2301_y2451_class0.png', '../data/train/0/10257_idx5_x1801_y701_class0.png']\n",
      "['../data/val/0/9029_idx5_x1501_y51_class0.png', '../data/val/0/9077_idx5_x151_y1651_class0.png']\n",
      "['../data/test/0/13021_idx5_x2101_y251_class0.png', '../data/test/0/9041_idx5_x2601_y1551_class0.png']\n"
     ]
    }
   ],
   "source": [
    "# create list pf images paths\n",
    "train_paths = list(paths.list_images(TRAIN_PATH))\n",
    "val_paths = list(paths.list_images(VAL_PATH))\n",
    "test_paths = list(paths.list_images(TEST_PATH))\n",
    "\n",
    "# print output for clarity\n",
    "print(train_paths[:2])\n",
    "print(val_paths[:2])\n",
    "print(test_paths[:2])"
   ]
  },
  {
   "cell_type": "code",
   "execution_count": 13,
   "id": "365812fe-5677-4cca-b9ab-63307ac41f6b",
   "metadata": {
    "colab": {
     "base_uri": "https://localhost:8080/"
    },
    "execution": {
     "iopub.execute_input": "2022-03-15T01:24:11.066503Z",
     "iopub.status.busy": "2022-03-15T01:24:11.066429Z",
     "iopub.status.idle": "2022-03-15T01:24:11.134016Z",
     "shell.execute_reply": "2022-03-15T01:24:11.133737Z",
     "shell.execute_reply.started": "2022-03-15T01:24:11.066493Z"
    },
    "id": "365812fe-5677-4cca-b9ab-63307ac41f6b",
    "outputId": "94c1b020-d409-4c84-96e8-e7ac990c6f19",
    "tags": []
   },
   "outputs": [
    {
     "name": "stdout",
     "output_type": "stream",
     "text": [
      "class weights: {0: 1.0, 1: 2.5224996}\n"
     ]
    }
   ],
   "source": [
    "# create class weights\n",
    "train_labels = [int(p.split(os.path.sep)[-2]) for p in train_paths]\n",
    "train_labels = keras.utils.to_categorical(\n",
    "    train_labels\n",
    ")  # one-hot encode list into arrary\n",
    "class_totals = train_labels.sum(axis=0)\n",
    "class_weight = {}\n",
    "for i in range(0, len(class_totals)):\n",
    "    class_weight[i] = class_totals.max() / class_totals[i]\n",
    "print(f\"class weights: {class_weight}\")"
   ]
  },
  {
   "cell_type": "code",
   "execution_count": 14,
   "id": "46f66d4e-d66f-4dd7-a378-2eefcf978427",
   "metadata": {
    "execution": {
     "iopub.execute_input": "2022-03-15T01:28:40.211873Z",
     "iopub.status.busy": "2022-03-15T01:28:40.210797Z",
     "iopub.status.idle": "2022-03-15T01:28:40.226302Z",
     "shell.execute_reply": "2022-03-15T01:28:40.225540Z",
     "shell.execute_reply.started": "2022-03-15T01:28:40.211791Z"
    },
    "id": "46f66d4e-d66f-4dd7-a378-2eefcf978427",
    "tags": []
   },
   "outputs": [],
   "source": [
    "# function to augment images\n",
    "@tf.function                                        # decarator code to create Python-independent dataflow graphs out of your Python code.\n",
    "def augmentation(image, label):                     # This will help you create performant and portable model.\n",
    "    '''\n",
    "    Takes in image tensor and label and\n",
    "    return respective inputs after transformation\n",
    "    '''\n",
    "    image = tf.image.random_flip_left_right(image)  # random horizontal flips\n",
    "    image = tf.image.random_flip_up_down(image)     # random horizontal flips\n",
    "    return image, label                             # more augmenetation from tensorflow API https://www.tensorflow.org/api_docs/python/tf/image"
   ]
  },
  {
   "cell_type": "code",
   "execution_count": 15,
   "id": "4b410011-58fc-44d6-a76f-52fcbec61dba",
   "metadata": {
    "id": "4b410011-58fc-44d6-a76f-52fcbec61dba",
    "scrolled": true,
    "tags": []
   },
   "outputs": [],
   "source": [
    "def compile_fit_model(model, save_path):\n",
    "    '''\n",
    "    Takes in model object and string for saved path for training.\n",
    "    Return model after training.\n",
    "    '''\n",
    "    model.compile(\n",
    "        loss=\"binary_crossentropy\",\n",
    "        optimizer=keras.optimizers.Adam(learning_rate=INIT_LR),\n",
    "        metrics=[\n",
    "            keras.metrics.BinaryAccuracy(),\n",
    "            keras.metrics.AUC(),\n",
    "            keras.metrics.Precision(),\n",
    "            keras.metrics.Recall(),\n",
    "        ],\n",
    "    )\n",
    "\n",
    "    callbacks_list = [\n",
    "        keras.callbacks.EarlyStopping(\n",
    "            monitor=\"val_loss\", patience=PATIENCE, restore_best_weights=True\n",
    "        ),\n",
    "        keras.callbacks.ModelCheckpoint(\n",
    "            filepath=save_path, verbose=1, save_best_only=True\n",
    "        ),\n",
    "        keras.callbacks.ReduceLROnPlateau(verbose=1),\n",
    "    ]\n",
    "\n",
    "    history = model.fit(\n",
    "        x=train_data,\n",
    "        epochs=NUM_EPOCHS,\n",
    "        callbacks=callbacks_list,\n",
    "        validation_data=val_data,\n",
    "        class_weight=class_weight,\n",
    "        steps_per_epoch=len(train_data) // BATCH_SIZE,\n",
    "        # validation_steps=len(val_data) // BATCH_SIZE,\n",
    "    )\n",
    "\n",
    "    return history, model"
   ]
  },
  {
   "cell_type": "markdown",
   "id": "852eb2d6-e9a6-4d49-b72b-75737aae0bc2",
   "metadata": {
    "id": "852eb2d6-e9a6-4d49-b72b-75737aae0bc2"
   },
   "source": [
    "# Transfer Learning\n",
    "\n",
    "In this section, the models will be built by using the convolution network of the pre-trained model (e.g. VGG16) as a backbone to extract features and add a fully-connected layer. "
   ]
  },
  {
   "cell_type": "markdown",
   "id": "f1c7c467-ab46-47da-90e6-96b98a9161a9",
   "metadata": {
    "id": "f1c7c467-ab46-47da-90e6-96b98a9161a9",
    "tags": []
   },
   "source": [
    "## VGG16"
   ]
  },
  {
   "cell_type": "code",
   "execution_count": 16,
   "id": "5cd244b8-7d39-439d-b9e1-9875900841e9",
   "metadata": {
    "id": "5cd244b8-7d39-439d-b9e1-9875900841e9",
    "tags": []
   },
   "outputs": [],
   "source": [
    "# function to load image\n",
    "def image_loader_vgg16(path):\n",
    "    image = tf.io.read_file(path)                                   # read image file as binary\n",
    "    image = tf.image.decode_png(image, channels=3)                  # decode into image tensor\n",
    "    # image = tf.image.convert_image_dtype(image, dtype=tf.float32) # converts to float32 data type and scaling the values appropriately before casting.\n",
    "    image = tf.cast(image, dtype=tf.float32)\n",
    "    image = tf.image.resize(image, IMG_SIZE)                        # resize the image\n",
    "    image = keras.applications.vgg16.preprocess_input(image)        # custom preprocessing for VGG16\n",
    "    label = tf.strings.split(path, os.path.sep)[-2]                 # parse the class label from the file path\n",
    "    label = tf.strings.to_number(label, tf.int32)\n",
    "    return (image, label)"
   ]
  },
  {
   "cell_type": "code",
   "execution_count": 17,
   "id": "6b2c3281-b319-4cd9-8117-0f9ae5216720",
   "metadata": {
    "id": "6b2c3281-b319-4cd9-8117-0f9ae5216720",
    "tags": []
   },
   "outputs": [],
   "source": [
    "train_data = tf.data.Dataset.from_tensor_slices(train_paths)\n",
    "train_data = (\n",
    "    train_data.shuffle(len(train_paths))                            # shuffle data, optional as already did train_test_split in scikit-learn\n",
    "    .map(image_loader_vgg16, num_parallel_calls=tf.data.AUTOTUNE)   # load the image\n",
    "    .map(augmentation, num_parallel_calls=tf.data.AUTOTUNE)         # apply augmentation\n",
    "    .cache()                                                        # caching for fast read\n",
    "    .batch(batch_size=BATCH_SIZE)                                   # batching the data\n",
    "    .prefetch(tf.data.AUTOTUNE)                                     # allows later elements to be prepared while the current element is being processed\n",
    ")\n",
    "\n",
    "\n",
    "val_data = tf.data.Dataset.from_tensor_slices(val_paths)                   # no augmentation & shuffle required for test data as it is ground truth\n",
    "val_data = (\n",
    "    val_data.map(image_loader_vgg16, num_parallel_calls=tf.data.AUTOTUNE)  # load the image\n",
    "    .batch(batch_size=BATCH_SIZE)                                          # batching the data\n",
    "    .prefetch(tf.data.AUTOTUNE)                                            # allows later elements to be prepared while the current element is being processed\n",
    ")\n",
    "\n",
    "\n",
    "test_data = tf.data.Dataset.from_tensor_slices(test_paths)                  # no augmentation & shuffle required for test data as it is ground truth\n",
    "test_data = (\n",
    "    test_data.map(image_loader_vgg16, num_parallel_calls=tf.data.AUTOTUNE)  # load the image\n",
    "    .batch(batch_size=BATCH_SIZE)                                           # batching the data\n",
    "    .prefetch(tf.data.AUTOTUNE)                                             # allows later elements to be prepared while the current element is being processed\n",
    ")"
   ]
  },
  {
   "cell_type": "code",
   "execution_count": 18,
   "id": "831f6a79-fb00-4244-a371-58c3d9b06563",
   "metadata": {
    "colab": {
     "base_uri": "https://localhost:8080/"
    },
    "id": "831f6a79-fb00-4244-a371-58c3d9b06563",
    "outputId": "aeecd20c-2edc-4a49-a00c-ad7d2724210e",
    "tags": []
   },
   "outputs": [
    {
     "name": "stdout",
     "output_type": "stream",
     "text": [
      "Downloading data from https://storage.googleapis.com/tensorflow/keras-applications/vgg16/vgg16_weights_tf_dim_ordering_tf_kernels_notop.h5\n",
      "58892288/58889256 [==============================] - 3s 0us/step\n",
      "58900480/58889256 [==============================] - 3s 0us/step\n"
     ]
    }
   ],
   "source": [
    "#import pretrained and freeze the layers\n",
    "VGG16 = keras.applications.VGG16(include_top=False, weights=\"imagenet\")\n",
    "VGG16.trainable = False"
   ]
  },
  {
   "cell_type": "code",
   "execution_count": 19,
   "id": "6a301dfb-38b2-408c-ba68-6979d0476242",
   "metadata": {
    "id": "6a301dfb-38b2-408c-ba68-6979d0476242",
    "tags": []
   },
   "outputs": [],
   "source": [
    "#add custom binary prediction layer\n",
    "model_vgg16 = keras.models.Sequential(\n",
    "    [\n",
    "        VGG16,\n",
    "        # keras.layers.BatchNormalization(),\n",
    "        keras.layers.GlobalAveragePooling2D(),\n",
    "        keras.layers.Flatten(),\n",
    "        keras.layers.Dropout(0.2),\n",
    "        keras.layers.Dense(units=128, activation=\"relu\"),\n",
    "        keras.layers.Dense(units=1, activation=\"sigmoid\"),\n",
    "    ]\n",
    ")"
   ]
  },
  {
   "cell_type": "code",
   "execution_count": 20,
   "id": "29356df4-bff7-4705-a57d-1ed6e2f0b1f2",
   "metadata": {
    "colab": {
     "base_uri": "https://localhost:8080/"
    },
    "id": "29356df4-bff7-4705-a57d-1ed6e2f0b1f2",
    "outputId": "0c06cf63-f530-4ac5-f18f-3b5533e3eb71",
    "tags": []
   },
   "outputs": [
    {
     "name": "stdout",
     "output_type": "stream",
     "text": [
      "Model: \"sequential\"\n",
      "_________________________________________________________________\n",
      " Layer (type)                Output Shape              Param #   \n",
      "=================================================================\n",
      " vgg16 (Functional)          (None, None, None, 512)   14714688  \n",
      "                                                                 \n",
      " global_average_pooling2d (G  (None, 512)              0         \n",
      " lobalAveragePooling2D)                                          \n",
      "                                                                 \n",
      " flatten (Flatten)           (None, 512)               0         \n",
      "                                                                 \n",
      " dropout (Dropout)           (None, 512)               0         \n",
      "                                                                 \n",
      " dense (Dense)               (None, 128)               65664     \n",
      "                                                                 \n",
      " dense_1 (Dense)             (None, 1)                 129       \n",
      "                                                                 \n",
      "=================================================================\n",
      "Total params: 14,780,481\n",
      "Trainable params: 65,793\n",
      "Non-trainable params: 14,714,688\n",
      "_________________________________________________________________\n"
     ]
    }
   ],
   "source": [
    "model_vgg16.summary()"
   ]
  },
  {
   "cell_type": "code",
   "execution_count": 21,
   "id": "d0hx35UU3vBD",
   "metadata": {
    "colab": {
     "base_uri": "https://localhost:8080/"
    },
    "id": "d0hx35UU3vBD",
    "outputId": "27932eea-6240-4f03-e79e-e39a92c45a82",
    "scrolled": true,
    "tags": []
   },
   "outputs": [
    {
     "name": "stdout",
     "output_type": "stream",
     "text": [
      "Epoch 1/100\n",
      "43/43 [==============================] - ETA: 0s - loss: 2.3541 - binary_accuracy: 0.7089 - auc: 0.7080 - precision: 0.4885 - recall: 0.6021\n",
      "Epoch 1: val_loss improved from inf to 0.42525, saving model to vgg16.h5\n",
      "43/43 [==============================] - 37s 631ms/step - loss: 2.3541 - binary_accuracy: 0.7089 - auc: 0.7080 - precision: 0.4885 - recall: 0.6021 - val_loss: 0.4252 - val_binary_accuracy: 0.8317 - val_auc: 0.8612 - val_precision: 0.7272 - val_recall: 0.6518 - lr: 0.0100\n",
      "Epoch 2/100\n",
      "42/43 [============================>.] - ETA: 0s - loss: 0.6991 - binary_accuracy: 0.7987 - auc: 0.8511 - precision: 0.6330 - recall: 0.7626\n",
      "Epoch 2: val_loss did not improve from 0.42525\n",
      "43/43 [==============================] - 25s 598ms/step - loss: 0.6988 - binary_accuracy: 0.7976 - auc: 0.8512 - precision: 0.6299 - recall: 0.7654 - val_loss: 0.4763 - val_binary_accuracy: 0.8053 - val_auc: 0.8819 - val_precision: 0.6189 - val_recall: 0.8178 - lr: 0.0100\n",
      "Epoch 3/100\n",
      "43/43 [==============================] - ETA: 0s - loss: 0.6384 - binary_accuracy: 0.8154 - auc: 0.8706 - precision: 0.6353 - recall: 0.7682\n",
      "Epoch 3: val_loss improved from 0.42525 to 0.41566, saving model to vgg16.h5\n",
      "43/43 [==============================] - 25s 599ms/step - loss: 0.6384 - binary_accuracy: 0.8154 - auc: 0.8706 - precision: 0.6353 - recall: 0.7682 - val_loss: 0.4157 - val_binary_accuracy: 0.8218 - val_auc: 0.8867 - val_precision: 0.6573 - val_recall: 0.7776 - lr: 0.0100\n",
      "Epoch 4/100\n",
      "43/43 [==============================] - ETA: 0s - loss: 0.6516 - binary_accuracy: 0.8023 - auc: 0.8684 - precision: 0.6181 - recall: 0.7939\n",
      "Epoch 4: val_loss did not improve from 0.41566\n",
      "43/43 [==============================] - 25s 593ms/step - loss: 0.6516 - binary_accuracy: 0.8023 - auc: 0.8684 - precision: 0.6181 - recall: 0.7939 - val_loss: 0.4170 - val_binary_accuracy: 0.8193 - val_auc: 0.8870 - val_precision: 0.6477 - val_recall: 0.7972 - lr: 0.0100\n",
      "Epoch 5/100\n",
      "43/43 [==============================] - ETA: 0s - loss: 0.6139 - binary_accuracy: 0.8219 - auc: 0.8851 - precision: 0.6458 - recall: 0.8036\n",
      "Epoch 5: val_loss improved from 0.41566 to 0.39819, saving model to vgg16.h5\n",
      "43/43 [==============================] - 25s 599ms/step - loss: 0.6139 - binary_accuracy: 0.8219 - auc: 0.8851 - precision: 0.6458 - recall: 0.8036 - val_loss: 0.3982 - val_binary_accuracy: 0.8185 - val_auc: 0.8916 - val_precision: 0.6442 - val_recall: 0.8054 - lr: 0.0100\n",
      "Epoch 6/100\n",
      "43/43 [==============================] - ETA: 0s - loss: 0.6379 - binary_accuracy: 0.7976 - auc: 0.8753 - precision: 0.6092 - recall: 0.8003\n",
      "Epoch 6: val_loss improved from 0.39819 to 0.39136, saving model to vgg16.h5\n",
      "43/43 [==============================] - 25s 599ms/step - loss: 0.6379 - binary_accuracy: 0.7976 - auc: 0.8753 - precision: 0.6092 - recall: 0.8003 - val_loss: 0.3914 - val_binary_accuracy: 0.8198 - val_auc: 0.8917 - val_precision: 0.6513 - val_recall: 0.7866 - lr: 0.0100\n",
      "Epoch 7/100\n",
      "42/43 [============================>.] - ETA: 0s - loss: 0.6377 - binary_accuracy: 0.7991 - auc: 0.8799 - precision: 0.6195 - recall: 0.8466\n",
      "Epoch 7: val_loss did not improve from 0.39136\n",
      "43/43 [==============================] - 25s 595ms/step - loss: 0.6383 - binary_accuracy: 0.7991 - auc: 0.8797 - precision: 0.6203 - recall: 0.8457 - val_loss: 0.4285 - val_binary_accuracy: 0.7999 - val_auc: 0.8923 - val_precision: 0.6059 - val_recall: 0.8442 - lr: 0.0100\n",
      "Epoch 8/100\n",
      "43/43 [==============================] - ETA: 0s - loss: 0.6256 - binary_accuracy: 0.8049 - auc: 0.8776 - precision: 0.6116 - recall: 0.7937\n",
      "Epoch 8: val_loss did not improve from 0.39136\n",
      "43/43 [==============================] - 25s 594ms/step - loss: 0.6256 - binary_accuracy: 0.8049 - auc: 0.8776 - precision: 0.6116 - recall: 0.7937 - val_loss: 0.4121 - val_binary_accuracy: 0.8160 - val_auc: 0.8943 - val_precision: 0.6375 - val_recall: 0.8152 - lr: 0.0100\n",
      "Epoch 9/100\n",
      "43/43 [==============================] - ETA: 0s - loss: 0.6171 - binary_accuracy: 0.7925 - auc: 0.8842 - precision: 0.6032 - recall: 0.8157\n",
      "Epoch 9: val_loss did not improve from 0.39136\n",
      "43/43 [==============================] - 25s 594ms/step - loss: 0.6171 - binary_accuracy: 0.7925 - auc: 0.8842 - precision: 0.6032 - recall: 0.8157 - val_loss: 0.4985 - val_binary_accuracy: 0.7378 - val_auc: 0.8923 - val_precision: 0.5221 - val_recall: 0.9046 - lr: 0.0100\n",
      "Epoch 10/100\n",
      "43/43 [==============================] - ETA: 0s - loss: 0.6125 - binary_accuracy: 0.8085 - auc: 0.8869 - precision: 0.6248 - recall: 0.8100\n",
      "Epoch 10: val_loss did not improve from 0.39136\n",
      "43/43 [==============================] - 25s 594ms/step - loss: 0.6125 - binary_accuracy: 0.8085 - auc: 0.8869 - precision: 0.6248 - recall: 0.8100 - val_loss: 0.4317 - val_binary_accuracy: 0.8049 - val_auc: 0.8951 - val_precision: 0.6147 - val_recall: 0.8382 - lr: 0.0100\n",
      "Epoch 11/100\n",
      "43/43 [==============================] - ETA: 0s - loss: 0.6472 - binary_accuracy: 0.7827 - auc: 0.8735 - precision: 0.5919 - recall: 0.8098\n",
      "Epoch 11: val_loss did not improve from 0.39136\n",
      "43/43 [==============================] - 25s 593ms/step - loss: 0.6472 - binary_accuracy: 0.7827 - auc: 0.8735 - precision: 0.5919 - recall: 0.8098 - val_loss: 0.4057 - val_binary_accuracy: 0.8133 - val_auc: 0.8955 - val_precision: 0.6315 - val_recall: 0.8216 - lr: 0.0100\n",
      "Epoch 12/100\n",
      "43/43 [==============================] - ETA: 0s - loss: 0.5950 - binary_accuracy: 0.8034 - auc: 0.8899 - precision: 0.6012 - recall: 0.8280\n",
      "Epoch 12: val_loss improved from 0.39136 to 0.38634, saving model to vgg16.h5\n",
      "43/43 [==============================] - 25s 599ms/step - loss: 0.5950 - binary_accuracy: 0.8034 - auc: 0.8899 - precision: 0.6012 - recall: 0.8280 - val_loss: 0.3863 - val_binary_accuracy: 0.8119 - val_auc: 0.8975 - val_precision: 0.6285 - val_recall: 0.8252 - lr: 0.0100\n",
      "Epoch 13/100\n",
      "43/43 [==============================] - ETA: 0s - loss: 0.6177 - binary_accuracy: 0.7951 - auc: 0.8818 - precision: 0.5966 - recall: 0.8175\n",
      "Epoch 13: val_loss did not improve from 0.38634\n",
      "43/43 [==============================] - 25s 593ms/step - loss: 0.6177 - binary_accuracy: 0.7951 - auc: 0.8818 - precision: 0.5966 - recall: 0.8175 - val_loss: 0.3920 - val_binary_accuracy: 0.8154 - val_auc: 0.8952 - val_precision: 0.6399 - val_recall: 0.8002 - lr: 0.0100\n",
      "Epoch 14/100\n",
      "43/43 [==============================] - ETA: 0s - loss: 0.6317 - binary_accuracy: 0.7900 - auc: 0.8742 - precision: 0.5850 - recall: 0.7995\n",
      "Epoch 14: val_loss did not improve from 0.38634\n",
      "43/43 [==============================] - 25s 594ms/step - loss: 0.6317 - binary_accuracy: 0.7900 - auc: 0.8742 - precision: 0.5850 - recall: 0.7995 - val_loss: 0.4039 - val_binary_accuracy: 0.8140 - val_auc: 0.8966 - val_precision: 0.6328 - val_recall: 0.8210 - lr: 0.0100\n",
      "Epoch 15/100\n",
      "43/43 [==============================] - ETA: 0s - loss: 0.6155 - binary_accuracy: 0.8027 - auc: 0.8874 - precision: 0.6202 - recall: 0.8288\n",
      "Epoch 15: val_loss improved from 0.38634 to 0.38344, saving model to vgg16.h5\n",
      "43/43 [==============================] - 25s 599ms/step - loss: 0.6155 - binary_accuracy: 0.8027 - auc: 0.8874 - precision: 0.6202 - recall: 0.8288 - val_loss: 0.3834 - val_binary_accuracy: 0.8165 - val_auc: 0.8984 - val_precision: 0.6392 - val_recall: 0.8118 - lr: 0.0100\n",
      "Epoch 16/100\n",
      "43/43 [==============================] - ETA: 0s - loss: 0.6276 - binary_accuracy: 0.7947 - auc: 0.8799 - precision: 0.6026 - recall: 0.8257\n",
      "Epoch 16: val_loss improved from 0.38344 to 0.36930, saving model to vgg16.h5\n",
      "43/43 [==============================] - 25s 599ms/step - loss: 0.6276 - binary_accuracy: 0.7947 - auc: 0.8799 - precision: 0.6026 - recall: 0.8257 - val_loss: 0.3693 - val_binary_accuracy: 0.8268 - val_auc: 0.8981 - val_precision: 0.6652 - val_recall: 0.7853 - lr: 0.0100\n",
      "Epoch 17/100\n",
      "43/43 [==============================] - ETA: 0s - loss: 0.6134 - binary_accuracy: 0.8140 - auc: 0.8904 - precision: 0.6333 - recall: 0.8340\n",
      "Epoch 17: val_loss did not improve from 0.36930\n",
      "43/43 [==============================] - 25s 593ms/step - loss: 0.6134 - binary_accuracy: 0.8140 - auc: 0.8904 - precision: 0.6333 - recall: 0.8340 - val_loss: 0.4202 - val_binary_accuracy: 0.8088 - val_auc: 0.8985 - val_precision: 0.6205 - val_recall: 0.8407 - lr: 0.0100\n",
      "Epoch 18/100\n",
      "43/43 [==============================] - ETA: 0s - loss: 0.5972 - binary_accuracy: 0.8110 - auc: 0.8895 - precision: 0.6170 - recall: 0.8300\n",
      "Epoch 18: val_loss did not improve from 0.36930\n",
      "43/43 [==============================] - 25s 593ms/step - loss: 0.5972 - binary_accuracy: 0.8110 - auc: 0.8895 - precision: 0.6170 - recall: 0.8300 - val_loss: 0.3987 - val_binary_accuracy: 0.8222 - val_auc: 0.8997 - val_precision: 0.6477 - val_recall: 0.8193 - lr: 0.0100\n",
      "Epoch 19/100\n",
      "43/43 [==============================] - ETA: 0s - loss: 0.5995 - binary_accuracy: 0.8180 - auc: 0.8906 - precision: 0.6408 - recall: 0.8287\n",
      "Epoch 19: val_loss did not improve from 0.36930\n",
      "43/43 [==============================] - 25s 594ms/step - loss: 0.5995 - binary_accuracy: 0.8180 - auc: 0.8906 - precision: 0.6408 - recall: 0.8287 - val_loss: 0.3985 - val_binary_accuracy: 0.8123 - val_auc: 0.8983 - val_precision: 0.6283 - val_recall: 0.8295 - lr: 0.0100\n",
      "Epoch 20/100\n",
      "43/43 [==============================] - ETA: 0s - loss: 0.5930 - binary_accuracy: 0.8114 - auc: 0.8961 - precision: 0.6302 - recall: 0.8361\n",
      "Epoch 20: val_loss improved from 0.36930 to 0.36692, saving model to vgg16.h5\n",
      "43/43 [==============================] - 25s 598ms/step - loss: 0.5930 - binary_accuracy: 0.8114 - auc: 0.8961 - precision: 0.6302 - recall: 0.8361 - val_loss: 0.3669 - val_binary_accuracy: 0.8361 - val_auc: 0.8994 - val_precision: 0.6925 - val_recall: 0.7605 - lr: 0.0100\n",
      "Epoch 21/100\n",
      "43/43 [==============================] - ETA: 0s - loss: 0.6165 - binary_accuracy: 0.8092 - auc: 0.8811 - precision: 0.6127 - recall: 0.8102\n",
      "Epoch 21: val_loss did not improve from 0.36692\n",
      "43/43 [==============================] - 25s 593ms/step - loss: 0.6165 - binary_accuracy: 0.8092 - auc: 0.8811 - precision: 0.6127 - recall: 0.8102 - val_loss: 0.3757 - val_binary_accuracy: 0.8306 - val_auc: 0.9010 - val_precision: 0.6705 - val_recall: 0.7929 - lr: 0.0100\n",
      "Epoch 22/100\n",
      "43/43 [==============================] - ETA: 0s - loss: 0.6068 - binary_accuracy: 0.7991 - auc: 0.8864 - precision: 0.5996 - recall: 0.8226\n",
      "Epoch 22: val_loss did not improve from 0.36692\n",
      "43/43 [==============================] - 25s 593ms/step - loss: 0.6068 - binary_accuracy: 0.7991 - auc: 0.8864 - precision: 0.5996 - recall: 0.8226 - val_loss: 0.3775 - val_binary_accuracy: 0.8253 - val_auc: 0.9000 - val_precision: 0.6590 - val_recall: 0.7974 - lr: 0.0100\n",
      "Epoch 23/100\n",
      "43/43 [==============================] - ETA: 0s - loss: 0.6057 - binary_accuracy: 0.8074 - auc: 0.8868 - precision: 0.6209 - recall: 0.8029\n",
      "Epoch 23: val_loss did not improve from 0.36692\n",
      "43/43 [==============================] - 25s 593ms/step - loss: 0.6057 - binary_accuracy: 0.8074 - auc: 0.8868 - precision: 0.6209 - recall: 0.8029 - val_loss: 0.4429 - val_binary_accuracy: 0.8030 - val_auc: 0.8979 - val_precision: 0.6097 - val_recall: 0.8505 - lr: 0.0100\n",
      "Epoch 24/100\n",
      "43/43 [==============================] - ETA: 0s - loss: 0.6248 - binary_accuracy: 0.8045 - auc: 0.8871 - precision: 0.6356 - recall: 0.8335\n",
      "Epoch 24: val_loss did not improve from 0.36692\n",
      "43/43 [==============================] - 25s 593ms/step - loss: 0.6248 - binary_accuracy: 0.8045 - auc: 0.8871 - precision: 0.6356 - recall: 0.8335 - val_loss: 0.4516 - val_binary_accuracy: 0.8025 - val_auc: 0.9000 - val_precision: 0.6080 - val_recall: 0.8572 - lr: 0.0100\n",
      "Epoch 25/100\n",
      "43/43 [==============================] - ETA: 0s - loss: 0.6178 - binary_accuracy: 0.7976 - auc: 0.8821 - precision: 0.6060 - recall: 0.8095\n",
      "Epoch 25: val_loss did not improve from 0.36692\n",
      "43/43 [==============================] - 25s 593ms/step - loss: 0.6178 - binary_accuracy: 0.7976 - auc: 0.8821 - precision: 0.6060 - recall: 0.8095 - val_loss: 0.4036 - val_binary_accuracy: 0.8182 - val_auc: 0.8953 - val_precision: 0.6413 - val_recall: 0.8163 - lr: 0.0100\n",
      "Epoch 26/100\n",
      "43/43 [==============================] - ETA: 0s - loss: 0.6304 - binary_accuracy: 0.8052 - auc: 0.8823 - precision: 0.6358 - recall: 0.8110\n",
      "Epoch 26: val_loss did not improve from 0.36692\n",
      "43/43 [==============================] - 25s 593ms/step - loss: 0.6304 - binary_accuracy: 0.8052 - auc: 0.8823 - precision: 0.6358 - recall: 0.8110 - val_loss: 0.3903 - val_binary_accuracy: 0.8290 - val_auc: 0.8972 - val_precision: 0.6674 - val_recall: 0.7931 - lr: 0.0100\n",
      "Epoch 27/100\n",
      "43/43 [==============================] - ETA: 0s - loss: 0.5902 - binary_accuracy: 0.8085 - auc: 0.8916 - precision: 0.6170 - recall: 0.8034\n",
      "Epoch 27: val_loss did not improve from 0.36692\n",
      "43/43 [==============================] - 25s 593ms/step - loss: 0.5902 - binary_accuracy: 0.8085 - auc: 0.8916 - precision: 0.6170 - recall: 0.8034 - val_loss: 0.4029 - val_binary_accuracy: 0.8170 - val_auc: 0.9000 - val_precision: 0.6368 - val_recall: 0.8275 - lr: 0.0100\n",
      "Epoch 28/100\n",
      "43/43 [==============================] - ETA: 0s - loss: 0.6159 - binary_accuracy: 0.7882 - auc: 0.8830 - precision: 0.5972 - recall: 0.8161\n",
      "Epoch 28: val_loss did not improve from 0.36692\n",
      "43/43 [==============================] - 25s 593ms/step - loss: 0.6159 - binary_accuracy: 0.7882 - auc: 0.8830 - precision: 0.5972 - recall: 0.8161 - val_loss: 0.4014 - val_binary_accuracy: 0.8126 - val_auc: 0.9006 - val_precision: 0.6265 - val_recall: 0.8416 - lr: 0.0100\n",
      "Epoch 29/100\n",
      "43/43 [==============================] - ETA: 0s - loss: 0.6097 - binary_accuracy: 0.8045 - auc: 0.8849 - precision: 0.5961 - recall: 0.7939\n",
      "Epoch 29: val_loss did not improve from 0.36692\n",
      "43/43 [==============================] - 25s 594ms/step - loss: 0.6097 - binary_accuracy: 0.8045 - auc: 0.8849 - precision: 0.5961 - recall: 0.7939 - val_loss: 0.4328 - val_binary_accuracy: 0.8122 - val_auc: 0.8980 - val_precision: 0.6267 - val_recall: 0.8372 - lr: 0.0100\n",
      "Epoch 30/100\n",
      "43/43 [==============================] - ETA: 0s - loss: 0.6056 - binary_accuracy: 0.8100 - auc: 0.8868 - precision: 0.6169 - recall: 0.8106\n",
      "Epoch 30: val_loss did not improve from 0.36692\n",
      "\n",
      "Epoch 30: ReduceLROnPlateau reducing learning rate to 0.0009999999776482583.\n",
      "43/43 [==============================] - 25s 594ms/step - loss: 0.6056 - binary_accuracy: 0.8100 - auc: 0.8868 - precision: 0.6169 - recall: 0.8106 - val_loss: 0.4128 - val_binary_accuracy: 0.8177 - val_auc: 0.9000 - val_precision: 0.6359 - val_recall: 0.8375 - lr: 0.0100\n"
     ]
    }
   ],
   "source": [
    "#train model\n",
    "history_vgg16, model_vgg16 = compile_fit_model(\n",
    "    model=model_vgg16, save_path=\"vgg16.h5\"\n",
    ")"
   ]
  },
  {
   "cell_type": "code",
   "execution_count": 71,
   "id": "kz_gZZ884IPQ",
   "metadata": {
    "colab": {
     "base_uri": "https://localhost:8080/"
    },
    "id": "kz_gZZ884IPQ",
    "outputId": "5388af4b-2988-4f0b-8247-dcf7153431fd"
   },
   "outputs": [
    {
     "name": "stdout",
     "output_type": "stream",
     "text": [
      "868/868 [==============================] - 31s 35ms/step - loss: 0.8070 - binary_accuracy: 0.2916 - auc: 0.6235 - precision: 0.2860 - recall: 0.9995\n"
     ]
    },
    {
     "data": {
      "text/plain": [
       "[0.8069767951965332,\n",
       " 0.29164940118789673,\n",
       " 0.6235201358795166,\n",
       " 0.28604382276535034,\n",
       " 0.9994922876358032]"
      ]
     },
     "execution_count": 71,
     "metadata": {},
     "output_type": "execute_result"
    }
   ],
   "source": [
    "#evaluate with test data\n",
    "vgg16_eval = model_vgg16.evaluate(test_data)\n",
    "vgg16_eval"
   ]
  },
  {
   "cell_type": "code",
   "execution_count": 23,
   "id": "73fb507d-c9e6-4cd4-b2fd-f5435c398817",
   "metadata": {
    "id": "73fb507d-c9e6-4cd4-b2fd-f5435c398817",
    "tags": []
   },
   "outputs": [],
   "source": [
    "result_vgg16 = pd.DataFrame(history_vgg16.history)"
   ]
  },
  {
   "cell_type": "code",
   "execution_count": 24,
   "id": "f37061da-60ad-4ffe-a420-195a40ba1d1b",
   "metadata": {
    "colab": {
     "base_uri": "https://localhost:8080/",
     "height": 283
    },
    "id": "f37061da-60ad-4ffe-a420-195a40ba1d1b",
    "outputId": "5dffe2e4-144a-49e1-d612-d2f3d1fc01ad",
    "tags": []
   },
   "outputs": [
    {
     "data": {
      "text/plain": [
       "<matplotlib.axes._subplots.AxesSubplot at 0x7fc3e83fc490>"
      ]
     },
     "execution_count": 24,
     "metadata": {},
     "output_type": "execute_result"
    },
    {
     "data": {
      "image/png": "[encoded data removed]",
      "text/plain": [
       "<Figure size 432x288 with 1 Axes>"
      ]
     },
     "metadata": {
      "needs_background": "light"
     },
     "output_type": "display_data"
    }
   ],
   "source": [
    "result_vgg16.plot()"
   ]
  },
  {
   "cell_type": "markdown",
   "id": "2c1a2cf8-7437-4def-b906-aacf9405b2eb",
   "metadata": {
    "id": "2c1a2cf8-7437-4def-b906-aacf9405b2eb"
   },
   "source": [
    "## EfficientNetB0"
   ]
  },
  {
   "cell_type": "code",
   "execution_count": 31,
   "id": "85ea4b28-f345-400e-8130-cec74da89058",
   "metadata": {
    "id": "85ea4b28-f345-400e-8130-cec74da89058",
    "tags": []
   },
   "outputs": [],
   "source": [
    "# function to load image\n",
    "def image_loader_effnetb0(path):\n",
    "    image = tf.io.read_file(path)                                    # read image file as binary\n",
    "    image = tf.image.decode_png(image, channels=3)                   # decode into image tensor\n",
    "    # image = tf.image.convert_image_dtype(image, dtype=tf.float32)  # converts to float32 data type and scaling the values appropriately before casting.\n",
    "    image = tf.image.resize(image, IMG_SIZE)                         # resize the image\n",
    "    image = keras.applications.efficientnet.preprocess_input(image)  # custom preprocessing for efficientnet\n",
    "    label = tf.strings.split(path, os.path.sep)[-2]                  # parse the class label from the file path\n",
    "    label = tf.strings.to_number(label, tf.int32)\n",
    "    return (image, label)"
   ]
  },
  {
   "cell_type": "code",
   "execution_count": 32,
   "id": "2d340bee-685d-43c2-af0b-04b1d03adf15",
   "metadata": {
    "id": "2d340bee-685d-43c2-af0b-04b1d03adf15",
    "tags": []
   },
   "outputs": [],
   "source": [
    "train_data = tf.data.Dataset.from_tensor_slices(train_paths)\n",
    "train_data = (\n",
    "    train_data.shuffle(len(train_paths))                              # shuffle data, optional as already did train_test_split in scikit-learn\n",
    "    .map(image_loader_effnetb0, num_parallel_calls=tf.data.AUTOTUNE)  # load the image\n",
    "    .map(augmentation, num_parallel_calls=tf.data.AUTOTUNE)           # apply augmentation\n",
    "    .cache()                                                          # caching for fast read\n",
    "    .batch(batch_size=BATCH_SIZE)                                     # batching the data\n",
    "    .prefetch(tf.data.AUTOTUNE)                                       # allows later elements to be prepared while the current element is being processed\n",
    ")\n",
    "\n",
    "\n",
    "val_data = tf.data.Dataset.from_tensor_slices(val_paths)                      # no augmentation & shuffle required for test data as it is ground truth\n",
    "val_data = (\n",
    "    val_data.map(image_loader_effnetb0, num_parallel_calls=tf.data.AUTOTUNE)  # load the image\n",
    "    .batch(batch_size=BATCH_SIZE)                                             # batching the data\n",
    "    .prefetch(tf.data.AUTOTUNE)                                               # allows later elements to be prepared while the current element is being processed\n",
    ")\n",
    "\n",
    "\n",
    "test_data = tf.data.Dataset.from_tensor_slices(test_paths)                     # no augmentation & shuffle required for test data as it is ground truth\n",
    "test_data = (\n",
    "    test_data.map(image_loader_effnetb0, num_parallel_calls=tf.data.AUTOTUNE)  # load the image\n",
    "    .batch(batch_size=BATCH_SIZE)                                              # batching the data\n",
    "    .prefetch(tf.data.AUTOTUNE)                                                # allows later elements to be prepared while the current element is being processed  \n",
    ")"
   ]
  },
  {
   "cell_type": "code",
   "execution_count": 33,
   "id": "a68a42b1-dc66-4d8e-8293-099118a5ca06",
   "metadata": {
    "colab": {
     "base_uri": "https://localhost:8080/"
    },
    "id": "a68a42b1-dc66-4d8e-8293-099118a5ca06",
    "outputId": "c45ffb83-3b9a-4f6c-e410-b998a173ba9f",
    "tags": []
   },
   "outputs": [
    {
     "name": "stdout",
     "output_type": "stream",
     "text": [
      "Downloading data from https://storage.googleapis.com/keras-applications/efficientnetb0_notop.h5\n",
      "16711680/16705208 [==============================] - 0s 0us/step\n",
      "16719872/16705208 [==============================] - 0s 0us/step\n"
     ]
    }
   ],
   "source": [
    "#import pretrained and freeze the layers\n",
    "effnetb0 = keras.applications.EfficientNetB0(include_top=False, weights=\"imagenet\")\n",
    "effnetb0.trainable = False"
   ]
  },
  {
   "cell_type": "code",
   "execution_count": 34,
   "id": "e5a5b07c-a6dc-438b-87cb-b7c34bf0ba37",
   "metadata": {
    "id": "e5a5b07c-a6dc-438b-87cb-b7c34bf0ba37",
    "tags": []
   },
   "outputs": [],
   "source": [
    "model_effnetb0 = keras.models.Sequential(\n",
    "    [\n",
    "        effnetb0,\n",
    "        # keras.layers.BatchNormalization(),\n",
    "        keras.layers.GlobalAveragePooling2D(),\n",
    "        keras.layers.Flatten(),\n",
    "        keras.layers.Dropout(0.2),\n",
    "        keras.layers.Dense(units=128, activation=\"relu\"),\n",
    "        keras.layers.Dense(units=1, activation=\"sigmoid\"),\n",
    "    ]\n",
    ")"
   ]
  },
  {
   "cell_type": "code",
   "execution_count": 35,
   "id": "19b602af-0396-4350-9d27-f43f955c87f8",
   "metadata": {
    "colab": {
     "base_uri": "https://localhost:8080/"
    },
    "id": "19b602af-0396-4350-9d27-f43f955c87f8",
    "outputId": "e76b29cb-ccc0-473f-99dd-72dfd8984907",
    "tags": []
   },
   "outputs": [
    {
     "name": "stdout",
     "output_type": "stream",
     "text": [
      "Model: \"sequential_1\"\n",
      "_________________________________________________________________\n",
      " Layer (type)                Output Shape              Param #   \n",
      "=================================================================\n",
      " efficientnetb0 (Functional)  (None, None, None, 1280)  4049571  \n",
      "                                                                 \n",
      " global_average_pooling2d_1   (None, 1280)             0         \n",
      " (GlobalAveragePooling2D)                                        \n",
      "                                                                 \n",
      " flatten_1 (Flatten)         (None, 1280)              0         \n",
      "                                                                 \n",
      " dropout_1 (Dropout)         (None, 1280)              0         \n",
      "                                                                 \n",
      " dense_2 (Dense)             (None, 128)               163968    \n",
      "                                                                 \n",
      " dense_3 (Dense)             (None, 1)                 129       \n",
      "                                                                 \n",
      "=================================================================\n",
      "Total params: 4,213,668\n",
      "Trainable params: 164,097\n",
      "Non-trainable params: 4,049,571\n",
      "_________________________________________________________________\n"
     ]
    }
   ],
   "source": [
    "model_effnetb0.summary()"
   ]
  },
  {
   "cell_type": "code",
   "execution_count": 36,
   "id": "06efbfab-a907-4e4b-9799-fe23a31170e6",
   "metadata": {
    "colab": {
     "base_uri": "https://localhost:8080/"
    },
    "id": "06efbfab-a907-4e4b-9799-fe23a31170e6",
    "outputId": "e17e53b7-eefb-4a15-a3b7-acd18ae128d7",
    "scrolled": true,
    "tags": []
   },
   "outputs": [
    {
     "name": "stdout",
     "output_type": "stream",
     "text": [
      "Epoch 1/100\n",
      "43/43 [==============================] - ETA: 0s - loss: 0.8136 - binary_accuracy: 0.7478 - auc_1: 0.8005 - precision_1: 0.5337 - recall_1: 0.7060\n",
      "Epoch 1: val_loss improved from inf to 0.48694, saving model to effnetb0.h5\n",
      "43/43 [==============================] - 25s 434ms/step - loss: 0.8136 - binary_accuracy: 0.7478 - auc_1: 0.8005 - precision_1: 0.5337 - recall_1: 0.7060 - val_loss: 0.4869 - val_binary_accuracy: 0.7844 - val_auc_1: 0.8642 - val_precision_1: 0.5879 - val_recall_1: 0.8041 - lr: 0.0100\n",
      "Epoch 2/100\n",
      "43/43 [==============================] - ETA: 0s - loss: 0.6687 - binary_accuracy: 0.7911 - auc_1: 0.8560 - precision_1: 0.5907 - recall_1: 0.7497\n",
      "Epoch 2: val_loss improved from 0.48694 to 0.47187, saving model to effnetb0.h5\n",
      "43/43 [==============================] - 17s 402ms/step - loss: 0.6687 - binary_accuracy: 0.7911 - auc_1: 0.8560 - precision_1: 0.5907 - recall_1: 0.7497 - val_loss: 0.4719 - val_binary_accuracy: 0.7827 - val_auc_1: 0.8754 - val_precision_1: 0.5827 - val_recall_1: 0.8254 - lr: 0.0100\n",
      "Epoch 3/100\n",
      "43/43 [==============================] - ETA: 0s - loss: 0.7020 - binary_accuracy: 0.7674 - auc_1: 0.8496 - precision_1: 0.5766 - recall_1: 0.8047\n",
      "Epoch 3: val_loss improved from 0.47187 to 0.39691, saving model to effnetb0.h5\n",
      "43/43 [==============================] - 17s 413ms/step - loss: 0.7020 - binary_accuracy: 0.7674 - auc_1: 0.8496 - precision_1: 0.5766 - recall_1: 0.8047 - val_loss: 0.3969 - val_binary_accuracy: 0.8327 - val_auc_1: 0.8726 - val_precision_1: 0.7127 - val_recall_1: 0.6882 - lr: 0.0100\n",
      "Epoch 4/100\n",
      "43/43 [==============================] - ETA: 0s - loss: 0.6898 - binary_accuracy: 0.7838 - auc_1: 0.8502 - precision_1: 0.5936 - recall_1: 0.7583\n",
      "Epoch 4: val_loss improved from 0.39691 to 0.39206, saving model to effnetb0.h5\n",
      "43/43 [==============================] - 17s 414ms/step - loss: 0.6898 - binary_accuracy: 0.7838 - auc_1: 0.8502 - precision_1: 0.5936 - recall_1: 0.7583 - val_loss: 0.3921 - val_binary_accuracy: 0.8386 - val_auc_1: 0.8844 - val_precision_1: 0.7340 - val_recall_1: 0.6765 - lr: 0.0100\n",
      "Epoch 5/100\n",
      "43/43 [==============================] - ETA: 0s - loss: 0.6693 - binary_accuracy: 0.7936 - auc_1: 0.8638 - precision_1: 0.6139 - recall_1: 0.7670\n",
      "Epoch 5: val_loss did not improve from 0.39206\n",
      "43/43 [==============================] - 16s 387ms/step - loss: 0.6693 - binary_accuracy: 0.7936 - auc_1: 0.8638 - precision_1: 0.6139 - recall_1: 0.7670 - val_loss: 0.5060 - val_binary_accuracy: 0.7664 - val_auc_1: 0.8887 - val_precision_1: 0.5565 - val_recall_1: 0.8729 - lr: 0.0100\n",
      "Epoch 6/100\n",
      "43/43 [==============================] - ETA: 0s - loss: 0.6485 - binary_accuracy: 0.7983 - auc_1: 0.8673 - precision_1: 0.6091 - recall_1: 0.7718\n",
      "Epoch 6: val_loss did not improve from 0.39206\n",
      "43/43 [==============================] - 16s 388ms/step - loss: 0.6485 - binary_accuracy: 0.7983 - auc_1: 0.8673 - precision_1: 0.6091 - recall_1: 0.7718 - val_loss: 0.4778 - val_binary_accuracy: 0.7789 - val_auc_1: 0.8885 - val_precision_1: 0.5744 - val_recall_1: 0.8540 - lr: 0.0100\n",
      "Epoch 7/100\n",
      "43/43 [==============================] - ETA: 0s - loss: 0.6436 - binary_accuracy: 0.7991 - auc_1: 0.8734 - precision_1: 0.6222 - recall_1: 0.7905\n",
      "Epoch 7: val_loss did not improve from 0.39206\n",
      "43/43 [==============================] - 16s 388ms/step - loss: 0.6436 - binary_accuracy: 0.7991 - auc_1: 0.8734 - precision_1: 0.6222 - recall_1: 0.7905 - val_loss: 0.4014 - val_binary_accuracy: 0.8254 - val_auc_1: 0.8885 - val_precision_1: 0.6658 - val_recall_1: 0.7726 - lr: 0.0100\n",
      "Epoch 8/100\n",
      "43/43 [==============================] - ETA: 0s - loss: 0.6094 - binary_accuracy: 0.8176 - auc_1: 0.8861 - precision_1: 0.6423 - recall_1: 0.8008\n",
      "Epoch 8: val_loss did not improve from 0.39206\n",
      "43/43 [==============================] - 17s 394ms/step - loss: 0.6094 - binary_accuracy: 0.8176 - auc_1: 0.8861 - precision_1: 0.6423 - recall_1: 0.8008 - val_loss: 0.4562 - val_binary_accuracy: 0.7996 - val_auc_1: 0.8908 - val_precision_1: 0.6079 - val_recall_1: 0.8281 - lr: 0.0100\n",
      "Epoch 9/100\n",
      "43/43 [==============================] - ETA: 0s - loss: 0.6225 - binary_accuracy: 0.8147 - auc_1: 0.8829 - precision_1: 0.6491 - recall_1: 0.7872\n",
      "Epoch 9: val_loss did not improve from 0.39206\n",
      "43/43 [==============================] - 17s 392ms/step - loss: 0.6225 - binary_accuracy: 0.8147 - auc_1: 0.8829 - precision_1: 0.6491 - recall_1: 0.7872 - val_loss: 0.5096 - val_binary_accuracy: 0.7609 - val_auc_1: 0.8907 - val_precision_1: 0.5493 - val_recall_1: 0.8800 - lr: 0.0100\n",
      "Epoch 10/100\n",
      "43/43 [==============================] - ETA: 0s - loss: 0.6363 - binary_accuracy: 0.7987 - auc_1: 0.8720 - precision_1: 0.5984 - recall_1: 0.7947\n",
      "Epoch 10: val_loss did not improve from 0.39206\n",
      "43/43 [==============================] - 16s 387ms/step - loss: 0.6363 - binary_accuracy: 0.7987 - auc_1: 0.8720 - precision_1: 0.5984 - recall_1: 0.7947 - val_loss: 0.5091 - val_binary_accuracy: 0.7651 - val_auc_1: 0.8873 - val_precision_1: 0.5552 - val_recall_1: 0.8680 - lr: 0.0100\n",
      "Epoch 11/100\n",
      "43/43 [==============================] - ETA: 0s - loss: 0.6421 - binary_accuracy: 0.7896 - auc_1: 0.8776 - precision_1: 0.6188 - recall_1: 0.8175\n",
      "Epoch 11: val_loss did not improve from 0.39206\n",
      "43/43 [==============================] - 16s 386ms/step - loss: 0.6421 - binary_accuracy: 0.7896 - auc_1: 0.8776 - precision_1: 0.6188 - recall_1: 0.8175 - val_loss: 0.4780 - val_binary_accuracy: 0.7741 - val_auc_1: 0.8941 - val_precision_1: 0.5663 - val_recall_1: 0.8732 - lr: 0.0100\n",
      "Epoch 12/100\n",
      "43/43 [==============================] - ETA: 0s - loss: 0.6276 - binary_accuracy: 0.8020 - auc_1: 0.8790 - precision_1: 0.6133 - recall_1: 0.8054\n",
      "Epoch 12: val_loss did not improve from 0.39206\n",
      "43/43 [==============================] - 16s 386ms/step - loss: 0.6276 - binary_accuracy: 0.8020 - auc_1: 0.8790 - precision_1: 0.6133 - recall_1: 0.8054 - val_loss: 0.4651 - val_binary_accuracy: 0.7833 - val_auc_1: 0.8926 - val_precision_1: 0.5800 - val_recall_1: 0.8587 - lr: 0.0100\n",
      "Epoch 13/100\n",
      "43/43 [==============================] - ETA: 0s - loss: 0.6223 - binary_accuracy: 0.8103 - auc_1: 0.8782 - precision_1: 0.6219 - recall_1: 0.7776\n",
      "Epoch 13: val_loss did not improve from 0.39206\n",
      "43/43 [==============================] - 16s 388ms/step - loss: 0.6223 - binary_accuracy: 0.8103 - auc_1: 0.8782 - precision_1: 0.6219 - recall_1: 0.7776 - val_loss: 0.4952 - val_binary_accuracy: 0.7758 - val_auc_1: 0.8878 - val_precision_1: 0.5701 - val_recall_1: 0.8554 - lr: 0.0100\n",
      "Epoch 14/100\n",
      "43/43 [==============================] - ETA: 0s - loss: 0.6580 - binary_accuracy: 0.7972 - auc_1: 0.8687 - precision_1: 0.6099 - recall_1: 0.7796\n",
      "Epoch 14: val_loss did not improve from 0.39206\n",
      "\n",
      "Epoch 14: ReduceLROnPlateau reducing learning rate to 0.0009999999776482583.\n",
      "43/43 [==============================] - 16s 383ms/step - loss: 0.6580 - binary_accuracy: 0.7972 - auc_1: 0.8687 - precision_1: 0.6099 - recall_1: 0.7796 - val_loss: 0.4386 - val_binary_accuracy: 0.8197 - val_auc_1: 0.8927 - val_precision_1: 0.6473 - val_recall_1: 0.8014 - lr: 0.0100\n"
     ]
    }
   ],
   "source": [
    "history_effnetb0, model_effnetb0 = compile_fit_model(\n",
    "    model=model_effnetb0, save_path=\"effnetb0.h5\"\n",
    ")"
   ]
  },
  {
   "cell_type": "code",
   "execution_count": 70,
   "id": "0acf3032-c237-4f65-99d4-c69433d06c61",
   "metadata": {
    "colab": {
     "base_uri": "https://localhost:8080/"
    },
    "id": "0acf3032-c237-4f65-99d4-c69433d06c61",
    "outputId": "251dd619-3d7a-42a2-bef1-8f2269bd8788",
    "tags": []
   },
   "outputs": [
    {
     "name": "stdout",
     "output_type": "stream",
     "text": [
      "868/868 [==============================] - 24s 28ms/step - loss: 0.6959 - binary_accuracy: 0.2902 - auc_1: 0.5389 - precision_1: 0.2852 - recall_1: 0.9960\n"
     ]
    },
    {
     "data": {
      "text/plain": [
       "[0.695875346660614,\n",
       " 0.2902261018753052,\n",
       " 0.5388810038566589,\n",
       " 0.2852054536342621,\n",
       " 0.9960017800331116]"
      ]
     },
     "execution_count": 70,
     "metadata": {},
     "output_type": "execute_result"
    }
   ],
   "source": [
    "effnet_eval = model_effnetb0.evaluate(test_data)\n",
    "effnet_eval"
   ]
  },
  {
   "cell_type": "code",
   "execution_count": 38,
   "id": "af7e5a9e-d802-41a0-8311-5a0ef92aa467",
   "metadata": {
    "id": "af7e5a9e-d802-41a0-8311-5a0ef92aa467",
    "tags": []
   },
   "outputs": [],
   "source": [
    "result_effnetb0 = pd.DataFrame(history_effnetb0.history)"
   ]
  },
  {
   "cell_type": "code",
   "execution_count": 39,
   "id": "d13432af-f01a-41c2-bc3b-59e593eaaa91",
   "metadata": {
    "colab": {
     "base_uri": "https://localhost:8080/",
     "height": 283
    },
    "id": "d13432af-f01a-41c2-bc3b-59e593eaaa91",
    "outputId": "56da4f1a-1d63-4bb3-a000-44cb95f825c5",
    "tags": []
   },
   "outputs": [
    {
     "data": {
      "text/plain": [
       "<matplotlib.axes._subplots.AxesSubplot at 0x7fc3dc705e90>"
      ]
     },
     "execution_count": 39,
     "metadata": {},
     "output_type": "execute_result"
    },
    {
     "data": {
      "image/png": "[encoded data removed]",
      "text/plain": [
       "<Figure size 432x288 with 1 Axes>"
      ]
     },
     "metadata": {
      "needs_background": "light"
     },
     "output_type": "display_data"
    }
   ],
   "source": [
    "result_effnetb0.plot()"
   ]
  },
  {
   "cell_type": "markdown",
   "id": "9deca209-dfa8-42f3-b152-d39c3fff84d8",
   "metadata": {
    "id": "9deca209-dfa8-42f3-b152-d39c3fff84d8"
   },
   "source": [
    "## Xception"
   ]
  },
  {
   "cell_type": "code",
   "execution_count": 40,
   "id": "a2f9182c-2918-47b7-b212-d122a49dddf8",
   "metadata": {
    "id": "a2f9182c-2918-47b7-b212-d122a49dddf8",
    "tags": []
   },
   "outputs": [],
   "source": [
    "# function to load image\n",
    "def image_loader_xception(path):\n",
    "    image = tf.io.read_file(path)                                   # read image file as binary\n",
    "    image = tf.image.decode_png(image, channels=3)                  # decode into image tensor\n",
    "    # image = tf.image.convert_image_dtype(image, dtype=tf.float32) # converts to float32 data type and scaling the values appropriately before casting.\n",
    "    image = tf.cast(image, dtype=tf.float32)\n",
    "    image = tf.image.resize(image, IMG_SIZE)                        # resize the image\n",
    "    image = keras.applications.xception.preprocess_input(image)     # custom preprocessing for VGG16\n",
    "    label = tf.strings.split(path, os.path.sep)[-2]                 # parse the class label from the file path\n",
    "    label = tf.strings.to_number(label, tf.int32)\n",
    "    return (image, label)\n"
   ]
  },
  {
   "cell_type": "code",
   "execution_count": 41,
   "id": "b97cca5c-6c45-4232-a1ce-41cde72c2512",
   "metadata": {
    "id": "b97cca5c-6c45-4232-a1ce-41cde72c2512",
    "tags": []
   },
   "outputs": [],
   "source": [
    "train_data = tf.data.Dataset.from_tensor_slices(train_paths)\n",
    "train_data = (\n",
    "    train_data.shuffle(len(train_paths))                            # shuffle data, optional as already did train_test_split in scikit-learn\n",
    "    .map(image_loader_xception, num_parallel_calls=tf.data.AUTOTUNE)   # load the image\n",
    "    .map(augmentation, num_parallel_calls=tf.data.AUTOTUNE)         # apply augmentation\n",
    "    .cache()                                                        # caching for fast read\n",
    "    .batch(batch_size=BATCH_SIZE)                                   # batching the data\n",
    "    .prefetch(tf.data.AUTOTUNE)                                     # allows later elements to be prepared while the current element is being processed\n",
    ")\n",
    "\n",
    "\n",
    "val_data = tf.data.Dataset.from_tensor_slices(val_paths)                   # no augmentation & shuffle required for test data as it is ground truth\n",
    "val_data = (\n",
    "    val_data.map(image_loader_xception, num_parallel_calls=tf.data.AUTOTUNE)  # load the image\n",
    "    .batch(batch_size=BATCH_SIZE)                                          # batching the data\n",
    "    .prefetch(tf.data.AUTOTUNE)                                            # allows later elements to be prepared while the current element is being processed\n",
    ")\n",
    "\n",
    "\n",
    "test_data = tf.data.Dataset.from_tensor_slices(test_paths)                  # no augmentation & shuffle required for test data as it is ground truth\n",
    "test_data = (\n",
    "    test_data.map(image_loader_xception, num_parallel_calls=tf.data.AUTOTUNE)  # load the image\n",
    "    .batch(batch_size=BATCH_SIZE)                                           # batching the data\n",
    "    .prefetch(tf.data.AUTOTUNE)                                             # allows later elements to be prepared while the current element is being processed\n",
    ")"
   ]
  },
  {
   "cell_type": "code",
   "execution_count": 42,
   "id": "823e240e-55db-4a61-8700-c6a96c7c4125",
   "metadata": {
    "colab": {
     "base_uri": "https://localhost:8080/"
    },
    "id": "823e240e-55db-4a61-8700-c6a96c7c4125",
    "outputId": "19a04000-9601-49e2-d17f-24c5f66b474a",
    "tags": []
   },
   "outputs": [
    {
     "name": "stdout",
     "output_type": "stream",
     "text": [
      "Downloading data from https://storage.googleapis.com/tensorflow/keras-applications/xception/xception_weights_tf_dim_ordering_tf_kernels_notop.h5\n",
      "83689472/83683744 [==============================] - 1s 0us/step\n",
      "83697664/83683744 [==============================] - 1s 0us/step\n"
     ]
    }
   ],
   "source": [
    "xception = keras.applications.Xception(include_top=False, weights=\"imagenet\")\n",
    "xception.trainable = False"
   ]
  },
  {
   "cell_type": "code",
   "execution_count": 43,
   "id": "f412c458-91ed-4e51-8a6b-0c6fec077cc0",
   "metadata": {
    "id": "f412c458-91ed-4e51-8a6b-0c6fec077cc0",
    "tags": []
   },
   "outputs": [],
   "source": [
    "model_xception = keras.models.Sequential(\n",
    "    [\n",
    "        xception,\n",
    "        # keras.layers.BatchNormalization(),\n",
    "        keras.layers.GlobalAveragePooling2D(),\n",
    "        keras.layers.Flatten(),\n",
    "        keras.layers.Dropout(0.2),\n",
    "        keras.layers.Dense(units=128, activation=\"relu\"),\n",
    "        keras.layers.Dense(units=1, activation=\"sigmoid\"),\n",
    "    ]\n",
    ")"
   ]
  },
  {
   "cell_type": "code",
   "execution_count": 44,
   "id": "24a4c2a3-b0bc-4993-9a50-5d6f869d288d",
   "metadata": {
    "colab": {
     "base_uri": "https://localhost:8080/"
    },
    "id": "24a4c2a3-b0bc-4993-9a50-5d6f869d288d",
    "outputId": "a5cd8f61-bca0-43a7-b980-aed6866505c4",
    "tags": []
   },
   "outputs": [
    {
     "name": "stdout",
     "output_type": "stream",
     "text": [
      "Model: \"sequential_2\"\n",
      "_________________________________________________________________\n",
      " Layer (type)                Output Shape              Param #   \n",
      "=================================================================\n",
      " xception (Functional)       (None, None, None, 2048)  20861480  \n",
      "                                                                 \n",
      " global_average_pooling2d_2   (None, 2048)             0         \n",
      " (GlobalAveragePooling2D)                                        \n",
      "                                                                 \n",
      " flatten_2 (Flatten)         (None, 2048)              0         \n",
      "                                                                 \n",
      " dropout_2 (Dropout)         (None, 2048)              0         \n",
      "                                                                 \n",
      " dense_4 (Dense)             (None, 128)               262272    \n",
      "                                                                 \n",
      " dense_5 (Dense)             (None, 1)                 129       \n",
      "                                                                 \n",
      "=================================================================\n",
      "Total params: 21,123,881\n",
      "Trainable params: 262,401\n",
      "Non-trainable params: 20,861,480\n",
      "_________________________________________________________________\n"
     ]
    }
   ],
   "source": [
    "model_xception.summary()"
   ]
  },
  {
   "cell_type": "code",
   "execution_count": 45,
   "id": "de6e1c7d-087b-470d-9f4e-7f967f87f1aa",
   "metadata": {
    "colab": {
     "base_uri": "https://localhost:8080/"
    },
    "id": "de6e1c7d-087b-470d-9f4e-7f967f87f1aa",
    "outputId": "a49b3c1e-0550-454f-f34b-0937ecc35f18",
    "scrolled": true,
    "tags": []
   },
   "outputs": [
    {
     "name": "stdout",
     "output_type": "stream",
     "text": [
      "Epoch 1/100\n",
      "43/43 [==============================] - ETA: 0s - loss: 1.1414 - binary_accuracy: 0.6781 - auc_2: 0.7294 - precision_2: 0.4720 - recall_2: 0.7124\n",
      "Epoch 1: val_loss improved from inf to 0.46337, saving model to xception.h5\n",
      "43/43 [==============================] - 27s 559ms/step - loss: 1.1414 - binary_accuracy: 0.6781 - auc_2: 0.7294 - precision_2: 0.4720 - recall_2: 0.7124 - val_loss: 0.4634 - val_binary_accuracy: 0.8037 - val_auc_2: 0.8414 - val_precision_2: 0.6399 - val_recall_2: 0.7056 - lr: 0.0100\n",
      "Epoch 2/100\n",
      "43/43 [==============================] - ETA: 0s - loss: 0.6839 - binary_accuracy: 0.7892 - auc_2: 0.8626 - precision_2: 0.6099 - recall_2: 0.7904\n",
      "Epoch 2: val_loss improved from 0.46337 to 0.42154, saving model to xception.h5\n",
      "43/43 [==============================] - 22s 534ms/step - loss: 0.6839 - binary_accuracy: 0.7892 - auc_2: 0.8626 - precision_2: 0.6099 - recall_2: 0.7904 - val_loss: 0.4215 - val_binary_accuracy: 0.8211 - val_auc_2: 0.8654 - val_precision_2: 0.6794 - val_recall_2: 0.7001 - lr: 0.0100\n",
      "Epoch 3/100\n",
      "43/43 [==============================] - ETA: 0s - loss: 0.6474 - binary_accuracy: 0.8063 - auc_2: 0.8699 - precision_2: 0.6180 - recall_2: 0.7770\n",
      "Epoch 3: val_loss did not improve from 0.42154\n",
      "43/43 [==============================] - 22s 526ms/step - loss: 0.6474 - binary_accuracy: 0.8063 - auc_2: 0.8699 - precision_2: 0.6180 - recall_2: 0.7770 - val_loss: 0.4272 - val_binary_accuracy: 0.8194 - val_auc_2: 0.8772 - val_precision_2: 0.6573 - val_recall_2: 0.7605 - lr: 0.0100\n",
      "Epoch 4/100\n",
      "43/43 [==============================] - ETA: 0s - loss: 0.6602 - binary_accuracy: 0.7852 - auc_2: 0.8631 - precision_2: 0.5895 - recall_2: 0.7848\n",
      "Epoch 4: val_loss did not improve from 0.42154\n",
      "43/43 [==============================] - 22s 526ms/step - loss: 0.6602 - binary_accuracy: 0.7852 - auc_2: 0.8631 - precision_2: 0.5895 - recall_2: 0.7848 - val_loss: 0.4349 - val_binary_accuracy: 0.8043 - val_auc_2: 0.8768 - val_precision_2: 0.6233 - val_recall_2: 0.7851 - lr: 0.0100\n",
      "Epoch 5/100\n",
      "43/43 [==============================] - ETA: 0s - loss: 0.6440 - binary_accuracy: 0.8020 - auc_2: 0.8767 - precision_2: 0.6255 - recall_2: 0.8007\n",
      "Epoch 5: val_loss improved from 0.42154 to 0.40135, saving model to xception.h5\n",
      "43/43 [==============================] - 22s 532ms/step - loss: 0.6440 - binary_accuracy: 0.8020 - auc_2: 0.8767 - precision_2: 0.6255 - recall_2: 0.8007 - val_loss: 0.4014 - val_binary_accuracy: 0.8294 - val_auc_2: 0.8798 - val_precision_2: 0.6836 - val_recall_2: 0.7428 - lr: 0.0100\n",
      "Epoch 6/100\n",
      "43/43 [==============================] - ETA: 0s - loss: 0.6484 - binary_accuracy: 0.7976 - auc_2: 0.8707 - precision_2: 0.6024 - recall_2: 0.7884\n",
      "Epoch 6: val_loss did not improve from 0.40135\n",
      "43/43 [==============================] - 22s 523ms/step - loss: 0.6484 - binary_accuracy: 0.7976 - auc_2: 0.8707 - precision_2: 0.6024 - recall_2: 0.7884 - val_loss: 0.4140 - val_binary_accuracy: 0.8215 - val_auc_2: 0.8853 - val_precision_2: 0.6545 - val_recall_2: 0.7861 - lr: 0.0100\n",
      "Epoch 7/100\n",
      "43/43 [==============================] - ETA: 0s - loss: 0.6144 - binary_accuracy: 0.8140 - auc_2: 0.8893 - precision_2: 0.6389 - recall_2: 0.8204\n",
      "Epoch 7: val_loss did not improve from 0.40135\n",
      "43/43 [==============================] - 22s 529ms/step - loss: 0.6144 - binary_accuracy: 0.8140 - auc_2: 0.8893 - precision_2: 0.6389 - recall_2: 0.8204 - val_loss: 0.4698 - val_binary_accuracy: 0.7908 - val_auc_2: 0.8836 - val_precision_2: 0.5926 - val_recall_2: 0.8421 - lr: 0.0100\n",
      "Epoch 8/100\n",
      "43/43 [==============================] - ETA: 0s - loss: 0.6281 - binary_accuracy: 0.8092 - auc_2: 0.8821 - precision_2: 0.6240 - recall_2: 0.8203\n",
      "Epoch 8: val_loss did not improve from 0.40135\n",
      "43/43 [==============================] - 22s 523ms/step - loss: 0.6281 - binary_accuracy: 0.8092 - auc_2: 0.8821 - precision_2: 0.6240 - recall_2: 0.8203 - val_loss: 0.4106 - val_binary_accuracy: 0.8300 - val_auc_2: 0.8866 - val_precision_2: 0.6829 - val_recall_2: 0.7490 - lr: 0.0100\n",
      "Epoch 9/100\n",
      "43/43 [==============================] - ETA: 0s - loss: 0.6225 - binary_accuracy: 0.8125 - auc_2: 0.8810 - precision_2: 0.6344 - recall_2: 0.7702\n",
      "Epoch 9: val_loss did not improve from 0.40135\n",
      "43/43 [==============================] - 22s 521ms/step - loss: 0.6225 - binary_accuracy: 0.8125 - auc_2: 0.8810 - precision_2: 0.6344 - recall_2: 0.7702 - val_loss: 0.4163 - val_binary_accuracy: 0.8181 - val_auc_2: 0.8895 - val_precision_2: 0.6439 - val_recall_2: 0.8038 - lr: 0.0100\n",
      "Epoch 10/100\n",
      "43/43 [==============================] - ETA: 0s - loss: 0.5829 - binary_accuracy: 0.8227 - auc_2: 0.8949 - precision_2: 0.6329 - recall_2: 0.8215\n",
      "Epoch 10: val_loss did not improve from 0.40135\n",
      "43/43 [==============================] - 22s 522ms/step - loss: 0.5829 - binary_accuracy: 0.8227 - auc_2: 0.8949 - precision_2: 0.6329 - recall_2: 0.8215 - val_loss: 0.4384 - val_binary_accuracy: 0.8012 - val_auc_2: 0.8899 - val_precision_2: 0.6084 - val_recall_2: 0.8409 - lr: 0.0100\n",
      "Epoch 11/100\n",
      "43/43 [==============================] - ETA: 0s - loss: 0.6180 - binary_accuracy: 0.8100 - auc_2: 0.8845 - precision_2: 0.6289 - recall_2: 0.7995\n",
      "Epoch 11: val_loss did not improve from 0.40135\n",
      "43/43 [==============================] - 22s 521ms/step - loss: 0.6180 - binary_accuracy: 0.8100 - auc_2: 0.8845 - precision_2: 0.6289 - recall_2: 0.7995 - val_loss: 0.4105 - val_binary_accuracy: 0.8226 - val_auc_2: 0.8852 - val_precision_2: 0.6592 - val_recall_2: 0.7766 - lr: 0.0100\n",
      "Epoch 12/100\n",
      "43/43 [==============================] - ETA: 0s - loss: 0.6211 - binary_accuracy: 0.8052 - auc_2: 0.8812 - precision_2: 0.6204 - recall_2: 0.7992\n",
      "Epoch 12: val_loss improved from 0.40135 to 0.38843, saving model to xception.h5\n",
      "43/43 [==============================] - 22s 533ms/step - loss: 0.6211 - binary_accuracy: 0.8052 - auc_2: 0.8812 - precision_2: 0.6204 - recall_2: 0.7992 - val_loss: 0.3884 - val_binary_accuracy: 0.8404 - val_auc_2: 0.8874 - val_precision_2: 0.7226 - val_recall_2: 0.7105 - lr: 0.0100\n",
      "Epoch 13/100\n",
      "43/43 [==============================] - ETA: 0s - loss: 0.6273 - binary_accuracy: 0.8140 - auc_2: 0.8816 - precision_2: 0.6416 - recall_2: 0.8063\n",
      "Epoch 13: val_loss improved from 0.38843 to 0.38822, saving model to xception.h5\n",
      "43/43 [==============================] - 22s 532ms/step - loss: 0.6273 - binary_accuracy: 0.8140 - auc_2: 0.8816 - precision_2: 0.6416 - recall_2: 0.8063 - val_loss: 0.3882 - val_binary_accuracy: 0.8305 - val_auc_2: 0.8906 - val_precision_2: 0.6776 - val_recall_2: 0.7690 - lr: 0.0100\n",
      "Epoch 14/100\n",
      "43/43 [==============================] - ETA: 0s - loss: 0.6280 - binary_accuracy: 0.7907 - auc_2: 0.8790 - precision_2: 0.6004 - recall_2: 0.8101\n",
      "Epoch 14: val_loss did not improve from 0.38822\n",
      "43/43 [==============================] - 22s 521ms/step - loss: 0.6280 - binary_accuracy: 0.7907 - auc_2: 0.8790 - precision_2: 0.6004 - recall_2: 0.8101 - val_loss: 0.4231 - val_binary_accuracy: 0.8099 - val_auc_2: 0.8898 - val_precision_2: 0.6254 - val_recall_2: 0.8241 - lr: 0.0100\n",
      "Epoch 15/100\n",
      "43/43 [==============================] - ETA: 0s - loss: 0.6150 - binary_accuracy: 0.8049 - auc_2: 0.8838 - precision_2: 0.6183 - recall_2: 0.8026\n",
      "Epoch 15: val_loss did not improve from 0.38822\n",
      "43/43 [==============================] - 22s 523ms/step - loss: 0.6150 - binary_accuracy: 0.8049 - auc_2: 0.8838 - precision_2: 0.6183 - recall_2: 0.8026 - val_loss: 0.4145 - val_binary_accuracy: 0.8034 - val_auc_2: 0.8888 - val_precision_2: 0.6146 - val_recall_2: 0.8241 - lr: 0.0100\n",
      "Epoch 16/100\n",
      "43/43 [==============================] - ETA: 0s - loss: 0.6535 - binary_accuracy: 0.7932 - auc_2: 0.8733 - precision_2: 0.6058 - recall_2: 0.8138\n",
      "Epoch 16: val_loss did not improve from 0.38822\n",
      "43/43 [==============================] - 22s 522ms/step - loss: 0.6535 - binary_accuracy: 0.7932 - auc_2: 0.8733 - precision_2: 0.6058 - recall_2: 0.8138 - val_loss: 0.4511 - val_binary_accuracy: 0.7838 - val_auc_2: 0.8902 - val_precision_2: 0.5806 - val_recall_2: 0.8594 - lr: 0.0100\n",
      "Epoch 17/100\n",
      "43/43 [==============================] - ETA: 0s - loss: 0.6374 - binary_accuracy: 0.7911 - auc_2: 0.8771 - precision_2: 0.6070 - recall_2: 0.7975\n",
      "Epoch 17: val_loss did not improve from 0.38822\n",
      "43/43 [==============================] - 22s 520ms/step - loss: 0.6374 - binary_accuracy: 0.7911 - auc_2: 0.8771 - precision_2: 0.6070 - recall_2: 0.7975 - val_loss: 0.3923 - val_binary_accuracy: 0.8322 - val_auc_2: 0.8943 - val_precision_2: 0.6767 - val_recall_2: 0.7832 - lr: 0.0100\n",
      "Epoch 18/100\n",
      "43/43 [==============================] - ETA: 0s - loss: 0.6136 - binary_accuracy: 0.8140 - auc_2: 0.8892 - precision_2: 0.6308 - recall_2: 0.8367\n",
      "Epoch 18: val_loss did not improve from 0.38822\n",
      "43/43 [==============================] - 22s 522ms/step - loss: 0.6136 - binary_accuracy: 0.8140 - auc_2: 0.8892 - precision_2: 0.6308 - recall_2: 0.8367 - val_loss: 0.3917 - val_binary_accuracy: 0.8240 - val_auc_2: 0.8947 - val_precision_2: 0.6549 - val_recall_2: 0.8035 - lr: 0.0100\n",
      "Epoch 19/100\n",
      "43/43 [==============================] - ETA: 0s - loss: 0.6268 - binary_accuracy: 0.8078 - auc_2: 0.8821 - precision_2: 0.6233 - recall_2: 0.8242\n",
      "Epoch 19: val_loss did not improve from 0.38822\n",
      "43/43 [==============================] - 22s 523ms/step - loss: 0.6268 - binary_accuracy: 0.8078 - auc_2: 0.8821 - precision_2: 0.6233 - recall_2: 0.8242 - val_loss: 0.4100 - val_binary_accuracy: 0.8176 - val_auc_2: 0.8939 - val_precision_2: 0.6399 - val_recall_2: 0.8176 - lr: 0.0100\n",
      "Epoch 20/100\n",
      "43/43 [==============================] - ETA: 0s - loss: 0.6314 - binary_accuracy: 0.8012 - auc_2: 0.8812 - precision_2: 0.6296 - recall_2: 0.7946\n",
      "Epoch 20: val_loss did not improve from 0.38822\n",
      "43/43 [==============================] - 22s 521ms/step - loss: 0.6314 - binary_accuracy: 0.8012 - auc_2: 0.8812 - precision_2: 0.6296 - recall_2: 0.7946 - val_loss: 0.4539 - val_binary_accuracy: 0.7908 - val_auc_2: 0.8937 - val_precision_2: 0.5897 - val_recall_2: 0.8645 - lr: 0.0100\n",
      "Epoch 21/100\n",
      "43/43 [==============================] - ETA: 0s - loss: 0.5837 - binary_accuracy: 0.8183 - auc_2: 0.8988 - precision_2: 0.6415 - recall_2: 0.8373\n",
      "Epoch 21: val_loss improved from 0.38822 to 0.38158, saving model to xception.h5\n",
      "43/43 [==============================] - 22s 529ms/step - loss: 0.5837 - binary_accuracy: 0.8183 - auc_2: 0.8988 - precision_2: 0.6415 - recall_2: 0.8373 - val_loss: 0.3816 - val_binary_accuracy: 0.8361 - val_auc_2: 0.8894 - val_precision_2: 0.7043 - val_recall_2: 0.7286 - lr: 0.0100\n",
      "Epoch 22/100\n",
      "43/43 [==============================] - ETA: 0s - loss: 0.6370 - binary_accuracy: 0.8009 - auc_2: 0.8758 - precision_2: 0.6092 - recall_2: 0.7937\n",
      "Epoch 22: val_loss did not improve from 0.38158\n",
      "43/43 [==============================] - 23s 545ms/step - loss: 0.6370 - binary_accuracy: 0.8009 - auc_2: 0.8758 - precision_2: 0.6092 - recall_2: 0.7937 - val_loss: 0.4486 - val_binary_accuracy: 0.7947 - val_auc_2: 0.8961 - val_precision_2: 0.5961 - val_recall_2: 0.8582 - lr: 0.0100\n",
      "Epoch 23/100\n",
      "43/43 [==============================] - ETA: 0s - loss: 0.6272 - binary_accuracy: 0.8027 - auc_2: 0.8823 - precision_2: 0.6196 - recall_2: 0.8030\n",
      "Epoch 23: val_loss did not improve from 0.38158\n",
      "43/43 [==============================] - 23s 549ms/step - loss: 0.6272 - binary_accuracy: 0.8027 - auc_2: 0.8823 - precision_2: 0.6196 - recall_2: 0.8030 - val_loss: 0.4454 - val_binary_accuracy: 0.7993 - val_auc_2: 0.8960 - val_precision_2: 0.6033 - val_recall_2: 0.8562 - lr: 0.0100\n",
      "Epoch 24/100\n",
      "43/43 [==============================] - ETA: 0s - loss: 0.6099 - binary_accuracy: 0.8121 - auc_2: 0.8881 - precision_2: 0.6342 - recall_2: 0.8107\n",
      "Epoch 24: val_loss did not improve from 0.38158\n",
      "43/43 [==============================] - 23s 539ms/step - loss: 0.6099 - binary_accuracy: 0.8121 - auc_2: 0.8881 - precision_2: 0.6342 - recall_2: 0.8107 - val_loss: 0.4281 - val_binary_accuracy: 0.8013 - val_auc_2: 0.8937 - val_precision_2: 0.6079 - val_recall_2: 0.8446 - lr: 0.0100\n",
      "Epoch 25/100\n",
      "43/43 [==============================] - ETA: 0s - loss: 0.6211 - binary_accuracy: 0.8096 - auc_2: 0.8853 - precision_2: 0.6271 - recall_2: 0.8346\n",
      "Epoch 25: val_loss did not improve from 0.38158\n",
      "43/43 [==============================] - 22s 524ms/step - loss: 0.6211 - binary_accuracy: 0.8096 - auc_2: 0.8853 - precision_2: 0.6271 - recall_2: 0.8346 - val_loss: 0.3932 - val_binary_accuracy: 0.8219 - val_auc_2: 0.8968 - val_precision_2: 0.6488 - val_recall_2: 0.8122 - lr: 0.0100\n",
      "Epoch 26/100\n",
      "43/43 [==============================] - ETA: 0s - loss: 0.6196 - binary_accuracy: 0.8038 - auc_2: 0.8877 - precision_2: 0.6150 - recall_2: 0.8372\n",
      "Epoch 26: val_loss did not improve from 0.38158\n",
      "43/43 [==============================] - 22s 524ms/step - loss: 0.6196 - binary_accuracy: 0.8038 - auc_2: 0.8877 - precision_2: 0.6150 - recall_2: 0.8372 - val_loss: 0.4009 - val_binary_accuracy: 0.8190 - val_auc_2: 0.8963 - val_precision_2: 0.6429 - val_recall_2: 0.8154 - lr: 0.0100\n",
      "Epoch 27/100\n",
      "43/43 [==============================] - ETA: 0s - loss: 0.5957 - binary_accuracy: 0.8121 - auc_2: 0.8940 - precision_2: 0.6316 - recall_2: 0.8333\n",
      "Epoch 27: val_loss did not improve from 0.38158\n",
      "43/43 [==============================] - 22s 521ms/step - loss: 0.5957 - binary_accuracy: 0.8121 - auc_2: 0.8940 - precision_2: 0.6316 - recall_2: 0.8333 - val_loss: 0.4512 - val_binary_accuracy: 0.7980 - val_auc_2: 0.8961 - val_precision_2: 0.6007 - val_recall_2: 0.8605 - lr: 0.0100\n",
      "Epoch 28/100\n",
      "43/43 [==============================] - ETA: 0s - loss: 0.6221 - binary_accuracy: 0.8110 - auc_2: 0.8813 - precision_2: 0.6194 - recall_2: 0.8095\n",
      "Epoch 28: val_loss did not improve from 0.38158\n",
      "43/43 [==============================] - 22s 519ms/step - loss: 0.6221 - binary_accuracy: 0.8110 - auc_2: 0.8813 - precision_2: 0.6194 - recall_2: 0.8095 - val_loss: 0.4074 - val_binary_accuracy: 0.8226 - val_auc_2: 0.8967 - val_precision_2: 0.6504 - val_recall_2: 0.8114 - lr: 0.0100\n",
      "Epoch 29/100\n",
      "43/43 [==============================] - ETA: 0s - loss: 0.5892 - binary_accuracy: 0.8143 - auc_2: 0.8966 - precision_2: 0.6340 - recall_2: 0.8354\n",
      "Epoch 29: val_loss did not improve from 0.38158\n",
      "43/43 [==============================] - 22s 524ms/step - loss: 0.5892 - binary_accuracy: 0.8143 - auc_2: 0.8966 - precision_2: 0.6340 - recall_2: 0.8354 - val_loss: 0.4601 - val_binary_accuracy: 0.7703 - val_auc_2: 0.8938 - val_precision_2: 0.5607 - val_recall_2: 0.8816 - lr: 0.0100\n",
      "Epoch 30/100\n",
      "43/43 [==============================] - ETA: 0s - loss: 0.6213 - binary_accuracy: 0.8060 - auc_2: 0.8851 - precision_2: 0.6177 - recall_2: 0.8183\n",
      "Epoch 30: val_loss did not improve from 0.38158\n",
      "43/43 [==============================] - 22s 523ms/step - loss: 0.6213 - binary_accuracy: 0.8060 - auc_2: 0.8851 - precision_2: 0.6177 - recall_2: 0.8183 - val_loss: 0.4050 - val_binary_accuracy: 0.8088 - val_auc_2: 0.8977 - val_precision_2: 0.6221 - val_recall_2: 0.8315 - lr: 0.0100\n",
      "Epoch 31/100\n",
      "43/43 [==============================] - ETA: 0s - loss: 0.6425 - binary_accuracy: 0.7834 - auc_2: 0.8737 - precision_2: 0.5843 - recall_2: 0.8139\n",
      "Epoch 31: val_loss did not improve from 0.38158\n",
      "\n",
      "Epoch 31: ReduceLROnPlateau reducing learning rate to 0.0009999999776482583.\n",
      "43/43 [==============================] - 22s 526ms/step - loss: 0.6425 - binary_accuracy: 0.7834 - auc_2: 0.8737 - precision_2: 0.5843 - recall_2: 0.8139 - val_loss: 0.4316 - val_binary_accuracy: 0.7803 - val_auc_2: 0.8935 - val_precision_2: 0.5752 - val_recall_2: 0.8647 - lr: 0.0100\n"
     ]
    }
   ],
   "source": [
    "history_xception, model_xception = compile_fit_model(\n",
    "    model=model_xception, save_path=\"xception.h5\"\n",
    ")"
   ]
  },
  {
   "cell_type": "code",
   "execution_count": 69,
   "id": "5edfc26c-9384-4288-b7e0-41e5a5c94bd1",
   "metadata": {
    "colab": {
     "base_uri": "https://localhost:8080/"
    },
    "id": "5edfc26c-9384-4288-b7e0-41e5a5c94bd1",
    "outputId": "9f0c54be-4aae-41eb-ba1b-d896d43e4832",
    "tags": []
   },
   "outputs": [
    {
     "name": "stdout",
     "output_type": "stream",
     "text": [
      "868/868 [==============================] - 27s 31ms/step - loss: 0.3798 - binary_accuracy: 0.8348 - auc_2: 0.8899 - precision_2: 0.7026 - recall_2: 0.7250\n"
     ]
    },
    {
     "data": {
      "text/plain": [
       "[0.3797591030597687,\n",
       " 0.8348076939582825,\n",
       " 0.8898898363113403,\n",
       " 0.7025830149650574,\n",
       " 0.7250111103057861]"
      ]
     },
     "execution_count": 69,
     "metadata": {},
     "output_type": "execute_result"
    }
   ],
   "source": [
    "xception_eval = model_xception.evaluate(test_data)\n",
    "xception_eval"
   ]
  },
  {
   "cell_type": "code",
   "execution_count": 47,
   "id": "05e322bd-b8e4-46ba-ba93-e3fe300c8cc1",
   "metadata": {
    "id": "05e322bd-b8e4-46ba-ba93-e3fe300c8cc1",
    "tags": []
   },
   "outputs": [],
   "source": [
    "result_xception = pd.DataFrame(history_xception.history)"
   ]
  },
  {
   "cell_type": "code",
   "execution_count": 48,
   "id": "92a58a0e-7678-4d48-9604-beca9c32049b",
   "metadata": {
    "colab": {
     "base_uri": "https://localhost:8080/",
     "height": 283
    },
    "id": "92a58a0e-7678-4d48-9604-beca9c32049b",
    "outputId": "60943d04-78e4-4f14-b7c7-a1cdd21932f6",
    "tags": []
   },
   "outputs": [
    {
     "data": {
      "text/plain": [
       "<matplotlib.axes._subplots.AxesSubplot at 0x7fc3dece31d0>"
      ]
     },
     "execution_count": 48,
     "metadata": {},
     "output_type": "execute_result"
    },
    {
     "data": {
      "image/png": "[encoded data removed]",
      "text/plain": [
       "<Figure size 432x288 with 1 Axes>"
      ]
     },
     "metadata": {
      "needs_background": "light"
     },
     "output_type": "display_data"
    }
   ],
   "source": [
    "result_xception.plot()"
   ]
  },
  {
   "cell_type": "markdown",
   "id": "54aced02-ba0b-4265-a14f-2e4d504c11c7",
   "metadata": {
    "id": "54aced02-ba0b-4265-a14f-2e4d504c11c7"
   },
   "source": [
    "## DenseNet121"
   ]
  },
  {
   "cell_type": "code",
   "execution_count": 49,
   "id": "c8562d46-c7d7-4d15-9b87-2cdcd29fa7f6",
   "metadata": {
    "id": "c8562d46-c7d7-4d15-9b87-2cdcd29fa7f6",
    "tags": []
   },
   "outputs": [],
   "source": [
    "# function to load image\n",
    "def image_loader_densenet121(path):\n",
    "    image = tf.io.read_file(path)                                   # read image file as binary\n",
    "    image = tf.image.decode_png(image, channels=3)                  # decode into image tensor\n",
    "    # image = tf.image.convert_image_dtype(image, dtype=tf.float32) # converts to float32 data type and scaling the values appropriately before casting.\n",
    "    image = tf.cast(image, dtype=tf.float32)\n",
    "    image = tf.image.resize(image, IMG_SIZE)                        # resize the image\n",
    "    image = keras.applications.densenet.preprocess_input(image)        # custom preprocessing for VGG16\n",
    "    label = tf.strings.split(path, os.path.sep)[-2]                 # parse the class label from the file path\n",
    "    label = tf.strings.to_number(label, tf.int32)\n",
    "    return (image, label)\n"
   ]
  },
  {
   "cell_type": "code",
   "execution_count": 50,
   "id": "e039eb49-3ce4-436f-9fef-7996b78fbcb2",
   "metadata": {
    "id": "e039eb49-3ce4-436f-9fef-7996b78fbcb2",
    "tags": []
   },
   "outputs": [],
   "source": [
    "train_data = tf.data.Dataset.from_tensor_slices(train_paths)\n",
    "train_data = (\n",
    "    train_data.shuffle(len(train_paths))                            # shuffle data, optional as already did train_test_split in scikit-learn\n",
    "    .map(image_loader_densenet121, num_parallel_calls=tf.data.AUTOTUNE)   # load the image\n",
    "    .map(augmentation, num_parallel_calls=tf.data.AUTOTUNE)         # apply augmentation\n",
    "    .cache()                                                        # caching for fast read\n",
    "    .batch(batch_size=BATCH_SIZE)                                   # batching the data\n",
    "    .prefetch(tf.data.AUTOTUNE)                                     # allows later elements to be prepared while the current element is being processed\n",
    ")\n",
    "\n",
    "\n",
    "val_data = tf.data.Dataset.from_tensor_slices(val_paths)                   # no augmentation & shuffle required for test data as it is ground truth\n",
    "val_data = (\n",
    "    val_data.map(image_loader_densenet121, num_parallel_calls=tf.data.AUTOTUNE)  # load the image\n",
    "    .batch(batch_size=BATCH_SIZE)                                          # batching the data\n",
    "    .prefetch(tf.data.AUTOTUNE)                                            # allows later elements to be prepared while the current element is being processed\n",
    ")\n",
    "\n",
    "\n",
    "test_data = tf.data.Dataset.from_tensor_slices(test_paths)                  # no augmentation & shuffle required for test data as it is ground truth\n",
    "test_data = (\n",
    "    test_data.map(image_loader_densenet121, num_parallel_calls=tf.data.AUTOTUNE)  # load the image\n",
    "    .batch(batch_size=BATCH_SIZE)                                           # batching the data\n",
    "    .prefetch(tf.data.AUTOTUNE)                                             # allows later elements to be prepared while the current element is being processed\n",
    ")"
   ]
  },
  {
   "cell_type": "code",
   "execution_count": 51,
   "id": "fc436782-a2bf-4168-a6b1-f1f22ba5f942",
   "metadata": {
    "colab": {
     "base_uri": "https://localhost:8080/"
    },
    "id": "fc436782-a2bf-4168-a6b1-f1f22ba5f942",
    "outputId": "b277aa88-c521-41a5-f920-2498dd659646",
    "tags": []
   },
   "outputs": [
    {
     "name": "stdout",
     "output_type": "stream",
     "text": [
      "Downloading data from https://storage.googleapis.com/tensorflow/keras-applications/densenet/densenet121_weights_tf_dim_ordering_tf_kernels_notop.h5\n",
      "29089792/29084464 [==============================] - 1s 0us/step\n",
      "29097984/29084464 [==============================] - 1s 0us/step\n"
     ]
    }
   ],
   "source": [
    "densenet121 = keras.applications.DenseNet121(include_top=False, weights=\"imagenet\")\n",
    "densenet121.trainable = False"
   ]
  },
  {
   "cell_type": "code",
   "execution_count": 52,
   "id": "671d3a32-6acc-47ff-a388-2e740d957d28",
   "metadata": {
    "id": "671d3a32-6acc-47ff-a388-2e740d957d28",
    "tags": []
   },
   "outputs": [],
   "source": [
    "model_densenet121 = keras.models.Sequential(\n",
    "    [\n",
    "        densenet121,\n",
    "        # keras.layers.BatchNormalization(),\n",
    "        keras.layers.GlobalAveragePooling2D(),\n",
    "        keras.layers.Flatten(),\n",
    "        keras.layers.Dropout(0.2),\n",
    "        keras.layers.Dense(units=128, activation=\"relu\"),\n",
    "        keras.layers.Dense(units=1, activation=\"sigmoid\"),\n",
    "    ]\n",
    ")"
   ]
  },
  {
   "cell_type": "code",
   "execution_count": 53,
   "id": "9e5832e3-05b3-4246-8f22-9afe41c12ec4",
   "metadata": {
    "colab": {
     "base_uri": "https://localhost:8080/"
    },
    "id": "9e5832e3-05b3-4246-8f22-9afe41c12ec4",
    "outputId": "fa7b9fc4-422e-4fea-d171-396ee31c9754",
    "tags": []
   },
   "outputs": [
    {
     "name": "stdout",
     "output_type": "stream",
     "text": [
      "Model: \"sequential_3\"\n",
      "_________________________________________________________________\n",
      " Layer (type)                Output Shape              Param #   \n",
      "=================================================================\n",
      " densenet121 (Functional)    (None, None, None, 1024)  7037504   \n",
      "                                                                 \n",
      " global_average_pooling2d_3   (None, 1024)             0         \n",
      " (GlobalAveragePooling2D)                                        \n",
      "                                                                 \n",
      " flatten_3 (Flatten)         (None, 1024)              0         \n",
      "                                                                 \n",
      " dropout_3 (Dropout)         (None, 1024)              0         \n",
      "                                                                 \n",
      " dense_6 (Dense)             (None, 128)               131200    \n",
      "                                                                 \n",
      " dense_7 (Dense)             (None, 1)                 129       \n",
      "                                                                 \n",
      "=================================================================\n",
      "Total params: 7,168,833\n",
      "Trainable params: 131,329\n",
      "Non-trainable params: 7,037,504\n",
      "_________________________________________________________________\n"
     ]
    }
   ],
   "source": [
    "model_densenet121.summary()"
   ]
  },
  {
   "cell_type": "code",
   "execution_count": 54,
   "id": "58228574-846e-48f6-836d-178275b18a6c",
   "metadata": {
    "colab": {
     "base_uri": "https://localhost:8080/"
    },
    "id": "58228574-846e-48f6-836d-178275b18a6c",
    "outputId": "3a72adbd-8f39-4a0d-e218-e4c085453d4c",
    "scrolled": true,
    "tags": []
   },
   "outputs": [
    {
     "name": "stdout",
     "output_type": "stream",
     "text": [
      "Epoch 1/100\n",
      "43/43 [==============================] - ETA: 0s - loss: 1.1845 - binary_accuracy: 0.7395 - auc_3: 0.7710 - precision_3: 0.5348 - recall_3: 0.7285\n",
      "Epoch 1: val_loss improved from inf to 0.43731, saving model to densenet152.h5\n",
      "43/43 [==============================] - 30s 575ms/step - loss: 1.1845 - binary_accuracy: 0.7395 - auc_3: 0.7710 - precision_3: 0.5348 - recall_3: 0.7285 - val_loss: 0.4373 - val_binary_accuracy: 0.8087 - val_auc_3: 0.8821 - val_precision_3: 0.6249 - val_recall_3: 0.8157 - lr: 0.0100\n",
      "Epoch 2/100\n",
      "43/43 [==============================] - ETA: 0s - loss: 0.6741 - binary_accuracy: 0.7925 - auc_3: 0.8641 - precision_3: 0.6204 - recall_3: 0.7995\n",
      "Epoch 2: val_loss improved from 0.43731 to 0.40499, saving model to densenet152.h5\n",
      "43/43 [==============================] - 22s 529ms/step - loss: 0.6741 - binary_accuracy: 0.7925 - auc_3: 0.8641 - precision_3: 0.6204 - recall_3: 0.7995 - val_loss: 0.4050 - val_binary_accuracy: 0.8167 - val_auc_3: 0.8924 - val_precision_3: 0.6428 - val_recall_3: 0.7976 - lr: 0.0100\n",
      "Epoch 3/100\n",
      "43/43 [==============================] - ETA: 0s - loss: 0.6044 - binary_accuracy: 0.8107 - auc_3: 0.8861 - precision_3: 0.6201 - recall_3: 0.8118\n",
      "Epoch 3: val_loss did not improve from 0.40499\n",
      "43/43 [==============================] - 21s 510ms/step - loss: 0.6044 - binary_accuracy: 0.8107 - auc_3: 0.8861 - precision_3: 0.6201 - recall_3: 0.8118 - val_loss: 0.4305 - val_binary_accuracy: 0.8232 - val_auc_3: 0.9015 - val_precision_3: 0.6467 - val_recall_3: 0.8314 - lr: 0.0100\n",
      "Epoch 4/100\n",
      "43/43 [==============================] - ETA: 0s - loss: 0.5869 - binary_accuracy: 0.8336 - auc_3: 0.8984 - precision_3: 0.6813 - recall_3: 0.8204\n",
      "Epoch 4: val_loss did not improve from 0.40499\n",
      "43/43 [==============================] - 21s 509ms/step - loss: 0.5869 - binary_accuracy: 0.8336 - auc_3: 0.8984 - precision_3: 0.6813 - recall_3: 0.8204 - val_loss: 0.4124 - val_binary_accuracy: 0.8133 - val_auc_3: 0.9019 - val_precision_3: 0.6273 - val_recall_3: 0.8438 - lr: 0.0100\n",
      "Epoch 5/100\n",
      "43/43 [==============================] - ETA: 0s - loss: 0.6058 - binary_accuracy: 0.8092 - auc_3: 0.8904 - precision_3: 0.6338 - recall_3: 0.8236\n",
      "Epoch 5: val_loss improved from 0.40499 to 0.36623, saving model to densenet152.h5\n",
      "43/43 [==============================] - 22s 522ms/step - loss: 0.6058 - binary_accuracy: 0.8092 - auc_3: 0.8904 - precision_3: 0.6338 - recall_3: 0.8236 - val_loss: 0.3662 - val_binary_accuracy: 0.8454 - val_auc_3: 0.9064 - val_precision_3: 0.7087 - val_recall_3: 0.7734 - lr: 0.0100\n",
      "Epoch 6/100\n",
      "43/43 [==============================] - ETA: 0s - loss: 0.5885 - binary_accuracy: 0.8219 - auc_3: 0.8973 - precision_3: 0.6609 - recall_3: 0.8067\n",
      "Epoch 6: val_loss did not improve from 0.36623\n",
      "43/43 [==============================] - 21s 506ms/step - loss: 0.5885 - binary_accuracy: 0.8219 - auc_3: 0.8973 - precision_3: 0.6609 - recall_3: 0.8067 - val_loss: 0.4000 - val_binary_accuracy: 0.8156 - val_auc_3: 0.9040 - val_precision_3: 0.6312 - val_recall_3: 0.8426 - lr: 0.0100\n",
      "Epoch 7/100\n",
      "43/43 [==============================] - ETA: 0s - loss: 0.5761 - binary_accuracy: 0.8245 - auc_3: 0.8975 - precision_3: 0.6470 - recall_3: 0.8149\n",
      "Epoch 7: val_loss did not improve from 0.36623\n",
      "43/43 [==============================] - 21s 505ms/step - loss: 0.5761 - binary_accuracy: 0.8245 - auc_3: 0.8975 - precision_3: 0.6470 - recall_3: 0.8149 - val_loss: 0.4063 - val_binary_accuracy: 0.8225 - val_auc_3: 0.9034 - val_precision_3: 0.6457 - val_recall_3: 0.8309 - lr: 0.0100\n",
      "Epoch 8/100\n",
      "43/43 [==============================] - ETA: 0s - loss: 0.5955 - binary_accuracy: 0.8140 - auc_3: 0.8949 - precision_3: 0.6388 - recall_3: 0.8414\n",
      "Epoch 8: val_loss did not improve from 0.36623\n",
      "43/43 [==============================] - 21s 506ms/step - loss: 0.5955 - binary_accuracy: 0.8140 - auc_3: 0.8949 - precision_3: 0.6388 - recall_3: 0.8414 - val_loss: 0.3829 - val_binary_accuracy: 0.8274 - val_auc_3: 0.9059 - val_precision_3: 0.6564 - val_recall_3: 0.8224 - lr: 0.0100\n",
      "Epoch 9/100\n",
      "43/43 [==============================] - ETA: 0s - loss: 0.5737 - binary_accuracy: 0.8238 - auc_3: 0.8996 - precision_3: 0.6454 - recall_3: 0.8325\n",
      "Epoch 9: val_loss did not improve from 0.36623\n",
      "43/43 [==============================] - 21s 508ms/step - loss: 0.5737 - binary_accuracy: 0.8238 - auc_3: 0.8996 - precision_3: 0.6454 - recall_3: 0.8325 - val_loss: 0.3901 - val_binary_accuracy: 0.8295 - val_auc_3: 0.9045 - val_precision_3: 0.6641 - val_recall_3: 0.8081 - lr: 0.0100\n",
      "Epoch 10/100\n",
      "43/43 [==============================] - ETA: 0s - loss: 0.5571 - binary_accuracy: 0.8383 - auc_3: 0.9081 - precision_3: 0.6812 - recall_3: 0.8367\n",
      "Epoch 10: val_loss did not improve from 0.36623\n",
      "43/43 [==============================] - 21s 508ms/step - loss: 0.5571 - binary_accuracy: 0.8383 - auc_3: 0.9081 - precision_3: 0.6812 - recall_3: 0.8367 - val_loss: 0.3867 - val_binary_accuracy: 0.8329 - val_auc_3: 0.9082 - val_precision_3: 0.6653 - val_recall_3: 0.8281 - lr: 0.0100\n",
      "Epoch 11/100\n",
      "43/43 [==============================] - ETA: 0s - loss: 0.5840 - binary_accuracy: 0.8172 - auc_3: 0.8918 - precision_3: 0.6200 - recall_3: 0.8011\n",
      "Epoch 11: val_loss improved from 0.36623 to 0.34859, saving model to densenet152.h5\n",
      "43/43 [==============================] - 22s 525ms/step - loss: 0.5840 - binary_accuracy: 0.8172 - auc_3: 0.8918 - precision_3: 0.6200 - recall_3: 0.8011 - val_loss: 0.3486 - val_binary_accuracy: 0.8451 - val_auc_3: 0.9089 - val_precision_3: 0.7070 - val_recall_3: 0.7757 - lr: 0.0100\n",
      "Epoch 12/100\n",
      "43/43 [==============================] - ETA: 0s - loss: 0.5791 - binary_accuracy: 0.8292 - auc_3: 0.8992 - precision_3: 0.6573 - recall_3: 0.8352\n",
      "Epoch 12: val_loss did not improve from 0.34859\n",
      "43/43 [==============================] - 21s 507ms/step - loss: 0.5791 - binary_accuracy: 0.8292 - auc_3: 0.8992 - precision_3: 0.6573 - recall_3: 0.8352 - val_loss: 0.3923 - val_binary_accuracy: 0.8171 - val_auc_3: 0.9082 - val_precision_3: 0.6310 - val_recall_3: 0.8564 - lr: 0.0100\n",
      "Epoch 13/100\n",
      "43/43 [==============================] - ETA: 0s - loss: 0.6069 - binary_accuracy: 0.7911 - auc_3: 0.8909 - precision_3: 0.6096 - recall_3: 0.8358\n",
      "Epoch 13: val_loss did not improve from 0.34859\n",
      "43/43 [==============================] - 21s 509ms/step - loss: 0.6069 - binary_accuracy: 0.7911 - auc_3: 0.8909 - precision_3: 0.6096 - recall_3: 0.8358 - val_loss: 0.4197 - val_binary_accuracy: 0.8048 - val_auc_3: 0.9095 - val_precision_3: 0.6085 - val_recall_3: 0.8762 - lr: 0.0100\n",
      "Epoch 14/100\n",
      "43/43 [==============================] - ETA: 0s - loss: 0.5948 - binary_accuracy: 0.8132 - auc_3: 0.8907 - precision_3: 0.6276 - recall_3: 0.8153\n",
      "Epoch 14: val_loss did not improve from 0.34859\n",
      "43/43 [==============================] - 21s 508ms/step - loss: 0.5948 - binary_accuracy: 0.8132 - auc_3: 0.8907 - precision_3: 0.6276 - recall_3: 0.8153 - val_loss: 0.3559 - val_binary_accuracy: 0.8447 - val_auc_3: 0.9107 - val_precision_3: 0.6970 - val_recall_3: 0.8011 - lr: 0.0100\n",
      "Epoch 15/100\n",
      "43/43 [==============================] - ETA: 0s - loss: 0.5780 - binary_accuracy: 0.8223 - auc_3: 0.9026 - precision_3: 0.6638 - recall_3: 0.8339\n",
      "Epoch 15: val_loss did not improve from 0.34859\n",
      "43/43 [==============================] - 21s 506ms/step - loss: 0.5780 - binary_accuracy: 0.8223 - auc_3: 0.9026 - precision_3: 0.6638 - recall_3: 0.8339 - val_loss: 0.4357 - val_binary_accuracy: 0.8052 - val_auc_3: 0.9101 - val_precision_3: 0.6085 - val_recall_3: 0.8802 - lr: 0.0100\n",
      "Epoch 16/100\n",
      "43/43 [==============================] - ETA: 0s - loss: 0.5925 - binary_accuracy: 0.8150 - auc_3: 0.8933 - precision_3: 0.6327 - recall_3: 0.8382\n",
      "Epoch 16: val_loss did not improve from 0.34859\n",
      "43/43 [==============================] - 21s 506ms/step - loss: 0.5925 - binary_accuracy: 0.8150 - auc_3: 0.8933 - precision_3: 0.6327 - recall_3: 0.8382 - val_loss: 0.4065 - val_binary_accuracy: 0.8147 - val_auc_3: 0.9112 - val_precision_3: 0.6247 - val_recall_3: 0.8705 - lr: 0.0100\n",
      "Epoch 17/100\n",
      "43/43 [==============================] - ETA: 0s - loss: 0.5511 - binary_accuracy: 0.8412 - auc_3: 0.9106 - precision_3: 0.6836 - recall_3: 0.8421\n",
      "Epoch 17: val_loss did not improve from 0.34859\n",
      "43/43 [==============================] - 21s 507ms/step - loss: 0.5511 - binary_accuracy: 0.8412 - auc_3: 0.9106 - precision_3: 0.6836 - recall_3: 0.8421 - val_loss: 0.4096 - val_binary_accuracy: 0.8246 - val_auc_3: 0.9107 - val_precision_3: 0.6459 - val_recall_3: 0.8459 - lr: 0.0100\n",
      "Epoch 18/100\n",
      "43/43 [==============================] - ETA: 0s - loss: 0.5866 - binary_accuracy: 0.8089 - auc_3: 0.8944 - precision_3: 0.6225 - recall_3: 0.8140\n",
      "Epoch 18: val_loss did not improve from 0.34859\n",
      "43/43 [==============================] - 21s 506ms/step - loss: 0.5866 - binary_accuracy: 0.8089 - auc_3: 0.8944 - precision_3: 0.6225 - recall_3: 0.8140 - val_loss: 0.4168 - val_binary_accuracy: 0.8172 - val_auc_3: 0.9123 - val_precision_3: 0.6295 - val_recall_3: 0.8655 - lr: 0.0100\n",
      "Epoch 19/100\n",
      "43/43 [==============================] - ETA: 0s - loss: 0.5718 - binary_accuracy: 0.8176 - auc_3: 0.9030 - precision_3: 0.6469 - recall_3: 0.8370\n",
      "Epoch 19: val_loss did not improve from 0.34859\n",
      "43/43 [==============================] - 21s 508ms/step - loss: 0.5718 - binary_accuracy: 0.8176 - auc_3: 0.9030 - precision_3: 0.6469 - recall_3: 0.8370 - val_loss: 0.4189 - val_binary_accuracy: 0.8123 - val_auc_3: 0.9114 - val_precision_3: 0.6211 - val_recall_3: 0.8690 - lr: 0.0100\n",
      "Epoch 20/100\n",
      "43/43 [==============================] - ETA: 0s - loss: 0.5897 - binary_accuracy: 0.8227 - auc_3: 0.8932 - precision_3: 0.6374 - recall_3: 0.8183\n",
      "Epoch 20: val_loss did not improve from 0.34859\n",
      "43/43 [==============================] - 21s 509ms/step - loss: 0.5897 - binary_accuracy: 0.8227 - auc_3: 0.8932 - precision_3: 0.6374 - recall_3: 0.8183 - val_loss: 0.3875 - val_binary_accuracy: 0.8323 - val_auc_3: 0.9131 - val_precision_3: 0.6615 - val_recall_3: 0.8383 - lr: 0.0100\n",
      "Epoch 21/100\n",
      "43/43 [==============================] - ETA: 0s - loss: 0.5689 - binary_accuracy: 0.8219 - auc_3: 0.8984 - precision_3: 0.6285 - recall_3: 0.8241\n",
      "Epoch 21: val_loss did not improve from 0.34859\n",
      "\n",
      "Epoch 21: ReduceLROnPlateau reducing learning rate to 0.0009999999776482583.\n",
      "43/43 [==============================] - 21s 508ms/step - loss: 0.5689 - binary_accuracy: 0.8219 - auc_3: 0.8984 - precision_3: 0.6285 - recall_3: 0.8241 - val_loss: 0.4292 - val_binary_accuracy: 0.8005 - val_auc_3: 0.9098 - val_precision_3: 0.6013 - val_recall_3: 0.8825 - lr: 0.0100\n"
     ]
    }
   ],
   "source": [
    "history_densenet121, model_densenet121 = compile_fit_model(\n",
    "    model=model_densenet121, save_path=\"densenet152.h5\"\n",
    ")"
   ]
  },
  {
   "cell_type": "code",
   "execution_count": 68,
   "id": "9260036b-cd97-4d50-902a-5d5495a5ba5f",
   "metadata": {
    "colab": {
     "base_uri": "https://localhost:8080/"
    },
    "id": "9260036b-cd97-4d50-902a-5d5495a5ba5f",
    "outputId": "3eba7720-3b7d-4a23-dc00-9f1eab798b3f",
    "tags": []
   },
   "outputs": [
    {
     "name": "stdout",
     "output_type": "stream",
     "text": [
      "868/868 [==============================] - 32s 37ms/step - loss: 0.3963 - binary_accuracy: 0.8251 - auc_3: 0.9045 - precision_3: 0.6509 - recall_3: 0.8281\n"
     ]
    },
    {
     "data": {
      "text/plain": [
       "[0.396266371011734,\n",
       " 0.825096845626831,\n",
       " 0.9045379757881165,\n",
       " 0.6508554220199585,\n",
       " 0.8281399011611938]"
      ]
     },
     "execution_count": 68,
     "metadata": {},
     "output_type": "execute_result"
    }
   ],
   "source": [
    "densenet_eval = model_densenet121.evaluate(test_data)\n",
    "densenet_eval"
   ]
  },
  {
   "cell_type": "code",
   "execution_count": 56,
   "id": "f3ddc592-7444-4d3c-a062-595a6664ed71",
   "metadata": {
    "id": "f3ddc592-7444-4d3c-a062-595a6664ed71",
    "tags": []
   },
   "outputs": [],
   "source": [
    "result_densenet121 = pd.DataFrame(history_densenet121.history)"
   ]
  },
  {
   "cell_type": "code",
   "execution_count": 57,
   "id": "1c6a0097-a0e8-424c-a613-ecbeda055a67",
   "metadata": {
    "colab": {
     "base_uri": "https://localhost:8080/",
     "height": 283
    },
    "id": "1c6a0097-a0e8-424c-a613-ecbeda055a67",
    "outputId": "adc4b4fc-6a6e-4f6e-f764-d5f630c96bf9",
    "tags": []
   },
   "outputs": [
    {
     "data": {
      "text/plain": [
       "<matplotlib.axes._subplots.AxesSubplot at 0x7fc3dc7297d0>"
      ]
     },
     "execution_count": 57,
     "metadata": {},
     "output_type": "execute_result"
    },
    {
     "data": {
      "image/png": "[encoded data removed]",
      "text/plain": [
       "<Figure size 432x288 with 1 Axes>"
      ]
     },
     "metadata": {
      "needs_background": "light"
     },
     "output_type": "display_data"
    }
   ],
   "source": [
    "result_densenet121.plot()"
   ]
  },
  {
   "cell_type": "markdown",
   "id": "d7a826d7-1533-42cd-b30e-2053ee4de33f",
   "metadata": {
    "id": "d7a826d7-1533-42cd-b30e-2053ee4de33f"
   },
   "source": [
    "## ResNet152V2 "
   ]
  },
  {
   "cell_type": "code",
   "execution_count": 58,
   "id": "58ab2896-336a-432a-9331-e894d4051c3c",
   "metadata": {
    "id": "58ab2896-336a-432a-9331-e894d4051c3c",
    "tags": []
   },
   "outputs": [],
   "source": [
    "# function to load image\n",
    "def image_loader_resnet152(path):\n",
    "    image = tf.io.read_file(path)                                   # read image file as binary\n",
    "    image = tf.image.decode_png(image, channels=3)                  # decode into image tensor\n",
    "    # image = tf.image.convert_image_dtype(image, dtype=tf.float32) # converts to float32 data type and scaling the values appropriately before casting.\n",
    "    image = tf.cast(image, dtype=tf.float32)\n",
    "    image = tf.image.resize(image, IMG_SIZE)                        # resize the image\n",
    "    image = keras.applications.resnet_v2.preprocess_input(image)        # custom preprocessing for VGG16\n",
    "    label = tf.strings.split(path, os.path.sep)[-2]                 # parse the class label from the file path\n",
    "    label = tf.strings.to_number(label, tf.int32)\n",
    "    return (image, label)\n"
   ]
  },
  {
   "cell_type": "code",
   "execution_count": 59,
   "id": "62aadfac-6581-4b4f-9eda-bdb1bda3301b",
   "metadata": {
    "id": "62aadfac-6581-4b4f-9eda-bdb1bda3301b",
    "tags": []
   },
   "outputs": [],
   "source": [
    "train_data = tf.data.Dataset.from_tensor_slices(train_paths)\n",
    "train_data = (\n",
    "    train_data.shuffle(len(train_paths))                            # shuffle data, optional as already did train_test_split in scikit-learn\n",
    "    .map(image_loader_resnet152, num_parallel_calls=tf.data.AUTOTUNE)   # load the image\n",
    "    .map(augmentation, num_parallel_calls=tf.data.AUTOTUNE)         # apply augmentation\n",
    "    .cache()                                                        # caching for fast read\n",
    "    .batch(batch_size=BATCH_SIZE)                                   # batching the data\n",
    "    .prefetch(tf.data.AUTOTUNE)                                     # allows later elements to be prepared while the current element is being processed\n",
    ")\n",
    "\n",
    "\n",
    "val_data = tf.data.Dataset.from_tensor_slices(val_paths)                   # no augmentation & shuffle required for test data as it is ground truth\n",
    "val_data = (\n",
    "    val_data.map(image_loader_resnet152, num_parallel_calls=tf.data.AUTOTUNE)  # load the image\n",
    "    .batch(batch_size=BATCH_SIZE)                                          # batching the data\n",
    "    .prefetch(tf.data.AUTOTUNE)                                            # allows later elements to be prepared while the current element is being processed\n",
    ")\n",
    "\n",
    "\n",
    "test_data = tf.data.Dataset.from_tensor_slices(test_paths)                  # no augmentation & shuffle required for test data as it is ground truth\n",
    "test_data = (\n",
    "    test_data.map(image_loader_resnet152, num_parallel_calls=tf.data.AUTOTUNE)  # load the image\n",
    "    .batch(batch_size=BATCH_SIZE)                                           # batching the data\n",
    "    .prefetch(tf.data.AUTOTUNE)                                             # allows later elements to be prepared while the current element is being processed\n",
    ")"
   ]
  },
  {
   "cell_type": "code",
   "execution_count": 60,
   "id": "4e0e130e-f393-4d79-958d-01c48395354e",
   "metadata": {
    "colab": {
     "base_uri": "https://localhost:8080/"
    },
    "id": "4e0e130e-f393-4d79-958d-01c48395354e",
    "outputId": "2a7b7a03-eac6-404b-deb7-43112bc33bcd",
    "tags": []
   },
   "outputs": [
    {
     "name": "stdout",
     "output_type": "stream",
     "text": [
      "Downloading data from https://storage.googleapis.com/tensorflow/keras-applications/resnet/resnet152v2_weights_tf_dim_ordering_tf_kernels_notop.h5\n",
      "234553344/234545216 [==============================] - 1s 0us/step\n",
      "234561536/234545216 [==============================] - 1s 0us/step\n"
     ]
    }
   ],
   "source": [
    "resnet152 = keras.applications.ResNet152V2(include_top=False, weights=\"imagenet\")\n",
    "resnet152.trainable = False"
   ]
  },
  {
   "cell_type": "code",
   "execution_count": 61,
   "id": "e6397efb-0d77-4d7d-b995-0e8dd8d2c2c8",
   "metadata": {
    "id": "e6397efb-0d77-4d7d-b995-0e8dd8d2c2c8",
    "tags": []
   },
   "outputs": [],
   "source": [
    "model_resnet152 = keras.models.Sequential(\n",
    "    [\n",
    "        resnet152,\n",
    "        # keras.layers.BatchNormalization(),\n",
    "        keras.layers.GlobalAveragePooling2D(),\n",
    "        keras.layers.Flatten(),\n",
    "        keras.layers.Dropout(0.2),\n",
    "        keras.layers.Dense(units=128, activation=\"relu\"),\n",
    "        keras.layers.Dense(units=1, activation=\"sigmoid\"),\n",
    "    ]\n",
    ")"
   ]
  },
  {
   "cell_type": "code",
   "execution_count": 62,
   "id": "9b22e46f-a6d8-4df1-95ca-a44ac0da26f6",
   "metadata": {
    "colab": {
     "base_uri": "https://localhost:8080/"
    },
    "id": "9b22e46f-a6d8-4df1-95ca-a44ac0da26f6",
    "outputId": "57c79252-2573-4272-d6e9-5bc9d239dae0",
    "tags": []
   },
   "outputs": [
    {
     "name": "stdout",
     "output_type": "stream",
     "text": [
      "Model: \"sequential_4\"\n",
      "_________________________________________________________________\n",
      " Layer (type)                Output Shape              Param #   \n",
      "=================================================================\n",
      " resnet152v2 (Functional)    (None, None, None, 2048)  58331648  \n",
      "                                                                 \n",
      " global_average_pooling2d_4   (None, 2048)             0         \n",
      " (GlobalAveragePooling2D)                                        \n",
      "                                                                 \n",
      " flatten_4 (Flatten)         (None, 2048)              0         \n",
      "                                                                 \n",
      " dropout_4 (Dropout)         (None, 2048)              0         \n",
      "                                                                 \n",
      " dense_8 (Dense)             (None, 128)               262272    \n",
      "                                                                 \n",
      " dense_9 (Dense)             (None, 1)                 129       \n",
      "                                                                 \n",
      "=================================================================\n",
      "Total params: 58,594,049\n",
      "Trainable params: 262,401\n",
      "Non-trainable params: 58,331,648\n",
      "_________________________________________________________________\n"
     ]
    }
   ],
   "source": [
    "model_resnet152.summary()"
   ]
  },
  {
   "cell_type": "code",
   "execution_count": 63,
   "id": "1bfa8c0b-9813-4191-9fb2-9c6a96b88cfa",
   "metadata": {
    "colab": {
     "base_uri": "https://localhost:8080/"
    },
    "id": "1bfa8c0b-9813-4191-9fb2-9c6a96b88cfa",
    "outputId": "cc86848c-8871-43ba-905a-bce4977cfabd",
    "scrolled": true,
    "tags": []
   },
   "outputs": [
    {
     "name": "stdout",
     "output_type": "stream",
     "text": [
      "Epoch 1/100\n",
      "43/43 [==============================] - ETA: 0s - loss: 1.2721 - binary_accuracy: 0.4462 - auc_4: 0.6735 - precision_4: 0.3157 - recall_4: 0.8190\n",
      "Epoch 1: val_loss improved from inf to 0.65492, saving model to resnet152.h5\n",
      "43/43 [==============================] - 68s 1s/step - loss: 1.2721 - binary_accuracy: 0.4462 - auc_4: 0.6735 - precision_4: 0.3157 - recall_4: 0.8190 - val_loss: 0.6549 - val_binary_accuracy: 0.7812 - val_auc_4: 0.7594 - val_precision_4: 0.6128 - val_recall_4: 0.6230 - lr: 0.0100\n",
      "Epoch 2/100\n",
      "43/43 [==============================] - ETA: 0s - loss: 0.8455 - binary_accuracy: 0.7816 - auc_4: 0.7605 - precision_4: 0.6051 - recall_4: 0.6465\n",
      "Epoch 2: val_loss improved from 0.65492 to 0.59554, saving model to resnet152.h5\n",
      "43/43 [==============================] - 56s 1s/step - loss: 0.8455 - binary_accuracy: 0.7816 - auc_4: 0.7605 - precision_4: 0.6051 - recall_4: 0.6465 - val_loss: 0.5955 - val_binary_accuracy: 0.8044 - val_auc_4: 0.7775 - val_precision_4: 0.6656 - val_recall_4: 0.6252 - lr: 0.0100\n",
      "Epoch 3/100\n",
      "43/43 [==============================] - ETA: 0s - loss: 0.7929 - binary_accuracy: 0.7860 - auc_4: 0.7821 - precision_4: 0.5912 - recall_4: 0.6403\n",
      "Epoch 3: val_loss improved from 0.59554 to 0.56128, saving model to resnet152.h5\n",
      "43/43 [==============================] - 56s 1s/step - loss: 0.7929 - binary_accuracy: 0.7860 - auc_4: 0.7821 - precision_4: 0.5912 - recall_4: 0.6403 - val_loss: 0.5613 - val_binary_accuracy: 0.8068 - val_auc_4: 0.8018 - val_precision_4: 0.6561 - val_recall_4: 0.6717 - lr: 0.0100\n",
      "Epoch 4/100\n",
      "43/43 [==============================] - ETA: 0s - loss: 0.7660 - binary_accuracy: 0.7965 - auc_4: 0.8189 - precision_4: 0.6454 - recall_4: 0.7037\n",
      "Epoch 4: val_loss did not improve from 0.56128\n",
      "43/43 [==============================] - 55s 1s/step - loss: 0.7660 - binary_accuracy: 0.7965 - auc_4: 0.8189 - precision_4: 0.6454 - recall_4: 0.7037 - val_loss: 0.5665 - val_binary_accuracy: 0.7956 - val_auc_4: 0.8248 - val_precision_4: 0.6155 - val_recall_4: 0.7457 - lr: 0.0100\n",
      "Epoch 5/100\n",
      "43/43 [==============================] - ETA: 0s - loss: 0.7438 - binary_accuracy: 0.8020 - auc_4: 0.8289 - precision_4: 0.6438 - recall_4: 0.7305\n",
      "Epoch 5: val_loss improved from 0.56128 to 0.53027, saving model to resnet152.h5\n",
      "43/43 [==============================] - 56s 1s/step - loss: 0.7438 - binary_accuracy: 0.8020 - auc_4: 0.8289 - precision_4: 0.6438 - recall_4: 0.7305 - val_loss: 0.5303 - val_binary_accuracy: 0.8015 - val_auc_4: 0.8274 - val_precision_4: 0.6308 - val_recall_4: 0.7254 - lr: 0.0100\n",
      "Epoch 6/100\n",
      "43/43 [==============================] - ETA: 0s - loss: 0.7676 - binary_accuracy: 0.7882 - auc_4: 0.8124 - precision_4: 0.6161 - recall_4: 0.6979\n",
      "Epoch 6: val_loss improved from 0.53027 to 0.48533, saving model to resnet152.h5\n",
      "43/43 [==============================] - 56s 1s/step - loss: 0.7676 - binary_accuracy: 0.7882 - auc_4: 0.8124 - precision_4: 0.6161 - recall_4: 0.6979 - val_loss: 0.4853 - val_binary_accuracy: 0.8259 - val_auc_4: 0.8305 - val_precision_4: 0.7089 - val_recall_4: 0.6562 - lr: 0.0100\n",
      "Epoch 7/100\n",
      "43/43 [==============================] - ETA: 0s - loss: 0.7080 - binary_accuracy: 0.8092 - auc_4: 0.8390 - precision_4: 0.6356 - recall_4: 0.7500\n",
      "Epoch 7: val_loss improved from 0.48533 to 0.47422, saving model to resnet152.h5\n",
      "43/43 [==============================] - 56s 1s/step - loss: 0.7080 - binary_accuracy: 0.8092 - auc_4: 0.8390 - precision_4: 0.6356 - recall_4: 0.7500 - val_loss: 0.4742 - val_binary_accuracy: 0.8318 - val_auc_4: 0.8342 - val_precision_4: 0.7146 - val_recall_4: 0.6785 - lr: 0.0100\n",
      "Epoch 8/100\n",
      "43/43 [==============================] - ETA: 0s - loss: 0.7249 - binary_accuracy: 0.7980 - auc_4: 0.8302 - precision_4: 0.6193 - recall_4: 0.7237\n",
      "Epoch 8: val_loss did not improve from 0.47422\n",
      "43/43 [==============================] - 55s 1s/step - loss: 0.7249 - binary_accuracy: 0.7980 - auc_4: 0.8302 - precision_4: 0.6193 - recall_4: 0.7237 - val_loss: 0.5057 - val_binary_accuracy: 0.8049 - val_auc_4: 0.8395 - val_precision_4: 0.6308 - val_recall_4: 0.7543 - lr: 0.0100\n",
      "Epoch 9/100\n",
      "43/43 [==============================] - ETA: 0s - loss: 0.7184 - binary_accuracy: 0.8114 - auc_4: 0.8353 - precision_4: 0.6606 - recall_4: 0.7273\n",
      "Epoch 9: val_loss did not improve from 0.47422\n",
      "43/43 [==============================] - 55s 1s/step - loss: 0.7184 - binary_accuracy: 0.8114 - auc_4: 0.8353 - precision_4: 0.6606 - recall_4: 0.7273 - val_loss: 0.5362 - val_binary_accuracy: 0.7963 - val_auc_4: 0.8506 - val_precision_4: 0.6096 - val_recall_4: 0.7854 - lr: 0.0100\n",
      "Epoch 10/100\n",
      "43/43 [==============================] - ETA: 0s - loss: 0.7141 - binary_accuracy: 0.8027 - auc_4: 0.8352 - precision_4: 0.6228 - recall_4: 0.7405\n",
      "Epoch 10: val_loss did not improve from 0.47422\n",
      "43/43 [==============================] - 55s 1s/step - loss: 0.7141 - binary_accuracy: 0.8027 - auc_4: 0.8352 - precision_4: 0.6228 - recall_4: 0.7405 - val_loss: 0.4895 - val_binary_accuracy: 0.8128 - val_auc_4: 0.8511 - val_precision_4: 0.6455 - val_recall_4: 0.7557 - lr: 0.0100\n",
      "Epoch 11/100\n",
      "43/43 [==============================] - ETA: 0s - loss: 0.7262 - binary_accuracy: 0.7885 - auc_4: 0.8356 - precision_4: 0.6133 - recall_4: 0.7052\n",
      "Epoch 11: val_loss did not improve from 0.47422\n",
      "43/43 [==============================] - 55s 1s/step - loss: 0.7262 - binary_accuracy: 0.7885 - auc_4: 0.8356 - precision_4: 0.6133 - recall_4: 0.7052 - val_loss: 0.4761 - val_binary_accuracy: 0.8175 - val_auc_4: 0.8566 - val_precision_4: 0.6591 - val_recall_4: 0.7397 - lr: 0.0100\n",
      "Epoch 12/100\n",
      "43/43 [==============================] - ETA: 0s - loss: 0.6728 - binary_accuracy: 0.8081 - auc_4: 0.8613 - precision_4: 0.6402 - recall_4: 0.7554\n",
      "Epoch 12: val_loss improved from 0.47422 to 0.45536, saving model to resnet152.h5\n",
      "43/43 [==============================] - 56s 1s/step - loss: 0.6728 - binary_accuracy: 0.8081 - auc_4: 0.8613 - precision_4: 0.6402 - recall_4: 0.7554 - val_loss: 0.4554 - val_binary_accuracy: 0.8246 - val_auc_4: 0.8562 - val_precision_4: 0.6812 - val_recall_4: 0.7186 - lr: 0.0100\n",
      "Epoch 13/100\n",
      "43/43 [==============================] - ETA: 0s - loss: 0.6900 - binary_accuracy: 0.8085 - auc_4: 0.8531 - precision_4: 0.6321 - recall_4: 0.7359\n",
      "Epoch 13: val_loss improved from 0.45536 to 0.45501, saving model to resnet152.h5\n",
      "43/43 [==============================] - 56s 1s/step - loss: 0.6900 - binary_accuracy: 0.8085 - auc_4: 0.8531 - precision_4: 0.6321 - recall_4: 0.7359 - val_loss: 0.4550 - val_binary_accuracy: 0.8242 - val_auc_4: 0.8591 - val_precision_4: 0.6797 - val_recall_4: 0.7201 - lr: 0.0100\n",
      "Epoch 14/100\n",
      "43/43 [==============================] - ETA: 0s - loss: 0.6757 - binary_accuracy: 0.8183 - auc_4: 0.8580 - precision_4: 0.6427 - recall_4: 0.7586\n",
      "Epoch 14: val_loss improved from 0.45501 to 0.44523, saving model to resnet152.h5\n",
      "43/43 [==============================] - 56s 1s/step - loss: 0.6757 - binary_accuracy: 0.8183 - auc_4: 0.8580 - precision_4: 0.6427 - recall_4: 0.7586 - val_loss: 0.4452 - val_binary_accuracy: 0.8284 - val_auc_4: 0.8567 - val_precision_4: 0.6898 - val_recall_4: 0.7187 - lr: 0.0100\n",
      "Epoch 15/100\n",
      "43/43 [==============================] - ETA: 0s - loss: 0.6860 - binary_accuracy: 0.8045 - auc_4: 0.8571 - precision_4: 0.6387 - recall_4: 0.7581\n",
      "Epoch 15: val_loss did not improve from 0.44523\n",
      "43/43 [==============================] - 55s 1s/step - loss: 0.6860 - binary_accuracy: 0.8045 - auc_4: 0.8571 - precision_4: 0.6387 - recall_4: 0.7581 - val_loss: 0.4707 - val_binary_accuracy: 0.8135 - val_auc_4: 0.8674 - val_precision_4: 0.6435 - val_recall_4: 0.7694 - lr: 0.0100\n",
      "Epoch 16/100\n",
      "43/43 [==============================] - ETA: 0s - loss: 0.7073 - binary_accuracy: 0.7940 - auc_4: 0.8405 - precision_4: 0.6111 - recall_4: 0.7381\n",
      "Epoch 16: val_loss did not improve from 0.44523\n",
      "43/43 [==============================] - 55s 1s/step - loss: 0.7073 - binary_accuracy: 0.7940 - auc_4: 0.8405 - precision_4: 0.6111 - recall_4: 0.7381 - val_loss: 0.4495 - val_binary_accuracy: 0.8234 - val_auc_4: 0.8661 - val_precision_4: 0.6718 - val_recall_4: 0.7388 - lr: 0.0100\n",
      "Epoch 17/100\n",
      "43/43 [==============================] - ETA: 0s - loss: 0.6786 - binary_accuracy: 0.8089 - auc_4: 0.8625 - precision_4: 0.6520 - recall_4: 0.7519\n",
      "Epoch 17: val_loss did not improve from 0.44523\n",
      "43/43 [==============================] - 55s 1s/step - loss: 0.6786 - binary_accuracy: 0.8089 - auc_4: 0.8625 - precision_4: 0.6520 - recall_4: 0.7519 - val_loss: 0.4604 - val_binary_accuracy: 0.8205 - val_auc_4: 0.8640 - val_precision_4: 0.6615 - val_recall_4: 0.7528 - lr: 0.0100\n",
      "Epoch 18/100\n",
      "43/43 [==============================] - ETA: 0s - loss: 0.7035 - binary_accuracy: 0.8023 - auc_4: 0.8399 - precision_4: 0.6401 - recall_4: 0.6973\n",
      "Epoch 18: val_loss did not improve from 0.44523\n",
      "43/43 [==============================] - 55s 1s/step - loss: 0.7035 - binary_accuracy: 0.8023 - auc_4: 0.8399 - precision_4: 0.6401 - recall_4: 0.6973 - val_loss: 0.4684 - val_binary_accuracy: 0.8189 - val_auc_4: 0.8655 - val_precision_4: 0.6586 - val_recall_4: 0.7517 - lr: 0.0100\n",
      "Epoch 19/100\n",
      "43/43 [==============================] - ETA: 0s - loss: 0.6481 - binary_accuracy: 0.8249 - auc_4: 0.8721 - precision_4: 0.6542 - recall_4: 0.7653\n",
      "Epoch 19: val_loss did not improve from 0.44523\n",
      "43/43 [==============================] - 55s 1s/step - loss: 0.6481 - binary_accuracy: 0.8249 - auc_4: 0.8721 - precision_4: 0.6542 - recall_4: 0.7653 - val_loss: 0.4713 - val_binary_accuracy: 0.8129 - val_auc_4: 0.8647 - val_precision_4: 0.6384 - val_recall_4: 0.7860 - lr: 0.0100\n",
      "Epoch 20/100\n",
      "43/43 [==============================] - ETA: 0s - loss: 0.6819 - binary_accuracy: 0.7980 - auc_4: 0.8608 - precision_4: 0.6221 - recall_4: 0.7747\n",
      "Epoch 20: val_loss improved from 0.44523 to 0.44452, saving model to resnet152.h5\n",
      "43/43 [==============================] - 56s 1s/step - loss: 0.6819 - binary_accuracy: 0.7980 - auc_4: 0.8608 - precision_4: 0.6221 - recall_4: 0.7747 - val_loss: 0.4445 - val_binary_accuracy: 0.8245 - val_auc_4: 0.8681 - val_precision_4: 0.6731 - val_recall_4: 0.7423 - lr: 0.0100\n",
      "Epoch 21/100\n",
      "43/43 [==============================] - ETA: 0s - loss: 0.6883 - binary_accuracy: 0.8016 - auc_4: 0.8552 - precision_4: 0.6253 - recall_4: 0.7442\n",
      "Epoch 21: val_loss did not improve from 0.44452\n",
      "43/43 [==============================] - 55s 1s/step - loss: 0.6883 - binary_accuracy: 0.8016 - auc_4: 0.8552 - precision_4: 0.6253 - recall_4: 0.7442 - val_loss: 0.4945 - val_binary_accuracy: 0.8005 - val_auc_4: 0.8700 - val_precision_4: 0.6129 - val_recall_4: 0.8065 - lr: 0.0100\n",
      "Epoch 22/100\n",
      "43/43 [==============================] - ETA: 0s - loss: 0.6866 - binary_accuracy: 0.8034 - auc_4: 0.8582 - precision_4: 0.6363 - recall_4: 0.7695\n",
      "Epoch 22: val_loss did not improve from 0.44452\n",
      "43/43 [==============================] - 55s 1s/step - loss: 0.6866 - binary_accuracy: 0.8034 - auc_4: 0.8582 - precision_4: 0.6363 - recall_4: 0.7695 - val_loss: 0.4455 - val_binary_accuracy: 0.8221 - val_auc_4: 0.8690 - val_precision_4: 0.6688 - val_recall_4: 0.7398 - lr: 0.0100\n",
      "Epoch 23/100\n",
      "43/43 [==============================] - ETA: 0s - loss: 0.6696 - binary_accuracy: 0.8180 - auc_4: 0.8674 - precision_4: 0.6548 - recall_4: 0.7564\n",
      "Epoch 23: val_loss did not improve from 0.44452\n",
      "43/43 [==============================] - 54s 1s/step - loss: 0.6696 - binary_accuracy: 0.8180 - auc_4: 0.8674 - precision_4: 0.6548 - recall_4: 0.7564 - val_loss: 0.4794 - val_binary_accuracy: 0.8059 - val_auc_4: 0.8686 - val_precision_4: 0.6238 - val_recall_4: 0.7971 - lr: 0.0100\n",
      "Epoch 24/100\n",
      "43/43 [==============================] - ETA: 0s - loss: 0.6866 - binary_accuracy: 0.8081 - auc_4: 0.8579 - precision_4: 0.6268 - recall_4: 0.7615\n",
      "Epoch 24: val_loss did not improve from 0.44452\n",
      "43/43 [==============================] - 54s 1s/step - loss: 0.6866 - binary_accuracy: 0.8081 - auc_4: 0.8579 - precision_4: 0.6268 - recall_4: 0.7615 - val_loss: 0.4672 - val_binary_accuracy: 0.8112 - val_auc_4: 0.8690 - val_precision_4: 0.6361 - val_recall_4: 0.7827 - lr: 0.0100\n",
      "Epoch 25/100\n",
      "43/43 [==============================] - ETA: 0s - loss: 0.6625 - binary_accuracy: 0.8169 - auc_4: 0.8645 - precision_4: 0.6464 - recall_4: 0.7700\n",
      "Epoch 25: val_loss improved from 0.44452 to 0.43741, saving model to resnet152.h5\n",
      "43/43 [==============================] - 57s 1s/step - loss: 0.6625 - binary_accuracy: 0.8169 - auc_4: 0.8645 - precision_4: 0.6464 - recall_4: 0.7700 - val_loss: 0.4374 - val_binary_accuracy: 0.8265 - val_auc_4: 0.8651 - val_precision_4: 0.6839 - val_recall_4: 0.7228 - lr: 0.0100\n",
      "Epoch 26/100\n",
      "43/43 [==============================] - ETA: 0s - loss: 0.6834 - binary_accuracy: 0.8005 - auc_4: 0.8572 - precision_4: 0.6324 - recall_4: 0.7516\n",
      "Epoch 26: val_loss did not improve from 0.43741\n",
      "43/43 [==============================] - 55s 1s/step - loss: 0.6834 - binary_accuracy: 0.8005 - auc_4: 0.8572 - precision_4: 0.6324 - recall_4: 0.7516 - val_loss: 0.4938 - val_binary_accuracy: 0.8014 - val_auc_4: 0.8718 - val_precision_4: 0.6145 - val_recall_4: 0.8061 - lr: 0.0100\n",
      "Epoch 27/100\n",
      "43/43 [==============================] - ETA: 0s - loss: 0.6682 - binary_accuracy: 0.8158 - auc_4: 0.8627 - precision_4: 0.6440 - recall_4: 0.7464\n",
      "Epoch 27: val_loss improved from 0.43741 to 0.42081, saving model to resnet152.h5\n",
      "43/43 [==============================] - 56s 1s/step - loss: 0.6682 - binary_accuracy: 0.8158 - auc_4: 0.8627 - precision_4: 0.6440 - recall_4: 0.7464 - val_loss: 0.4208 - val_binary_accuracy: 0.8339 - val_auc_4: 0.8718 - val_precision_4: 0.7103 - val_recall_4: 0.7010 - lr: 0.0100\n",
      "Epoch 28/100\n",
      "43/43 [==============================] - ETA: 0s - loss: 0.6862 - binary_accuracy: 0.8096 - auc_4: 0.8526 - precision_4: 0.6561 - recall_4: 0.7420\n",
      "Epoch 28: val_loss did not improve from 0.42081\n",
      "43/43 [==============================] - 54s 1s/step - loss: 0.6862 - binary_accuracy: 0.8096 - auc_4: 0.8526 - precision_4: 0.6561 - recall_4: 0.7420 - val_loss: 0.4552 - val_binary_accuracy: 0.8194 - val_auc_4: 0.8723 - val_precision_4: 0.6549 - val_recall_4: 0.7692 - lr: 0.0100\n",
      "Epoch 29/100\n",
      "43/43 [==============================] - ETA: 0s - loss: 0.6966 - binary_accuracy: 0.7994 - auc_4: 0.8556 - precision_4: 0.6281 - recall_4: 0.7556\n",
      "Epoch 29: val_loss did not improve from 0.42081\n",
      "43/43 [==============================] - 55s 1s/step - loss: 0.6966 - binary_accuracy: 0.7994 - auc_4: 0.8556 - precision_4: 0.6281 - recall_4: 0.7556 - val_loss: 0.4525 - val_binary_accuracy: 0.8197 - val_auc_4: 0.8687 - val_precision_4: 0.6589 - val_recall_4: 0.7563 - lr: 0.0100\n",
      "Epoch 30/100\n",
      "43/43 [==============================] - ETA: 0s - loss: 0.6575 - binary_accuracy: 0.8158 - auc_4: 0.8669 - precision_4: 0.6452 - recall_4: 0.7738\n",
      "Epoch 30: val_loss did not improve from 0.42081\n",
      "43/43 [==============================] - 55s 1s/step - loss: 0.6575 - binary_accuracy: 0.8158 - auc_4: 0.8669 - precision_4: 0.6452 - recall_4: 0.7738 - val_loss: 0.4283 - val_binary_accuracy: 0.8320 - val_auc_4: 0.8711 - val_precision_4: 0.6952 - val_recall_4: 0.7266 - lr: 0.0100\n",
      "Epoch 31/100\n",
      "43/43 [==============================] - ETA: 0s - loss: 0.6806 - binary_accuracy: 0.8074 - auc_4: 0.8570 - precision_4: 0.6375 - recall_4: 0.7452\n",
      "Epoch 31: val_loss did not improve from 0.42081\n",
      "43/43 [==============================] - 55s 1s/step - loss: 0.6806 - binary_accuracy: 0.8074 - auc_4: 0.8570 - precision_4: 0.6375 - recall_4: 0.7452 - val_loss: 0.4365 - val_binary_accuracy: 0.8279 - val_auc_4: 0.8727 - val_precision_4: 0.6865 - val_recall_4: 0.7246 - lr: 0.0100\n",
      "Epoch 32/100\n",
      "43/43 [==============================] - ETA: 0s - loss: 0.6483 - binary_accuracy: 0.8212 - auc_4: 0.8735 - precision_4: 0.6561 - recall_4: 0.7536\n",
      "Epoch 32: val_loss did not improve from 0.42081\n",
      "43/43 [==============================] - 55s 1s/step - loss: 0.6483 - binary_accuracy: 0.8212 - auc_4: 0.8735 - precision_4: 0.6561 - recall_4: 0.7536 - val_loss: 0.4394 - val_binary_accuracy: 0.8260 - val_auc_4: 0.8713 - val_precision_4: 0.6763 - val_recall_4: 0.7425 - lr: 0.0100\n",
      "Epoch 33/100\n",
      "43/43 [==============================] - ETA: 0s - loss: 0.6739 - binary_accuracy: 0.8110 - auc_4: 0.8595 - precision_4: 0.6452 - recall_4: 0.7686\n",
      "Epoch 33: val_loss did not improve from 0.42081\n",
      "43/43 [==============================] - 55s 1s/step - loss: 0.6739 - binary_accuracy: 0.8110 - auc_4: 0.8595 - precision_4: 0.6452 - recall_4: 0.7686 - val_loss: 0.4552 - val_binary_accuracy: 0.8182 - val_auc_4: 0.8740 - val_precision_4: 0.6518 - val_recall_4: 0.7724 - lr: 0.0100\n",
      "Epoch 34/100\n",
      "43/43 [==============================] - ETA: 0s - loss: 0.6952 - binary_accuracy: 0.8034 - auc_4: 0.8541 - precision_4: 0.6360 - recall_4: 0.7412\n",
      "Epoch 34: val_loss did not improve from 0.42081\n",
      "43/43 [==============================] - 55s 1s/step - loss: 0.6952 - binary_accuracy: 0.8034 - auc_4: 0.8541 - precision_4: 0.6360 - recall_4: 0.7412 - val_loss: 0.4582 - val_binary_accuracy: 0.8141 - val_auc_4: 0.8758 - val_precision_4: 0.6413 - val_recall_4: 0.7833 - lr: 0.0100\n",
      "Epoch 35/100\n",
      "43/43 [==============================] - ETA: 0s - loss: 0.6649 - binary_accuracy: 0.8081 - auc_4: 0.8703 - precision_4: 0.6472 - recall_4: 0.7581\n",
      "Epoch 35: val_loss did not improve from 0.42081\n",
      "43/43 [==============================] - 55s 1s/step - loss: 0.6649 - binary_accuracy: 0.8081 - auc_4: 0.8703 - precision_4: 0.6472 - recall_4: 0.7581 - val_loss: 0.4709 - val_binary_accuracy: 0.8077 - val_auc_4: 0.8724 - val_precision_4: 0.6258 - val_recall_4: 0.8025 - lr: 0.0100\n",
      "Epoch 36/100\n",
      "43/43 [==============================] - ETA: 0s - loss: 0.6395 - binary_accuracy: 0.8169 - auc_4: 0.8721 - precision_4: 0.6308 - recall_4: 0.7626\n",
      "Epoch 36: val_loss improved from 0.42081 to 0.41484, saving model to resnet152.h5\n",
      "43/43 [==============================] - 56s 1s/step - loss: 0.6395 - binary_accuracy: 0.8169 - auc_4: 0.8721 - precision_4: 0.6308 - recall_4: 0.7626 - val_loss: 0.4148 - val_binary_accuracy: 0.8329 - val_auc_4: 0.8736 - val_precision_4: 0.7080 - val_recall_4: 0.7005 - lr: 0.0100\n",
      "Epoch 37/100\n",
      "43/43 [==============================] - ETA: 0s - loss: 0.6745 - binary_accuracy: 0.8070 - auc_4: 0.8616 - precision_4: 0.6442 - recall_4: 0.7528\n",
      "Epoch 37: val_loss did not improve from 0.41484\n",
      "43/43 [==============================] - 56s 1s/step - loss: 0.6745 - binary_accuracy: 0.8070 - auc_4: 0.8616 - precision_4: 0.6442 - recall_4: 0.7528 - val_loss: 0.4226 - val_binary_accuracy: 0.8306 - val_auc_4: 0.8715 - val_precision_4: 0.6946 - val_recall_4: 0.7200 - lr: 0.0100\n",
      "Epoch 38/100\n",
      "43/43 [==============================] - ETA: 0s - loss: 0.6624 - binary_accuracy: 0.8129 - auc_4: 0.8675 - precision_4: 0.6408 - recall_4: 0.7655\n",
      "Epoch 38: val_loss did not improve from 0.41484\n",
      "43/43 [==============================] - 55s 1s/step - loss: 0.6624 - binary_accuracy: 0.8129 - auc_4: 0.8675 - precision_4: 0.6408 - recall_4: 0.7655 - val_loss: 0.4686 - val_binary_accuracy: 0.8089 - val_auc_4: 0.8740 - val_precision_4: 0.6286 - val_recall_4: 0.7988 - lr: 0.0100\n",
      "Epoch 39/100\n",
      "43/43 [==============================] - ETA: 0s - loss: 0.6280 - binary_accuracy: 0.8223 - auc_4: 0.8783 - precision_4: 0.6438 - recall_4: 0.7770\n",
      "Epoch 39: val_loss did not improve from 0.41484\n",
      "43/43 [==============================] - 55s 1s/step - loss: 0.6280 - binary_accuracy: 0.8223 - auc_4: 0.8783 - precision_4: 0.6438 - recall_4: 0.7770 - val_loss: 0.4271 - val_binary_accuracy: 0.8299 - val_auc_4: 0.8720 - val_precision_4: 0.6865 - val_recall_4: 0.7377 - lr: 0.0100\n",
      "Epoch 40/100\n",
      "43/43 [==============================] - ETA: 0s - loss: 0.7186 - binary_accuracy: 0.8020 - auc_4: 0.8398 - precision_4: 0.6430 - recall_4: 0.7223\n",
      "Epoch 40: val_loss did not improve from 0.41484\n",
      "43/43 [==============================] - 55s 1s/step - loss: 0.7186 - binary_accuracy: 0.8020 - auc_4: 0.8398 - precision_4: 0.6430 - recall_4: 0.7223 - val_loss: 0.4424 - val_binary_accuracy: 0.8202 - val_auc_4: 0.8754 - val_precision_4: 0.6585 - val_recall_4: 0.7618 - lr: 0.0100\n",
      "Epoch 41/100\n",
      "43/43 [==============================] - ETA: 0s - loss: 0.6849 - binary_accuracy: 0.8114 - auc_4: 0.8580 - precision_4: 0.6601 - recall_4: 0.7438\n",
      "Epoch 41: val_loss did not improve from 0.41484\n",
      "43/43 [==============================] - 55s 1s/step - loss: 0.6849 - binary_accuracy: 0.8114 - auc_4: 0.8580 - precision_4: 0.6601 - recall_4: 0.7438 - val_loss: 0.4519 - val_binary_accuracy: 0.8206 - val_auc_4: 0.8749 - val_precision_4: 0.6588 - val_recall_4: 0.7630 - lr: 0.0100\n",
      "Epoch 42/100\n",
      "43/43 [==============================] - ETA: 0s - loss: 0.6401 - binary_accuracy: 0.8169 - auc_4: 0.8764 - precision_4: 0.6490 - recall_4: 0.7796\n",
      "Epoch 42: val_loss did not improve from 0.41484\n",
      "43/43 [==============================] - 55s 1s/step - loss: 0.6401 - binary_accuracy: 0.8169 - auc_4: 0.8764 - precision_4: 0.6490 - recall_4: 0.7796 - val_loss: 0.4509 - val_binary_accuracy: 0.8242 - val_auc_4: 0.8753 - val_precision_4: 0.6650 - val_recall_4: 0.7676 - lr: 0.0100\n",
      "Epoch 43/100\n",
      "43/43 [==============================] - ETA: 0s - loss: 0.6749 - binary_accuracy: 0.8129 - auc_4: 0.8616 - precision_4: 0.6429 - recall_4: 0.7409\n",
      "Epoch 43: val_loss did not improve from 0.41484\n",
      "43/43 [==============================] - 55s 1s/step - loss: 0.6749 - binary_accuracy: 0.8129 - auc_4: 0.8616 - precision_4: 0.6429 - recall_4: 0.7409 - val_loss: 0.4392 - val_binary_accuracy: 0.8254 - val_auc_4: 0.8770 - val_precision_4: 0.6712 - val_recall_4: 0.7546 - lr: 0.0100\n",
      "Epoch 44/100\n",
      "43/43 [==============================] - ETA: 0s - loss: 0.6572 - binary_accuracy: 0.8180 - auc_4: 0.8699 - precision_4: 0.6503 - recall_4: 0.7791\n",
      "Epoch 44: val_loss did not improve from 0.41484\n",
      "43/43 [==============================] - 55s 1s/step - loss: 0.6572 - binary_accuracy: 0.8180 - auc_4: 0.8699 - precision_4: 0.6503 - recall_4: 0.7791 - val_loss: 0.4558 - val_binary_accuracy: 0.8163 - val_auc_4: 0.8772 - val_precision_4: 0.6438 - val_recall_4: 0.7897 - lr: 0.0100\n",
      "Epoch 45/100\n",
      "43/43 [==============================] - ETA: 0s - loss: 0.6561 - binary_accuracy: 0.8154 - auc_4: 0.8654 - precision_4: 0.6430 - recall_4: 0.7334\n",
      "Epoch 45: val_loss did not improve from 0.41484\n",
      "43/43 [==============================] - 55s 1s/step - loss: 0.6561 - binary_accuracy: 0.8154 - auc_4: 0.8654 - precision_4: 0.6430 - recall_4: 0.7334 - val_loss: 0.4292 - val_binary_accuracy: 0.8325 - val_auc_4: 0.8771 - val_precision_4: 0.6946 - val_recall_4: 0.7320 - lr: 0.0100\n",
      "Epoch 46/100\n",
      "43/43 [==============================] - ETA: 0s - loss: 0.6890 - binary_accuracy: 0.8103 - auc_4: 0.8544 - precision_4: 0.6501 - recall_4: 0.7402\n",
      "Epoch 46: val_loss did not improve from 0.41484\n",
      "\n",
      "Epoch 46: ReduceLROnPlateau reducing learning rate to 0.0009999999776482583.\n",
      "43/43 [==============================] - 55s 1s/step - loss: 0.6890 - binary_accuracy: 0.8103 - auc_4: 0.8544 - precision_4: 0.6501 - recall_4: 0.7402 - val_loss: 0.4617 - val_binary_accuracy: 0.8148 - val_auc_4: 0.8773 - val_precision_4: 0.6406 - val_recall_4: 0.7919 - lr: 0.0100\n"
     ]
    }
   ],
   "source": [
    "history_resnet152, model_resnet152 = compile_fit_model(\n",
    "    model=model_resnet152, save_path=\"resnet152.h5\"\n",
    ")"
   ]
  },
  {
   "cell_type": "code",
   "execution_count": 67,
   "id": "8ef7d3e2-eeec-43f2-bce9-f00b79253b0b",
   "metadata": {
    "colab": {
     "base_uri": "https://localhost:8080/"
    },
    "id": "8ef7d3e2-eeec-43f2-bce9-f00b79253b0b",
    "outputId": "acff7836-e600-4680-b91f-5818fa7eceb6",
    "tags": []
   },
   "outputs": [
    {
     "name": "stdout",
     "output_type": "stream",
     "text": [
      "868/868 [==============================] - 71s 81ms/step - loss: 0.4139 - binary_accuracy: 0.8333 - auc_4: 0.8754 - precision_4: 0.7062 - recall_4: 0.7068\n"
     ]
    },
    {
     "data": {
      "text/plain": [
       "[0.4139392673969269,\n",
       " 0.8332942724227905,\n",
       " 0.8754485249519348,\n",
       " 0.7062143087387085,\n",
       " 0.7067970037460327]"
      ]
     },
     "execution_count": 67,
     "metadata": {},
     "output_type": "execute_result"
    }
   ],
   "source": [
    "resnet_eval = model_resnet152.evaluate(test_data)\n",
    "resnet_eval"
   ]
  },
  {
   "cell_type": "code",
   "execution_count": 65,
   "id": "e34bdb9c-120c-418f-9174-05a2cc006c6d",
   "metadata": {
    "id": "e34bdb9c-120c-418f-9174-05a2cc006c6d",
    "tags": []
   },
   "outputs": [],
   "source": [
    "result_resnet152 = pd.DataFrame(history_resnet152.history)"
   ]
  },
  {
   "cell_type": "code",
   "execution_count": 66,
   "id": "3696b663-09cc-4bb2-a130-68801992a0e8",
   "metadata": {
    "colab": {
     "base_uri": "https://localhost:8080/",
     "height": 283
    },
    "id": "3696b663-09cc-4bb2-a130-68801992a0e8",
    "outputId": "95cafac2-d2ca-4824-9508-534c957aa6df",
    "tags": []
   },
   "outputs": [
    {
     "data": {
      "text/plain": [
       "<matplotlib.axes._subplots.AxesSubplot at 0x7fc2694731d0>"
      ]
     },
     "execution_count": 66,
     "metadata": {},
     "output_type": "execute_result"
    },
    {
     "data": {
      "image/png": "[encoded data removed]",
      "text/plain": [
       "<Figure size 432x288 with 1 Axes>"
      ]
     },
     "metadata": {
      "needs_background": "light"
     },
     "output_type": "display_data"
    }
   ],
   "source": [
    "result_resnet152.plot()"
   ]
  },
  {
   "cell_type": "markdown",
   "id": "K-aBw7LNRXQm",
   "metadata": {
    "id": "K-aBw7LNRXQm"
   },
   "source": [
    "# Evaluation\n",
    "\n",
    "Among all the pretrained models, DenseNet performed the best on the unseen test data."
   ]
  },
  {
   "cell_type": "code",
   "execution_count": 82,
   "id": "mWfFUWWaRWOl",
   "metadata": {
    "colab": {
     "base_uri": "https://localhost:8080/",
     "height": 206
    },
    "id": "mWfFUWWaRWOl",
    "outputId": "c5ad39f5-502c-472c-e082-3ae20b3465d1"
   },
   "outputs": [
    {
     "data": {
      "text/html": [
       "\n",
       "  <div id=\"df-9134ca8f-d301-4352-9ebd-cf92129a2407\">\n",
       "    <div class=\"colab-df-container\">\n",
       "      <div>\n",
       "<style scoped>\n",
       "    .dataframe tbody tr th:only-of-type {\n",
       "        vertical-align: middle;\n",
       "    }\n",
       "\n",
       "    .dataframe tbody tr th {\n",
       "        vertical-align: top;\n",
       "    }\n",
       "\n",
       "    .dataframe thead th {\n",
       "        text-align: right;\n",
       "    }\n",
       "</style>\n",
       "<table border=\"1\" class=\"dataframe\">\n",
       "  <thead>\n",
       "    <tr style=\"text-align: right;\">\n",
       "      <th></th>\n",
       "      <th>accuracy</th>\n",
       "      <th>auc_roc</th>\n",
       "      <th>precision</th>\n",
       "      <th>recall</th>\n",
       "    </tr>\n",
       "  </thead>\n",
       "  <tbody>\n",
       "    <tr>\n",
       "      <th>VGG16</th>\n",
       "      <td>0.291649</td>\n",
       "      <td>0.623520</td>\n",
       "      <td>0.286044</td>\n",
       "      <td>0.999492</td>\n",
       "    </tr>\n",
       "    <tr>\n",
       "      <th>EfficientNetB0</th>\n",
       "      <td>0.290226</td>\n",
       "      <td>0.538881</td>\n",
       "      <td>0.285205</td>\n",
       "      <td>0.996002</td>\n",
       "    </tr>\n",
       "    <tr>\n",
       "      <th>Xception</th>\n",
       "      <td>0.834808</td>\n",
       "      <td>0.889890</td>\n",
       "      <td>0.702583</td>\n",
       "      <td>0.725011</td>\n",
       "    </tr>\n",
       "    <tr>\n",
       "      <th>DenseNet</th>\n",
       "      <td>0.825097</td>\n",
       "      <td>0.904538</td>\n",
       "      <td>0.650855</td>\n",
       "      <td>0.828140</td>\n",
       "    </tr>\n",
       "    <tr>\n",
       "      <th>ResNet</th>\n",
       "      <td>0.833294</td>\n",
       "      <td>0.875449</td>\n",
       "      <td>0.706214</td>\n",
       "      <td>0.706797</td>\n",
       "    </tr>\n",
       "  </tbody>\n",
       "</table>\n",
       "</div>\n",
       "      <button class=\"colab-df-convert\" onclick=\"convertToInteractive('df-9134ca8f-d301-4352-9ebd-cf92129a2407')\"\n",
       "              title=\"Convert this dataframe to an interactive table.\"\n",
       "              style=\"display:none;\">\n",
       "        \n",
       "  <svg xmlns=\"http://www.w3.org/2000/svg\" height=\"24px\"viewBox=\"0 0 24 24\"\n",
       "       width=\"24px\">\n",
       "    <path d=\"M0 0h24v24H0V0z\" fill=\"none\"/>\n",
       "    <path d=\"M18.56 5.44l.94 2.06.94-2.06 2.06-.94-2.06-.94-.94-2.06-.94 2.06-2.06.94zm-11 1L8.5 8.5l.94-2.06 2.06-.94-2.06-.94L8.5 2.5l-.94 2.06-2.06.94zm10 10l.94 2.06.94-2.06 2.06-.94-2.06-.94-.94-2.06-.94 2.06-2.06.94z\"/><path d=\"M17.41 7.96l-1.37-1.37c-.4-.4-.92-.59-1.43-.59-.52 0-1.04.2-1.43.59L10.3 9.45l-7.72 7.72c-.78.78-.78 2.05 0 2.83L4 21.41c.39.39.9.59 1.41.59.51 0 1.02-.2 1.41-.59l7.78-7.78 2.81-2.81c.8-.78.8-2.07 0-2.86zM5.41 20L4 18.59l7.72-7.72 1.47 1.35L5.41 20z\"/>\n",
       "  </svg>\n",
       "      </button>\n",
       "      \n",
       "  <style>\n",
       "    .colab-df-container {\n",
       "      display:flex;\n",
       "      flex-wrap:wrap;\n",
       "      gap: 12px;\n",
       "    }\n",
       "\n",
       "    .colab-df-convert {\n",
       "      background-color: #E8F0FE;\n",
       "      border: none;\n",
       "      border-radius: 50%;\n",
       "      cursor: pointer;\n",
       "      display: none;\n",
       "      fill: #1967D2;\n",
       "      height: 32px;\n",
       "      padding: 0 0 0 0;\n",
       "      width: 32px;\n",
       "    }\n",
       "\n",
       "    .colab-df-convert:hover {\n",
       "      background-color: #E2EBFA;\n",
       "      box-shadow: 0px 1px 2px rgba(60, 64, 67, 0.3), 0px 1px 3px 1px rgba(60, 64, 67, 0.15);\n",
       "      fill: #174EA6;\n",
       "    }\n",
       "\n",
       "    [theme=dark] .colab-df-convert {\n",
       "      background-color: #3B4455;\n",
       "      fill: #D2E3FC;\n",
       "    }\n",
       "\n",
       "    [theme=dark] .colab-df-convert:hover {\n",
       "      background-color: #434B5C;\n",
       "      box-shadow: 0px 1px 3px 1px rgba(0, 0, 0, 0.15);\n",
       "      filter: drop-shadow(0px 1px 2px rgba(0, 0, 0, 0.3));\n",
       "      fill: #FFFFFF;\n",
       "    }\n",
       "  </style>\n",
       "\n",
       "      <script>\n",
       "        const buttonEl =\n",
       "          document.querySelector('#df-9134ca8f-d301-4352-9ebd-cf92129a2407 button.colab-df-convert');\n",
       "        buttonEl.style.display =\n",
       "          google.colab.kernel.accessAllowed ? 'block' : 'none';\n",
       "\n",
       "        async function convertToInteractive(key) {\n",
       "          const element = document.querySelector('#df-9134ca8f-d301-4352-9ebd-cf92129a2407');\n",
       "          const dataTable =\n",
       "            await google.colab.kernel.invokeFunction('convertToInteractive',\n",
       "                                                     [key], {});\n",
       "          if (!dataTable) return;\n",
       "\n",
       "          const docLinkHtml = 'Like what you see? Visit the ' +\n",
       "            '<a target=\"_blank\" href=https://colab.research.google.com/notebooks/data_table.ipynb>data table notebook</a>'\n",
       "            + ' to learn more about interactive tables.';\n",
       "          element.innerHTML = '';\n",
       "          dataTable['output_type'] = 'display_data';\n",
       "          await google.colab.output.renderOutput(dataTable, element);\n",
       "          const docLink = document.createElement('div');\n",
       "          docLink.innerHTML = docLinkHtml;\n",
       "          element.appendChild(docLink);\n",
       "        }\n",
       "      </script>\n",
       "    </div>\n",
       "  </div>\n",
       "  "
      ],
      "text/plain": [
       "                accuracy   auc_roc  precision    recall\n",
       "VGG16           0.291649  0.623520   0.286044  0.999492\n",
       "EfficientNetB0  0.290226  0.538881   0.285205  0.996002\n",
       "Xception        0.834808  0.889890   0.702583  0.725011\n",
       "DenseNet        0.825097  0.904538   0.650855  0.828140\n",
       "ResNet          0.833294  0.875449   0.706214  0.706797"
      ]
     },
     "execution_count": 82,
     "metadata": {},
     "output_type": "execute_result"
    }
   ],
   "source": [
    "pd.DataFrame(\n",
    "    data= [\n",
    "           vgg16_eval[1:],\n",
    "           effnet_eval[1:],\n",
    "           xception_eval[1:],\n",
    "           densenet_eval[1:],\n",
    "           resnet_eval[1:]\n",
    "     ],\n",
    "     columns=[\n",
    "              'accuracy',\n",
    "              'auc_roc',\n",
    "              'precision',\n",
    "              'recall'\n",
    "    ],\n",
    "    index=[\n",
    "           'VGG16',\n",
    "           'EfficientNetB0',\n",
    "           'Xception',\n",
    "           'DenseNet',\n",
    "           'ResNet'\n",
    "    ]\n",
    ")"
   ]
  },
  {
   "cell_type": "markdown",
   "id": "2TuCf-QI53k1",
   "metadata": {
    "id": "2TuCf-QI53k1"
   },
   "source": [
    "## Confusion matrix & ROC AUC"
   ]
  },
  {
   "cell_type": "code",
   "execution_count": 83,
   "id": "Zw8uhFA757x4",
   "metadata": {
    "id": "Zw8uhFA757x4"
   },
   "outputs": [],
   "source": [
    "best_densenet = keras.models.load_model(\"densenet152.h5\")"
   ]
  },
  {
   "cell_type": "code",
   "execution_count": 84,
   "id": "unYfKchs6ikV",
   "metadata": {
    "id": "unYfKchs6ikV"
   },
   "outputs": [],
   "source": [
    "pred = best_densenet.predict(test_data)"
   ]
  },
  {
   "cell_type": "code",
   "execution_count": 85,
   "id": "J9zAArlF7Z7v",
   "metadata": {
    "id": "J9zAArlF7Z7v"
   },
   "outputs": [],
   "source": [
    "y = np.concatenate([y for x, y in test_data], axis=0)"
   ]
  },
  {
   "cell_type": "code",
   "execution_count": 89,
   "id": "4VG5W2w46ihg",
   "metadata": {
    "colab": {
     "base_uri": "https://localhost:8080/",
     "height": 279
    },
    "id": "4VG5W2w46ihg",
    "outputId": "ee9f7468-c779-4c51-bbc6-3efe1b6c9a7f"
   },
   "outputs": [
    {
     "data": {
      "image/png": "[encoded data removed]",
      "text/plain": [
       "<Figure size 432x288 with 2 Axes>"
      ]
     },
     "metadata": {
      "needs_background": "light"
     },
     "output_type": "display_data"
    }
   ],
   "source": [
    "cm = confusion_matrix(y, np.round(pred))\n",
    "disp = ConfusionMatrixDisplay(confusion_matrix=cm)\n",
    "disp.plot(cmap=\"Blues\");"
   ]
  },
  {
   "cell_type": "code",
   "execution_count": 91,
   "id": "IGhLMb097Zzz",
   "metadata": {
    "colab": {
     "base_uri": "https://localhost:8080/",
     "height": 279
    },
    "id": "IGhLMb097Zzz",
    "outputId": "ca4594ef-d7ba-4130-9801-97f5f4b3ec46"
   },
   "outputs": [
    {
     "data": {
      "image/png": "[encoded data removed]",
      "text/plain": [
       "<Figure size 432x288 with 1 Axes>"
      ]
     },
     "metadata": {
      "needs_background": "light"
     },
     "output_type": "display_data"
    }
   ],
   "source": [
    "RocCurveDisplay.from_predictions(y, pred);"
   ]
  },
  {
   "cell_type": "markdown",
   "id": "oE5wsZjNrEWb",
   "metadata": {
    "id": "oE5wsZjNrEWb"
   },
   "source": [
    "# Hyperparameters Tuning \n",
    "\n",
    "Using keras tuner API, hyperparameters for densnet will be further fine-tuned."
   ]
  },
  {
   "cell_type": "code",
   "execution_count": 92,
   "id": "d9TMSYacu8u6",
   "metadata": {
    "id": "d9TMSYacu8u6"
   },
   "outputs": [],
   "source": [
    "# function to load image\n",
    "def image_loader_densenet121(path):\n",
    "    image = tf.io.read_file(path)  # read image file as binary\n",
    "    image = tf.image.decode_png(image, channels=3)  # decode into image tensor\n",
    "    # image = tf.image.convert_image_dtype(image, dtype=tf.float32)# converts to float32 data type and scaling the values appropriately before casting.\n",
    "    image = tf.image.resize(image, IMG_SIZE)  # resize the image\n",
    "    image = keras.applications.densenet.preprocess_input(\n",
    "        image\n",
    "    )  # custom preprocessing for densenet121\n",
    "    label = tf.strings.split(path, os.path.sep)[\n",
    "        -2\n",
    "    ]  # parse the class label from the file path\n",
    "    label = tf.strings.to_number(label, tf.int32)\n",
    "    return (image, label)"
   ]
  },
  {
   "cell_type": "code",
   "execution_count": 93,
   "id": "t77P006-u5Jc",
   "metadata": {
    "id": "t77P006-u5Jc"
   },
   "outputs": [],
   "source": [
    "train_data = tf.data.Dataset.from_tensor_slices(train_paths)\n",
    "train_data = (\n",
    "    train_data.shuffle(\n",
    "        len(train_paths)\n",
    "    )  # shuffle data, optional as already did train_test_split in scikit-learn\n",
    "    .map(\n",
    "        image_loader_densenet121, num_parallel_calls=tf.data.AUTOTUNE\n",
    "    )  # load the image\n",
    "    .map(\n",
    "        augmentation, num_parallel_calls=tf.data.AUTOTUNE\n",
    "    )  # apply augmentation\n",
    "    .cache()  # caching for fast read\n",
    "    .batch(batch_size=BATCH_SIZE)  # batching the data\n",
    "    .prefetch(\n",
    "        tf.data.AUTOTUNE\n",
    "    )  # allows later elements to be prepared while the current element is being processed\n",
    ")\n",
    "\n",
    "\n",
    "val_data = tf.data.Dataset.from_tensor_slices(\n",
    "    val_paths\n",
    ")  # no augmentation & shuffle required for test data as it is ground truth\n",
    "val_data = (\n",
    "    val_data.map(\n",
    "        image_loader_densenet121, num_parallel_calls=tf.data.AUTOTUNE\n",
    "    )  # load the image\n",
    "    .batch(batch_size=BATCH_SIZE)  # batching the data\n",
    "    .prefetch(\n",
    "        tf.data.AUTOTUNE\n",
    "    )  # allows later elements to be prepared while the current element is being processed\n",
    ")\n",
    "\n",
    "\n",
    "test_data = tf.data.Dataset.from_tensor_slices(\n",
    "    test_paths\n",
    ")  # no augmentation & shuffle required for test data as it is ground truth\n",
    "test_data = (\n",
    "    test_data.map(\n",
    "        image_loader_densenet121, num_parallel_calls=tf.data.AUTOTUNE\n",
    "    )  # load the image\n",
    "    .batch(batch_size=BATCH_SIZE)  # batching the data\n",
    "    .prefetch(\n",
    "        tf.data.AUTOTUNE\n",
    "    )  # allows later elements to be prepared while the current element is being processed\n",
    ")"
   ]
  },
  {
   "cell_type": "code",
   "execution_count": 94,
   "id": "egHZ1ILGxK_y",
   "metadata": {
    "colab": {
     "base_uri": "https://localhost:8080/"
    },
    "id": "egHZ1ILGxK_y",
    "outputId": "bc33b44c-caa2-4b48-fda5-c23c98b71367"
   },
   "outputs": [
    {
     "name": "stdout",
     "output_type": "stream",
     "text": [
      "\u001b[K     |████████████████████████████████| 133 kB 4.1 MB/s eta 0:00:01\n",
      "\u001b[?25h"
     ]
    }
   ],
   "source": [
    "!pip install keras-tuner -q"
   ]
  },
  {
   "cell_type": "code",
   "execution_count": 95,
   "id": "H9Sye9BKxkIT",
   "metadata": {
    "id": "H9Sye9BKxkIT"
   },
   "outputs": [],
   "source": [
    "densenet121 = keras.applications.DenseNet121(\n",
    "    include_top=False, weights=\"imagenet\"\n",
    ")\n",
    "densenet121.trainable = False"
   ]
  },
  {
   "cell_type": "code",
   "execution_count": 96,
   "id": "EMGaIBvKrKTr",
   "metadata": {
    "id": "EMGaIBvKrKTr"
   },
   "outputs": [],
   "source": [
    "import keras_tuner as kt\n",
    "\n",
    "\n",
    "def tune_model(hp):\n",
    "    model_densenet121 = keras.models.Sequential(\n",
    "        [\n",
    "            densenet121,\n",
    "            keras.layers.BatchNormalization(),\n",
    "            keras.layers.GlobalAveragePooling2D(),\n",
    "            keras.layers.Dropout(hp.Choice(\"dropout\", [0.2, 0.3, 0.4, 0.5])),\n",
    "            keras.layers.Flatten(),\n",
    "            keras.layers.Dense(\n",
    "                hp.Int(\"units\", min_value=16, max_value=512, step=32),\n",
    "                activation=\"relu\",\n",
    "            ),\n",
    "            keras.layers.Dense(units=1, activation=\"sigmoid\"),\n",
    "        ]\n",
    "    )\n",
    "\n",
    "    model_densenet121.compile(\n",
    "        loss=\"binary_crossentropy\",\n",
    "        optimizer=hp.Choice(\"optimizer\", [\"adam\", \"sgd\", \"nadam\"]),\n",
    "        metrics=[\n",
    "            keras.metrics.BinaryAccuracy(),\n",
    "            keras.metrics.AUC(),\n",
    "            keras.metrics.Precision(),\n",
    "            keras.metrics.Recall(),\n",
    "        ],\n",
    "    )\n",
    "    return model_densenet121"
   ]
  },
  {
   "cell_type": "code",
   "execution_count": 97,
   "id": "Qy9cZGkPugkm",
   "metadata": {
    "id": "Qy9cZGkPugkm"
   },
   "outputs": [],
   "source": [
    "tuner = kt.Hyperband(tune_model, objective=\"val_loss\", max_epochs=5)"
   ]
  },
  {
   "cell_type": "code",
   "execution_count": 98,
   "id": "bHHaCJ_4vr6c",
   "metadata": {
    "colab": {
     "base_uri": "https://localhost:8080/"
    },
    "id": "bHHaCJ_4vr6c",
    "outputId": "33af1e6f-31f5-4bba-89db-783744d51fad"
   },
   "outputs": [
    {
     "name": "stdout",
     "output_type": "stream",
     "text": [
      "Trial 10 Complete [00h 00m 20s]\n",
      "val_loss: 0.08276955783367157\n",
      "\n",
      "Best val_loss So Far: 0.07322724163532257\n",
      "Total elapsed time: 00h 03m 03s\n",
      "INFO:tensorflow:Oracle triggered exit\n"
     ]
    }
   ],
   "source": [
    "tuner.search(\n",
    "    train_data,\n",
    "    steps_per_epoch=len(train_data) // BATCH_SIZE,\n",
    "    epochs=5,\n",
    "    validation_data=val_data,\n",
    "    validation_steps=len(val_data) // BATCH_SIZE,\n",
    ")"
   ]
  },
  {
   "cell_type": "code",
   "execution_count": 99,
   "id": "nqUA6W4zvH5w",
   "metadata": {
    "colab": {
     "base_uri": "https://localhost:8080/"
    },
    "id": "nqUA6W4zvH5w",
    "outputId": "ecac010e-3b18-49bb-90f9-285008d033ae",
    "scrolled": true,
    "tags": []
   },
   "outputs": [
    {
     "name": "stdout",
     "output_type": "stream",
     "text": [
      "Results summary\n",
      "Results in ./untitled_project\n",
      "Showing 10 best trials\n",
      "<keras_tuner.engine.objective.Objective object at 0x7fc2645c8a50>\n",
      "Trial summary\n",
      "Hyperparameters:\n",
      "dropout: 0.2\n",
      "units: 16\n",
      "optimizer: adam\n",
      "tuner/epochs: 5\n",
      "tuner/initial_epoch: 0\n",
      "tuner/bracket: 0\n",
      "tuner/round: 0\n",
      "Score: 0.07322724163532257\n",
      "Trial summary\n",
      "Hyperparameters:\n",
      "dropout: 0.3\n",
      "units: 496\n",
      "optimizer: adam\n",
      "tuner/epochs: 2\n",
      "tuner/initial_epoch: 0\n",
      "tuner/bracket: 1\n",
      "tuner/round: 0\n",
      "Score: 0.07468069344758987\n",
      "Trial summary\n",
      "Hyperparameters:\n",
      "dropout: 0.5\n",
      "units: 496\n",
      "optimizer: nadam\n",
      "tuner/epochs: 2\n",
      "tuner/initial_epoch: 0\n",
      "tuner/bracket: 1\n",
      "tuner/round: 0\n",
      "Score: 0.07931743562221527\n",
      "Trial summary\n",
      "Hyperparameters:\n",
      "dropout: 0.5\n",
      "units: 464\n",
      "optimizer: adam\n",
      "tuner/epochs: 5\n",
      "tuner/initial_epoch: 0\n",
      "tuner/bracket: 0\n",
      "tuner/round: 0\n",
      "Score: 0.08276955783367157\n",
      "Trial summary\n",
      "Hyperparameters:\n",
      "dropout: 0.5\n",
      "units: 496\n",
      "optimizer: nadam\n",
      "tuner/epochs: 5\n",
      "tuner/initial_epoch: 2\n",
      "tuner/bracket: 1\n",
      "tuner/round: 1\n",
      "tuner/trial_id: 0004\n",
      "Score: 0.08376851677894592\n",
      "Trial summary\n",
      "Hyperparameters:\n",
      "dropout: 0.3\n",
      "units: 48\n",
      "optimizer: adam\n",
      "tuner/epochs: 2\n",
      "tuner/initial_epoch: 0\n",
      "tuner/bracket: 1\n",
      "tuner/round: 0\n",
      "Score: 0.09932131320238113\n",
      "Trial summary\n",
      "Hyperparameters:\n",
      "dropout: 0.4\n",
      "units: 208\n",
      "optimizer: adam\n",
      "tuner/epochs: 2\n",
      "tuner/initial_epoch: 0\n",
      "tuner/bracket: 1\n",
      "tuner/round: 0\n",
      "Score: 0.12433791160583496\n",
      "Trial summary\n",
      "Hyperparameters:\n",
      "dropout: 0.3\n",
      "units: 496\n",
      "optimizer: adam\n",
      "tuner/epochs: 5\n",
      "tuner/initial_epoch: 2\n",
      "tuner/bracket: 1\n",
      "tuner/round: 1\n",
      "tuner/trial_id: 0003\n",
      "Score: 0.13452550768852234\n",
      "Trial summary\n",
      "Hyperparameters:\n",
      "dropout: 0.3\n",
      "units: 208\n",
      "optimizer: sgd\n",
      "tuner/epochs: 2\n",
      "tuner/initial_epoch: 0\n",
      "tuner/bracket: 1\n",
      "tuner/round: 0\n",
      "Score: 0.18722942471504211\n",
      "Trial summary\n",
      "Hyperparameters:\n",
      "dropout: 0.2\n",
      "units: 208\n",
      "optimizer: sgd\n",
      "tuner/epochs: 5\n",
      "tuner/initial_epoch: 0\n",
      "tuner/bracket: 0\n",
      "tuner/round: 0\n",
      "Score: 0.19517911970615387\n"
     ]
    }
   ],
   "source": [
    "tuner.results_summary()"
   ]
  },
  {
   "cell_type": "code",
   "execution_count": 100,
   "id": "e9NBtWgB_NTp",
   "metadata": {
    "id": "e9NBtWgB_NTp"
   },
   "outputs": [],
   "source": [
    "best_hps = tuner.get_best_hyperparameters(num_trials=1)[0]\n",
    "model_tuned = tuner.hypermodel.build(best_hps)"
   ]
  },
  {
   "cell_type": "code",
   "execution_count": 101,
   "id": "IQTDeyPq_NQz",
   "metadata": {
    "colab": {
     "base_uri": "https://localhost:8080/"
    },
    "id": "IQTDeyPq_NQz",
    "outputId": "9cccfb0f-f89b-407b-8739-5504c3ed7eaf"
   },
   "outputs": [
    {
     "name": "stdout",
     "output_type": "stream",
     "text": [
      "Epoch 1/100\n",
      "43/43 [==============================] - ETA: 0s - loss: 0.7262 - binary_accuracy: 0.7762 - auc_2: 0.8525 - precision_2: 0.5787 - recall_2: 0.7842\n",
      "Epoch 1: val_loss improved from inf to 0.44361, saving model to densenet152_tuned.h5\n",
      "43/43 [==============================] - 36s 711ms/step - loss: 0.7262 - binary_accuracy: 0.7762 - auc_2: 0.8525 - precision_2: 0.5787 - recall_2: 0.7842 - val_loss: 0.4436 - val_binary_accuracy: 0.8266 - val_auc_2: 0.8655 - val_precision_2: 0.8348 - val_recall_2: 0.4854 - lr: 0.0100\n",
      "Epoch 2/100\n",
      "42/43 [============================>.] - ETA: 0s - loss: 0.6099 - binary_accuracy: 0.8166 - auc_2: 0.8880 - precision_2: 0.6331 - recall_2: 0.8086\n",
      "Epoch 2: val_loss did not improve from 0.44361\n",
      "43/43 [==============================] - 23s 536ms/step - loss: 0.6115 - binary_accuracy: 0.8165 - auc_2: 0.8882 - precision_2: 0.6348 - recall_2: 0.8104 - val_loss: 0.4581 - val_binary_accuracy: 0.8436 - val_auc_2: 0.8872 - val_precision_2: 0.7493 - val_recall_2: 0.6749 - lr: 0.0100\n",
      "Epoch 3/100\n",
      "43/43 [==============================] - ETA: 0s - loss: 0.6042 - binary_accuracy: 0.8183 - auc_2: 0.8924 - precision_2: 0.6498 - recall_2: 0.8152\n",
      "Epoch 3: val_loss improved from 0.44361 to 0.38951, saving model to densenet152_tuned.h5\n",
      "43/43 [==============================] - 23s 537ms/step - loss: 0.6042 - binary_accuracy: 0.8183 - auc_2: 0.8924 - precision_2: 0.6498 - recall_2: 0.8152 - val_loss: 0.3895 - val_binary_accuracy: 0.8475 - val_auc_2: 0.8946 - val_precision_2: 0.7875 - val_recall_2: 0.6337 - lr: 0.0100\n",
      "Epoch 4/100\n",
      "43/43 [==============================] - ETA: 0s - loss: 0.5988 - binary_accuracy: 0.8274 - auc_2: 0.8909 - precision_2: 0.6526 - recall_2: 0.8089\n",
      "Epoch 4: val_loss did not improve from 0.38951\n",
      "43/43 [==============================] - 22s 514ms/step - loss: 0.5988 - binary_accuracy: 0.8274 - auc_2: 0.8909 - precision_2: 0.6526 - recall_2: 0.8089 - val_loss: 0.4000 - val_binary_accuracy: 0.8393 - val_auc_2: 0.9062 - val_precision_2: 0.6886 - val_recall_2: 0.7923 - lr: 0.0100\n",
      "Epoch 5/100\n",
      "43/43 [==============================] - ETA: 0s - loss: 0.5821 - binary_accuracy: 0.8303 - auc_2: 0.8991 - precision_2: 0.6687 - recall_2: 0.8116\n",
      "Epoch 5: val_loss improved from 0.38951 to 0.36324, saving model to densenet152_tuned.h5\n",
      "43/43 [==============================] - 22s 532ms/step - loss: 0.5821 - binary_accuracy: 0.8303 - auc_2: 0.8991 - precision_2: 0.6687 - recall_2: 0.8116 - val_loss: 0.3632 - val_binary_accuracy: 0.8476 - val_auc_2: 0.9068 - val_precision_2: 0.7135 - val_recall_2: 0.7741 - lr: 0.0100\n",
      "Epoch 6/100\n",
      "43/43 [==============================] - ETA: 0s - loss: 0.5697 - binary_accuracy: 0.8328 - auc_2: 0.9007 - precision_2: 0.6492 - recall_2: 0.8120\n",
      "Epoch 6: val_loss did not improve from 0.36324\n",
      "43/43 [==============================] - 22s 519ms/step - loss: 0.5697 - binary_accuracy: 0.8328 - auc_2: 0.9007 - precision_2: 0.6492 - recall_2: 0.8120 - val_loss: 0.4097 - val_binary_accuracy: 0.8361 - val_auc_2: 0.9064 - val_precision_2: 0.6748 - val_recall_2: 0.8158 - lr: 0.0100\n",
      "Epoch 7/100\n",
      "43/43 [==============================] - ETA: 0s - loss: 0.5433 - binary_accuracy: 0.8241 - auc_2: 0.9095 - precision_2: 0.6401 - recall_2: 0.8199\n",
      "Epoch 7: val_loss improved from 0.36324 to 0.34767, saving model to densenet152_tuned.h5\n",
      "43/43 [==============================] - 22s 535ms/step - loss: 0.5433 - binary_accuracy: 0.8241 - auc_2: 0.9095 - precision_2: 0.6401 - recall_2: 0.8199 - val_loss: 0.3477 - val_binary_accuracy: 0.8554 - val_auc_2: 0.9115 - val_precision_2: 0.7638 - val_recall_2: 0.7105 - lr: 0.0100\n",
      "Epoch 8/100\n",
      "43/43 [==============================] - ETA: 0s - loss: 0.5706 - binary_accuracy: 0.8158 - auc_2: 0.9031 - precision_2: 0.6433 - recall_2: 0.8311\n",
      "Epoch 8: val_loss did not improve from 0.34767\n",
      "43/43 [==============================] - 22s 526ms/step - loss: 0.5706 - binary_accuracy: 0.8158 - auc_2: 0.9031 - precision_2: 0.6433 - recall_2: 0.8311 - val_loss: 0.3791 - val_binary_accuracy: 0.8462 - val_auc_2: 0.9122 - val_precision_2: 0.7021 - val_recall_2: 0.7960 - lr: 0.0100\n",
      "Epoch 9/100\n",
      "43/43 [==============================] - ETA: 0s - loss: 0.5756 - binary_accuracy: 0.8278 - auc_2: 0.9002 - precision_2: 0.6564 - recall_2: 0.8065\n",
      "Epoch 9: val_loss did not improve from 0.34767\n",
      "43/43 [==============================] - 23s 548ms/step - loss: 0.5756 - binary_accuracy: 0.8278 - auc_2: 0.9002 - precision_2: 0.6564 - recall_2: 0.8065 - val_loss: 0.4275 - val_binary_accuracy: 0.8219 - val_auc_2: 0.9134 - val_precision_2: 0.6377 - val_recall_2: 0.8627 - lr: 0.0100\n",
      "Epoch 10/100\n",
      "43/43 [==============================] - ETA: 0s - loss: 0.5718 - binary_accuracy: 0.8252 - auc_2: 0.8994 - precision_2: 0.6497 - recall_2: 0.8021\n",
      "Epoch 10: val_loss did not improve from 0.34767\n",
      "43/43 [==============================] - 22s 529ms/step - loss: 0.5718 - binary_accuracy: 0.8252 - auc_2: 0.8994 - precision_2: 0.6497 - recall_2: 0.8021 - val_loss: 0.3526 - val_binary_accuracy: 0.8572 - val_auc_2: 0.9149 - val_precision_2: 0.7484 - val_recall_2: 0.7485 - lr: 0.0100\n",
      "Epoch 11/100\n",
      "43/43 [==============================] - ETA: 0s - loss: 0.5335 - binary_accuracy: 0.8488 - auc_2: 0.9135 - precision_2: 0.6937 - recall_2: 0.8218\n",
      "Epoch 11: val_loss did not improve from 0.34767\n",
      "43/43 [==============================] - 22s 526ms/step - loss: 0.5335 - binary_accuracy: 0.8488 - auc_2: 0.9135 - precision_2: 0.6937 - recall_2: 0.8218 - val_loss: 0.3840 - val_binary_accuracy: 0.8367 - val_auc_2: 0.9112 - val_precision_2: 0.6739 - val_recall_2: 0.8234 - lr: 0.0100\n",
      "Epoch 12/100\n",
      "43/43 [==============================] - ETA: 0s - loss: 0.5292 - binary_accuracy: 0.8339 - auc_2: 0.9163 - precision_2: 0.6687 - recall_2: 0.8280\n",
      "Epoch 12: val_loss did not improve from 0.34767\n",
      "43/43 [==============================] - 22s 521ms/step - loss: 0.5292 - binary_accuracy: 0.8339 - auc_2: 0.9163 - precision_2: 0.6687 - recall_2: 0.8280 - val_loss: 0.3710 - val_binary_accuracy: 0.8392 - val_auc_2: 0.9176 - val_precision_2: 0.6725 - val_recall_2: 0.8452 - lr: 0.0100\n",
      "Epoch 13/100\n",
      "43/43 [==============================] - ETA: 0s - loss: 0.5402 - binary_accuracy: 0.8452 - auc_2: 0.9117 - precision_2: 0.6794 - recall_2: 0.8377\n",
      "Epoch 13: val_loss improved from 0.34767 to 0.34061, saving model to densenet152_tuned.h5\n",
      "43/43 [==============================] - 23s 541ms/step - loss: 0.5402 - binary_accuracy: 0.8452 - auc_2: 0.9117 - precision_2: 0.6794 - recall_2: 0.8377 - val_loss: 0.3406 - val_binary_accuracy: 0.8508 - val_auc_2: 0.9184 - val_precision_2: 0.7060 - val_recall_2: 0.8134 - lr: 0.0100\n",
      "Epoch 14/100\n",
      "42/43 [============================>.] - ETA: 0s - loss: 0.5675 - binary_accuracy: 0.8255 - auc_2: 0.9027 - precision_2: 0.6440 - recall_2: 0.8266\n",
      "Epoch 14: val_loss did not improve from 0.34061\n",
      "43/43 [==============================] - 23s 539ms/step - loss: 0.5665 - binary_accuracy: 0.8259 - auc_2: 0.9033 - precision_2: 0.6456 - recall_2: 0.8288 - val_loss: 0.4090 - val_binary_accuracy: 0.8281 - val_auc_2: 0.9192 - val_precision_2: 0.6475 - val_recall_2: 0.8662 - lr: 0.0100\n",
      "Epoch 15/100\n",
      "43/43 [==============================] - ETA: 0s - loss: 0.5315 - binary_accuracy: 0.8310 - auc_2: 0.9168 - precision_2: 0.6729 - recall_2: 0.8413\n",
      "Epoch 15: val_loss did not improve from 0.34061\n",
      "43/43 [==============================] - 22s 526ms/step - loss: 0.5315 - binary_accuracy: 0.8310 - auc_2: 0.9168 - precision_2: 0.6729 - recall_2: 0.8413 - val_loss: 0.3500 - val_binary_accuracy: 0.8451 - val_auc_2: 0.9193 - val_precision_2: 0.6857 - val_recall_2: 0.8390 - lr: 0.0100\n",
      "Epoch 16/100\n",
      "43/43 [==============================] - ETA: 0s - loss: 0.5292 - binary_accuracy: 0.8401 - auc_2: 0.9157 - precision_2: 0.6702 - recall_2: 0.8366\n",
      "Epoch 16: val_loss did not improve from 0.34061\n",
      "43/43 [==============================] - 22s 523ms/step - loss: 0.5292 - binary_accuracy: 0.8401 - auc_2: 0.9157 - precision_2: 0.6702 - recall_2: 0.8366 - val_loss: 0.3618 - val_binary_accuracy: 0.8436 - val_auc_2: 0.9213 - val_precision_2: 0.6803 - val_recall_2: 0.8472 - lr: 0.0100\n",
      "Epoch 17/100\n",
      "43/43 [==============================] - ETA: 0s - loss: 0.5518 - binary_accuracy: 0.8390 - auc_2: 0.9111 - precision_2: 0.6868 - recall_2: 0.8378\n",
      "Epoch 17: val_loss did not improve from 0.34061\n",
      "43/43 [==============================] - 23s 550ms/step - loss: 0.5518 - binary_accuracy: 0.8390 - auc_2: 0.9111 - precision_2: 0.6868 - recall_2: 0.8378 - val_loss: 0.3771 - val_binary_accuracy: 0.8422 - val_auc_2: 0.9204 - val_precision_2: 0.6768 - val_recall_2: 0.8499 - lr: 0.0100\n",
      "Epoch 18/100\n",
      "43/43 [==============================] - ETA: 0s - loss: 0.5374 - binary_accuracy: 0.8474 - auc_2: 0.9139 - precision_2: 0.6922 - recall_2: 0.8323\n",
      "Epoch 18: val_loss improved from 0.34061 to 0.33055, saving model to densenet152_tuned.h5\n",
      "43/43 [==============================] - 29s 697ms/step - loss: 0.5374 - binary_accuracy: 0.8474 - auc_2: 0.9139 - precision_2: 0.6922 - recall_2: 0.8323 - val_loss: 0.3306 - val_binary_accuracy: 0.8550 - val_auc_2: 0.9168 - val_precision_2: 0.7268 - val_recall_2: 0.7839 - lr: 0.0100\n",
      "Epoch 19/100\n",
      "42/43 [============================>.] - ETA: 0s - loss: 0.5446 - binary_accuracy: 0.8460 - auc_2: 0.9101 - precision_2: 0.6888 - recall_2: 0.8318\n",
      "Epoch 19: val_loss did not improve from 0.33055\n",
      "43/43 [==============================] - 23s 551ms/step - loss: 0.5441 - binary_accuracy: 0.8459 - auc_2: 0.9104 - precision_2: 0.6901 - recall_2: 0.8297 - val_loss: 0.3311 - val_binary_accuracy: 0.8558 - val_auc_2: 0.9211 - val_precision_2: 0.7216 - val_recall_2: 0.8010 - lr: 0.0100\n",
      "Epoch 20/100\n",
      "43/43 [==============================] - ETA: 0s - loss: 0.5535 - binary_accuracy: 0.8332 - auc_2: 0.9105 - precision_2: 0.6737 - recall_2: 0.8321\n",
      "Epoch 20: val_loss did not improve from 0.33055\n",
      "43/43 [==============================] - 22s 520ms/step - loss: 0.5535 - binary_accuracy: 0.8332 - auc_2: 0.9105 - precision_2: 0.6737 - recall_2: 0.8321 - val_loss: 0.3637 - val_binary_accuracy: 0.8436 - val_auc_2: 0.9220 - val_precision_2: 0.6809 - val_recall_2: 0.8448 - lr: 0.0100\n",
      "Epoch 21/100\n",
      "43/43 [==============================] - ETA: 0s - loss: 0.5307 - binary_accuracy: 0.8390 - auc_2: 0.9169 - precision_2: 0.6815 - recall_2: 0.8492\n",
      "Epoch 21: val_loss did not improve from 0.33055\n",
      "43/43 [==============================] - 22s 521ms/step - loss: 0.5307 - binary_accuracy: 0.8390 - auc_2: 0.9169 - precision_2: 0.6815 - recall_2: 0.8492 - val_loss: 0.3568 - val_binary_accuracy: 0.8442 - val_auc_2: 0.9215 - val_precision_2: 0.6814 - val_recall_2: 0.8475 - lr: 0.0100\n",
      "Epoch 22/100\n",
      "43/43 [==============================] - ETA: 0s - loss: 0.5141 - binary_accuracy: 0.8514 - auc_2: 0.9199 - precision_2: 0.6916 - recall_2: 0.8422\n",
      "Epoch 22: val_loss did not improve from 0.33055\n",
      "43/43 [==============================] - 22s 526ms/step - loss: 0.5141 - binary_accuracy: 0.8514 - auc_2: 0.9199 - precision_2: 0.6916 - recall_2: 0.8422 - val_loss: 0.3446 - val_binary_accuracy: 0.8472 - val_auc_2: 0.9231 - val_precision_2: 0.6879 - val_recall_2: 0.8450 - lr: 0.0100\n",
      "Epoch 23/100\n",
      "43/43 [==============================] - ETA: 0s - loss: 0.5141 - binary_accuracy: 0.8456 - auc_2: 0.9192 - precision_2: 0.6744 - recall_2: 0.8450\n",
      "Epoch 23: val_loss did not improve from 0.33055\n",
      "43/43 [==============================] - 23s 543ms/step - loss: 0.5141 - binary_accuracy: 0.8456 - auc_2: 0.9192 - precision_2: 0.6744 - recall_2: 0.8450 - val_loss: 0.3521 - val_binary_accuracy: 0.8506 - val_auc_2: 0.9230 - val_precision_2: 0.6968 - val_recall_2: 0.8387 - lr: 0.0100\n",
      "Epoch 24/100\n",
      "43/43 [==============================] - ETA: 0s - loss: 0.5230 - binary_accuracy: 0.8423 - auc_2: 0.9187 - precision_2: 0.6784 - recall_2: 0.8555\n",
      "Epoch 24: val_loss did not improve from 0.33055\n",
      "43/43 [==============================] - 23s 535ms/step - loss: 0.5230 - binary_accuracy: 0.8423 - auc_2: 0.9187 - precision_2: 0.6784 - recall_2: 0.8555 - val_loss: 0.3652 - val_binary_accuracy: 0.8413 - val_auc_2: 0.9194 - val_precision_2: 0.6760 - val_recall_2: 0.8465 - lr: 0.0100\n",
      "Epoch 25/100\n",
      "43/43 [==============================] - ETA: 0s - loss: 0.5214 - binary_accuracy: 0.8427 - auc_2: 0.9174 - precision_2: 0.6660 - recall_2: 0.8465\n",
      "Epoch 25: val_loss did not improve from 0.33055\n",
      "43/43 [==============================] - 22s 524ms/step - loss: 0.5214 - binary_accuracy: 0.8427 - auc_2: 0.9174 - precision_2: 0.6660 - recall_2: 0.8465 - val_loss: 0.3685 - val_binary_accuracy: 0.8446 - val_auc_2: 0.9229 - val_precision_2: 0.6811 - val_recall_2: 0.8511 - lr: 0.0100\n",
      "Epoch 26/100\n",
      "43/43 [==============================] - ETA: 0s - loss: 0.5653 - binary_accuracy: 0.8289 - auc_2: 0.9020 - precision_2: 0.6515 - recall_2: 0.8261\n",
      "Epoch 26: val_loss did not improve from 0.33055\n",
      "43/43 [==============================] - 22s 519ms/step - loss: 0.5653 - binary_accuracy: 0.8289 - auc_2: 0.9020 - precision_2: 0.6515 - recall_2: 0.8261 - val_loss: 0.3653 - val_binary_accuracy: 0.8400 - val_auc_2: 0.9213 - val_precision_2: 0.6717 - val_recall_2: 0.8540 - lr: 0.0100\n",
      "Epoch 27/100\n",
      "43/43 [==============================] - ETA: 0s - loss: 0.5243 - binary_accuracy: 0.8405 - auc_2: 0.9176 - precision_2: 0.6764 - recall_2: 0.8534\n",
      "Epoch 27: val_loss did not improve from 0.33055\n",
      "43/43 [==============================] - 22s 527ms/step - loss: 0.5243 - binary_accuracy: 0.8405 - auc_2: 0.9176 - precision_2: 0.6764 - recall_2: 0.8534 - val_loss: 0.3768 - val_binary_accuracy: 0.8409 - val_auc_2: 0.9244 - val_precision_2: 0.6712 - val_recall_2: 0.8618 - lr: 0.0100\n",
      "Epoch 28/100\n",
      "43/43 [==============================] - ETA: 0s - loss: 0.4997 - binary_accuracy: 0.8521 - auc_2: 0.9253 - precision_2: 0.6998 - recall_2: 0.8433\n",
      "Epoch 28: val_loss did not improve from 0.33055\n",
      "\n",
      "Epoch 28: ReduceLROnPlateau reducing learning rate to 0.0009999999776482583.\n",
      "43/43 [==============================] - 23s 536ms/step - loss: 0.4997 - binary_accuracy: 0.8521 - auc_2: 0.9253 - precision_2: 0.6998 - recall_2: 0.8433 - val_loss: 0.3993 - val_binary_accuracy: 0.8281 - val_auc_2: 0.9222 - val_precision_2: 0.6443 - val_recall_2: 0.8803 - lr: 0.0100\n"
     ]
    }
   ],
   "source": [
    "history_densenet121_tuned, model_densenet121_tuned = compile_fit_model(\n",
    "    model=model_tuned, save_path=\"densenet152_tuned.h5\"\n",
    ")"
   ]
  },
  {
   "cell_type": "code",
   "execution_count": 102,
   "id": "OuBwaEvY_NNI",
   "metadata": {
    "colab": {
     "base_uri": "https://localhost:8080/"
    },
    "id": "OuBwaEvY_NNI",
    "outputId": "6adab820-e8e3-4871-8055-8c77194f2b76"
   },
   "outputs": [
    {
     "name": "stdout",
     "output_type": "stream",
     "text": [
      "868/868 [==============================] - 30s 34ms/step - loss: 0.3283 - binary_accuracy: 0.8576 - auc_2: 0.9181 - precision_2: 0.7297 - recall_2: 0.7915\n"
     ]
    },
    {
     "data": {
      "text/plain": [
       "[0.3283470869064331,\n",
       " 0.8575984239578247,\n",
       " 0.918131947517395,\n",
       " 0.7297407984733582,\n",
       " 0.7915212512016296]"
      ]
     },
     "execution_count": 102,
     "metadata": {},
     "output_type": "execute_result"
    }
   ],
   "source": [
    "tuned_densenet = model_densenet121_tuned.evaluate(test_data)\n",
    "tuned_densenet"
   ]
  },
  {
   "cell_type": "markdown",
   "id": "3992af1d-7dac-4d26-b42c-2e338619a605",
   "metadata": {
    "execution": {
     "iopub.execute_input": "2022-03-21T09:43:48.491850Z",
     "iopub.status.busy": "2022-03-21T09:43:48.454459Z",
     "iopub.status.idle": "2022-03-21T09:43:48.567395Z",
     "shell.execute_reply": "2022-03-21T09:43:48.566702Z",
     "shell.execute_reply.started": "2022-03-21T09:43:48.468162Z"
    }
   },
   "source": [
    "# Conclusion\n",
    "\n",
    "With the tuned hyperparameters, the final model performed slightly better from the original model. \n",
    "\n",
    "To conclude, using the pre-trained model with hyperparameters tuned, it was able to achieve 86% accuracy, 0.92 roc_auc, 73% precision and 79% recall."
   ]
  },
  {
   "cell_type": "code",
   "execution_count": null,
   "id": "f93a840f-1a03-4895-bd4c-567d67d61618",
   "metadata": {},
   "outputs": [],
   "source": []
  }
 ],
 "metadata": {
  "accelerator": "GPU",
  "colab": {
   "collapsed_sections": [],
   "machine_shape": "hm",
   "name": "2_cancer_(2).ipynb",
   "provenance": [],
   "toc_visible": true
  },
  "kernelspec": {
   "display_name": "Python 3 (ipykernel)",
   "language": "python",
   "name": "python3"
  },
  "language_info": {
   "codemirror_mode": {
    "name": "ipython",
    "version": 3
   },
   "file_extension": ".py",
   "mimetype": "text/x-python",
   "name": "python",
   "nbconvert_exporter": "python",
   "pygments_lexer": "ipython3",
   "version": "3.8.12"
  }
 },
 "nbformat": 4,
 "nbformat_minor": 5
}
